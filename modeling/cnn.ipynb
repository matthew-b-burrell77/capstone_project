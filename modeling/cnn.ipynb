{
 "cells": [
  {
   "cell_type": "markdown",
   "metadata": {},
   "source": [
    "# Table of Contents\n",
    "\n",
    "1. [Import](#Imports)\n",
    "2. [CNN](#CNN)\n",
    "3. [LSTMS](#LSTMS)\n",
    "4. [CNN-LSTM](#CNN-LSTM)"
   ]
  },
  {
   "cell_type": "code",
   "execution_count": 58,
   "metadata": {},
   "outputs": [
    {
     "data": {
      "text/plain": [
       "array([[[[ 6.76791743],\n",
       "         [ 2.31135705]],\n",
       "\n",
       "        [[ 0.44771629],\n",
       "         [-5.39892344]]],\n",
       "\n",
       "\n",
       "       [[[ 2.31135705],\n",
       "         [ 0.44771629]],\n",
       "\n",
       "        [[-5.39892344],\n",
       "         [-1.35742137]]],\n",
       "\n",
       "\n",
       "       [[[ 0.44771629],\n",
       "         [-5.39892344]],\n",
       "\n",
       "        [[-1.35742137],\n",
       "         [ 4.19405614]]],\n",
       "\n",
       "\n",
       "       ...,\n",
       "\n",
       "\n",
       "       [[[-0.11106836],\n",
       "         [ 4.71840146]],\n",
       "\n",
       "        [[ 3.16894811],\n",
       "         [ 1.73194233]]],\n",
       "\n",
       "\n",
       "       [[[ 4.71840146],\n",
       "         [ 3.16894811]],\n",
       "\n",
       "        [[ 1.73194233],\n",
       "         [ 0.54088648]]],\n",
       "\n",
       "\n",
       "       [[[ 3.16894811],\n",
       "         [ 1.73194233]],\n",
       "\n",
       "        [[ 0.54088648],\n",
       "         [ 0.4562716 ]]]])"
      ]
     },
     "execution_count": 58,
     "metadata": {},
     "output_type": "execute_result"
    }
   ],
   "source": [
    "X__cnn_lstm"
   ]
  },
  {
   "cell_type": "markdown",
   "metadata": {},
   "source": [
    "# Imports"
   ]
  },
  {
   "cell_type": "code",
   "execution_count": 36,
   "metadata": {},
   "outputs": [],
   "source": [
    "import pandas as pd\n",
    "from numpy import array\n",
    "from keras.models import Sequential\n",
    "from keras.layers import LSTM\n",
    "from keras.layers import Dense\n",
    "from keras.layers import Flatten\n",
    "from keras.layers import TimeDistributed\n",
    "from keras.layers.convolutional import Conv1D\n",
    "from keras.layers.convolutional import MaxPooling1D"
   ]
  },
  {
   "cell_type": "code",
   "execution_count": 2,
   "metadata": {},
   "outputs": [],
   "source": [
    "df = pd.read_csv('../data/clean.csv')"
   ]
  },
  {
   "cell_type": "code",
   "execution_count": 3,
   "metadata": {},
   "outputs": [],
   "source": [
    "# Change date column to be datetime dtype\n",
    "df['TimePeriod'] = pd.to_datetime(df['TimePeriod'])"
   ]
  },
  {
   "cell_type": "code",
   "execution_count": 4,
   "metadata": {},
   "outputs": [],
   "source": [
    "# Set TimePeriod to be in the index\n",
    "df.set_index('TimePeriod',inplace = True)"
   ]
  },
  {
   "cell_type": "code",
   "execution_count": 5,
   "metadata": {},
   "outputs": [],
   "source": [
    "# Sort the index\n",
    "df.sort_index(inplace=True)"
   ]
  },
  {
   "cell_type": "code",
   "execution_count": 6,
   "metadata": {},
   "outputs": [
    {
     "data": {
      "text/html": [
       "<div>\n",
       "<style scoped>\n",
       "    .dataframe tbody tr th:only-of-type {\n",
       "        vertical-align: middle;\n",
       "    }\n",
       "\n",
       "    .dataframe tbody tr th {\n",
       "        vertical-align: top;\n",
       "    }\n",
       "\n",
       "    .dataframe thead th {\n",
       "        text-align: right;\n",
       "    }\n",
       "</style>\n",
       "<table border=\"1\" class=\"dataframe\">\n",
       "  <thead>\n",
       "    <tr style=\"text-align: right;\">\n",
       "      <th></th>\n",
       "      <th>gdp</th>\n",
       "      <th>consumption</th>\n",
       "      <th>investment</th>\n",
       "      <th>Exports</th>\n",
       "      <th>Imports</th>\n",
       "      <th>government_spending</th>\n",
       "      <th>Residual</th>\n",
       "      <th>gdp_percent_delta</th>\n",
       "      <th>consumption_pct_delta</th>\n",
       "      <th>investment_pct_delta</th>\n",
       "      <th>...</th>\n",
       "      <th>unemployment_rate</th>\n",
       "      <th>employed</th>\n",
       "      <th>Unemployed</th>\n",
       "      <th>civilian_labor_force</th>\n",
       "      <th>civilian_labor_force_participation_rate</th>\n",
       "      <th>unemployment_rate_percent_delta</th>\n",
       "      <th>employed_percent_delta</th>\n",
       "      <th>Unemployed_percent_delta</th>\n",
       "      <th>civilian_labor_force_percent_delta</th>\n",
       "      <th>civilian_labor_force_participation_rate_percent_delta</th>\n",
       "    </tr>\n",
       "    <tr>\n",
       "      <th>TimePeriod</th>\n",
       "      <th></th>\n",
       "      <th></th>\n",
       "      <th></th>\n",
       "      <th></th>\n",
       "      <th></th>\n",
       "      <th></th>\n",
       "      <th></th>\n",
       "      <th></th>\n",
       "      <th></th>\n",
       "      <th></th>\n",
       "      <th></th>\n",
       "      <th></th>\n",
       "      <th></th>\n",
       "      <th></th>\n",
       "      <th></th>\n",
       "      <th></th>\n",
       "      <th></th>\n",
       "      <th></th>\n",
       "      <th></th>\n",
       "      <th></th>\n",
       "      <th></th>\n",
       "    </tr>\n",
       "  </thead>\n",
       "  <tbody>\n",
       "    <tr>\n",
       "      <th>1947-03-31</th>\n",
       "      <td>2033061.0</td>\n",
       "      <td>1274952.0</td>\n",
       "      <td>218091.0</td>\n",
       "      <td>97759.0</td>\n",
       "      <td>60271.0</td>\n",
       "      <td>524076.0</td>\n",
       "      <td>-28008.0</td>\n",
       "      <td>NaN</td>\n",
       "      <td>NaN</td>\n",
       "      <td>NaN</td>\n",
       "      <td>...</td>\n",
       "      <td>NaN</td>\n",
       "      <td>NaN</td>\n",
       "      <td>NaN</td>\n",
       "      <td>NaN</td>\n",
       "      <td>NaN</td>\n",
       "      <td>NaN</td>\n",
       "      <td>NaN</td>\n",
       "      <td>NaN</td>\n",
       "      <td>NaN</td>\n",
       "      <td>NaN</td>\n",
       "    </tr>\n",
       "    <tr>\n",
       "      <th>1947-06-30</th>\n",
       "      <td>2027639.0</td>\n",
       "      <td>1296163.0</td>\n",
       "      <td>201386.0</td>\n",
       "      <td>96526.0</td>\n",
       "      <td>61432.0</td>\n",
       "      <td>523632.0</td>\n",
       "      <td>-24154.0</td>\n",
       "      <td>-1.062506</td>\n",
       "      <td>6.822599</td>\n",
       "      <td>-27.294690</td>\n",
       "      <td>...</td>\n",
       "      <td>NaN</td>\n",
       "      <td>NaN</td>\n",
       "      <td>NaN</td>\n",
       "      <td>NaN</td>\n",
       "      <td>NaN</td>\n",
       "      <td>NaN</td>\n",
       "      <td>NaN</td>\n",
       "      <td>NaN</td>\n",
       "      <td>NaN</td>\n",
       "      <td>NaN</td>\n",
       "    </tr>\n",
       "    <tr>\n",
       "      <th>1947-09-30</th>\n",
       "      <td>2023452.0</td>\n",
       "      <td>1300388.0</td>\n",
       "      <td>195461.0</td>\n",
       "      <td>91627.0</td>\n",
       "      <td>54482.0</td>\n",
       "      <td>523527.0</td>\n",
       "      <td>-15586.0</td>\n",
       "      <td>-0.823430</td>\n",
       "      <td>1.310237</td>\n",
       "      <td>-11.259195</td>\n",
       "      <td>...</td>\n",
       "      <td>NaN</td>\n",
       "      <td>NaN</td>\n",
       "      <td>NaN</td>\n",
       "      <td>NaN</td>\n",
       "      <td>NaN</td>\n",
       "      <td>NaN</td>\n",
       "      <td>NaN</td>\n",
       "      <td>NaN</td>\n",
       "      <td>NaN</td>\n",
       "      <td>NaN</td>\n",
       "    </tr>\n",
       "    <tr>\n",
       "      <th>1947-12-31</th>\n",
       "      <td>2055103.0</td>\n",
       "      <td>1300801.0</td>\n",
       "      <td>233284.0</td>\n",
       "      <td>81245.0</td>\n",
       "      <td>57419.0</td>\n",
       "      <td>519285.0</td>\n",
       "      <td>-19169.0</td>\n",
       "      <td>6.405174</td>\n",
       "      <td>0.127100</td>\n",
       "      <td>102.908083</td>\n",
       "      <td>...</td>\n",
       "      <td>NaN</td>\n",
       "      <td>NaN</td>\n",
       "      <td>NaN</td>\n",
       "      <td>NaN</td>\n",
       "      <td>NaN</td>\n",
       "      <td>NaN</td>\n",
       "      <td>NaN</td>\n",
       "      <td>NaN</td>\n",
       "      <td>NaN</td>\n",
       "      <td>NaN</td>\n",
       "    </tr>\n",
       "    <tr>\n",
       "      <th>1948-03-31</th>\n",
       "      <td>2086017.0</td>\n",
       "      <td>1307283.0</td>\n",
       "      <td>257220.0</td>\n",
       "      <td>77539.0</td>\n",
       "      <td>64749.0</td>\n",
       "      <td>527020.0</td>\n",
       "      <td>-32899.0</td>\n",
       "      <td>6.154156</td>\n",
       "      <td>2.008182</td>\n",
       "      <td>47.801596</td>\n",
       "      <td>...</td>\n",
       "      <td>4.0</td>\n",
       "      <td>57671.0</td>\n",
       "      <td>2399.0</td>\n",
       "      <td>60070.0</td>\n",
       "      <td>58.5</td>\n",
       "      <td>NaN</td>\n",
       "      <td>NaN</td>\n",
       "      <td>NaN</td>\n",
       "      <td>NaN</td>\n",
       "      <td>NaN</td>\n",
       "    </tr>\n",
       "    <tr>\n",
       "      <th>...</th>\n",
       "      <td>...</td>\n",
       "      <td>...</td>\n",
       "      <td>...</td>\n",
       "      <td>...</td>\n",
       "      <td>...</td>\n",
       "      <td>...</td>\n",
       "      <td>...</td>\n",
       "      <td>...</td>\n",
       "      <td>...</td>\n",
       "      <td>...</td>\n",
       "      <td>...</td>\n",
       "      <td>...</td>\n",
       "      <td>...</td>\n",
       "      <td>...</td>\n",
       "      <td>...</td>\n",
       "      <td>...</td>\n",
       "      <td>...</td>\n",
       "      <td>...</td>\n",
       "      <td>...</td>\n",
       "      <td>...</td>\n",
       "      <td>...</td>\n",
       "    </tr>\n",
       "    <tr>\n",
       "      <th>2019-06-30</th>\n",
       "      <td>19020599.0</td>\n",
       "      <td>13212778.0</td>\n",
       "      <td>3429949.0</td>\n",
       "      <td>2531422.0</td>\n",
       "      <td>3482850.0</td>\n",
       "      <td>3300261.0</td>\n",
       "      <td>-18532.0</td>\n",
       "      <td>1.491131</td>\n",
       "      <td>3.704973</td>\n",
       "      <td>-5.772133</td>\n",
       "      <td>...</td>\n",
       "      <td>3.7</td>\n",
       "      <td>157148.0</td>\n",
       "      <td>5985.0</td>\n",
       "      <td>163133.0</td>\n",
       "      <td>63.0</td>\n",
       "      <td>-0.026316</td>\n",
       "      <td>0.002597</td>\n",
       "      <td>-0.033742</td>\n",
       "      <td>0.001215</td>\n",
       "      <td>0.000000</td>\n",
       "    </tr>\n",
       "    <tr>\n",
       "      <th>2019-09-30</th>\n",
       "      <td>19141744.0</td>\n",
       "      <td>13301349.0</td>\n",
       "      <td>3445703.0</td>\n",
       "      <td>2536562.0</td>\n",
       "      <td>3486787.0</td>\n",
       "      <td>3317715.0</td>\n",
       "      <td>-24572.0</td>\n",
       "      <td>2.572102</td>\n",
       "      <td>2.708456</td>\n",
       "      <td>1.849925</td>\n",
       "      <td>...</td>\n",
       "      <td>3.5</td>\n",
       "      <td>158298.0</td>\n",
       "      <td>5753.0</td>\n",
       "      <td>164051.0</td>\n",
       "      <td>63.2</td>\n",
       "      <td>-0.054054</td>\n",
       "      <td>0.007318</td>\n",
       "      <td>-0.038764</td>\n",
       "      <td>0.005627</td>\n",
       "      <td>0.003175</td>\n",
       "    </tr>\n",
       "    <tr>\n",
       "      <th>2019-12-31</th>\n",
       "      <td>19253959.0</td>\n",
       "      <td>13353687.0</td>\n",
       "      <td>3413313.0</td>\n",
       "      <td>2557846.0</td>\n",
       "      <td>3419332.0</td>\n",
       "      <td>3337460.0</td>\n",
       "      <td>-37347.0</td>\n",
       "      <td>2.365628</td>\n",
       "      <td>1.583229</td>\n",
       "      <td>-3.707360</td>\n",
       "      <td>...</td>\n",
       "      <td>3.5</td>\n",
       "      <td>158803.0</td>\n",
       "      <td>5753.0</td>\n",
       "      <td>164556.0</td>\n",
       "      <td>63.2</td>\n",
       "      <td>0.000000</td>\n",
       "      <td>0.003190</td>\n",
       "      <td>0.000000</td>\n",
       "      <td>0.003078</td>\n",
       "      <td>0.000000</td>\n",
       "    </tr>\n",
       "    <tr>\n",
       "      <th>2020-03-31</th>\n",
       "      <td>19010848.0</td>\n",
       "      <td>13118406.0</td>\n",
       "      <td>3333963.0</td>\n",
       "      <td>2495099.0</td>\n",
       "      <td>3283110.0</td>\n",
       "      <td>3347857.0</td>\n",
       "      <td>-34466.0</td>\n",
       "      <td>-4.955763</td>\n",
       "      <td>-6.863588</td>\n",
       "      <td>-8.979620</td>\n",
       "      <td>...</td>\n",
       "      <td>4.4</td>\n",
       "      <td>155772.0</td>\n",
       "      <td>7140.0</td>\n",
       "      <td>162913.0</td>\n",
       "      <td>62.7</td>\n",
       "      <td>0.257143</td>\n",
       "      <td>-0.019087</td>\n",
       "      <td>0.241092</td>\n",
       "      <td>-0.009984</td>\n",
       "      <td>-0.007911</td>\n",
       "    </tr>\n",
       "    <tr>\n",
       "      <th>2020-06-30</th>\n",
       "      <td>17282188.0</td>\n",
       "      <td>11819579.0</td>\n",
       "      <td>2854885.0</td>\n",
       "      <td>1943082.0</td>\n",
       "      <td>2704012.0</td>\n",
       "      <td>3370904.0</td>\n",
       "      <td>-92498.0</td>\n",
       "      <td>-31.704995</td>\n",
       "      <td>-34.100251</td>\n",
       "      <td>-46.233549</td>\n",
       "      <td>...</td>\n",
       "      <td>11.1</td>\n",
       "      <td>142182.0</td>\n",
       "      <td>17750.0</td>\n",
       "      <td>159932.0</td>\n",
       "      <td>61.5</td>\n",
       "      <td>1.522727</td>\n",
       "      <td>-0.087243</td>\n",
       "      <td>1.485994</td>\n",
       "      <td>-0.018298</td>\n",
       "      <td>-0.019139</td>\n",
       "    </tr>\n",
       "  </tbody>\n",
       "</table>\n",
       "<p>294 rows × 29 columns</p>\n",
       "</div>"
      ],
      "text/plain": [
       "                   gdp  consumption  investment    Exports    Imports  \\\n",
       "TimePeriod                                                              \n",
       "1947-03-31   2033061.0    1274952.0    218091.0    97759.0    60271.0   \n",
       "1947-06-30   2027639.0    1296163.0    201386.0    96526.0    61432.0   \n",
       "1947-09-30   2023452.0    1300388.0    195461.0    91627.0    54482.0   \n",
       "1947-12-31   2055103.0    1300801.0    233284.0    81245.0    57419.0   \n",
       "1948-03-31   2086017.0    1307283.0    257220.0    77539.0    64749.0   \n",
       "...                ...          ...         ...        ...        ...   \n",
       "2019-06-30  19020599.0   13212778.0   3429949.0  2531422.0  3482850.0   \n",
       "2019-09-30  19141744.0   13301349.0   3445703.0  2536562.0  3486787.0   \n",
       "2019-12-31  19253959.0   13353687.0   3413313.0  2557846.0  3419332.0   \n",
       "2020-03-31  19010848.0   13118406.0   3333963.0  2495099.0  3283110.0   \n",
       "2020-06-30  17282188.0   11819579.0   2854885.0  1943082.0  2704012.0   \n",
       "\n",
       "            government_spending  Residual  gdp_percent_delta  \\\n",
       "TimePeriod                                                     \n",
       "1947-03-31             524076.0  -28008.0                NaN   \n",
       "1947-06-30             523632.0  -24154.0          -1.062506   \n",
       "1947-09-30             523527.0  -15586.0          -0.823430   \n",
       "1947-12-31             519285.0  -19169.0           6.405174   \n",
       "1948-03-31             527020.0  -32899.0           6.154156   \n",
       "...                         ...       ...                ...   \n",
       "2019-06-30            3300261.0  -18532.0           1.491131   \n",
       "2019-09-30            3317715.0  -24572.0           2.572102   \n",
       "2019-12-31            3337460.0  -37347.0           2.365628   \n",
       "2020-03-31            3347857.0  -34466.0          -4.955763   \n",
       "2020-06-30            3370904.0  -92498.0         -31.704995   \n",
       "\n",
       "            consumption_pct_delta  investment_pct_delta  ...  \\\n",
       "TimePeriod                                               ...   \n",
       "1947-03-31                    NaN                   NaN  ...   \n",
       "1947-06-30               6.822599            -27.294690  ...   \n",
       "1947-09-30               1.310237            -11.259195  ...   \n",
       "1947-12-31               0.127100            102.908083  ...   \n",
       "1948-03-31               2.008182             47.801596  ...   \n",
       "...                           ...                   ...  ...   \n",
       "2019-06-30               3.704973             -5.772133  ...   \n",
       "2019-09-30               2.708456              1.849925  ...   \n",
       "2019-12-31               1.583229             -3.707360  ...   \n",
       "2020-03-31              -6.863588             -8.979620  ...   \n",
       "2020-06-30             -34.100251            -46.233549  ...   \n",
       "\n",
       "            unemployment_rate  employed  Unemployed  civilian_labor_force  \\\n",
       "TimePeriod                                                                  \n",
       "1947-03-31                NaN       NaN         NaN                   NaN   \n",
       "1947-06-30                NaN       NaN         NaN                   NaN   \n",
       "1947-09-30                NaN       NaN         NaN                   NaN   \n",
       "1947-12-31                NaN       NaN         NaN                   NaN   \n",
       "1948-03-31                4.0   57671.0      2399.0               60070.0   \n",
       "...                       ...       ...         ...                   ...   \n",
       "2019-06-30                3.7  157148.0      5985.0              163133.0   \n",
       "2019-09-30                3.5  158298.0      5753.0              164051.0   \n",
       "2019-12-31                3.5  158803.0      5753.0              164556.0   \n",
       "2020-03-31                4.4  155772.0      7140.0              162913.0   \n",
       "2020-06-30               11.1  142182.0     17750.0              159932.0   \n",
       "\n",
       "            civilian_labor_force_participation_rate  \\\n",
       "TimePeriod                                            \n",
       "1947-03-31                                      NaN   \n",
       "1947-06-30                                      NaN   \n",
       "1947-09-30                                      NaN   \n",
       "1947-12-31                                      NaN   \n",
       "1948-03-31                                     58.5   \n",
       "...                                             ...   \n",
       "2019-06-30                                     63.0   \n",
       "2019-09-30                                     63.2   \n",
       "2019-12-31                                     63.2   \n",
       "2020-03-31                                     62.7   \n",
       "2020-06-30                                     61.5   \n",
       "\n",
       "            unemployment_rate_percent_delta  employed_percent_delta  \\\n",
       "TimePeriod                                                            \n",
       "1947-03-31                              NaN                     NaN   \n",
       "1947-06-30                              NaN                     NaN   \n",
       "1947-09-30                              NaN                     NaN   \n",
       "1947-12-31                              NaN                     NaN   \n",
       "1948-03-31                              NaN                     NaN   \n",
       "...                                     ...                     ...   \n",
       "2019-06-30                        -0.026316                0.002597   \n",
       "2019-09-30                        -0.054054                0.007318   \n",
       "2019-12-31                         0.000000                0.003190   \n",
       "2020-03-31                         0.257143               -0.019087   \n",
       "2020-06-30                         1.522727               -0.087243   \n",
       "\n",
       "            Unemployed_percent_delta  civilian_labor_force_percent_delta  \\\n",
       "TimePeriod                                                                 \n",
       "1947-03-31                       NaN                                 NaN   \n",
       "1947-06-30                       NaN                                 NaN   \n",
       "1947-09-30                       NaN                                 NaN   \n",
       "1947-12-31                       NaN                                 NaN   \n",
       "1948-03-31                       NaN                                 NaN   \n",
       "...                              ...                                 ...   \n",
       "2019-06-30                 -0.033742                            0.001215   \n",
       "2019-09-30                 -0.038764                            0.005627   \n",
       "2019-12-31                  0.000000                            0.003078   \n",
       "2020-03-31                  0.241092                           -0.009984   \n",
       "2020-06-30                  1.485994                           -0.018298   \n",
       "\n",
       "            civilian_labor_force_participation_rate_percent_delta  \n",
       "TimePeriod                                                         \n",
       "1947-03-31                                                NaN      \n",
       "1947-06-30                                                NaN      \n",
       "1947-09-30                                                NaN      \n",
       "1947-12-31                                                NaN      \n",
       "1948-03-31                                                NaN      \n",
       "...                                                       ...      \n",
       "2019-06-30                                           0.000000      \n",
       "2019-09-30                                           0.003175      \n",
       "2019-12-31                                           0.000000      \n",
       "2020-03-31                                          -0.007911      \n",
       "2020-06-30                                          -0.019139      \n",
       "\n",
       "[294 rows x 29 columns]"
      ]
     },
     "execution_count": 6,
     "metadata": {},
     "output_type": "execute_result"
    }
   ],
   "source": [
    "df"
   ]
  },
  {
   "cell_type": "markdown",
   "metadata": {},
   "source": [
    "# CNN"
   ]
  },
  {
   "cell_type": "code",
   "execution_count": 27,
   "metadata": {},
   "outputs": [],
   "source": [
    "# split a univariate sequence into samples\n",
    "def split_sequence(sequence, n_steps):\n",
    "    X, y = list(), list()\n",
    "    for i in range(len(sequence)):\n",
    "        # find the end of this pattern\n",
    "        end_ix = i + n_steps\n",
    "        # check if we are beyond the sequence\n",
    "        if end_ix > len(sequence)-1:\n",
    "            break\n",
    "        #gather input and out output parts of the patterns\n",
    "        seq_x , seq_y = sequence[i:end_ix], sequence[end_ix]\n",
    "        X.append(seq_x)\n",
    "        y.append(seq_y)\n",
    "    return array(X), array(y)"
   ]
  },
  {
   "cell_type": "code",
   "execution_count": 28,
   "metadata": {},
   "outputs": [],
   "source": [
    "seq = df.loc['1948-06-30':'2013-03-31', 'gdp_percent_delta'].dropna().values"
   ]
  },
  {
   "cell_type": "code",
   "execution_count": 29,
   "metadata": {},
   "outputs": [],
   "source": [
    "n_steps = 3"
   ]
  },
  {
   "cell_type": "code",
   "execution_count": 30,
   "metadata": {},
   "outputs": [],
   "source": [
    "X, y = split_sequence(seq, n_steps)"
   ]
  },
  {
   "cell_type": "code",
   "execution_count": 31,
   "metadata": {},
   "outputs": [],
   "source": [
    "n_features = 1\n",
    "X = X.reshape((X.shape[0],X.shape[1], n_features))"
   ]
  },
  {
   "cell_type": "code",
   "execution_count": 32,
   "metadata": {},
   "outputs": [
    {
     "data": {
      "text/plain": [
       "<tensorflow.python.keras.callbacks.History at 0x172ab3d3248>"
      ]
     },
     "execution_count": 32,
     "metadata": {},
     "output_type": "execute_result"
    }
   ],
   "source": [
    "# Define model\n",
    "model = Sequential()\n",
    "model.add(Conv1D(64, 2, activation='relu', input_shape=(n_steps, n_features)))\n",
    "model.add(MaxPooling1D())\n",
    "model.add(Flatten())\n",
    "model.add(Dense(50, activation='relu'))\n",
    "model.add(Dense(1))\n",
    "model.compile(optimizer='adam', loss='mse')\n",
    "#fit model\n",
    "model.fit(X, y, epochs=1_000, verbose=0)\n"
   ]
  },
  {
   "cell_type": "code",
   "execution_count": 33,
   "metadata": {},
   "outputs": [
    {
     "name": "stdout",
     "output_type": "stream",
     "text": [
      "[[3.4741871]\n",
      " [2.0258505]\n",
      " [4.285545 ]\n",
      " [2.2569735]\n",
      " [3.0109541]\n",
      " [2.7604039]\n",
      " [4.259362 ]\n",
      " [2.5415587]\n",
      " [3.3049254]\n",
      " [0.7178205]]\n"
     ]
    }
   ],
   "source": [
    "x_input = df.loc['2013-03-31':'2020-06-30', 'gdp_percent_delta'].values\n",
    "x_input = x_input.reshape((10, n_steps, n_features))\n",
    "yhat = model.predict(x_input, verbose=0)\n",
    "print(yhat)"
   ]
  },
  {
   "cell_type": "markdown",
   "metadata": {},
   "source": [
    "# LSTMS"
   ]
  },
  {
   "cell_type": "code",
   "execution_count": 79,
   "metadata": {},
   "outputs": [],
   "source": [
    "seq = df.loc['1948-06-30':'2013-03-31', 'gdp_percent_delta'].dropna().values "
   ]
  },
  {
   "cell_type": "code",
   "execution_count": 80,
   "metadata": {},
   "outputs": [],
   "source": [
    "n_steps_lstm = 3"
   ]
  },
  {
   "cell_type": "code",
   "execution_count": 81,
   "metadata": {},
   "outputs": [],
   "source": [
    "X_lstm, y_lstm = split_sequence(seq, n_steps_lstm)"
   ]
  },
  {
   "cell_type": "code",
   "execution_count": 82,
   "metadata": {},
   "outputs": [],
   "source": [
    "n_features_lstm = 1\n",
    "X_lstm = X_lstm.reshape((X_lstm.shape[0], X_lstm.shape[1], n_features_lstm))"
   ]
  },
  {
   "cell_type": "code",
   "execution_count": 85,
   "metadata": {},
   "outputs": [
    {
     "data": {
      "text/plain": [
       "<tensorflow.python.keras.callbacks.History at 0x172aecb6548>"
      ]
     },
     "execution_count": 85,
     "metadata": {},
     "output_type": "execute_result"
    }
   ],
   "source": [
    "model = Sequential()\n",
    "model.add(LSTM(50, activation='relu', input_shape=(n_steps_lstm, n_features_lstm)))\n",
    "model.add(Dense(1))\n",
    "model.compile(optimizer='adam', loss='mse')\n",
    "#fit Model\n",
    "model.fit(X_lstm, y_lstm, epochs=200, verbose=0)"
   ]
  },
  {
   "cell_type": "code",
   "execution_count": 89,
   "metadata": {},
   "outputs": [
    {
     "name": "stdout",
     "output_type": "stream",
     "text": [
      "WARNING:tensorflow:6 out of the last 7 calls to <function Model.make_predict_function.<locals>.predict_function at 0x00000172AEE66EE8> triggered tf.function retracing. Tracing is expensive and the excessive number of tracings could be due to (1) creating @tf.function repeatedly in a loop, (2) passing tensors with different shapes, (3) passing Python objects instead of tensors. For (1), please define your @tf.function outside of the loop. For (2), @tf.function has experimental_relax_shapes=True option that relaxes argument shapes that can avoid unnecessary retracing. For (3), please refer to https://www.tensorflow.org/tutorials/customization/performance#python_or_tensor_args and https://www.tensorflow.org/api_docs/python/tf/function for  more details.\n"
     ]
    }
   ],
   "source": [
    "x_input_lstm = df.loc['2012-06-30':'2020-06-30', 'gdp_percent_delta'].values\n",
    "x_input_lstm = x_input_lstm.reshape((11,n_steps_lstm, n_features_lstm))\n",
    "yhat_lstm = model.predict(x_input_lstm, verbose=0)"
   ]
  },
  {
   "cell_type": "code",
   "execution_count": 90,
   "metadata": {},
   "outputs": [
    {
     "data": {
      "text/plain": [
       "array([[ 1.7666976],\n",
       "       [ 2.6121287],\n",
       "       [ 2.6799362],\n",
       "       [ 3.189288 ],\n",
       "       [ 2.1896102],\n",
       "       [ 2.511311 ],\n",
       "       [ 2.7460217],\n",
       "       [ 3.806623 ],\n",
       "       [ 2.5874903],\n",
       "       [ 2.7322152],\n",
       "       [-7.4535465]], dtype=float32)"
      ]
     },
     "execution_count": 90,
     "metadata": {},
     "output_type": "execute_result"
    }
   ],
   "source": [
    "yhat_lstm"
   ]
  },
  {
   "cell_type": "markdown",
   "metadata": {},
   "source": [
    "# CNN-LSTM"
   ]
  },
  {
   "cell_type": "code",
   "execution_count": 63,
   "metadata": {},
   "outputs": [],
   "source": [
    "seq = df.loc['1948-06-30':'2013-03-31', 'gdp_percent_delta'].dropna().values "
   ]
  },
  {
   "cell_type": "code",
   "execution_count": 64,
   "metadata": {},
   "outputs": [],
   "source": [
    "n_steps_cnn_lstm = 4"
   ]
  },
  {
   "cell_type": "code",
   "execution_count": 65,
   "metadata": {},
   "outputs": [],
   "source": [
    "X_cnn_lstm, y_cnn_lstm = split_sequence(seq, n_steps_cnn_lstm)"
   ]
  },
  {
   "cell_type": "code",
   "execution_count": 66,
   "metadata": {},
   "outputs": [],
   "source": [
    "n_features_cnn_lstm = 1\n",
    "X_cnn_lstm = X_cnn_lstm.reshape((X_cnn_lstm.shape[0],X_cnn_lstm.shape[1], n_features_cnn_lstm))"
   ]
  },
  {
   "cell_type": "code",
   "execution_count": 67,
   "metadata": {},
   "outputs": [],
   "source": [
    "#reshape from [samples, timesteps] into [samples, subsequences, timesteps, features]\n",
    "n_features_cnn_lstm = 1\n",
    "n_seq_cnn_lstm = 2\n",
    "n_steps_cnn_lstm = 2\n",
    "X_cnn_lstm = X_cnn_lstm.reshape((X_cnn_lstm.shape[0], n_seq_cnn_lstm, n_steps_cnn_lstm, n_features_cnn_lstm))"
   ]
  },
  {
   "cell_type": "code",
   "execution_count": 68,
   "metadata": {},
   "outputs": [
    {
     "data": {
      "text/plain": [
       "<tensorflow.python.keras.callbacks.History at 0x172ac8e28c8>"
      ]
     },
     "execution_count": 68,
     "metadata": {},
     "output_type": "execute_result"
    }
   ],
   "source": [
    "#define\n",
    "model = Sequential()\n",
    "model.add(TimeDistributed(Conv1D(64, 1, activation='relu'), input_shape=(None, n_steps_cnn_lstm, n_features_cnn_lstm)))\n",
    "model.add(TimeDistributed(MaxPooling1D()))\n",
    "model.add(TimeDistributed(Flatten()))\n",
    "model.add(LSTM(50, activation='relu'))\n",
    "model.add(Dense(1))\n",
    "model.compile(optimizer='adam', loss='mse')\n",
    "#fit model\n",
    "model.fit(X_cnn_lstm, y_cnn_lstm, epochs=1000, verbose=0)"
   ]
  },
  {
   "cell_type": "code",
   "execution_count": 77,
   "metadata": {},
   "outputs": [
    {
     "name": "stdout",
     "output_type": "stream",
     "text": [
      "WARNING:tensorflow:5 out of the last 6 calls to <function Model.make_predict_function.<locals>.predict_function at 0x00000172AC85E798> triggered tf.function retracing. Tracing is expensive and the excessive number of tracings could be due to (1) creating @tf.function repeatedly in a loop, (2) passing tensors with different shapes, (3) passing Python objects instead of tensors. For (1), please define your @tf.function outside of the loop. For (2), @tf.function has experimental_relax_shapes=True option that relaxes argument shapes that can avoid unnecessary retracing. For (3), please refer to https://www.tensorflow.org/tutorials/customization/performance#python_or_tensor_args and https://www.tensorflow.org/api_docs/python/tf/function for  more details.\n"
     ]
    }
   ],
   "source": [
    "x_input_cnn_lstm = df.loc['2012-09-30':'2020-06-30', 'gdp_percent_delta'].values\n",
    "x_input_cnn_lstm = x_input_cnn_lstm.reshape((8,n_seq_cnn_lstm, n_steps_cnn_lstm, n_features_cnn_lstm))\n",
    "yhat_cnn_lstm = model.predict(x_input_cnn_lstm, verbose=0)"
   ]
  },
  {
   "cell_type": "code",
   "execution_count": 78,
   "metadata": {},
   "outputs": [
    {
     "data": {
      "text/plain": [
       "array([[ 0.9615568 ],\n",
       "       [-0.49217567],\n",
       "       [ 3.4408948 ],\n",
       "       [ 2.832585  ],\n",
       "       [ 1.3688174 ],\n",
       "       [ 3.1949167 ],\n",
       "       [ 2.6424377 ],\n",
       "       [35.137306  ]], dtype=float32)"
      ]
     },
     "execution_count": 78,
     "metadata": {},
     "output_type": "execute_result"
    }
   ],
   "source": [
    "yhat_cnn_lstm"
   ]
  },
  {
   "cell_type": "code",
   "execution_count": null,
   "metadata": {},
   "outputs": [],
   "source": []
  }
 ],
 "metadata": {
  "kernelspec": {
   "display_name": "Python 3",
   "language": "python",
   "name": "python3"
  },
  "language_info": {
   "codemirror_mode": {
    "name": "ipython",
    "version": 3
   },
   "file_extension": ".py",
   "mimetype": "text/x-python",
   "name": "python",
   "nbconvert_exporter": "python",
   "pygments_lexer": "ipython3",
   "version": "3.7.6"
  }
 },
 "nbformat": 4,
 "nbformat_minor": 4
}
