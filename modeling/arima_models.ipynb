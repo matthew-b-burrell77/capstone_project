{
 "cells": [
  {
   "cell_type": "markdown",
   "metadata": {},
   "source": [
    "# Table of Contents\n",
    "1. [Imports](#Imports)\n",
    "2. [Data Importing](#Data-Importing)\n",
    "3. [Checking for Stationarity: the Augmented Dickey-Fuller Test](#Checking-for-Stationarity:-the-Augmented-Dickey-Fuller-Test)\n",
    "4. [ARIMA Model trained with real GDP numbers](#ARIMA-Model-trained-with-real-GDP-numbers)\n",
    "5. [Training best ARIMA model for gdp](#Training-best-ARIMA-model-for-gdp)\n",
    "6. [The real GDP percent change model ARIMA grid search](#The-real-GDP-percent-change-model-ARIMA-grid-search)\n",
    "7. [Training the best real gdp ARIMA model](#Training-the-best-real-gdp-ARIMA-model)\n",
    "8. [AutoRegressive Integrated Moving Average with exogenous regressors model](#AutoRegressive-Integrated-Moving-Average-with-exogenous-regressors-model)\n",
    "9. [The best fit SARIMAX (5,1,0)](#The-best-fit-SARIMAX-(5,1,0))\n",
    "10. [SARIMAX grid search with stripped exdog varibles](#SARIMAX-grid-search-with-stripped-exdog-varibles)\n",
    "10. [SARIMAX (0,1,8) with stripped exdog varibles](#SARIMAX-(0,1,8)-with-stripped-exdog-varibles)"
   ]
  },
  {
   "cell_type": "markdown",
   "metadata": {},
   "source": [
    "# Imports"
   ]
  },
  {
   "cell_type": "code",
   "execution_count": 29,
   "metadata": {},
   "outputs": [],
   "source": [
    "import pandas as pd\n",
    "import numpy as np\n",
    "import matplotlib.pyplot as plt\n",
    "from datetime import datetime\n",
    "from sklearn.model_selection import train_test_split\n",
    "\n",
    "import statsmodels.api as sm\n",
    "\n",
    "# We are required to do this in order to avoid \"FutureWarning\" issues.\n",
    "from pandas.plotting import register_matplotlib_converters\n",
    "register_matplotlib_converters()\n",
    "\n",
    "# Import Augmented Dickey-Fuller test.\n",
    "\n",
    "from statsmodels.tsa.stattools import adfuller\n",
    "\n",
    "# Import ARIMA Model\n",
    "from statsmodels.tsa.arima_model import ARIMA\n",
    "\n",
    "# Import SARIMAX Model\n",
    "from statsmodels.tsa.statespace.sarimax import SARIMAX"
   ]
  },
  {
   "cell_type": "markdown",
   "metadata": {},
   "source": [
    "# Data Importing"
   ]
  },
  {
   "cell_type": "code",
   "execution_count": 2,
   "metadata": {},
   "outputs": [],
   "source": [
    "df = pd.read_csv('../data/clean.csv')"
   ]
  },
  {
   "cell_type": "code",
   "execution_count": 3,
   "metadata": {},
   "outputs": [
    {
     "data": {
      "text/plain": [
       "TimePeriod                                                object\n",
       "gdp                                                      float64\n",
       "consumption                                              float64\n",
       "investment                                               float64\n",
       "Exports                                                  float64\n",
       "Imports                                                  float64\n",
       "government_spending                                      float64\n",
       "Residual                                                 float64\n",
       "gdp_percent_delta                                        float64\n",
       "consumption_pct_delta                                    float64\n",
       "investment_pct_delta                                     float64\n",
       "Exports_percent_delta                                    float64\n",
       "Imports_percent_delta                                    float64\n",
       "government_spending_percent_delta                        float64\n",
       "gdp_percent_2delta                                       float64\n",
       "consumption_pct_2delta                                   float64\n",
       "investment_pct_2delta                                    float64\n",
       "Exports_pct_2delta                                       float64\n",
       "government_spending_pct_2delta                           float64\n",
       "negative_growth                                          float64\n",
       "unemployment_rate                                        float64\n",
       "employed                                                 float64\n",
       "Unemployed                                               float64\n",
       "civilian_labor_force                                     float64\n",
       "civilian_labor_force_participation_rate                  float64\n",
       "unemployment_rate_percent_delta                          float64\n",
       "employed_percent_delta                                   float64\n",
       "Unemployed_percent_delta                                 float64\n",
       "civilian_labor_force_percent_delta                       float64\n",
       "civilian_labor_force_participation_rate_percent_delta    float64\n",
       "dtype: object"
      ]
     },
     "execution_count": 3,
     "metadata": {},
     "output_type": "execute_result"
    }
   ],
   "source": [
    "df.dtypes"
   ]
  },
  {
   "cell_type": "code",
   "execution_count": 4,
   "metadata": {},
   "outputs": [],
   "source": [
    "# Change date column to be datetime dtype\n",
    "df['TimePeriod'] = pd.to_datetime(df['TimePeriod'])"
   ]
  },
  {
   "cell_type": "code",
   "execution_count": 5,
   "metadata": {},
   "outputs": [],
   "source": [
    "# Set TimePeriod to be in the index\n",
    "df.set_index('TimePeriod',inplace = True)"
   ]
  },
  {
   "cell_type": "code",
   "execution_count": 6,
   "metadata": {},
   "outputs": [],
   "source": [
    "# Sort the index\n",
    "df.sort_index(inplace=True)"
   ]
  },
  {
   "cell_type": "code",
   "execution_count": 7,
   "metadata": {},
   "outputs": [
    {
     "data": {
      "text/html": [
       "<div>\n",
       "<style scoped>\n",
       "    .dataframe tbody tr th:only-of-type {\n",
       "        vertical-align: middle;\n",
       "    }\n",
       "\n",
       "    .dataframe tbody tr th {\n",
       "        vertical-align: top;\n",
       "    }\n",
       "\n",
       "    .dataframe thead th {\n",
       "        text-align: right;\n",
       "    }\n",
       "</style>\n",
       "<table border=\"1\" class=\"dataframe\">\n",
       "  <thead>\n",
       "    <tr style=\"text-align: right;\">\n",
       "      <th></th>\n",
       "      <th>gdp</th>\n",
       "      <th>consumption</th>\n",
       "      <th>investment</th>\n",
       "      <th>Exports</th>\n",
       "      <th>Imports</th>\n",
       "      <th>government_spending</th>\n",
       "      <th>Residual</th>\n",
       "      <th>gdp_percent_delta</th>\n",
       "      <th>consumption_pct_delta</th>\n",
       "      <th>investment_pct_delta</th>\n",
       "      <th>...</th>\n",
       "      <th>unemployment_rate</th>\n",
       "      <th>employed</th>\n",
       "      <th>Unemployed</th>\n",
       "      <th>civilian_labor_force</th>\n",
       "      <th>civilian_labor_force_participation_rate</th>\n",
       "      <th>unemployment_rate_percent_delta</th>\n",
       "      <th>employed_percent_delta</th>\n",
       "      <th>Unemployed_percent_delta</th>\n",
       "      <th>civilian_labor_force_percent_delta</th>\n",
       "      <th>civilian_labor_force_participation_rate_percent_delta</th>\n",
       "    </tr>\n",
       "    <tr>\n",
       "      <th>TimePeriod</th>\n",
       "      <th></th>\n",
       "      <th></th>\n",
       "      <th></th>\n",
       "      <th></th>\n",
       "      <th></th>\n",
       "      <th></th>\n",
       "      <th></th>\n",
       "      <th></th>\n",
       "      <th></th>\n",
       "      <th></th>\n",
       "      <th></th>\n",
       "      <th></th>\n",
       "      <th></th>\n",
       "      <th></th>\n",
       "      <th></th>\n",
       "      <th></th>\n",
       "      <th></th>\n",
       "      <th></th>\n",
       "      <th></th>\n",
       "      <th></th>\n",
       "      <th></th>\n",
       "    </tr>\n",
       "  </thead>\n",
       "  <tbody>\n",
       "    <tr>\n",
       "      <th>1947-03-31</th>\n",
       "      <td>2033061.0</td>\n",
       "      <td>1274952.0</td>\n",
       "      <td>218091.0</td>\n",
       "      <td>97759.0</td>\n",
       "      <td>60271.0</td>\n",
       "      <td>524076.0</td>\n",
       "      <td>-28008.0</td>\n",
       "      <td>NaN</td>\n",
       "      <td>NaN</td>\n",
       "      <td>NaN</td>\n",
       "      <td>...</td>\n",
       "      <td>NaN</td>\n",
       "      <td>NaN</td>\n",
       "      <td>NaN</td>\n",
       "      <td>NaN</td>\n",
       "      <td>NaN</td>\n",
       "      <td>NaN</td>\n",
       "      <td>NaN</td>\n",
       "      <td>NaN</td>\n",
       "      <td>NaN</td>\n",
       "      <td>NaN</td>\n",
       "    </tr>\n",
       "    <tr>\n",
       "      <th>1947-06-30</th>\n",
       "      <td>2027639.0</td>\n",
       "      <td>1296163.0</td>\n",
       "      <td>201386.0</td>\n",
       "      <td>96526.0</td>\n",
       "      <td>61432.0</td>\n",
       "      <td>523632.0</td>\n",
       "      <td>-24154.0</td>\n",
       "      <td>-1.062506</td>\n",
       "      <td>6.822599</td>\n",
       "      <td>-27.294690</td>\n",
       "      <td>...</td>\n",
       "      <td>NaN</td>\n",
       "      <td>NaN</td>\n",
       "      <td>NaN</td>\n",
       "      <td>NaN</td>\n",
       "      <td>NaN</td>\n",
       "      <td>NaN</td>\n",
       "      <td>NaN</td>\n",
       "      <td>NaN</td>\n",
       "      <td>NaN</td>\n",
       "      <td>NaN</td>\n",
       "    </tr>\n",
       "    <tr>\n",
       "      <th>1947-09-30</th>\n",
       "      <td>2023452.0</td>\n",
       "      <td>1300388.0</td>\n",
       "      <td>195461.0</td>\n",
       "      <td>91627.0</td>\n",
       "      <td>54482.0</td>\n",
       "      <td>523527.0</td>\n",
       "      <td>-15586.0</td>\n",
       "      <td>-0.823430</td>\n",
       "      <td>1.310237</td>\n",
       "      <td>-11.259195</td>\n",
       "      <td>...</td>\n",
       "      <td>NaN</td>\n",
       "      <td>NaN</td>\n",
       "      <td>NaN</td>\n",
       "      <td>NaN</td>\n",
       "      <td>NaN</td>\n",
       "      <td>NaN</td>\n",
       "      <td>NaN</td>\n",
       "      <td>NaN</td>\n",
       "      <td>NaN</td>\n",
       "      <td>NaN</td>\n",
       "    </tr>\n",
       "    <tr>\n",
       "      <th>1947-12-31</th>\n",
       "      <td>2055103.0</td>\n",
       "      <td>1300801.0</td>\n",
       "      <td>233284.0</td>\n",
       "      <td>81245.0</td>\n",
       "      <td>57419.0</td>\n",
       "      <td>519285.0</td>\n",
       "      <td>-19169.0</td>\n",
       "      <td>6.405174</td>\n",
       "      <td>0.127100</td>\n",
       "      <td>102.908083</td>\n",
       "      <td>...</td>\n",
       "      <td>NaN</td>\n",
       "      <td>NaN</td>\n",
       "      <td>NaN</td>\n",
       "      <td>NaN</td>\n",
       "      <td>NaN</td>\n",
       "      <td>NaN</td>\n",
       "      <td>NaN</td>\n",
       "      <td>NaN</td>\n",
       "      <td>NaN</td>\n",
       "      <td>NaN</td>\n",
       "    </tr>\n",
       "    <tr>\n",
       "      <th>1948-03-31</th>\n",
       "      <td>2086017.0</td>\n",
       "      <td>1307283.0</td>\n",
       "      <td>257220.0</td>\n",
       "      <td>77539.0</td>\n",
       "      <td>64749.0</td>\n",
       "      <td>527020.0</td>\n",
       "      <td>-32899.0</td>\n",
       "      <td>6.154156</td>\n",
       "      <td>2.008182</td>\n",
       "      <td>47.801596</td>\n",
       "      <td>...</td>\n",
       "      <td>4.0</td>\n",
       "      <td>57671.0</td>\n",
       "      <td>2399.0</td>\n",
       "      <td>60070.0</td>\n",
       "      <td>58.5</td>\n",
       "      <td>NaN</td>\n",
       "      <td>NaN</td>\n",
       "      <td>NaN</td>\n",
       "      <td>NaN</td>\n",
       "      <td>NaN</td>\n",
       "    </tr>\n",
       "  </tbody>\n",
       "</table>\n",
       "<p>5 rows × 29 columns</p>\n",
       "</div>"
      ],
      "text/plain": [
       "                  gdp  consumption  investment  Exports  Imports  \\\n",
       "TimePeriod                                                         \n",
       "1947-03-31  2033061.0    1274952.0    218091.0  97759.0  60271.0   \n",
       "1947-06-30  2027639.0    1296163.0    201386.0  96526.0  61432.0   \n",
       "1947-09-30  2023452.0    1300388.0    195461.0  91627.0  54482.0   \n",
       "1947-12-31  2055103.0    1300801.0    233284.0  81245.0  57419.0   \n",
       "1948-03-31  2086017.0    1307283.0    257220.0  77539.0  64749.0   \n",
       "\n",
       "            government_spending  Residual  gdp_percent_delta  \\\n",
       "TimePeriod                                                     \n",
       "1947-03-31             524076.0  -28008.0                NaN   \n",
       "1947-06-30             523632.0  -24154.0          -1.062506   \n",
       "1947-09-30             523527.0  -15586.0          -0.823430   \n",
       "1947-12-31             519285.0  -19169.0           6.405174   \n",
       "1948-03-31             527020.0  -32899.0           6.154156   \n",
       "\n",
       "            consumption_pct_delta  investment_pct_delta  ...  \\\n",
       "TimePeriod                                               ...   \n",
       "1947-03-31                    NaN                   NaN  ...   \n",
       "1947-06-30               6.822599            -27.294690  ...   \n",
       "1947-09-30               1.310237            -11.259195  ...   \n",
       "1947-12-31               0.127100            102.908083  ...   \n",
       "1948-03-31               2.008182             47.801596  ...   \n",
       "\n",
       "            unemployment_rate  employed  Unemployed  civilian_labor_force  \\\n",
       "TimePeriod                                                                  \n",
       "1947-03-31                NaN       NaN         NaN                   NaN   \n",
       "1947-06-30                NaN       NaN         NaN                   NaN   \n",
       "1947-09-30                NaN       NaN         NaN                   NaN   \n",
       "1947-12-31                NaN       NaN         NaN                   NaN   \n",
       "1948-03-31                4.0   57671.0      2399.0               60070.0   \n",
       "\n",
       "            civilian_labor_force_participation_rate  \\\n",
       "TimePeriod                                            \n",
       "1947-03-31                                      NaN   \n",
       "1947-06-30                                      NaN   \n",
       "1947-09-30                                      NaN   \n",
       "1947-12-31                                      NaN   \n",
       "1948-03-31                                     58.5   \n",
       "\n",
       "            unemployment_rate_percent_delta  employed_percent_delta  \\\n",
       "TimePeriod                                                            \n",
       "1947-03-31                              NaN                     NaN   \n",
       "1947-06-30                              NaN                     NaN   \n",
       "1947-09-30                              NaN                     NaN   \n",
       "1947-12-31                              NaN                     NaN   \n",
       "1948-03-31                              NaN                     NaN   \n",
       "\n",
       "            Unemployed_percent_delta  civilian_labor_force_percent_delta  \\\n",
       "TimePeriod                                                                 \n",
       "1947-03-31                       NaN                                 NaN   \n",
       "1947-06-30                       NaN                                 NaN   \n",
       "1947-09-30                       NaN                                 NaN   \n",
       "1947-12-31                       NaN                                 NaN   \n",
       "1948-03-31                       NaN                                 NaN   \n",
       "\n",
       "            civilian_labor_force_participation_rate_percent_delta  \n",
       "TimePeriod                                                         \n",
       "1947-03-31                                                NaN      \n",
       "1947-06-30                                                NaN      \n",
       "1947-09-30                                                NaN      \n",
       "1947-12-31                                                NaN      \n",
       "1948-03-31                                                NaN      \n",
       "\n",
       "[5 rows x 29 columns]"
      ]
     },
     "execution_count": 7,
     "metadata": {},
     "output_type": "execute_result"
    }
   ],
   "source": [
    "df.head()"
   ]
  },
  {
   "cell_type": "markdown",
   "metadata": {},
   "source": [
    "# Checking for Stationarity: the Augmented Dickey-Fuller Test\n",
    "\n",
    "The [augmented Dickey-Fuller test](https://en.wikipedia.org/wiki/Augmented_Dickey%E2%80%93Fuller_test) is a hypothesis test that tests for stationarity. We assume that our data are not stationary. With enough evidence, we may accept that our data are stationary.\n",
    "\n",
    "Specifically, the test is as follows:\n",
    "\n",
    "$$\n",
    "\\begin{eqnarray}\n",
    "&H_0:& \\text{not stationary} \\\\\n",
    "&H_A:& \\text{stationary}\n",
    "\\end{eqnarray}\n",
    "$$"
   ]
  },
  {
   "cell_type": "code",
   "execution_count": 21,
   "metadata": {},
   "outputs": [],
   "source": [
    "# Code written by Joseph Nelson.\n",
    "# To interpret teh dick-fuller test\n",
    "def interpret_dftest(dftest):\n",
    "    dfoutput = pd.Series(dftest[0:2], index=['Test Statistic','p-value'])\n",
    "    return dfoutput"
   ]
  },
  {
   "cell_type": "code",
   "execution_count": 22,
   "metadata": {},
   "outputs": [
    {
     "data": {
      "text/plain": [
       "Test Statistic   -9.405827e+00\n",
       "p-value           6.015432e-16\n",
       "dtype: float64"
      ]
     },
     "execution_count": 22,
     "metadata": {},
     "output_type": "execute_result"
    }
   ],
   "source": [
    "interpret_dftest(adfuller(df['gdp_percent_delta'].dropna()))"
   ]
  },
  {
   "cell_type": "markdown",
   "metadata": {},
   "source": [
    "# ARIMA Model trained with real GDP numbers"
   ]
  },
  {
   "cell_type": "code",
   "execution_count": 22,
   "metadata": {},
   "outputs": [],
   "source": [
    "# Create train-test split.\n",
    "y_train, y_test = train_test_split(df['gdp'], # The Model will handle differencing\n",
    "                                   test_size = .1, \n",
    "                                   shuffle = False # Must have for time seires\n",
    "                                  )"
   ]
  },
  {
   "cell_type": "code",
   "execution_count": 24,
   "metadata": {},
   "outputs": [
    {
     "name": "stdout",
     "output_type": "stream",
     "text": [
      "Attempting to fit ARIMA(0,1,0)\n",
      "The AIC for ARIMA(0,1,0) is: 6600.202151492378\n",
      "Attempting to fit ARIMA(0,1,1)\n",
      "The AIC for ARIMA(0,1,1) is: 6568.3129449679045\n",
      "Attempting to fit ARIMA(0,1,2)\n",
      "The AIC for ARIMA(0,1,2) is: 6549.065242628535\n",
      "Attempting to fit ARIMA(0,1,3)\n",
      "The AIC for ARIMA(0,1,3) is: 6546.863909348492\n",
      "Attempting to fit ARIMA(0,1,4)\n"
     ]
    },
    {
     "name": "stderr",
     "output_type": "stream",
     "text": [
      "C:\\Users\\matth\\anaconda3\\lib\\site-packages\\statsmodels\\tsa\\base\\tsa_model.py:162: ValueWarning: No frequency information was provided, so inferred frequency Q-DEC will be used.\n",
      "  % freq, ValueWarning)\n",
      "C:\\Users\\matth\\anaconda3\\lib\\site-packages\\statsmodels\\tsa\\base\\tsa_model.py:162: ValueWarning: No frequency information was provided, so inferred frequency Q-DEC will be used.\n",
      "  % freq, ValueWarning)\n",
      "C:\\Users\\matth\\anaconda3\\lib\\site-packages\\statsmodels\\tsa\\base\\tsa_model.py:162: ValueWarning: No frequency information was provided, so inferred frequency Q-DEC will be used.\n",
      "  % freq, ValueWarning)\n",
      "C:\\Users\\matth\\anaconda3\\lib\\site-packages\\statsmodels\\tsa\\base\\tsa_model.py:162: ValueWarning: No frequency information was provided, so inferred frequency Q-DEC will be used.\n",
      "  % freq, ValueWarning)\n",
      "C:\\Users\\matth\\anaconda3\\lib\\site-packages\\statsmodels\\tsa\\base\\tsa_model.py:162: ValueWarning: No frequency information was provided, so inferred frequency Q-DEC will be used.\n",
      "  % freq, ValueWarning)\n",
      "C:\\Users\\matth\\anaconda3\\lib\\site-packages\\statsmodels\\tsa\\base\\tsa_model.py:162: ValueWarning: No frequency information was provided, so inferred frequency Q-DEC will be used.\n",
      "  % freq, ValueWarning)\n",
      "C:\\Users\\matth\\anaconda3\\lib\\site-packages\\statsmodels\\tsa\\base\\tsa_model.py:162: ValueWarning: No frequency information was provided, so inferred frequency Q-DEC will be used.\n",
      "  % freq, ValueWarning)\n",
      "C:\\Users\\matth\\anaconda3\\lib\\site-packages\\statsmodels\\tsa\\base\\tsa_model.py:162: ValueWarning: No frequency information was provided, so inferred frequency Q-DEC will be used.\n",
      "  % freq, ValueWarning)\n",
      "C:\\Users\\matth\\anaconda3\\lib\\site-packages\\statsmodels\\tsa\\base\\tsa_model.py:162: ValueWarning: No frequency information was provided, so inferred frequency Q-DEC will be used.\n",
      "  % freq, ValueWarning)\n",
      "C:\\Users\\matth\\anaconda3\\lib\\site-packages\\statsmodels\\tsa\\base\\tsa_model.py:162: ValueWarning: No frequency information was provided, so inferred frequency Q-DEC will be used.\n",
      "  % freq, ValueWarning)\n"
     ]
    },
    {
     "name": "stdout",
     "output_type": "stream",
     "text": [
      "The AIC for ARIMA(0,1,4) is: 6544.798095237016\n",
      "Attempting to fit ARIMA(0,1,5)\n"
     ]
    },
    {
     "name": "stderr",
     "output_type": "stream",
     "text": [
      "C:\\Users\\matth\\anaconda3\\lib\\site-packages\\statsmodels\\tsa\\base\\tsa_model.py:162: ValueWarning: No frequency information was provided, so inferred frequency Q-DEC will be used.\n",
      "  % freq, ValueWarning)\n",
      "C:\\Users\\matth\\anaconda3\\lib\\site-packages\\statsmodels\\tsa\\base\\tsa_model.py:162: ValueWarning: No frequency information was provided, so inferred frequency Q-DEC will be used.\n",
      "  % freq, ValueWarning)\n"
     ]
    },
    {
     "name": "stdout",
     "output_type": "stream",
     "text": [
      "The AIC for ARIMA(0,1,5) is: 6546.669952033824\n",
      "Attempting to fit ARIMA(0,1,6)\n"
     ]
    },
    {
     "name": "stderr",
     "output_type": "stream",
     "text": [
      "C:\\Users\\matth\\anaconda3\\lib\\site-packages\\statsmodels\\tsa\\base\\tsa_model.py:162: ValueWarning: No frequency information was provided, so inferred frequency Q-DEC will be used.\n",
      "  % freq, ValueWarning)\n",
      "C:\\Users\\matth\\anaconda3\\lib\\site-packages\\statsmodels\\tsa\\base\\tsa_model.py:162: ValueWarning: No frequency information was provided, so inferred frequency Q-DEC will be used.\n",
      "  % freq, ValueWarning)\n"
     ]
    },
    {
     "name": "stdout",
     "output_type": "stream",
     "text": [
      "The AIC for ARIMA(0,1,6) is: 6541.678709069097\n",
      "Attempting to fit ARIMA(0,1,7)\n"
     ]
    },
    {
     "name": "stderr",
     "output_type": "stream",
     "text": [
      "C:\\Users\\matth\\anaconda3\\lib\\site-packages\\statsmodels\\tsa\\base\\tsa_model.py:162: ValueWarning: No frequency information was provided, so inferred frequency Q-DEC will be used.\n",
      "  % freq, ValueWarning)\n",
      "C:\\Users\\matth\\anaconda3\\lib\\site-packages\\statsmodels\\tsa\\base\\tsa_model.py:162: ValueWarning: No frequency information was provided, so inferred frequency Q-DEC will be used.\n",
      "  % freq, ValueWarning)\n"
     ]
    },
    {
     "name": "stdout",
     "output_type": "stream",
     "text": [
      "The AIC for ARIMA(0,1,7) is: 6543.638017956272\n",
      "Attempting to fit ARIMA(0,1,8)\n"
     ]
    },
    {
     "name": "stderr",
     "output_type": "stream",
     "text": [
      "C:\\Users\\matth\\anaconda3\\lib\\site-packages\\statsmodels\\tsa\\base\\tsa_model.py:162: ValueWarning: No frequency information was provided, so inferred frequency Q-DEC will be used.\n",
      "  % freq, ValueWarning)\n",
      "C:\\Users\\matth\\anaconda3\\lib\\site-packages\\statsmodels\\tsa\\base\\tsa_model.py:162: ValueWarning: No frequency information was provided, so inferred frequency Q-DEC will be used.\n",
      "  % freq, ValueWarning)\n"
     ]
    },
    {
     "name": "stdout",
     "output_type": "stream",
     "text": [
      "The AIC for ARIMA(0,1,8) is: 6536.703053295105\n",
      "Attempting to fit ARIMA(0,1,9)\n"
     ]
    },
    {
     "name": "stderr",
     "output_type": "stream",
     "text": [
      "C:\\Users\\matth\\anaconda3\\lib\\site-packages\\statsmodels\\tsa\\base\\tsa_model.py:162: ValueWarning: No frequency information was provided, so inferred frequency Q-DEC will be used.\n",
      "  % freq, ValueWarning)\n",
      "C:\\Users\\matth\\anaconda3\\lib\\site-packages\\statsmodels\\tsa\\base\\tsa_model.py:162: ValueWarning: No frequency information was provided, so inferred frequency Q-DEC will be used.\n",
      "  % freq, ValueWarning)\n"
     ]
    },
    {
     "name": "stdout",
     "output_type": "stream",
     "text": [
      "The AIC for ARIMA(0,1,9) is: 6535.639527979068\n",
      "Attempting to fit ARIMA(0,1,10)\n"
     ]
    },
    {
     "name": "stderr",
     "output_type": "stream",
     "text": [
      "C:\\Users\\matth\\anaconda3\\lib\\site-packages\\statsmodels\\tsa\\base\\tsa_model.py:162: ValueWarning: No frequency information was provided, so inferred frequency Q-DEC will be used.\n",
      "  % freq, ValueWarning)\n",
      "C:\\Users\\matth\\anaconda3\\lib\\site-packages\\statsmodels\\tsa\\base\\tsa_model.py:162: ValueWarning: No frequency information was provided, so inferred frequency Q-DEC will be used.\n",
      "  % freq, ValueWarning)\n"
     ]
    },
    {
     "name": "stdout",
     "output_type": "stream",
     "text": [
      "The AIC for ARIMA(0,1,10) is: 6536.28337572602\n",
      "Attempting to fit ARIMA(0,1,11)\n"
     ]
    },
    {
     "name": "stderr",
     "output_type": "stream",
     "text": [
      "C:\\Users\\matth\\anaconda3\\lib\\site-packages\\statsmodels\\tsa\\base\\tsa_model.py:162: ValueWarning: No frequency information was provided, so inferred frequency Q-DEC will be used.\n",
      "  % freq, ValueWarning)\n",
      "C:\\Users\\matth\\anaconda3\\lib\\site-packages\\statsmodels\\tsa\\base\\tsa_model.py:162: ValueWarning: No frequency information was provided, so inferred frequency Q-DEC will be used.\n",
      "  % freq, ValueWarning)\n"
     ]
    },
    {
     "name": "stdout",
     "output_type": "stream",
     "text": [
      "The AIC for ARIMA(0,1,11) is: 6533.191007853762\n",
      "Attempting to fit ARIMA(1,1,0)\n",
      "The AIC for ARIMA(1,1,0) is: 6550.215578707228\n",
      "Attempting to fit ARIMA(1,1,1)\n",
      "The AIC for ARIMA(1,1,1) is: 6543.900943636117\n",
      "Attempting to fit ARIMA(1,1,2)\n",
      "The AIC for ARIMA(1,1,2) is: 6544.108446141452\n",
      "Attempting to fit ARIMA(1,1,3)\n"
     ]
    },
    {
     "name": "stderr",
     "output_type": "stream",
     "text": [
      "C:\\Users\\matth\\anaconda3\\lib\\site-packages\\statsmodels\\tsa\\base\\tsa_model.py:162: ValueWarning: No frequency information was provided, so inferred frequency Q-DEC will be used.\n",
      "  % freq, ValueWarning)\n",
      "C:\\Users\\matth\\anaconda3\\lib\\site-packages\\statsmodels\\tsa\\base\\tsa_model.py:162: ValueWarning: No frequency information was provided, so inferred frequency Q-DEC will be used.\n",
      "  % freq, ValueWarning)\n",
      "C:\\Users\\matth\\anaconda3\\lib\\site-packages\\statsmodels\\tsa\\base\\tsa_model.py:162: ValueWarning: No frequency information was provided, so inferred frequency Q-DEC will be used.\n",
      "  % freq, ValueWarning)\n",
      "C:\\Users\\matth\\anaconda3\\lib\\site-packages\\statsmodels\\tsa\\base\\tsa_model.py:162: ValueWarning: No frequency information was provided, so inferred frequency Q-DEC will be used.\n",
      "  % freq, ValueWarning)\n",
      "C:\\Users\\matth\\anaconda3\\lib\\site-packages\\statsmodels\\tsa\\base\\tsa_model.py:162: ValueWarning: No frequency information was provided, so inferred frequency Q-DEC will be used.\n",
      "  % freq, ValueWarning)\n",
      "C:\\Users\\matth\\anaconda3\\lib\\site-packages\\statsmodels\\tsa\\base\\tsa_model.py:162: ValueWarning: No frequency information was provided, so inferred frequency Q-DEC will be used.\n",
      "  % freq, ValueWarning)\n",
      "C:\\Users\\matth\\anaconda3\\lib\\site-packages\\statsmodels\\tsa\\base\\tsa_model.py:162: ValueWarning: No frequency information was provided, so inferred frequency Q-DEC will be used.\n",
      "  % freq, ValueWarning)\n",
      "C:\\Users\\matth\\anaconda3\\lib\\site-packages\\statsmodels\\tsa\\base\\tsa_model.py:162: ValueWarning: No frequency information was provided, so inferred frequency Q-DEC will be used.\n",
      "  % freq, ValueWarning)\n"
     ]
    },
    {
     "name": "stdout",
     "output_type": "stream",
     "text": [
      "The AIC for ARIMA(1,1,3) is: 6545.821575581294\n",
      "Attempting to fit ARIMA(1,1,4)\n"
     ]
    },
    {
     "name": "stderr",
     "output_type": "stream",
     "text": [
      "C:\\Users\\matth\\anaconda3\\lib\\site-packages\\statsmodels\\tsa\\base\\tsa_model.py:162: ValueWarning: No frequency information was provided, so inferred frequency Q-DEC will be used.\n",
      "  % freq, ValueWarning)\n",
      "C:\\Users\\matth\\anaconda3\\lib\\site-packages\\statsmodels\\tsa\\base\\tsa_model.py:162: ValueWarning: No frequency information was provided, so inferred frequency Q-DEC will be used.\n",
      "  % freq, ValueWarning)\n"
     ]
    },
    {
     "name": "stdout",
     "output_type": "stream",
     "text": [
      "The AIC for ARIMA(1,1,4) is: 6545.607925372614\n",
      "Attempting to fit ARIMA(1,1,5)\n",
      "Attempting to fit ARIMA(1,1,6)\n"
     ]
    },
    {
     "name": "stderr",
     "output_type": "stream",
     "text": [
      "C:\\Users\\matth\\anaconda3\\lib\\site-packages\\statsmodels\\tsa\\base\\tsa_model.py:162: ValueWarning: No frequency information was provided, so inferred frequency Q-DEC will be used.\n",
      "  % freq, ValueWarning)\n",
      "C:\\Users\\matth\\anaconda3\\lib\\site-packages\\statsmodels\\tsa\\base\\tsa_model.py:162: ValueWarning: No frequency information was provided, so inferred frequency Q-DEC will be used.\n",
      "  % freq, ValueWarning)\n",
      "C:\\Users\\matth\\anaconda3\\lib\\site-packages\\statsmodels\\tsa\\base\\tsa_model.py:162: ValueWarning: No frequency information was provided, so inferred frequency Q-DEC will be used.\n",
      "  % freq, ValueWarning)\n",
      "C:\\Users\\matth\\anaconda3\\lib\\site-packages\\statsmodels\\tsa\\base\\tsa_model.py:162: ValueWarning: No frequency information was provided, so inferred frequency Q-DEC will be used.\n",
      "  % freq, ValueWarning)\n"
     ]
    },
    {
     "name": "stdout",
     "output_type": "stream",
     "text": [
      "The AIC for ARIMA(1,1,6) is: 6543.667755020113\n",
      "Attempting to fit ARIMA(1,1,7)\n",
      "Attempting to fit ARIMA(1,1,8)\n",
      "Attempting to fit ARIMA(1,1,9)\n",
      "Attempting to fit ARIMA(1,1,10)\n",
      "Attempting to fit ARIMA(1,1,11)\n",
      "Attempting to fit ARIMA(2,1,0)\n",
      "The AIC for ARIMA(2,1,0) is: 6541.79874916227"
     ]
    },
    {
     "name": "stderr",
     "output_type": "stream",
     "text": [
      "C:\\Users\\matth\\anaconda3\\lib\\site-packages\\statsmodels\\tsa\\base\\tsa_model.py:162: ValueWarning: No frequency information was provided, so inferred frequency Q-DEC will be used.\n",
      "  % freq, ValueWarning)\n",
      "C:\\Users\\matth\\anaconda3\\lib\\site-packages\\statsmodels\\tsa\\base\\tsa_model.py:162: ValueWarning: No frequency information was provided, so inferred frequency Q-DEC will be used.\n",
      "  % freq, ValueWarning)\n",
      "C:\\Users\\matth\\anaconda3\\lib\\site-packages\\statsmodels\\tsa\\base\\tsa_model.py:162: ValueWarning: No frequency information was provided, so inferred frequency Q-DEC will be used.\n",
      "  % freq, ValueWarning)\n",
      "C:\\Users\\matth\\anaconda3\\lib\\site-packages\\statsmodels\\tsa\\base\\tsa_model.py:162: ValueWarning: No frequency information was provided, so inferred frequency Q-DEC will be used.\n",
      "  % freq, ValueWarning)\n",
      "C:\\Users\\matth\\anaconda3\\lib\\site-packages\\statsmodels\\tsa\\base\\tsa_model.py:162: ValueWarning: No frequency information was provided, so inferred frequency Q-DEC will be used.\n",
      "  % freq, ValueWarning)\n",
      "C:\\Users\\matth\\anaconda3\\lib\\site-packages\\statsmodels\\tsa\\base\\tsa_model.py:162: ValueWarning: No frequency information was provided, so inferred frequency Q-DEC will be used.\n",
      "  % freq, ValueWarning)\n",
      "C:\\Users\\matth\\anaconda3\\lib\\site-packages\\statsmodels\\tsa\\base\\tsa_model.py:162: ValueWarning: No frequency information was provided, so inferred frequency Q-DEC will be used.\n",
      "  % freq, ValueWarning)\n",
      "C:\\Users\\matth\\anaconda3\\lib\\site-packages\\statsmodels\\tsa\\base\\tsa_model.py:162: ValueWarning: No frequency information was provided, so inferred frequency Q-DEC will be used.\n",
      "  % freq, ValueWarning)\n",
      "C:\\Users\\matth\\anaconda3\\lib\\site-packages\\statsmodels\\tsa\\base\\tsa_model.py:162: ValueWarning: No frequency information was provided, so inferred frequency Q-DEC will be used.\n",
      "  % freq, ValueWarning)\n",
      "C:\\Users\\matth\\anaconda3\\lib\\site-packages\\statsmodels\\tsa\\base\\tsa_model.py:162: ValueWarning: No frequency information was provided, so inferred frequency Q-DEC will be used.\n",
      "  % freq, ValueWarning)\n",
      "C:\\Users\\matth\\anaconda3\\lib\\site-packages\\statsmodels\\tsa\\base\\tsa_model.py:162: ValueWarning: No frequency information was provided, so inferred frequency Q-DEC will be used.\n",
      "  % freq, ValueWarning)\n",
      "C:\\Users\\matth\\anaconda3\\lib\\site-packages\\statsmodels\\tsa\\base\\tsa_model.py:162: ValueWarning: No frequency information was provided, so inferred frequency Q-DEC will be used.\n",
      "  % freq, ValueWarning)\n"
     ]
    },
    {
     "name": "stdout",
     "output_type": "stream",
     "text": [
      "\n",
      "Attempting to fit ARIMA(2,1,1)\n",
      "The AIC for ARIMA(2,1,1) is: 6543.327376211733\n",
      "Attempting to fit ARIMA(2,1,2)\n"
     ]
    },
    {
     "name": "stderr",
     "output_type": "stream",
     "text": [
      "C:\\Users\\matth\\anaconda3\\lib\\site-packages\\statsmodels\\tsa\\base\\tsa_model.py:162: ValueWarning: No frequency information was provided, so inferred frequency Q-DEC will be used.\n",
      "  % freq, ValueWarning)\n",
      "C:\\Users\\matth\\anaconda3\\lib\\site-packages\\statsmodels\\tsa\\base\\tsa_model.py:162: ValueWarning: No frequency information was provided, so inferred frequency Q-DEC will be used.\n",
      "  % freq, ValueWarning)\n",
      "C:\\Users\\matth\\anaconda3\\lib\\site-packages\\statsmodels\\tsa\\base\\tsa_model.py:162: ValueWarning: No frequency information was provided, so inferred frequency Q-DEC will be used.\n",
      "  % freq, ValueWarning)\n",
      "C:\\Users\\matth\\anaconda3\\lib\\site-packages\\statsmodels\\tsa\\base\\tsa_model.py:162: ValueWarning: No frequency information was provided, so inferred frequency Q-DEC will be used.\n",
      "  % freq, ValueWarning)\n"
     ]
    },
    {
     "name": "stdout",
     "output_type": "stream",
     "text": [
      "The AIC for ARIMA(2,1,2) is: 6544.639720021648\n",
      "Attempting to fit ARIMA(2,1,3)\n",
      "Attempting to fit ARIMA(2,1,4)\n",
      "Attempting to fit ARIMA(2,1,5)\n",
      "Attempting to fit ARIMA(2,1,6)\n",
      "Attempting to fit ARIMA(2,1,7)\n",
      "Attempting to fit ARIMA(2,1,8)\n",
      "Attempting to fit ARIMA(2,1,9)"
     ]
    },
    {
     "name": "stderr",
     "output_type": "stream",
     "text": [
      "C:\\Users\\matth\\anaconda3\\lib\\site-packages\\statsmodels\\tsa\\base\\tsa_model.py:162: ValueWarning: No frequency information was provided, so inferred frequency Q-DEC will be used.\n",
      "  % freq, ValueWarning)\n",
      "C:\\Users\\matth\\anaconda3\\lib\\site-packages\\statsmodels\\tsa\\base\\tsa_model.py:162: ValueWarning: No frequency information was provided, so inferred frequency Q-DEC will be used.\n",
      "  % freq, ValueWarning)\n",
      "C:\\Users\\matth\\anaconda3\\lib\\site-packages\\statsmodels\\tsa\\base\\tsa_model.py:162: ValueWarning: No frequency information was provided, so inferred frequency Q-DEC will be used.\n",
      "  % freq, ValueWarning)\n",
      "C:\\Users\\matth\\anaconda3\\lib\\site-packages\\statsmodels\\tsa\\base\\tsa_model.py:162: ValueWarning: No frequency information was provided, so inferred frequency Q-DEC will be used.\n",
      "  % freq, ValueWarning)\n",
      "C:\\Users\\matth\\anaconda3\\lib\\site-packages\\statsmodels\\tsa\\base\\tsa_model.py:162: ValueWarning: No frequency information was provided, so inferred frequency Q-DEC will be used.\n",
      "  % freq, ValueWarning)\n",
      "C:\\Users\\matth\\anaconda3\\lib\\site-packages\\statsmodels\\tsa\\base\\tsa_model.py:162: ValueWarning: No frequency information was provided, so inferred frequency Q-DEC will be used.\n",
      "  % freq, ValueWarning)\n",
      "C:\\Users\\matth\\anaconda3\\lib\\site-packages\\statsmodels\\tsa\\base\\tsa_model.py:162: ValueWarning: No frequency information was provided, so inferred frequency Q-DEC will be used.\n",
      "  % freq, ValueWarning)\n",
      "C:\\Users\\matth\\anaconda3\\lib\\site-packages\\statsmodels\\tsa\\base\\tsa_model.py:162: ValueWarning: No frequency information was provided, so inferred frequency Q-DEC will be used.\n",
      "  % freq, ValueWarning)\n",
      "C:\\Users\\matth\\anaconda3\\lib\\site-packages\\statsmodels\\tsa\\base\\tsa_model.py:162: ValueWarning: No frequency information was provided, so inferred frequency Q-DEC will be used.\n",
      "  % freq, ValueWarning)\n",
      "C:\\Users\\matth\\anaconda3\\lib\\site-packages\\statsmodels\\tsa\\base\\tsa_model.py:162: ValueWarning: No frequency information was provided, so inferred frequency Q-DEC will be used.\n",
      "  % freq, ValueWarning)\n",
      "C:\\Users\\matth\\anaconda3\\lib\\site-packages\\statsmodels\\tsa\\base\\tsa_model.py:162: ValueWarning: No frequency information was provided, so inferred frequency Q-DEC will be used.\n",
      "  % freq, ValueWarning)\n",
      "C:\\Users\\matth\\anaconda3\\lib\\site-packages\\statsmodels\\tsa\\base\\tsa_model.py:162: ValueWarning: No frequency information was provided, so inferred frequency Q-DEC will be used.\n",
      "  % freq, ValueWarning)\n",
      "C:\\Users\\matth\\anaconda3\\lib\\site-packages\\statsmodels\\tsa\\base\\tsa_model.py:162: ValueWarning: No frequency information was provided, so inferred frequency Q-DEC will be used.\n",
      "  % freq, ValueWarning)\n",
      "C:\\Users\\matth\\anaconda3\\lib\\site-packages\\statsmodels\\tsa\\base\\tsa_model.py:162: ValueWarning: No frequency information was provided, so inferred frequency Q-DEC will be used.\n",
      "  % freq, ValueWarning)\n"
     ]
    },
    {
     "name": "stdout",
     "output_type": "stream",
     "text": [
      "\n",
      "Attempting to fit ARIMA(2,1,10)\n",
      "Attempting to fit ARIMA(2,1,11)\n",
      "Attempting to fit ARIMA(3,1,0)\n",
      "The AIC for ARIMA(3,1,0) is: 6543.547432420837\n",
      "Attempting to fit ARIMA(3,1,1)\n"
     ]
    },
    {
     "name": "stderr",
     "output_type": "stream",
     "text": [
      "C:\\Users\\matth\\anaconda3\\lib\\site-packages\\statsmodels\\tsa\\base\\tsa_model.py:162: ValueWarning: No frequency information was provided, so inferred frequency Q-DEC will be used.\n",
      "  % freq, ValueWarning)\n",
      "C:\\Users\\matth\\anaconda3\\lib\\site-packages\\statsmodels\\tsa\\base\\tsa_model.py:162: ValueWarning: No frequency information was provided, so inferred frequency Q-DEC will be used.\n",
      "  % freq, ValueWarning)\n",
      "C:\\Users\\matth\\anaconda3\\lib\\site-packages\\statsmodels\\tsa\\base\\tsa_model.py:162: ValueWarning: No frequency information was provided, so inferred frequency Q-DEC will be used.\n",
      "  % freq, ValueWarning)\n",
      "C:\\Users\\matth\\anaconda3\\lib\\site-packages\\statsmodels\\tsa\\base\\tsa_model.py:162: ValueWarning: No frequency information was provided, so inferred frequency Q-DEC will be used.\n",
      "  % freq, ValueWarning)\n",
      "C:\\Users\\matth\\anaconda3\\lib\\site-packages\\statsmodels\\tsa\\base\\tsa_model.py:162: ValueWarning: No frequency information was provided, so inferred frequency Q-DEC will be used.\n",
      "  % freq, ValueWarning)\n",
      "C:\\Users\\matth\\anaconda3\\lib\\site-packages\\statsmodels\\tsa\\base\\tsa_model.py:162: ValueWarning: No frequency information was provided, so inferred frequency Q-DEC will be used.\n",
      "  % freq, ValueWarning)\n",
      "C:\\Users\\matth\\anaconda3\\lib\\site-packages\\statsmodels\\tsa\\base\\tsa_model.py:162: ValueWarning: No frequency information was provided, so inferred frequency Q-DEC will be used.\n",
      "  % freq, ValueWarning)\n",
      "C:\\Users\\matth\\anaconda3\\lib\\site-packages\\statsmodels\\tsa\\base\\tsa_model.py:162: ValueWarning: No frequency information was provided, so inferred frequency Q-DEC will be used.\n",
      "  % freq, ValueWarning)\n"
     ]
    },
    {
     "name": "stdout",
     "output_type": "stream",
     "text": [
      "The AIC for ARIMA(3,1,1) is: 6544.758458640245\n",
      "Attempting to fit ARIMA(3,1,2)\n"
     ]
    },
    {
     "name": "stderr",
     "output_type": "stream",
     "text": [
      "C:\\Users\\matth\\anaconda3\\lib\\site-packages\\statsmodels\\tsa\\base\\tsa_model.py:162: ValueWarning: No frequency information was provided, so inferred frequency Q-DEC will be used.\n",
      "  % freq, ValueWarning)\n",
      "C:\\Users\\matth\\anaconda3\\lib\\site-packages\\statsmodels\\tsa\\base\\tsa_model.py:162: ValueWarning: No frequency information was provided, so inferred frequency Q-DEC will be used.\n",
      "  % freq, ValueWarning)\n"
     ]
    },
    {
     "name": "stdout",
     "output_type": "stream",
     "text": [
      "The AIC for ARIMA(3,1,2) is: 6546.6356348624795\n",
      "Attempting to fit ARIMA(3,1,3)\n",
      "Attempting to fit ARIMA(3,1,4)\n",
      "Attempting to fit ARIMA(3,1,5)\n",
      "Attempting to fit ARIMA(3,1,6)\n",
      "Attempting to fit ARIMA(3,1,7)\n",
      "Attempting to fit ARIMA(3,1,8)\n",
      "Attempting to fit ARIMA(3,1,9)"
     ]
    },
    {
     "name": "stderr",
     "output_type": "stream",
     "text": [
      "C:\\Users\\matth\\anaconda3\\lib\\site-packages\\statsmodels\\tsa\\base\\tsa_model.py:162: ValueWarning: No frequency information was provided, so inferred frequency Q-DEC will be used.\n",
      "  % freq, ValueWarning)\n",
      "C:\\Users\\matth\\anaconda3\\lib\\site-packages\\statsmodels\\tsa\\base\\tsa_model.py:162: ValueWarning: No frequency information was provided, so inferred frequency Q-DEC will be used.\n",
      "  % freq, ValueWarning)\n",
      "C:\\Users\\matth\\anaconda3\\lib\\site-packages\\statsmodels\\tsa\\base\\tsa_model.py:162: ValueWarning: No frequency information was provided, so inferred frequency Q-DEC will be used.\n",
      "  % freq, ValueWarning)\n",
      "C:\\Users\\matth\\anaconda3\\lib\\site-packages\\statsmodels\\tsa\\base\\tsa_model.py:162: ValueWarning: No frequency information was provided, so inferred frequency Q-DEC will be used.\n",
      "  % freq, ValueWarning)\n",
      "C:\\Users\\matth\\anaconda3\\lib\\site-packages\\statsmodels\\tsa\\base\\tsa_model.py:162: ValueWarning: No frequency information was provided, so inferred frequency Q-DEC will be used.\n",
      "  % freq, ValueWarning)\n",
      "C:\\Users\\matth\\anaconda3\\lib\\site-packages\\statsmodels\\tsa\\base\\tsa_model.py:162: ValueWarning: No frequency information was provided, so inferred frequency Q-DEC will be used.\n",
      "  % freq, ValueWarning)\n",
      "C:\\Users\\matth\\anaconda3\\lib\\site-packages\\statsmodels\\tsa\\base\\tsa_model.py:162: ValueWarning: No frequency information was provided, so inferred frequency Q-DEC will be used.\n",
      "  % freq, ValueWarning)\n",
      "C:\\Users\\matth\\anaconda3\\lib\\site-packages\\statsmodels\\tsa\\base\\tsa_model.py:162: ValueWarning: No frequency information was provided, so inferred frequency Q-DEC will be used.\n",
      "  % freq, ValueWarning)\n",
      "C:\\Users\\matth\\anaconda3\\lib\\site-packages\\statsmodels\\tsa\\base\\tsa_model.py:162: ValueWarning: No frequency information was provided, so inferred frequency Q-DEC will be used.\n",
      "  % freq, ValueWarning)\n",
      "C:\\Users\\matth\\anaconda3\\lib\\site-packages\\statsmodels\\tsa\\base\\tsa_model.py:162: ValueWarning: No frequency information was provided, so inferred frequency Q-DEC will be used.\n",
      "  % freq, ValueWarning)\n",
      "C:\\Users\\matth\\anaconda3\\lib\\site-packages\\statsmodels\\tsa\\base\\tsa_model.py:162: ValueWarning: No frequency information was provided, so inferred frequency Q-DEC will be used.\n",
      "  % freq, ValueWarning)\n",
      "C:\\Users\\matth\\anaconda3\\lib\\site-packages\\statsmodels\\tsa\\base\\tsa_model.py:162: ValueWarning: No frequency information was provided, so inferred frequency Q-DEC will be used.\n",
      "  % freq, ValueWarning)\n"
     ]
    },
    {
     "name": "stdout",
     "output_type": "stream",
     "text": [
      "\n",
      "Attempting to fit ARIMA(3,1,10)\n",
      "Attempting to fit ARIMA(3,1,11)\n",
      "Attempting to fit ARIMA(4,1,0)\n",
      "The AIC for ARIMA(4,1,0) is: 6545.266760350066\n",
      "Attempting to fit ARIMA(4,1,1)\n"
     ]
    },
    {
     "name": "stderr",
     "output_type": "stream",
     "text": [
      "C:\\Users\\matth\\anaconda3\\lib\\site-packages\\statsmodels\\tsa\\base\\tsa_model.py:162: ValueWarning: No frequency information was provided, so inferred frequency Q-DEC will be used.\n",
      "  % freq, ValueWarning)\n",
      "C:\\Users\\matth\\anaconda3\\lib\\site-packages\\statsmodels\\tsa\\base\\tsa_model.py:162: ValueWarning: No frequency information was provided, so inferred frequency Q-DEC will be used.\n",
      "  % freq, ValueWarning)\n",
      "C:\\Users\\matth\\anaconda3\\lib\\site-packages\\statsmodels\\tsa\\base\\tsa_model.py:162: ValueWarning: No frequency information was provided, so inferred frequency Q-DEC will be used.\n",
      "  % freq, ValueWarning)\n",
      "C:\\Users\\matth\\anaconda3\\lib\\site-packages\\statsmodels\\tsa\\base\\tsa_model.py:162: ValueWarning: No frequency information was provided, so inferred frequency Q-DEC will be used.\n",
      "  % freq, ValueWarning)\n",
      "C:\\Users\\matth\\anaconda3\\lib\\site-packages\\statsmodels\\tsa\\base\\tsa_model.py:162: ValueWarning: No frequency information was provided, so inferred frequency Q-DEC will be used.\n",
      "  % freq, ValueWarning)\n",
      "C:\\Users\\matth\\anaconda3\\lib\\site-packages\\statsmodels\\tsa\\base\\tsa_model.py:162: ValueWarning: No frequency information was provided, so inferred frequency Q-DEC will be used.\n",
      "  % freq, ValueWarning)\n",
      "C:\\Users\\matth\\anaconda3\\lib\\site-packages\\statsmodels\\tsa\\base\\tsa_model.py:162: ValueWarning: No frequency information was provided, so inferred frequency Q-DEC will be used.\n",
      "  % freq, ValueWarning)\n",
      "C:\\Users\\matth\\anaconda3\\lib\\site-packages\\statsmodels\\tsa\\base\\tsa_model.py:162: ValueWarning: No frequency information was provided, so inferred frequency Q-DEC will be used.\n",
      "  % freq, ValueWarning)\n",
      "C:\\Users\\matth\\anaconda3\\lib\\site-packages\\statsmodels\\tsa\\base\\tsa_model.py:162: ValueWarning: No frequency information was provided, so inferred frequency Q-DEC will be used.\n",
      "  % freq, ValueWarning)\n",
      "C:\\Users\\matth\\anaconda3\\lib\\site-packages\\statsmodels\\tsa\\base\\tsa_model.py:162: ValueWarning: No frequency information was provided, so inferred frequency Q-DEC will be used.\n",
      "  % freq, ValueWarning)\n"
     ]
    },
    {
     "name": "stdout",
     "output_type": "stream",
     "text": [
      "The AIC for ARIMA(4,1,1) is: 6546.501251336812\n",
      "Attempting to fit ARIMA(4,1,2)\n"
     ]
    },
    {
     "name": "stderr",
     "output_type": "stream",
     "text": [
      "C:\\Users\\matth\\anaconda3\\lib\\site-packages\\statsmodels\\tsa\\base\\tsa_model.py:162: ValueWarning: No frequency information was provided, so inferred frequency Q-DEC will be used.\n",
      "  % freq, ValueWarning)\n",
      "C:\\Users\\matth\\anaconda3\\lib\\site-packages\\statsmodels\\tsa\\base\\tsa_model.py:162: ValueWarning: No frequency information was provided, so inferred frequency Q-DEC will be used.\n",
      "  % freq, ValueWarning)\n"
     ]
    },
    {
     "name": "stdout",
     "output_type": "stream",
     "text": [
      "The AIC for ARIMA(4,1,2) is: 6530.566551160897\n",
      "Attempting to fit ARIMA(4,1,3)\n"
     ]
    },
    {
     "name": "stderr",
     "output_type": "stream",
     "text": [
      "C:\\Users\\matth\\anaconda3\\lib\\site-packages\\statsmodels\\tsa\\base\\tsa_model.py:162: ValueWarning: No frequency information was provided, so inferred frequency Q-DEC will be used.\n",
      "  % freq, ValueWarning)\n",
      "C:\\Users\\matth\\anaconda3\\lib\\site-packages\\statsmodels\\tsa\\base\\tsa_model.py:162: ValueWarning: No frequency information was provided, so inferred frequency Q-DEC will be used.\n",
      "  % freq, ValueWarning)\n"
     ]
    },
    {
     "name": "stdout",
     "output_type": "stream",
     "text": [
      "The AIC for ARIMA(4,1,3) is: 6544.784615520094\n",
      "Attempting to fit ARIMA(4,1,4)\n",
      "Attempting to fit ARIMA(4,1,5)\n",
      "Attempting to fit ARIMA(4,1,6)\n",
      "Attempting to fit ARIMA(4,1,7)\n",
      "Attempting to fit ARIMA(4,1,8)\n",
      "Attempting to fit ARIMA(4,1,9)\n",
      "Attempting to fit ARIMA(4,1,10)\n",
      "Attempting to fit ARIMA(4,1,11)"
     ]
    },
    {
     "name": "stderr",
     "output_type": "stream",
     "text": [
      "C:\\Users\\matth\\anaconda3\\lib\\site-packages\\statsmodels\\tsa\\base\\tsa_model.py:162: ValueWarning: No frequency information was provided, so inferred frequency Q-DEC will be used.\n",
      "  % freq, ValueWarning)\n",
      "C:\\Users\\matth\\anaconda3\\lib\\site-packages\\statsmodels\\tsa\\base\\tsa_model.py:162: ValueWarning: No frequency information was provided, so inferred frequency Q-DEC will be used.\n",
      "  % freq, ValueWarning)\n",
      "C:\\Users\\matth\\anaconda3\\lib\\site-packages\\statsmodels\\tsa\\base\\tsa_model.py:162: ValueWarning: No frequency information was provided, so inferred frequency Q-DEC will be used.\n",
      "  % freq, ValueWarning)\n",
      "C:\\Users\\matth\\anaconda3\\lib\\site-packages\\statsmodels\\tsa\\base\\tsa_model.py:162: ValueWarning: No frequency information was provided, so inferred frequency Q-DEC will be used.\n",
      "  % freq, ValueWarning)\n",
      "C:\\Users\\matth\\anaconda3\\lib\\site-packages\\statsmodels\\tsa\\base\\tsa_model.py:162: ValueWarning: No frequency information was provided, so inferred frequency Q-DEC will be used.\n",
      "  % freq, ValueWarning)\n",
      "C:\\Users\\matth\\anaconda3\\lib\\site-packages\\statsmodels\\tsa\\base\\tsa_model.py:162: ValueWarning: No frequency information was provided, so inferred frequency Q-DEC will be used.\n",
      "  % freq, ValueWarning)\n",
      "C:\\Users\\matth\\anaconda3\\lib\\site-packages\\statsmodels\\tsa\\base\\tsa_model.py:162: ValueWarning: No frequency information was provided, so inferred frequency Q-DEC will be used.\n",
      "  % freq, ValueWarning)\n",
      "C:\\Users\\matth\\anaconda3\\lib\\site-packages\\statsmodels\\tsa\\base\\tsa_model.py:162: ValueWarning: No frequency information was provided, so inferred frequency Q-DEC will be used.\n",
      "  % freq, ValueWarning)\n",
      "C:\\Users\\matth\\anaconda3\\lib\\site-packages\\statsmodels\\tsa\\base\\tsa_model.py:162: ValueWarning: No frequency information was provided, so inferred frequency Q-DEC will be used.\n",
      "  % freq, ValueWarning)\n",
      "C:\\Users\\matth\\anaconda3\\lib\\site-packages\\statsmodels\\tsa\\base\\tsa_model.py:162: ValueWarning: No frequency information was provided, so inferred frequency Q-DEC will be used.\n",
      "  % freq, ValueWarning)\n",
      "C:\\Users\\matth\\anaconda3\\lib\\site-packages\\statsmodels\\tsa\\base\\tsa_model.py:162: ValueWarning: No frequency information was provided, so inferred frequency Q-DEC will be used.\n",
      "  % freq, ValueWarning)\n",
      "C:\\Users\\matth\\anaconda3\\lib\\site-packages\\statsmodels\\tsa\\base\\tsa_model.py:162: ValueWarning: No frequency information was provided, so inferred frequency Q-DEC will be used.\n",
      "  % freq, ValueWarning)\n",
      "C:\\Users\\matth\\anaconda3\\lib\\site-packages\\statsmodels\\tsa\\base\\tsa_model.py:162: ValueWarning: No frequency information was provided, so inferred frequency Q-DEC will be used.\n",
      "  % freq, ValueWarning)\n",
      "C:\\Users\\matth\\anaconda3\\lib\\site-packages\\statsmodels\\tsa\\base\\tsa_model.py:162: ValueWarning: No frequency information was provided, so inferred frequency Q-DEC will be used.\n",
      "  % freq, ValueWarning)\n"
     ]
    },
    {
     "name": "stdout",
     "output_type": "stream",
     "text": [
      "\n",
      "Attempting to fit ARIMA(5,1,0)\n",
      "The AIC for ARIMA(5,1,0) is: 6546.56842193451\n",
      "Attempting to fit ARIMA(5,1,1)\n"
     ]
    },
    {
     "name": "stderr",
     "output_type": "stream",
     "text": [
      "C:\\Users\\matth\\anaconda3\\lib\\site-packages\\statsmodels\\tsa\\base\\tsa_model.py:162: ValueWarning: No frequency information was provided, so inferred frequency Q-DEC will be used.\n",
      "  % freq, ValueWarning)\n",
      "C:\\Users\\matth\\anaconda3\\lib\\site-packages\\statsmodels\\tsa\\base\\tsa_model.py:162: ValueWarning: No frequency information was provided, so inferred frequency Q-DEC will be used.\n",
      "  % freq, ValueWarning)\n",
      "C:\\Users\\matth\\anaconda3\\lib\\site-packages\\statsmodels\\tsa\\base\\tsa_model.py:162: ValueWarning: No frequency information was provided, so inferred frequency Q-DEC will be used.\n",
      "  % freq, ValueWarning)\n",
      "C:\\Users\\matth\\anaconda3\\lib\\site-packages\\statsmodels\\tsa\\base\\tsa_model.py:162: ValueWarning: No frequency information was provided, so inferred frequency Q-DEC will be used.\n",
      "  % freq, ValueWarning)\n",
      "C:\\Users\\matth\\anaconda3\\lib\\site-packages\\statsmodels\\tsa\\base\\tsa_model.py:162: ValueWarning: No frequency information was provided, so inferred frequency Q-DEC will be used.\n",
      "  % freq, ValueWarning)\n",
      "C:\\Users\\matth\\anaconda3\\lib\\site-packages\\statsmodels\\tsa\\base\\tsa_model.py:162: ValueWarning: No frequency information was provided, so inferred frequency Q-DEC will be used.\n",
      "  % freq, ValueWarning)\n"
     ]
    },
    {
     "name": "stdout",
     "output_type": "stream",
     "text": [
      "The AIC for ARIMA(5,1,1) is: 6547.899093582588\n",
      "Attempting to fit ARIMA(5,1,2)\n"
     ]
    },
    {
     "name": "stderr",
     "output_type": "stream",
     "text": [
      "C:\\Users\\matth\\anaconda3\\lib\\site-packages\\statsmodels\\tsa\\base\\tsa_model.py:162: ValueWarning: No frequency information was provided, so inferred frequency Q-DEC will be used.\n",
      "  % freq, ValueWarning)\n",
      "C:\\Users\\matth\\anaconda3\\lib\\site-packages\\statsmodels\\tsa\\base\\tsa_model.py:162: ValueWarning: No frequency information was provided, so inferred frequency Q-DEC will be used.\n",
      "  % freq, ValueWarning)\n"
     ]
    },
    {
     "name": "stdout",
     "output_type": "stream",
     "text": [
      "Attempting to fit ARIMA(5,1,3)\n"
     ]
    },
    {
     "name": "stderr",
     "output_type": "stream",
     "text": [
      "C:\\Users\\matth\\anaconda3\\lib\\site-packages\\statsmodels\\tsa\\base\\tsa_model.py:162: ValueWarning: No frequency information was provided, so inferred frequency Q-DEC will be used.\n",
      "  % freq, ValueWarning)\n",
      "C:\\Users\\matth\\anaconda3\\lib\\site-packages\\statsmodels\\tsa\\base\\tsa_model.py:162: ValueWarning: No frequency information was provided, so inferred frequency Q-DEC will be used.\n",
      "  % freq, ValueWarning)\n"
     ]
    },
    {
     "name": "stdout",
     "output_type": "stream",
     "text": [
      "The AIC for ARIMA(5,1,3) is: 6533.319611344231\n",
      "Attempting to fit ARIMA(5,1,4)\n"
     ]
    },
    {
     "name": "stderr",
     "output_type": "stream",
     "text": [
      "C:\\Users\\matth\\anaconda3\\lib\\site-packages\\statsmodels\\tsa\\base\\tsa_model.py:162: ValueWarning: No frequency information was provided, so inferred frequency Q-DEC will be used.\n",
      "  % freq, ValueWarning)\n",
      "C:\\Users\\matth\\anaconda3\\lib\\site-packages\\statsmodels\\tsa\\base\\tsa_model.py:162: ValueWarning: No frequency information was provided, so inferred frequency Q-DEC will be used.\n",
      "  % freq, ValueWarning)\n"
     ]
    },
    {
     "name": "stdout",
     "output_type": "stream",
     "text": [
      "The AIC for ARIMA(5,1,4) is: 6539.526574695582\n",
      "Attempting to fit ARIMA(5,1,5)\n"
     ]
    },
    {
     "name": "stderr",
     "output_type": "stream",
     "text": [
      "C:\\Users\\matth\\anaconda3\\lib\\site-packages\\statsmodels\\tsa\\base\\tsa_model.py:162: ValueWarning: No frequency information was provided, so inferred frequency Q-DEC will be used.\n",
      "  % freq, ValueWarning)\n",
      "C:\\Users\\matth\\anaconda3\\lib\\site-packages\\statsmodels\\tsa\\base\\tsa_model.py:162: ValueWarning: No frequency information was provided, so inferred frequency Q-DEC will be used.\n",
      "  % freq, ValueWarning)\n"
     ]
    },
    {
     "name": "stdout",
     "output_type": "stream",
     "text": [
      "The AIC for ARIMA(5,1,5) is: 6541.337318271754\n",
      "Attempting to fit ARIMA(5,1,6)\n",
      "Attempting to fit ARIMA(5,1,7)\n",
      "Attempting to fit ARIMA(5,1,8)\n",
      "Attempting to fit ARIMA(5,1,9)\n",
      "Attempting to fit ARIMA(5,1,10)\n",
      "Attempting to fit ARIMA(5,1,11)\n",
      "Attempting to fit ARIMA(6,1,0)"
     ]
    },
    {
     "name": "stderr",
     "output_type": "stream",
     "text": [
      "C:\\Users\\matth\\anaconda3\\lib\\site-packages\\statsmodels\\tsa\\base\\tsa_model.py:162: ValueWarning: No frequency information was provided, so inferred frequency Q-DEC will be used.\n",
      "  % freq, ValueWarning)\n",
      "C:\\Users\\matth\\anaconda3\\lib\\site-packages\\statsmodels\\tsa\\base\\tsa_model.py:162: ValueWarning: No frequency information was provided, so inferred frequency Q-DEC will be used.\n",
      "  % freq, ValueWarning)\n",
      "C:\\Users\\matth\\anaconda3\\lib\\site-packages\\statsmodels\\tsa\\base\\tsa_model.py:162: ValueWarning: No frequency information was provided, so inferred frequency Q-DEC will be used.\n",
      "  % freq, ValueWarning)\n",
      "C:\\Users\\matth\\anaconda3\\lib\\site-packages\\statsmodels\\tsa\\base\\tsa_model.py:162: ValueWarning: No frequency information was provided, so inferred frequency Q-DEC will be used.\n",
      "  % freq, ValueWarning)\n",
      "C:\\Users\\matth\\anaconda3\\lib\\site-packages\\statsmodels\\tsa\\base\\tsa_model.py:162: ValueWarning: No frequency information was provided, so inferred frequency Q-DEC will be used.\n",
      "  % freq, ValueWarning)\n",
      "C:\\Users\\matth\\anaconda3\\lib\\site-packages\\statsmodels\\tsa\\base\\tsa_model.py:162: ValueWarning: No frequency information was provided, so inferred frequency Q-DEC will be used.\n",
      "  % freq, ValueWarning)\n",
      "C:\\Users\\matth\\anaconda3\\lib\\site-packages\\statsmodels\\tsa\\base\\tsa_model.py:162: ValueWarning: No frequency information was provided, so inferred frequency Q-DEC will be used.\n",
      "  % freq, ValueWarning)\n",
      "C:\\Users\\matth\\anaconda3\\lib\\site-packages\\statsmodels\\tsa\\base\\tsa_model.py:162: ValueWarning: No frequency information was provided, so inferred frequency Q-DEC will be used.\n",
      "  % freq, ValueWarning)\n",
      "C:\\Users\\matth\\anaconda3\\lib\\site-packages\\statsmodels\\tsa\\base\\tsa_model.py:162: ValueWarning: No frequency information was provided, so inferred frequency Q-DEC will be used.\n",
      "  % freq, ValueWarning)\n",
      "C:\\Users\\matth\\anaconda3\\lib\\site-packages\\statsmodels\\tsa\\base\\tsa_model.py:162: ValueWarning: No frequency information was provided, so inferred frequency Q-DEC will be used.\n",
      "  % freq, ValueWarning)\n",
      "C:\\Users\\matth\\anaconda3\\lib\\site-packages\\statsmodels\\tsa\\base\\tsa_model.py:162: ValueWarning: No frequency information was provided, so inferred frequency Q-DEC will be used.\n",
      "  % freq, ValueWarning)\n",
      "C:\\Users\\matth\\anaconda3\\lib\\site-packages\\statsmodels\\tsa\\base\\tsa_model.py:162: ValueWarning: No frequency information was provided, so inferred frequency Q-DEC will be used.\n",
      "  % freq, ValueWarning)\n"
     ]
    },
    {
     "name": "stdout",
     "output_type": "stream",
     "text": [
      "\n",
      "The AIC for ARIMA(6,1,0) is: 6546.9649012686405"
     ]
    },
    {
     "name": "stderr",
     "output_type": "stream",
     "text": [
      "C:\\Users\\matth\\anaconda3\\lib\\site-packages\\statsmodels\\tsa\\base\\tsa_model.py:162: ValueWarning: No frequency information was provided, so inferred frequency Q-DEC will be used.\n",
      "  % freq, ValueWarning)\n",
      "C:\\Users\\matth\\anaconda3\\lib\\site-packages\\statsmodels\\tsa\\base\\tsa_model.py:162: ValueWarning: No frequency information was provided, so inferred frequency Q-DEC will be used.\n",
      "  % freq, ValueWarning)\n"
     ]
    },
    {
     "name": "stdout",
     "output_type": "stream",
     "text": [
      "\n",
      "Attempting to fit ARIMA(6,1,1)\n"
     ]
    },
    {
     "name": "stderr",
     "output_type": "stream",
     "text": [
      "C:\\Users\\matth\\anaconda3\\lib\\site-packages\\statsmodels\\tsa\\base\\tsa_model.py:162: ValueWarning: No frequency information was provided, so inferred frequency Q-DEC will be used.\n",
      "  % freq, ValueWarning)\n",
      "C:\\Users\\matth\\anaconda3\\lib\\site-packages\\statsmodels\\tsa\\base\\tsa_model.py:162: ValueWarning: No frequency information was provided, so inferred frequency Q-DEC will be used.\n",
      "  % freq, ValueWarning)\n"
     ]
    },
    {
     "name": "stdout",
     "output_type": "stream",
     "text": [
      "The AIC for ARIMA(6,1,1) is: 6548.926745883817\n",
      "Attempting to fit ARIMA(6,1,2)\n"
     ]
    },
    {
     "name": "stderr",
     "output_type": "stream",
     "text": [
      "C:\\Users\\matth\\anaconda3\\lib\\site-packages\\statsmodels\\tsa\\base\\tsa_model.py:162: ValueWarning: No frequency information was provided, so inferred frequency Q-DEC will be used.\n",
      "  % freq, ValueWarning)\n",
      "C:\\Users\\matth\\anaconda3\\lib\\site-packages\\statsmodels\\tsa\\base\\tsa_model.py:162: ValueWarning: No frequency information was provided, so inferred frequency Q-DEC will be used.\n",
      "  % freq, ValueWarning)\n"
     ]
    },
    {
     "name": "stdout",
     "output_type": "stream",
     "text": [
      "The AIC for ARIMA(6,1,2) is: 6538.77585632306\n",
      "Attempting to fit ARIMA(6,1,3)\n"
     ]
    },
    {
     "name": "stderr",
     "output_type": "stream",
     "text": [
      "C:\\Users\\matth\\anaconda3\\lib\\site-packages\\statsmodels\\tsa\\base\\tsa_model.py:162: ValueWarning: No frequency information was provided, so inferred frequency Q-DEC will be used.\n",
      "  % freq, ValueWarning)\n",
      "C:\\Users\\matth\\anaconda3\\lib\\site-packages\\statsmodels\\tsa\\base\\tsa_model.py:162: ValueWarning: No frequency information was provided, so inferred frequency Q-DEC will be used.\n",
      "  % freq, ValueWarning)\n"
     ]
    },
    {
     "name": "stdout",
     "output_type": "stream",
     "text": [
      "The AIC for ARIMA(6,1,3) is: 6545.652921479749\n",
      "Attempting to fit ARIMA(6,1,4)\n"
     ]
    },
    {
     "name": "stderr",
     "output_type": "stream",
     "text": [
      "C:\\Users\\matth\\anaconda3\\lib\\site-packages\\statsmodels\\tsa\\base\\tsa_model.py:162: ValueWarning: No frequency information was provided, so inferred frequency Q-DEC will be used.\n",
      "  % freq, ValueWarning)\n",
      "C:\\Users\\matth\\anaconda3\\lib\\site-packages\\statsmodels\\tsa\\base\\tsa_model.py:162: ValueWarning: No frequency information was provided, so inferred frequency Q-DEC will be used.\n",
      "  % freq, ValueWarning)\n"
     ]
    },
    {
     "name": "stdout",
     "output_type": "stream",
     "text": [
      "The AIC for ARIMA(6,1,4) is: 6534.613905776098\n",
      "Attempting to fit ARIMA(6,1,5)\n"
     ]
    },
    {
     "name": "stderr",
     "output_type": "stream",
     "text": [
      "C:\\Users\\matth\\anaconda3\\lib\\site-packages\\statsmodels\\tsa\\base\\tsa_model.py:162: ValueWarning: No frequency information was provided, so inferred frequency Q-DEC will be used.\n",
      "  % freq, ValueWarning)\n",
      "C:\\Users\\matth\\anaconda3\\lib\\site-packages\\statsmodels\\tsa\\base\\tsa_model.py:162: ValueWarning: No frequency information was provided, so inferred frequency Q-DEC will be used.\n",
      "  % freq, ValueWarning)\n"
     ]
    },
    {
     "name": "stdout",
     "output_type": "stream",
     "text": [
      "The AIC for ARIMA(6,1,5) is: 6547.338432638618\n",
      "Attempting to fit ARIMA(6,1,6)\n"
     ]
    },
    {
     "name": "stderr",
     "output_type": "stream",
     "text": [
      "C:\\Users\\matth\\anaconda3\\lib\\site-packages\\statsmodels\\tsa\\base\\tsa_model.py:162: ValueWarning: No frequency information was provided, so inferred frequency Q-DEC will be used.\n",
      "  % freq, ValueWarning)\n",
      "C:\\Users\\matth\\anaconda3\\lib\\site-packages\\statsmodels\\tsa\\base\\tsa_model.py:162: ValueWarning: No frequency information was provided, so inferred frequency Q-DEC will be used.\n",
      "  % freq, ValueWarning)\n"
     ]
    },
    {
     "name": "stdout",
     "output_type": "stream",
     "text": [
      "The AIC for ARIMA(6,1,6) is: 6528.468442797778\n",
      "Attempting to fit ARIMA(6,1,7)\n",
      "Attempting to fit ARIMA(6,1,8)\n",
      "Attempting to fit ARIMA(6,1,9)\n",
      "Attempting to fit ARIMA(6,1,10)\n",
      "Attempting to fit ARIMA(6,1,11)\n",
      "Attempting to fit ARIMA(7,1,0)\n"
     ]
    },
    {
     "name": "stderr",
     "output_type": "stream",
     "text": [
      "C:\\Users\\matth\\anaconda3\\lib\\site-packages\\statsmodels\\tsa\\base\\tsa_model.py:162: ValueWarning: No frequency information was provided, so inferred frequency Q-DEC will be used.\n",
      "  % freq, ValueWarning)\n",
      "C:\\Users\\matth\\anaconda3\\lib\\site-packages\\statsmodels\\tsa\\base\\tsa_model.py:162: ValueWarning: No frequency information was provided, so inferred frequency Q-DEC will be used.\n",
      "  % freq, ValueWarning)\n",
      "C:\\Users\\matth\\anaconda3\\lib\\site-packages\\statsmodels\\tsa\\base\\tsa_model.py:162: ValueWarning: No frequency information was provided, so inferred frequency Q-DEC will be used.\n",
      "  % freq, ValueWarning)\n",
      "C:\\Users\\matth\\anaconda3\\lib\\site-packages\\statsmodels\\tsa\\base\\tsa_model.py:162: ValueWarning: No frequency information was provided, so inferred frequency Q-DEC will be used.\n",
      "  % freq, ValueWarning)\n",
      "C:\\Users\\matth\\anaconda3\\lib\\site-packages\\statsmodels\\tsa\\base\\tsa_model.py:162: ValueWarning: No frequency information was provided, so inferred frequency Q-DEC will be used.\n",
      "  % freq, ValueWarning)\n",
      "C:\\Users\\matth\\anaconda3\\lib\\site-packages\\statsmodels\\tsa\\base\\tsa_model.py:162: ValueWarning: No frequency information was provided, so inferred frequency Q-DEC will be used.\n",
      "  % freq, ValueWarning)\n",
      "C:\\Users\\matth\\anaconda3\\lib\\site-packages\\statsmodels\\tsa\\base\\tsa_model.py:162: ValueWarning: No frequency information was provided, so inferred frequency Q-DEC will be used.\n",
      "  % freq, ValueWarning)\n",
      "C:\\Users\\matth\\anaconda3\\lib\\site-packages\\statsmodels\\tsa\\base\\tsa_model.py:162: ValueWarning: No frequency information was provided, so inferred frequency Q-DEC will be used.\n",
      "  % freq, ValueWarning)\n",
      "C:\\Users\\matth\\anaconda3\\lib\\site-packages\\statsmodels\\tsa\\base\\tsa_model.py:162: ValueWarning: No frequency information was provided, so inferred frequency Q-DEC will be used.\n",
      "  % freq, ValueWarning)\n",
      "C:\\Users\\matth\\anaconda3\\lib\\site-packages\\statsmodels\\tsa\\base\\tsa_model.py:162: ValueWarning: No frequency information was provided, so inferred frequency Q-DEC will be used.\n",
      "  % freq, ValueWarning)\n",
      "C:\\Users\\matth\\anaconda3\\lib\\site-packages\\statsmodels\\tsa\\base\\tsa_model.py:162: ValueWarning: No frequency information was provided, so inferred frequency Q-DEC will be used.\n",
      "  % freq, ValueWarning)\n",
      "C:\\Users\\matth\\anaconda3\\lib\\site-packages\\statsmodels\\tsa\\base\\tsa_model.py:162: ValueWarning: No frequency information was provided, so inferred frequency Q-DEC will be used.\n",
      "  % freq, ValueWarning)\n"
     ]
    },
    {
     "name": "stdout",
     "output_type": "stream",
     "text": [
      "The AIC for ARIMA(7,1,0) is: 6548.8738815342085\n",
      "Attempting to fit ARIMA(7,1,1)\n"
     ]
    },
    {
     "name": "stderr",
     "output_type": "stream",
     "text": [
      "C:\\Users\\matth\\anaconda3\\lib\\site-packages\\statsmodels\\tsa\\base\\tsa_model.py:162: ValueWarning: No frequency information was provided, so inferred frequency Q-DEC will be used.\n",
      "  % freq, ValueWarning)\n",
      "C:\\Users\\matth\\anaconda3\\lib\\site-packages\\statsmodels\\tsa\\base\\tsa_model.py:162: ValueWarning: No frequency information was provided, so inferred frequency Q-DEC will be used.\n",
      "  % freq, ValueWarning)\n"
     ]
    },
    {
     "name": "stdout",
     "output_type": "stream",
     "text": [
      "The AIC for ARIMA(7,1,1) is: 6549.4972279506055\n",
      "Attempting to fit ARIMA(7,1,2)\n"
     ]
    },
    {
     "name": "stderr",
     "output_type": "stream",
     "text": [
      "C:\\Users\\matth\\anaconda3\\lib\\site-packages\\statsmodels\\tsa\\base\\tsa_model.py:162: ValueWarning: No frequency information was provided, so inferred frequency Q-DEC will be used.\n",
      "  % freq, ValueWarning)\n",
      "C:\\Users\\matth\\anaconda3\\lib\\site-packages\\statsmodels\\tsa\\base\\tsa_model.py:162: ValueWarning: No frequency information was provided, so inferred frequency Q-DEC will be used.\n",
      "  % freq, ValueWarning)\n"
     ]
    },
    {
     "name": "stdout",
     "output_type": "stream",
     "text": [
      "The AIC for ARIMA(7,1,2) is: 6536.700850791696\n",
      "Attempting to fit ARIMA(7,1,3)\n"
     ]
    },
    {
     "name": "stderr",
     "output_type": "stream",
     "text": [
      "C:\\Users\\matth\\anaconda3\\lib\\site-packages\\statsmodels\\tsa\\base\\tsa_model.py:162: ValueWarning: No frequency information was provided, so inferred frequency Q-DEC will be used.\n",
      "  % freq, ValueWarning)\n",
      "C:\\Users\\matth\\anaconda3\\lib\\site-packages\\statsmodels\\tsa\\base\\tsa_model.py:162: ValueWarning: No frequency information was provided, so inferred frequency Q-DEC will be used.\n",
      "  % freq, ValueWarning)\n",
      "C:\\Users\\matth\\anaconda3\\lib\\site-packages\\statsmodels\\base\\model.py:548: HessianInversionWarning: Inverting hessian failed, no bse or cov_params available\n",
      "  'available', HessianInversionWarning)\n",
      "C:\\Users\\matth\\anaconda3\\lib\\site-packages\\statsmodels\\tsa\\base\\tsa_model.py:162: ValueWarning: No frequency information was provided, so inferred frequency Q-DEC will be used.\n",
      "  % freq, ValueWarning)\n",
      "C:\\Users\\matth\\anaconda3\\lib\\site-packages\\statsmodels\\tsa\\base\\tsa_model.py:162: ValueWarning: No frequency information was provided, so inferred frequency Q-DEC will be used.\n",
      "  % freq, ValueWarning)\n"
     ]
    },
    {
     "name": "stdout",
     "output_type": "stream",
     "text": [
      "The AIC for ARIMA(7,1,3) is: 6541.658510596811\n",
      "Attempting to fit ARIMA(7,1,4)\n"
     ]
    },
    {
     "name": "stderr",
     "output_type": "stream",
     "text": [
      "C:\\Users\\matth\\anaconda3\\lib\\site-packages\\statsmodels\\base\\model.py:548: HessianInversionWarning: Inverting hessian failed, no bse or cov_params available\n",
      "  'available', HessianInversionWarning)\n",
      "C:\\Users\\matth\\anaconda3\\lib\\site-packages\\statsmodels\\tsa\\base\\tsa_model.py:162: ValueWarning: No frequency information was provided, so inferred frequency Q-DEC will be used.\n",
      "  % freq, ValueWarning)\n",
      "C:\\Users\\matth\\anaconda3\\lib\\site-packages\\statsmodels\\tsa\\base\\tsa_model.py:162: ValueWarning: No frequency information was provided, so inferred frequency Q-DEC will be used.\n",
      "  % freq, ValueWarning)\n"
     ]
    },
    {
     "name": "stdout",
     "output_type": "stream",
     "text": [
      "The AIC for ARIMA(7,1,4) is: 6542.651377762258\n",
      "Attempting to fit ARIMA(7,1,5)\n",
      "The AIC for ARIMA(7,1,5) is: 6526.727272925526\n",
      "Attempting to fit ARIMA(7,1,6)\n"
     ]
    },
    {
     "name": "stderr",
     "output_type": "stream",
     "text": [
      "C:\\Users\\matth\\anaconda3\\lib\\site-packages\\statsmodels\\tsa\\base\\tsa_model.py:162: ValueWarning: No frequency information was provided, so inferred frequency Q-DEC will be used.\n",
      "  % freq, ValueWarning)\n",
      "C:\\Users\\matth\\anaconda3\\lib\\site-packages\\statsmodels\\tsa\\base\\tsa_model.py:162: ValueWarning: No frequency information was provided, so inferred frequency Q-DEC will be used.\n",
      "  % freq, ValueWarning)\n"
     ]
    },
    {
     "name": "stdout",
     "output_type": "stream",
     "text": [
      "The AIC for ARIMA(7,1,6) is: 6529.89852203293\n",
      "Attempting to fit ARIMA(7,1,7)\n",
      "Attempting to fit ARIMA(7,1,8)\n",
      "Attempting to fit ARIMA(7,1,9)\n",
      "Attempting to fit ARIMA(7,1,10)\n",
      "Attempting to fit ARIMA(7,1,11)\n",
      "Attempting to fit ARIMA(8,1,0)\n"
     ]
    },
    {
     "name": "stderr",
     "output_type": "stream",
     "text": [
      "C:\\Users\\matth\\anaconda3\\lib\\site-packages\\statsmodels\\base\\model.py:548: HessianInversionWarning: Inverting hessian failed, no bse or cov_params available\n",
      "  'available', HessianInversionWarning)\n",
      "C:\\Users\\matth\\anaconda3\\lib\\site-packages\\statsmodels\\tsa\\base\\tsa_model.py:162: ValueWarning: No frequency information was provided, so inferred frequency Q-DEC will be used.\n",
      "  % freq, ValueWarning)\n",
      "C:\\Users\\matth\\anaconda3\\lib\\site-packages\\statsmodels\\tsa\\base\\tsa_model.py:162: ValueWarning: No frequency information was provided, so inferred frequency Q-DEC will be used.\n",
      "  % freq, ValueWarning)\n",
      "C:\\Users\\matth\\anaconda3\\lib\\site-packages\\statsmodels\\tsa\\base\\tsa_model.py:162: ValueWarning: No frequency information was provided, so inferred frequency Q-DEC will be used.\n",
      "  % freq, ValueWarning)\n",
      "C:\\Users\\matth\\anaconda3\\lib\\site-packages\\statsmodels\\tsa\\base\\tsa_model.py:162: ValueWarning: No frequency information was provided, so inferred frequency Q-DEC will be used.\n",
      "  % freq, ValueWarning)\n",
      "C:\\Users\\matth\\anaconda3\\lib\\site-packages\\statsmodels\\tsa\\base\\tsa_model.py:162: ValueWarning: No frequency information was provided, so inferred frequency Q-DEC will be used.\n",
      "  % freq, ValueWarning)\n",
      "C:\\Users\\matth\\anaconda3\\lib\\site-packages\\statsmodels\\tsa\\base\\tsa_model.py:162: ValueWarning: No frequency information was provided, so inferred frequency Q-DEC will be used.\n",
      "  % freq, ValueWarning)\n",
      "C:\\Users\\matth\\anaconda3\\lib\\site-packages\\statsmodels\\tsa\\base\\tsa_model.py:162: ValueWarning: No frequency information was provided, so inferred frequency Q-DEC will be used.\n",
      "  % freq, ValueWarning)\n",
      "C:\\Users\\matth\\anaconda3\\lib\\site-packages\\statsmodels\\tsa\\base\\tsa_model.py:162: ValueWarning: No frequency information was provided, so inferred frequency Q-DEC will be used.\n",
      "  % freq, ValueWarning)\n",
      "C:\\Users\\matth\\anaconda3\\lib\\site-packages\\statsmodels\\tsa\\base\\tsa_model.py:162: ValueWarning: No frequency information was provided, so inferred frequency Q-DEC will be used.\n",
      "  % freq, ValueWarning)\n",
      "C:\\Users\\matth\\anaconda3\\lib\\site-packages\\statsmodels\\tsa\\base\\tsa_model.py:162: ValueWarning: No frequency information was provided, so inferred frequency Q-DEC will be used.\n",
      "  % freq, ValueWarning)\n",
      "C:\\Users\\matth\\anaconda3\\lib\\site-packages\\statsmodels\\tsa\\base\\tsa_model.py:162: ValueWarning: No frequency information was provided, so inferred frequency Q-DEC will be used.\n",
      "  % freq, ValueWarning)\n",
      "C:\\Users\\matth\\anaconda3\\lib\\site-packages\\statsmodels\\tsa\\base\\tsa_model.py:162: ValueWarning: No frequency information was provided, so inferred frequency Q-DEC will be used.\n",
      "  % freq, ValueWarning)\n"
     ]
    },
    {
     "name": "stdout",
     "output_type": "stream",
     "text": [
      "The AIC for ARIMA(8,1,0) is: 6550.541614410248\n",
      "Attempting to fit ARIMA(8,1,1)\n"
     ]
    },
    {
     "name": "stderr",
     "output_type": "stream",
     "text": [
      "C:\\Users\\matth\\anaconda3\\lib\\site-packages\\statsmodels\\tsa\\base\\tsa_model.py:162: ValueWarning: No frequency information was provided, so inferred frequency Q-DEC will be used.\n",
      "  % freq, ValueWarning)\n",
      "C:\\Users\\matth\\anaconda3\\lib\\site-packages\\statsmodels\\tsa\\base\\tsa_model.py:162: ValueWarning: No frequency information was provided, so inferred frequency Q-DEC will be used.\n",
      "  % freq, ValueWarning)\n"
     ]
    },
    {
     "name": "stdout",
     "output_type": "stream",
     "text": [
      "The AIC for ARIMA(8,1,1) is: 6549.771604986948\n",
      "Attempting to fit ARIMA(8,1,2)\n"
     ]
    },
    {
     "name": "stderr",
     "output_type": "stream",
     "text": [
      "C:\\Users\\matth\\anaconda3\\lib\\site-packages\\statsmodels\\tsa\\base\\tsa_model.py:162: ValueWarning: No frequency information was provided, so inferred frequency Q-DEC will be used.\n",
      "  % freq, ValueWarning)\n",
      "C:\\Users\\matth\\anaconda3\\lib\\site-packages\\statsmodels\\tsa\\base\\tsa_model.py:162: ValueWarning: No frequency information was provided, so inferred frequency Q-DEC will be used.\n",
      "  % freq, ValueWarning)\n"
     ]
    },
    {
     "name": "stdout",
     "output_type": "stream",
     "text": [
      "The AIC for ARIMA(8,1,2) is: 6541.579012531238\n",
      "Attempting to fit ARIMA(8,1,3)\n"
     ]
    },
    {
     "name": "stderr",
     "output_type": "stream",
     "text": [
      "C:\\Users\\matth\\anaconda3\\lib\\site-packages\\statsmodels\\tsa\\base\\tsa_model.py:162: ValueWarning: No frequency information was provided, so inferred frequency Q-DEC will be used.\n",
      "  % freq, ValueWarning)\n",
      "C:\\Users\\matth\\anaconda3\\lib\\site-packages\\statsmodels\\tsa\\base\\tsa_model.py:162: ValueWarning: No frequency information was provided, so inferred frequency Q-DEC will be used.\n",
      "  % freq, ValueWarning)\n"
     ]
    },
    {
     "name": "stdout",
     "output_type": "stream",
     "text": [
      "The AIC for ARIMA(8,1,3) is: 6543.305893446154\n",
      "Attempting to fit ARIMA(8,1,4)\n"
     ]
    },
    {
     "name": "stderr",
     "output_type": "stream",
     "text": [
      "C:\\Users\\matth\\anaconda3\\lib\\site-packages\\statsmodels\\tsa\\base\\tsa_model.py:162: ValueWarning: No frequency information was provided, so inferred frequency Q-DEC will be used.\n",
      "  % freq, ValueWarning)\n",
      "C:\\Users\\matth\\anaconda3\\lib\\site-packages\\statsmodels\\tsa\\base\\tsa_model.py:162: ValueWarning: No frequency information was provided, so inferred frequency Q-DEC will be used.\n",
      "  % freq, ValueWarning)\n",
      "C:\\Users\\matth\\anaconda3\\lib\\site-packages\\statsmodels\\base\\model.py:548: HessianInversionWarning: Inverting hessian failed, no bse or cov_params available\n",
      "  'available', HessianInversionWarning)\n",
      "C:\\Users\\matth\\anaconda3\\lib\\site-packages\\statsmodels\\tsa\\base\\tsa_model.py:162: ValueWarning: No frequency information was provided, so inferred frequency Q-DEC will be used.\n",
      "  % freq, ValueWarning)\n",
      "C:\\Users\\matth\\anaconda3\\lib\\site-packages\\statsmodels\\tsa\\base\\tsa_model.py:162: ValueWarning: No frequency information was provided, so inferred frequency Q-DEC will be used.\n",
      "  % freq, ValueWarning)\n"
     ]
    },
    {
     "name": "stdout",
     "output_type": "stream",
     "text": [
      "The AIC for ARIMA(8,1,4) is: 6544.967513262618\n",
      "Attempting to fit ARIMA(8,1,5)\n"
     ]
    },
    {
     "name": "stderr",
     "output_type": "stream",
     "text": [
      "C:\\Users\\matth\\anaconda3\\lib\\site-packages\\statsmodels\\base\\model.py:548: HessianInversionWarning: Inverting hessian failed, no bse or cov_params available\n",
      "  'available', HessianInversionWarning)\n",
      "C:\\Users\\matth\\anaconda3\\lib\\site-packages\\statsmodels\\tsa\\base\\tsa_model.py:162: ValueWarning: No frequency information was provided, so inferred frequency Q-DEC will be used.\n",
      "  % freq, ValueWarning)\n",
      "C:\\Users\\matth\\anaconda3\\lib\\site-packages\\statsmodels\\tsa\\base\\tsa_model.py:162: ValueWarning: No frequency information was provided, so inferred frequency Q-DEC will be used.\n",
      "  % freq, ValueWarning)\n"
     ]
    },
    {
     "name": "stdout",
     "output_type": "stream",
     "text": [
      "The AIC for ARIMA(8,1,5) is: 6530.111336265254\n",
      "Attempting to fit ARIMA(8,1,6)\n",
      "The AIC for ARIMA(8,1,6) is: 6532.655348146289\n",
      "Attempting to fit ARIMA(8,1,7)\n",
      "Attempting to fit ARIMA(8,1,8)\n",
      "Attempting to fit ARIMA(8,1,9)\n",
      "Attempting to fit ARIMA(8,1,10)\n",
      "Attempting to fit ARIMA(8,1,11)\n",
      "Attempting to fit ARIMA(9,1,0)\n"
     ]
    },
    {
     "name": "stderr",
     "output_type": "stream",
     "text": [
      "C:\\Users\\matth\\anaconda3\\lib\\site-packages\\statsmodels\\tsa\\base\\tsa_model.py:162: ValueWarning: No frequency information was provided, so inferred frequency Q-DEC will be used.\n",
      "  % freq, ValueWarning)\n",
      "C:\\Users\\matth\\anaconda3\\lib\\site-packages\\statsmodels\\tsa\\base\\tsa_model.py:162: ValueWarning: No frequency information was provided, so inferred frequency Q-DEC will be used.\n",
      "  % freq, ValueWarning)\n",
      "C:\\Users\\matth\\anaconda3\\lib\\site-packages\\statsmodels\\tsa\\base\\tsa_model.py:162: ValueWarning: No frequency information was provided, so inferred frequency Q-DEC will be used.\n",
      "  % freq, ValueWarning)\n",
      "C:\\Users\\matth\\anaconda3\\lib\\site-packages\\statsmodels\\tsa\\base\\tsa_model.py:162: ValueWarning: No frequency information was provided, so inferred frequency Q-DEC will be used.\n",
      "  % freq, ValueWarning)\n",
      "C:\\Users\\matth\\anaconda3\\lib\\site-packages\\statsmodels\\tsa\\base\\tsa_model.py:162: ValueWarning: No frequency information was provided, so inferred frequency Q-DEC will be used.\n",
      "  % freq, ValueWarning)\n",
      "C:\\Users\\matth\\anaconda3\\lib\\site-packages\\statsmodels\\tsa\\base\\tsa_model.py:162: ValueWarning: No frequency information was provided, so inferred frequency Q-DEC will be used.\n",
      "  % freq, ValueWarning)\n",
      "C:\\Users\\matth\\anaconda3\\lib\\site-packages\\statsmodels\\tsa\\base\\tsa_model.py:162: ValueWarning: No frequency information was provided, so inferred frequency Q-DEC will be used.\n",
      "  % freq, ValueWarning)\n",
      "C:\\Users\\matth\\anaconda3\\lib\\site-packages\\statsmodels\\tsa\\base\\tsa_model.py:162: ValueWarning: No frequency information was provided, so inferred frequency Q-DEC will be used.\n",
      "  % freq, ValueWarning)\n",
      "C:\\Users\\matth\\anaconda3\\lib\\site-packages\\statsmodels\\tsa\\base\\tsa_model.py:162: ValueWarning: No frequency information was provided, so inferred frequency Q-DEC will be used.\n",
      "  % freq, ValueWarning)\n",
      "C:\\Users\\matth\\anaconda3\\lib\\site-packages\\statsmodels\\tsa\\base\\tsa_model.py:162: ValueWarning: No frequency information was provided, so inferred frequency Q-DEC will be used.\n",
      "  % freq, ValueWarning)\n",
      "C:\\Users\\matth\\anaconda3\\lib\\site-packages\\statsmodels\\tsa\\base\\tsa_model.py:162: ValueWarning: No frequency information was provided, so inferred frequency Q-DEC will be used.\n",
      "  % freq, ValueWarning)\n",
      "C:\\Users\\matth\\anaconda3\\lib\\site-packages\\statsmodels\\tsa\\base\\tsa_model.py:162: ValueWarning: No frequency information was provided, so inferred frequency Q-DEC will be used.\n",
      "  % freq, ValueWarning)\n"
     ]
    },
    {
     "name": "stdout",
     "output_type": "stream",
     "text": [
      "The AIC for ARIMA(9,1,0) is: 6542.210361514584\n",
      "Attempting to fit ARIMA(9,1,1)\n"
     ]
    },
    {
     "name": "stderr",
     "output_type": "stream",
     "text": [
      "C:\\Users\\matth\\anaconda3\\lib\\site-packages\\statsmodels\\tsa\\base\\tsa_model.py:162: ValueWarning: No frequency information was provided, so inferred frequency Q-DEC will be used.\n",
      "  % freq, ValueWarning)\n",
      "C:\\Users\\matth\\anaconda3\\lib\\site-packages\\statsmodels\\tsa\\base\\tsa_model.py:162: ValueWarning: No frequency information was provided, so inferred frequency Q-DEC will be used.\n",
      "  % freq, ValueWarning)\n"
     ]
    },
    {
     "name": "stdout",
     "output_type": "stream",
     "text": [
      "The AIC for ARIMA(9,1,1) is: 6544.2102149965385\n",
      "Attempting to fit ARIMA(9,1,2)\n"
     ]
    },
    {
     "name": "stderr",
     "output_type": "stream",
     "text": [
      "C:\\Users\\matth\\anaconda3\\lib\\site-packages\\statsmodels\\tsa\\base\\tsa_model.py:162: ValueWarning: No frequency information was provided, so inferred frequency Q-DEC will be used.\n",
      "  % freq, ValueWarning)\n",
      "C:\\Users\\matth\\anaconda3\\lib\\site-packages\\statsmodels\\tsa\\base\\tsa_model.py:162: ValueWarning: No frequency information was provided, so inferred frequency Q-DEC will be used.\n",
      "  % freq, ValueWarning)\n"
     ]
    },
    {
     "name": "stdout",
     "output_type": "stream",
     "text": [
      "The AIC for ARIMA(9,1,2) is: 6534.504301311278\n",
      "Attempting to fit ARIMA(9,1,3)\n"
     ]
    },
    {
     "name": "stderr",
     "output_type": "stream",
     "text": [
      "C:\\Users\\matth\\anaconda3\\lib\\site-packages\\statsmodels\\tsa\\base\\tsa_model.py:162: ValueWarning: No frequency information was provided, so inferred frequency Q-DEC will be used.\n",
      "  % freq, ValueWarning)\n",
      "C:\\Users\\matth\\anaconda3\\lib\\site-packages\\statsmodels\\tsa\\base\\tsa_model.py:162: ValueWarning: No frequency information was provided, so inferred frequency Q-DEC will be used.\n",
      "  % freq, ValueWarning)\n"
     ]
    },
    {
     "name": "stdout",
     "output_type": "stream",
     "text": [
      "The AIC for ARIMA(9,1,3) is: 6535.550886878838\n",
      "Attempting to fit ARIMA(9,1,4)\n"
     ]
    },
    {
     "name": "stderr",
     "output_type": "stream",
     "text": [
      "C:\\Users\\matth\\anaconda3\\lib\\site-packages\\statsmodels\\tsa\\base\\tsa_model.py:162: ValueWarning: No frequency information was provided, so inferred frequency Q-DEC will be used.\n",
      "  % freq, ValueWarning)\n",
      "C:\\Users\\matth\\anaconda3\\lib\\site-packages\\statsmodels\\tsa\\base\\tsa_model.py:162: ValueWarning: No frequency information was provided, so inferred frequency Q-DEC will be used.\n",
      "  % freq, ValueWarning)\n"
     ]
    },
    {
     "name": "stdout",
     "output_type": "stream",
     "text": [
      "The AIC for ARIMA(9,1,4) is: 6537.495392571256\n",
      "Attempting to fit ARIMA(9,1,5)\n"
     ]
    },
    {
     "name": "stderr",
     "output_type": "stream",
     "text": [
      "C:\\Users\\matth\\anaconda3\\lib\\site-packages\\statsmodels\\tsa\\base\\tsa_model.py:162: ValueWarning: No frequency information was provided, so inferred frequency Q-DEC will be used.\n",
      "  % freq, ValueWarning)\n",
      "C:\\Users\\matth\\anaconda3\\lib\\site-packages\\statsmodels\\tsa\\base\\tsa_model.py:162: ValueWarning: No frequency information was provided, so inferred frequency Q-DEC will be used.\n",
      "  % freq, ValueWarning)\n"
     ]
    },
    {
     "name": "stdout",
     "output_type": "stream",
     "text": [
      "The AIC for ARIMA(9,1,5) is: 6528.382589286504\n",
      "Attempting to fit ARIMA(9,1,6)\n"
     ]
    },
    {
     "name": "stderr",
     "output_type": "stream",
     "text": [
      "C:\\Users\\matth\\anaconda3\\lib\\site-packages\\statsmodels\\tsa\\base\\tsa_model.py:162: ValueWarning: No frequency information was provided, so inferred frequency Q-DEC will be used.\n",
      "  % freq, ValueWarning)\n",
      "C:\\Users\\matth\\anaconda3\\lib\\site-packages\\statsmodels\\tsa\\base\\tsa_model.py:162: ValueWarning: No frequency information was provided, so inferred frequency Q-DEC will be used.\n",
      "  % freq, ValueWarning)\n",
      "C:\\Users\\matth\\anaconda3\\lib\\site-packages\\statsmodels\\base\\model.py:548: HessianInversionWarning: Inverting hessian failed, no bse or cov_params available\n",
      "  'available', HessianInversionWarning)\n",
      "C:\\Users\\matth\\anaconda3\\lib\\site-packages\\statsmodels\\tsa\\base\\tsa_model.py:162: ValueWarning: No frequency information was provided, so inferred frequency Q-DEC will be used.\n",
      "  % freq, ValueWarning)\n",
      "C:\\Users\\matth\\anaconda3\\lib\\site-packages\\statsmodels\\tsa\\base\\tsa_model.py:162: ValueWarning: No frequency information was provided, so inferred frequency Q-DEC will be used.\n",
      "  % freq, ValueWarning)\n"
     ]
    },
    {
     "name": "stdout",
     "output_type": "stream",
     "text": [
      "The AIC for ARIMA(9,1,6) is: 6530.155856315482\n",
      "Attempting to fit ARIMA(9,1,7)\n",
      "The AIC for ARIMA(9,1,7) is: 6521.349991849761\n",
      "Attempting to fit ARIMA(9,1,8)\n"
     ]
    },
    {
     "name": "stderr",
     "output_type": "stream",
     "text": [
      "C:\\Users\\matth\\anaconda3\\lib\\site-packages\\statsmodels\\tsa\\base\\tsa_model.py:162: ValueWarning: No frequency information was provided, so inferred frequency Q-DEC will be used.\n",
      "  % freq, ValueWarning)\n",
      "C:\\Users\\matth\\anaconda3\\lib\\site-packages\\statsmodels\\tsa\\base\\tsa_model.py:162: ValueWarning: No frequency information was provided, so inferred frequency Q-DEC will be used.\n",
      "  % freq, ValueWarning)\n"
     ]
    },
    {
     "name": "stdout",
     "output_type": "stream",
     "text": [
      "The AIC for ARIMA(9,1,8) is: 6522.580453745393\n",
      "Attempting to fit ARIMA(9,1,9)\n",
      "Attempting to fit ARIMA(9,1,10)\n",
      "Attempting to fit ARIMA(9,1,11)\n",
      "Attempting to fit ARIMA(10,1,0)\n"
     ]
    },
    {
     "name": "stderr",
     "output_type": "stream",
     "text": [
      "C:\\Users\\matth\\anaconda3\\lib\\site-packages\\statsmodels\\tsa\\base\\tsa_model.py:162: ValueWarning: No frequency information was provided, so inferred frequency Q-DEC will be used.\n",
      "  % freq, ValueWarning)\n",
      "C:\\Users\\matth\\anaconda3\\lib\\site-packages\\statsmodels\\tsa\\base\\tsa_model.py:162: ValueWarning: No frequency information was provided, so inferred frequency Q-DEC will be used.\n",
      "  % freq, ValueWarning)\n",
      "C:\\Users\\matth\\anaconda3\\lib\\site-packages\\statsmodels\\tsa\\base\\tsa_model.py:162: ValueWarning: No frequency information was provided, so inferred frequency Q-DEC will be used.\n",
      "  % freq, ValueWarning)\n",
      "C:\\Users\\matth\\anaconda3\\lib\\site-packages\\statsmodels\\tsa\\base\\tsa_model.py:162: ValueWarning: No frequency information was provided, so inferred frequency Q-DEC will be used.\n",
      "  % freq, ValueWarning)\n",
      "C:\\Users\\matth\\anaconda3\\lib\\site-packages\\statsmodels\\tsa\\base\\tsa_model.py:162: ValueWarning: No frequency information was provided, so inferred frequency Q-DEC will be used.\n",
      "  % freq, ValueWarning)\n",
      "C:\\Users\\matth\\anaconda3\\lib\\site-packages\\statsmodels\\tsa\\base\\tsa_model.py:162: ValueWarning: No frequency information was provided, so inferred frequency Q-DEC will be used.\n",
      "  % freq, ValueWarning)\n",
      "C:\\Users\\matth\\anaconda3\\lib\\site-packages\\statsmodels\\tsa\\base\\tsa_model.py:162: ValueWarning: No frequency information was provided, so inferred frequency Q-DEC will be used.\n",
      "  % freq, ValueWarning)\n",
      "C:\\Users\\matth\\anaconda3\\lib\\site-packages\\statsmodels\\tsa\\base\\tsa_model.py:162: ValueWarning: No frequency information was provided, so inferred frequency Q-DEC will be used.\n",
      "  % freq, ValueWarning)\n"
     ]
    },
    {
     "name": "stdout",
     "output_type": "stream",
     "text": [
      "The AIC for ARIMA(10,1,0) is: 6544.210032492128\n",
      "Attempting to fit ARIMA(10,1,1)\n"
     ]
    },
    {
     "name": "stderr",
     "output_type": "stream",
     "text": [
      "C:\\Users\\matth\\anaconda3\\lib\\site-packages\\statsmodels\\tsa\\base\\tsa_model.py:162: ValueWarning: No frequency information was provided, so inferred frequency Q-DEC will be used.\n",
      "  % freq, ValueWarning)\n",
      "C:\\Users\\matth\\anaconda3\\lib\\site-packages\\statsmodels\\tsa\\base\\tsa_model.py:162: ValueWarning: No frequency information was provided, so inferred frequency Q-DEC will be used.\n",
      "  % freq, ValueWarning)\n"
     ]
    },
    {
     "name": "stdout",
     "output_type": "stream",
     "text": [
      "The AIC for ARIMA(10,1,1) is: 6544.121803466727\n",
      "Attempting to fit ARIMA(10,1,2)\n"
     ]
    },
    {
     "name": "stderr",
     "output_type": "stream",
     "text": [
      "C:\\Users\\matth\\anaconda3\\lib\\site-packages\\statsmodels\\tsa\\base\\tsa_model.py:162: ValueWarning: No frequency information was provided, so inferred frequency Q-DEC will be used.\n",
      "  % freq, ValueWarning)\n",
      "C:\\Users\\matth\\anaconda3\\lib\\site-packages\\statsmodels\\tsa\\base\\tsa_model.py:162: ValueWarning: No frequency information was provided, so inferred frequency Q-DEC will be used.\n",
      "  % freq, ValueWarning)\n"
     ]
    },
    {
     "name": "stdout",
     "output_type": "stream",
     "text": [
      "The AIC for ARIMA(10,1,2) is: 6536.061989089844\n",
      "Attempting to fit ARIMA(10,1,3)\n"
     ]
    },
    {
     "name": "stderr",
     "output_type": "stream",
     "text": [
      "C:\\Users\\matth\\anaconda3\\lib\\site-packages\\statsmodels\\tsa\\base\\tsa_model.py:162: ValueWarning: No frequency information was provided, so inferred frequency Q-DEC will be used.\n",
      "  % freq, ValueWarning)\n",
      "C:\\Users\\matth\\anaconda3\\lib\\site-packages\\statsmodels\\tsa\\base\\tsa_model.py:162: ValueWarning: No frequency information was provided, so inferred frequency Q-DEC will be used.\n",
      "  % freq, ValueWarning)\n"
     ]
    },
    {
     "name": "stdout",
     "output_type": "stream",
     "text": [
      "The AIC for ARIMA(10,1,3) is: 6538.090141827735\n",
      "Attempting to fit ARIMA(10,1,4)\n"
     ]
    },
    {
     "name": "stderr",
     "output_type": "stream",
     "text": [
      "C:\\Users\\matth\\anaconda3\\lib\\site-packages\\statsmodels\\tsa\\base\\tsa_model.py:162: ValueWarning: No frequency information was provided, so inferred frequency Q-DEC will be used.\n",
      "  % freq, ValueWarning)\n",
      "C:\\Users\\matth\\anaconda3\\lib\\site-packages\\statsmodels\\tsa\\base\\tsa_model.py:162: ValueWarning: No frequency information was provided, so inferred frequency Q-DEC will be used.\n",
      "  % freq, ValueWarning)\n"
     ]
    },
    {
     "name": "stdout",
     "output_type": "stream",
     "text": [
      "The AIC for ARIMA(10,1,4) is: 6539.482202266792\n",
      "Attempting to fit ARIMA(10,1,5)\n"
     ]
    },
    {
     "name": "stderr",
     "output_type": "stream",
     "text": [
      "C:\\Users\\matth\\anaconda3\\lib\\site-packages\\statsmodels\\tsa\\base\\tsa_model.py:162: ValueWarning: No frequency information was provided, so inferred frequency Q-DEC will be used.\n",
      "  % freq, ValueWarning)\n",
      "C:\\Users\\matth\\anaconda3\\lib\\site-packages\\statsmodels\\tsa\\base\\tsa_model.py:162: ValueWarning: No frequency information was provided, so inferred frequency Q-DEC will be used.\n",
      "  % freq, ValueWarning)\n",
      "C:\\Users\\matth\\anaconda3\\lib\\site-packages\\statsmodels\\base\\model.py:548: HessianInversionWarning: Inverting hessian failed, no bse or cov_params available\n",
      "  'available', HessianInversionWarning)\n",
      "C:\\Users\\matth\\anaconda3\\lib\\site-packages\\statsmodels\\tsa\\base\\tsa_model.py:162: ValueWarning: No frequency information was provided, so inferred frequency Q-DEC will be used.\n",
      "  % freq, ValueWarning)\n",
      "C:\\Users\\matth\\anaconda3\\lib\\site-packages\\statsmodels\\tsa\\base\\tsa_model.py:162: ValueWarning: No frequency information was provided, so inferred frequency Q-DEC will be used.\n",
      "  % freq, ValueWarning)\n"
     ]
    },
    {
     "name": "stdout",
     "output_type": "stream",
     "text": [
      "The AIC for ARIMA(10,1,5) is: 6529.206603812995\n",
      "Attempting to fit ARIMA(10,1,6)\n"
     ]
    },
    {
     "name": "stderr",
     "output_type": "stream",
     "text": [
      "C:\\Users\\matth\\anaconda3\\lib\\site-packages\\statsmodels\\base\\model.py:548: HessianInversionWarning: Inverting hessian failed, no bse or cov_params available\n",
      "  'available', HessianInversionWarning)\n",
      "C:\\Users\\matth\\anaconda3\\lib\\site-packages\\statsmodels\\tsa\\base\\tsa_model.py:162: ValueWarning: No frequency information was provided, so inferred frequency Q-DEC will be used.\n",
      "  % freq, ValueWarning)\n",
      "C:\\Users\\matth\\anaconda3\\lib\\site-packages\\statsmodels\\tsa\\base\\tsa_model.py:162: ValueWarning: No frequency information was provided, so inferred frequency Q-DEC will be used.\n",
      "  % freq, ValueWarning)\n"
     ]
    },
    {
     "name": "stdout",
     "output_type": "stream",
     "text": [
      "The AIC for ARIMA(10,1,6) is: 6531.878044295483\n",
      "Attempting to fit ARIMA(10,1,7)\n"
     ]
    },
    {
     "name": "stderr",
     "output_type": "stream",
     "text": [
      "C:\\Users\\matth\\anaconda3\\lib\\site-packages\\statsmodels\\base\\model.py:548: HessianInversionWarning: Inverting hessian failed, no bse or cov_params available\n",
      "  'available', HessianInversionWarning)\n",
      "C:\\Users\\matth\\anaconda3\\lib\\site-packages\\statsmodels\\base\\model.py:568: ConvergenceWarning: Maximum Likelihood optimization failed to converge. Check mle_retvals\n",
      "  \"Check mle_retvals\", ConvergenceWarning)\n",
      "C:\\Users\\matth\\anaconda3\\lib\\site-packages\\statsmodels\\tsa\\base\\tsa_model.py:162: ValueWarning: No frequency information was provided, so inferred frequency Q-DEC will be used.\n",
      "  % freq, ValueWarning)\n",
      "C:\\Users\\matth\\anaconda3\\lib\\site-packages\\statsmodels\\tsa\\base\\tsa_model.py:162: ValueWarning: No frequency information was provided, so inferred frequency Q-DEC will be used.\n",
      "  % freq, ValueWarning)\n"
     ]
    },
    {
     "name": "stdout",
     "output_type": "stream",
     "text": [
      "The AIC for ARIMA(10,1,7) is: 6522.24429402823\n",
      "Attempting to fit ARIMA(10,1,8)\n"
     ]
    },
    {
     "name": "stderr",
     "output_type": "stream",
     "text": [
      "C:\\Users\\matth\\anaconda3\\lib\\site-packages\\statsmodels\\base\\model.py:548: HessianInversionWarning: Inverting hessian failed, no bse or cov_params available\n",
      "  'available', HessianInversionWarning)\n",
      "C:\\Users\\matth\\anaconda3\\lib\\site-packages\\statsmodels\\base\\model.py:568: ConvergenceWarning: Maximum Likelihood optimization failed to converge. Check mle_retvals\n",
      "  \"Check mle_retvals\", ConvergenceWarning)\n",
      "C:\\Users\\matth\\anaconda3\\lib\\site-packages\\statsmodels\\tsa\\base\\tsa_model.py:162: ValueWarning: No frequency information was provided, so inferred frequency Q-DEC will be used.\n",
      "  % freq, ValueWarning)\n",
      "C:\\Users\\matth\\anaconda3\\lib\\site-packages\\statsmodels\\tsa\\base\\tsa_model.py:162: ValueWarning: No frequency information was provided, so inferred frequency Q-DEC will be used.\n",
      "  % freq, ValueWarning)\n"
     ]
    },
    {
     "name": "stdout",
     "output_type": "stream",
     "text": [
      "The AIC for ARIMA(10,1,8) is: 6537.745066874312\n",
      "Attempting to fit ARIMA(10,1,9)\n",
      "The AIC for ARIMA(10,1,9) is: 6536.18958636053\n",
      "Attempting to fit ARIMA(10,1,10)\n",
      "Attempting to fit ARIMA(10,1,11)\n",
      "Attempting to fit ARIMA(11,1,0)\n"
     ]
    },
    {
     "name": "stderr",
     "output_type": "stream",
     "text": [
      "C:\\Users\\matth\\anaconda3\\lib\\site-packages\\statsmodels\\tsa\\base\\tsa_model.py:162: ValueWarning: No frequency information was provided, so inferred frequency Q-DEC will be used.\n",
      "  % freq, ValueWarning)\n",
      "C:\\Users\\matth\\anaconda3\\lib\\site-packages\\statsmodels\\tsa\\base\\tsa_model.py:162: ValueWarning: No frequency information was provided, so inferred frequency Q-DEC will be used.\n",
      "  % freq, ValueWarning)\n",
      "C:\\Users\\matth\\anaconda3\\lib\\site-packages\\statsmodels\\tsa\\base\\tsa_model.py:162: ValueWarning: No frequency information was provided, so inferred frequency Q-DEC will be used.\n",
      "  % freq, ValueWarning)\n",
      "C:\\Users\\matth\\anaconda3\\lib\\site-packages\\statsmodels\\tsa\\base\\tsa_model.py:162: ValueWarning: No frequency information was provided, so inferred frequency Q-DEC will be used.\n",
      "  % freq, ValueWarning)\n",
      "C:\\Users\\matth\\anaconda3\\lib\\site-packages\\statsmodels\\tsa\\base\\tsa_model.py:162: ValueWarning: No frequency information was provided, so inferred frequency Q-DEC will be used.\n",
      "  % freq, ValueWarning)\n",
      "C:\\Users\\matth\\anaconda3\\lib\\site-packages\\statsmodels\\tsa\\base\\tsa_model.py:162: ValueWarning: No frequency information was provided, so inferred frequency Q-DEC will be used.\n",
      "  % freq, ValueWarning)\n"
     ]
    },
    {
     "name": "stdout",
     "output_type": "stream",
     "text": [
      "The AIC for ARIMA(11,1,0) is: 6542.287811032933\n",
      "Attempting to fit ARIMA(11,1,1)\n"
     ]
    },
    {
     "name": "stderr",
     "output_type": "stream",
     "text": [
      "C:\\Users\\matth\\anaconda3\\lib\\site-packages\\statsmodels\\tsa\\base\\tsa_model.py:162: ValueWarning: No frequency information was provided, so inferred frequency Q-DEC will be used.\n",
      "  % freq, ValueWarning)\n",
      "C:\\Users\\matth\\anaconda3\\lib\\site-packages\\statsmodels\\tsa\\base\\tsa_model.py:162: ValueWarning: No frequency information was provided, so inferred frequency Q-DEC will be used.\n",
      "  % freq, ValueWarning)\n"
     ]
    },
    {
     "name": "stdout",
     "output_type": "stream",
     "text": [
      "The AIC for ARIMA(11,1,1) is: 6542.164070291111\n",
      "Attempting to fit ARIMA(11,1,2)\n"
     ]
    },
    {
     "name": "stderr",
     "output_type": "stream",
     "text": [
      "C:\\Users\\matth\\anaconda3\\lib\\site-packages\\statsmodels\\tsa\\base\\tsa_model.py:162: ValueWarning: No frequency information was provided, so inferred frequency Q-DEC will be used.\n",
      "  % freq, ValueWarning)\n",
      "C:\\Users\\matth\\anaconda3\\lib\\site-packages\\statsmodels\\tsa\\base\\tsa_model.py:162: ValueWarning: No frequency information was provided, so inferred frequency Q-DEC will be used.\n",
      "  % freq, ValueWarning)\n"
     ]
    },
    {
     "name": "stdout",
     "output_type": "stream",
     "text": [
      "The AIC for ARIMA(11,1,2) is: 6537.603418039947\n",
      "Attempting to fit ARIMA(11,1,3)\n"
     ]
    },
    {
     "name": "stderr",
     "output_type": "stream",
     "text": [
      "C:\\Users\\matth\\anaconda3\\lib\\site-packages\\statsmodels\\tsa\\base\\tsa_model.py:162: ValueWarning: No frequency information was provided, so inferred frequency Q-DEC will be used.\n",
      "  % freq, ValueWarning)\n",
      "C:\\Users\\matth\\anaconda3\\lib\\site-packages\\statsmodels\\tsa\\base\\tsa_model.py:162: ValueWarning: No frequency information was provided, so inferred frequency Q-DEC will be used.\n",
      "  % freq, ValueWarning)\n"
     ]
    },
    {
     "name": "stdout",
     "output_type": "stream",
     "text": [
      "The AIC for ARIMA(11,1,3) is: 6539.274152038835\n",
      "Attempting to fit ARIMA(11,1,4)\n"
     ]
    },
    {
     "name": "stderr",
     "output_type": "stream",
     "text": [
      "C:\\Users\\matth\\anaconda3\\lib\\site-packages\\statsmodels\\tsa\\base\\tsa_model.py:162: ValueWarning: No frequency information was provided, so inferred frequency Q-DEC will be used.\n",
      "  % freq, ValueWarning)\n",
      "C:\\Users\\matth\\anaconda3\\lib\\site-packages\\statsmodels\\tsa\\base\\tsa_model.py:162: ValueWarning: No frequency information was provided, so inferred frequency Q-DEC will be used.\n",
      "  % freq, ValueWarning)\n",
      "C:\\Users\\matth\\anaconda3\\lib\\site-packages\\statsmodels\\base\\model.py:548: HessianInversionWarning: Inverting hessian failed, no bse or cov_params available\n",
      "  'available', HessianInversionWarning)\n",
      "C:\\Users\\matth\\anaconda3\\lib\\site-packages\\statsmodels\\tsa\\base\\tsa_model.py:162: ValueWarning: No frequency information was provided, so inferred frequency Q-DEC will be used.\n",
      "  % freq, ValueWarning)\n",
      "C:\\Users\\matth\\anaconda3\\lib\\site-packages\\statsmodels\\tsa\\base\\tsa_model.py:162: ValueWarning: No frequency information was provided, so inferred frequency Q-DEC will be used.\n",
      "  % freq, ValueWarning)\n"
     ]
    },
    {
     "name": "stdout",
     "output_type": "stream",
     "text": [
      "The AIC for ARIMA(11,1,4) is: 6527.202956356094\n",
      "Attempting to fit ARIMA(11,1,5)\n"
     ]
    },
    {
     "name": "stderr",
     "output_type": "stream",
     "text": [
      "C:\\Users\\matth\\anaconda3\\lib\\site-packages\\statsmodels\\base\\model.py:548: HessianInversionWarning: Inverting hessian failed, no bse or cov_params available\n",
      "  'available', HessianInversionWarning)\n",
      "C:\\Users\\matth\\anaconda3\\lib\\site-packages\\statsmodels\\tsa\\base\\tsa_model.py:162: ValueWarning: No frequency information was provided, so inferred frequency Q-DEC will be used.\n",
      "  % freq, ValueWarning)\n",
      "C:\\Users\\matth\\anaconda3\\lib\\site-packages\\statsmodels\\tsa\\base\\tsa_model.py:162: ValueWarning: No frequency information was provided, so inferred frequency Q-DEC will be used.\n",
      "  % freq, ValueWarning)\n"
     ]
    },
    {
     "name": "stdout",
     "output_type": "stream",
     "text": [
      "The AIC for ARIMA(11,1,5) is: 6531.595254972853\n",
      "Attempting to fit ARIMA(11,1,6)\n"
     ]
    },
    {
     "name": "stderr",
     "output_type": "stream",
     "text": [
      "C:\\Users\\matth\\anaconda3\\lib\\site-packages\\statsmodels\\base\\model.py:548: HessianInversionWarning: Inverting hessian failed, no bse or cov_params available\n",
      "  'available', HessianInversionWarning)\n",
      "C:\\Users\\matth\\anaconda3\\lib\\site-packages\\statsmodels\\tsa\\base\\tsa_model.py:162: ValueWarning: No frequency information was provided, so inferred frequency Q-DEC will be used.\n",
      "  % freq, ValueWarning)\n",
      "C:\\Users\\matth\\anaconda3\\lib\\site-packages\\statsmodels\\tsa\\base\\tsa_model.py:162: ValueWarning: No frequency information was provided, so inferred frequency Q-DEC will be used.\n",
      "  % freq, ValueWarning)\n"
     ]
    },
    {
     "name": "stdout",
     "output_type": "stream",
     "text": [
      "The AIC for ARIMA(11,1,6) is: 6523.599485807917\n",
      "Attempting to fit ARIMA(11,1,7)\n"
     ]
    },
    {
     "name": "stderr",
     "output_type": "stream",
     "text": [
      "C:\\Users\\matth\\anaconda3\\lib\\site-packages\\statsmodels\\base\\model.py:548: HessianInversionWarning: Inverting hessian failed, no bse or cov_params available\n",
      "  'available', HessianInversionWarning)\n",
      "C:\\Users\\matth\\anaconda3\\lib\\site-packages\\statsmodels\\tsa\\base\\tsa_model.py:162: ValueWarning: No frequency information was provided, so inferred frequency Q-DEC will be used.\n",
      "  % freq, ValueWarning)\n",
      "C:\\Users\\matth\\anaconda3\\lib\\site-packages\\statsmodels\\tsa\\base\\tsa_model.py:162: ValueWarning: No frequency information was provided, so inferred frequency Q-DEC will be used.\n",
      "  % freq, ValueWarning)\n"
     ]
    },
    {
     "name": "stdout",
     "output_type": "stream",
     "text": [
      "The AIC for ARIMA(11,1,7) is: 6524.71448640704\n",
      "Attempting to fit ARIMA(11,1,8)\n"
     ]
    },
    {
     "name": "stderr",
     "output_type": "stream",
     "text": [
      "C:\\Users\\matth\\anaconda3\\lib\\site-packages\\statsmodels\\base\\model.py:548: HessianInversionWarning: Inverting hessian failed, no bse or cov_params available\n",
      "  'available', HessianInversionWarning)\n",
      "C:\\Users\\matth\\anaconda3\\lib\\site-packages\\statsmodels\\base\\model.py:568: ConvergenceWarning: Maximum Likelihood optimization failed to converge. Check mle_retvals\n",
      "  \"Check mle_retvals\", ConvergenceWarning)\n",
      "C:\\Users\\matth\\anaconda3\\lib\\site-packages\\statsmodels\\tsa\\base\\tsa_model.py:162: ValueWarning: No frequency information was provided, so inferred frequency Q-DEC will be used.\n",
      "  % freq, ValueWarning)\n",
      "C:\\Users\\matth\\anaconda3\\lib\\site-packages\\statsmodels\\tsa\\base\\tsa_model.py:162: ValueWarning: No frequency information was provided, so inferred frequency Q-DEC will be used.\n",
      "  % freq, ValueWarning)\n"
     ]
    },
    {
     "name": "stdout",
     "output_type": "stream",
     "text": [
      "The AIC for ARIMA(11,1,8) is: 6525.499600571124\n",
      "Attempting to fit ARIMA(11,1,9)\n"
     ]
    },
    {
     "name": "stderr",
     "output_type": "stream",
     "text": [
      "C:\\Users\\matth\\anaconda3\\lib\\site-packages\\statsmodels\\base\\model.py:548: HessianInversionWarning: Inverting hessian failed, no bse or cov_params available\n",
      "  'available', HessianInversionWarning)\n",
      "C:\\Users\\matth\\anaconda3\\lib\\site-packages\\statsmodels\\tsa\\base\\tsa_model.py:162: ValueWarning: No frequency information was provided, so inferred frequency Q-DEC will be used.\n",
      "  % freq, ValueWarning)\n",
      "C:\\Users\\matth\\anaconda3\\lib\\site-packages\\statsmodels\\tsa\\base\\tsa_model.py:162: ValueWarning: No frequency information was provided, so inferred frequency Q-DEC will be used.\n",
      "  % freq, ValueWarning)\n"
     ]
    },
    {
     "name": "stdout",
     "output_type": "stream",
     "text": [
      "The AIC for ARIMA(11,1,9) is: 6529.213871009737\n",
      "Attempting to fit ARIMA(11,1,10)\n"
     ]
    },
    {
     "name": "stderr",
     "output_type": "stream",
     "text": [
      "C:\\Users\\matth\\anaconda3\\lib\\site-packages\\statsmodels\\base\\model.py:548: HessianInversionWarning: Inverting hessian failed, no bse or cov_params available\n",
      "  'available', HessianInversionWarning)\n",
      "C:\\Users\\matth\\anaconda3\\lib\\site-packages\\statsmodels\\base\\model.py:568: ConvergenceWarning: Maximum Likelihood optimization failed to converge. Check mle_retvals\n",
      "  \"Check mle_retvals\", ConvergenceWarning)\n",
      "C:\\Users\\matth\\anaconda3\\lib\\site-packages\\statsmodels\\tsa\\base\\tsa_model.py:162: ValueWarning: No frequency information was provided, so inferred frequency Q-DEC will be used.\n",
      "  % freq, ValueWarning)\n",
      "C:\\Users\\matth\\anaconda3\\lib\\site-packages\\statsmodels\\tsa\\base\\tsa_model.py:162: ValueWarning: No frequency information was provided, so inferred frequency Q-DEC will be used.\n",
      "  % freq, ValueWarning)\n"
     ]
    },
    {
     "name": "stdout",
     "output_type": "stream",
     "text": [
      "The AIC for ARIMA(11,1,10) is: 6528.418696520882\n",
      "Attempting to fit ARIMA(11,1,11)\n",
      "The AIC for ARIMA(11,1,11) is: 6530.02019531933\n",
      "\n",
      "\n",
      "MODEL FINISHED!\n",
      "Our model that minimizes AIC on the training data is the ARIMA(9,1,7).\n",
      "This model has an AIC of 6521.349991849761.\n"
     ]
    },
    {
     "name": "stderr",
     "output_type": "stream",
     "text": [
      "C:\\Users\\matth\\anaconda3\\lib\\site-packages\\statsmodels\\base\\model.py:548: HessianInversionWarning: Inverting hessian failed, no bse or cov_params available\n",
      "  'available', HessianInversionWarning)\n",
      "C:\\Users\\matth\\anaconda3\\lib\\site-packages\\statsmodels\\base\\model.py:568: ConvergenceWarning: Maximum Likelihood optimization failed to converge. Check mle_retvals\n",
      "  \"Check mle_retvals\", ConvergenceWarning)\n"
     ]
    }
   ],
   "source": [
    "#Code taking from a GA ARIMA Lesson \n",
    "\n",
    "# Starting AIC, p, and q.\n",
    "best_aic = 99 * (10**16) # HUGE NUMBER\n",
    "best_p = 0\n",
    "best_q = 0\n",
    "# Use nested for loop to iterate over values of p and q.\n",
    "for p in range(12):\n",
    "    for q in range(12):\n",
    "        # Insert try and except statements.\n",
    "        try:\n",
    "            # Fitting an ARIMA(p, 1, q) model.\n",
    "            print(f'Attempting to fit ARIMA({p},1,{q})')\n",
    "            # Instantiate ARIMA model.\n",
    "            arima = ARIMA(endog = y_train.dropna(), # endog = y\n",
    "                          order = (p, 1, q)) # values of p, d, q\n",
    "            # Fit ARIMA model.\n",
    "            model = arima.fit()\n",
    "            # Print out AIC for ARIMA(p, 1, q) model.\n",
    "            print(f'The AIC for ARIMA({p},1,{q}) is: {model.aic}')\n",
    "            # Is my current model's AIC better than our best_aic?\n",
    "            if model.aic < best_aic:\n",
    "                # If so, let's overwrite best_aic, best_p, and best_q.\n",
    "                best_aic = model.aic\n",
    "                best_p = p\n",
    "                best_q = q\n",
    "        except:\n",
    "            pass\n",
    "print()\n",
    "print()\n",
    "print('MODEL FINISHED!')\n",
    "print(f'Our model that minimizes AIC on the training data is the ARIMA({best_p},1,{best_q}).')\n",
    "print(f'This model has an AIC of {best_aic}.')"
   ]
  },
  {
   "cell_type": "markdown",
   "metadata": {},
   "source": [
    "# Training best ARIMA model for gdp"
   ]
  },
  {
   "cell_type": "code",
   "execution_count": 71,
   "metadata": {},
   "outputs": [
    {
     "name": "stderr",
     "output_type": "stream",
     "text": [
      "C:\\Users\\matth\\anaconda3\\lib\\site-packages\\statsmodels\\tsa\\base\\tsa_model.py:162: ValueWarning: No frequency information was provided, so inferred frequency Q-DEC will be used.\n",
      "  % freq, ValueWarning)\n",
      "C:\\Users\\matth\\anaconda3\\lib\\site-packages\\statsmodels\\tsa\\base\\tsa_model.py:162: ValueWarning: No frequency information was provided, so inferred frequency Q-DEC will be used.\n",
      "  % freq, ValueWarning)\n",
      "C:\\Users\\matth\\anaconda3\\lib\\site-packages\\statsmodels\\base\\model.py:548: HessianInversionWarning: Inverting hessian failed, no bse or cov_params available\n",
      "  'available', HessianInversionWarning)\n",
      "C:\\Users\\matth\\anaconda3\\lib\\site-packages\\statsmodels\\base\\model.py:568: ConvergenceWarning: Maximum Likelihood optimization failed to converge. Check mle_retvals\n",
      "  \"Check mle_retvals\", ConvergenceWarning)\n"
     ]
    }
   ],
   "source": [
    "# Instantiate best model.\n",
    "model = ARIMA(endog = y_train.dropna(), # endog = y\n",
    "                          order = (9, 1, 7))\n",
    "# Fit ARIMA model.\n",
    "arima = model.fit()\n",
    "# Generate predictions based on test set.\n",
    "preds = model.predict(params = arima.params,\n",
    "                      start = y_test.index[0],\n",
    "                      end = y_test.index[-1])"
   ]
  },
  {
   "cell_type": "code",
   "execution_count": 27,
   "metadata": {},
   "outputs": [
    {
     "data": {
      "image/png": "[encoded data removed]",
      "text/plain": [
       "<Figure size 720x432 with 1 Axes>"
      ]
     },
     "metadata": {
      "needs_background": "light"
     },
     "output_type": "display_data"
    }
   ],
   "source": [
    "# Plot data.\n",
    "plt.figure(figsize=(10,6))\n",
    "# Plot training data.\n",
    "plt.plot(y_train.index, pd.DataFrame(y_train).diff(), color = 'blue')\n",
    "# Plot testing data.\n",
    "plt.plot(y_test.index, pd.DataFrame(y_test).diff(), color = 'orange')\n",
    "# Plot predicted test values.\n",
    "plt.plot(y_test.index, preds, color = 'green')\n",
    "plt.title(label = 'GDP ARIMA(9, 1, 7) Predictions', fontsize=16)\n",
    "plt.show();"
   ]
  },
  {
   "cell_type": "markdown",
   "metadata": {},
   "source": [
    "# The real GDP percent change model ARIMA grid search"
   ]
  },
  {
   "cell_type": "code",
   "execution_count": 31,
   "metadata": {},
   "outputs": [],
   "source": [
    "# Create train-test split.\n",
    "y_train_pct, y_test_pct = train_test_split(df['gdp_percent_delta'], # The Model will handle differencing\n",
    "                                   test_size = .1, \n",
    "                                   shuffle = False # Must have for time seires\n",
    "                                  )"
   ]
  },
  {
   "cell_type": "code",
   "execution_count": 32,
   "metadata": {},
   "outputs": [
    {
     "name": "stdout",
     "output_type": "stream",
     "text": [
      "Attempting to fit ARIMA(0,1,0)\n",
      "The AIC for ARIMA(0,1,0) is: 1536.5428971297438\n",
      "Attempting to fit ARIMA(0,1,1)\n",
      "The AIC for ARIMA(0,1,1) is: 1479.043416320595\n",
      "Attempting to fit ARIMA(0,1,2)\n"
     ]
    },
    {
     "name": "stderr",
     "output_type": "stream",
     "text": [
      "C:\\Users\\matth\\anaconda3\\lib\\site-packages\\statsmodels\\tsa\\base\\tsa_model.py:162: ValueWarning: No frequency information was provided, so inferred frequency Q-DEC will be used.\n",
      "  % freq, ValueWarning)\n",
      "C:\\Users\\matth\\anaconda3\\lib\\site-packages\\statsmodels\\tsa\\base\\tsa_model.py:162: ValueWarning: No frequency information was provided, so inferred frequency Q-DEC will be used.\n",
      "  % freq, ValueWarning)\n",
      "C:\\Users\\matth\\anaconda3\\lib\\site-packages\\statsmodels\\tsa\\base\\tsa_model.py:162: ValueWarning: No frequency information was provided, so inferred frequency Q-DEC will be used.\n",
      "  % freq, ValueWarning)\n",
      "C:\\Users\\matth\\anaconda3\\lib\\site-packages\\statsmodels\\tsa\\base\\tsa_model.py:162: ValueWarning: No frequency information was provided, so inferred frequency Q-DEC will be used.\n",
      "  % freq, ValueWarning)\n",
      "C:\\Users\\matth\\anaconda3\\lib\\site-packages\\statsmodels\\tsa\\base\\tsa_model.py:162: ValueWarning: No frequency information was provided, so inferred frequency Q-DEC will be used.\n",
      "  % freq, ValueWarning)\n",
      "C:\\Users\\matth\\anaconda3\\lib\\site-packages\\statsmodels\\tsa\\base\\tsa_model.py:162: ValueWarning: No frequency information was provided, so inferred frequency Q-DEC will be used.\n",
      "  % freq, ValueWarning)\n"
     ]
    },
    {
     "name": "stdout",
     "output_type": "stream",
     "text": [
      "The AIC for ARIMA(0,1,2) is: 1451.6516993772366\n",
      "Attempting to fit ARIMA(0,1,3)\n"
     ]
    },
    {
     "name": "stderr",
     "output_type": "stream",
     "text": [
      "C:\\Users\\matth\\anaconda3\\lib\\site-packages\\statsmodels\\tsa\\base\\tsa_model.py:162: ValueWarning: No frequency information was provided, so inferred frequency Q-DEC will be used.\n",
      "  % freq, ValueWarning)\n",
      "C:\\Users\\matth\\anaconda3\\lib\\site-packages\\statsmodels\\tsa\\base\\tsa_model.py:162: ValueWarning: No frequency information was provided, so inferred frequency Q-DEC will be used.\n",
      "  % freq, ValueWarning)\n"
     ]
    },
    {
     "name": "stdout",
     "output_type": "stream",
     "text": [
      "The AIC for ARIMA(0,1,3) is: 1438.7772445296314\n",
      "Attempting to fit ARIMA(0,1,4)\n"
     ]
    },
    {
     "name": "stderr",
     "output_type": "stream",
     "text": [
      "C:\\Users\\matth\\anaconda3\\lib\\site-packages\\statsmodels\\tsa\\base\\tsa_model.py:162: ValueWarning: No frequency information was provided, so inferred frequency Q-DEC will be used.\n",
      "  % freq, ValueWarning)\n",
      "C:\\Users\\matth\\anaconda3\\lib\\site-packages\\statsmodels\\tsa\\base\\tsa_model.py:162: ValueWarning: No frequency information was provided, so inferred frequency Q-DEC will be used.\n",
      "  % freq, ValueWarning)\n"
     ]
    },
    {
     "name": "stdout",
     "output_type": "stream",
     "text": [
      "The AIC for ARIMA(0,1,4) is: 1439.3870765556103\n",
      "Attempting to fit ARIMA(0,1,5)\n"
     ]
    },
    {
     "name": "stderr",
     "output_type": "stream",
     "text": [
      "C:\\Users\\matth\\anaconda3\\lib\\site-packages\\statsmodels\\tsa\\base\\tsa_model.py:162: ValueWarning: No frequency information was provided, so inferred frequency Q-DEC will be used.\n",
      "  % freq, ValueWarning)\n",
      "C:\\Users\\matth\\anaconda3\\lib\\site-packages\\statsmodels\\tsa\\base\\tsa_model.py:162: ValueWarning: No frequency information was provided, so inferred frequency Q-DEC will be used.\n",
      "  % freq, ValueWarning)\n"
     ]
    },
    {
     "name": "stdout",
     "output_type": "stream",
     "text": [
      "The AIC for ARIMA(0,1,5) is: 1441.3852004628045\n",
      "Attempting to fit ARIMA(0,1,6)\n"
     ]
    },
    {
     "name": "stderr",
     "output_type": "stream",
     "text": [
      "C:\\Users\\matth\\anaconda3\\lib\\site-packages\\statsmodels\\tsa\\base\\tsa_model.py:162: ValueWarning: No frequency information was provided, so inferred frequency Q-DEC will be used.\n",
      "  % freq, ValueWarning)\n",
      "C:\\Users\\matth\\anaconda3\\lib\\site-packages\\statsmodels\\tsa\\base\\tsa_model.py:162: ValueWarning: No frequency information was provided, so inferred frequency Q-DEC will be used.\n",
      "  % freq, ValueWarning)\n"
     ]
    },
    {
     "name": "stdout",
     "output_type": "stream",
     "text": [
      "The AIC for ARIMA(0,1,6) is: 1438.1317064084765\n",
      "Attempting to fit ARIMA(0,1,7)\n"
     ]
    },
    {
     "name": "stderr",
     "output_type": "stream",
     "text": [
      "C:\\Users\\matth\\anaconda3\\lib\\site-packages\\statsmodels\\tsa\\base\\tsa_model.py:162: ValueWarning: No frequency information was provided, so inferred frequency Q-DEC will be used.\n",
      "  % freq, ValueWarning)\n",
      "C:\\Users\\matth\\anaconda3\\lib\\site-packages\\statsmodels\\tsa\\base\\tsa_model.py:162: ValueWarning: No frequency information was provided, so inferred frequency Q-DEC will be used.\n",
      "  % freq, ValueWarning)\n"
     ]
    },
    {
     "name": "stdout",
     "output_type": "stream",
     "text": [
      "The AIC for ARIMA(0,1,7) is: 1439.441076792406\n",
      "Attempting to fit ARIMA(0,1,8)\n"
     ]
    },
    {
     "name": "stderr",
     "output_type": "stream",
     "text": [
      "C:\\Users\\matth\\anaconda3\\lib\\site-packages\\statsmodels\\tsa\\base\\tsa_model.py:162: ValueWarning: No frequency information was provided, so inferred frequency Q-DEC will be used.\n",
      "  % freq, ValueWarning)\n",
      "C:\\Users\\matth\\anaconda3\\lib\\site-packages\\statsmodels\\tsa\\base\\tsa_model.py:162: ValueWarning: No frequency information was provided, so inferred frequency Q-DEC will be used.\n",
      "  % freq, ValueWarning)\n"
     ]
    },
    {
     "name": "stdout",
     "output_type": "stream",
     "text": [
      "The AIC for ARIMA(0,1,8) is: 1441.1502196418307\n",
      "Attempting to fit ARIMA(0,1,9)\n"
     ]
    },
    {
     "name": "stderr",
     "output_type": "stream",
     "text": [
      "C:\\Users\\matth\\anaconda3\\lib\\site-packages\\statsmodels\\tsa\\base\\tsa_model.py:162: ValueWarning: No frequency information was provided, so inferred frequency Q-DEC will be used.\n",
      "  % freq, ValueWarning)\n",
      "C:\\Users\\matth\\anaconda3\\lib\\site-packages\\statsmodels\\tsa\\base\\tsa_model.py:162: ValueWarning: No frequency information was provided, so inferred frequency Q-DEC will be used.\n",
      "  % freq, ValueWarning)\n"
     ]
    },
    {
     "name": "stdout",
     "output_type": "stream",
     "text": [
      "The AIC for ARIMA(0,1,9) is: 1438.521282665442\n",
      "Attempting to fit ARIMA(0,1,10)\n"
     ]
    },
    {
     "name": "stderr",
     "output_type": "stream",
     "text": [
      "C:\\Users\\matth\\anaconda3\\lib\\site-packages\\statsmodels\\tsa\\base\\tsa_model.py:162: ValueWarning: No frequency information was provided, so inferred frequency Q-DEC will be used.\n",
      "  % freq, ValueWarning)\n",
      "C:\\Users\\matth\\anaconda3\\lib\\site-packages\\statsmodels\\tsa\\base\\tsa_model.py:162: ValueWarning: No frequency information was provided, so inferred frequency Q-DEC will be used.\n",
      "  % freq, ValueWarning)\n"
     ]
    },
    {
     "name": "stdout",
     "output_type": "stream",
     "text": [
      "The AIC for ARIMA(0,1,10) is: 1440.3321339567592\n",
      "Attempting to fit ARIMA(0,1,11)\n"
     ]
    },
    {
     "name": "stderr",
     "output_type": "stream",
     "text": [
      "C:\\Users\\matth\\anaconda3\\lib\\site-packages\\statsmodels\\tsa\\base\\tsa_model.py:162: ValueWarning: No frequency information was provided, so inferred frequency Q-DEC will be used.\n",
      "  % freq, ValueWarning)\n",
      "C:\\Users\\matth\\anaconda3\\lib\\site-packages\\statsmodels\\tsa\\base\\tsa_model.py:162: ValueWarning: No frequency information was provided, so inferred frequency Q-DEC will be used.\n",
      "  % freq, ValueWarning)\n"
     ]
    },
    {
     "name": "stdout",
     "output_type": "stream",
     "text": [
      "The AIC for ARIMA(0,1,11) is: 1441.791793872525\n",
      "Attempting to fit ARIMA(1,1,0)\n",
      "The AIC for ARIMA(1,1,0) is: 1493.4050942034592\n",
      "Attempting to fit ARIMA(1,1,1)\n",
      "The AIC for ARIMA(1,1,1) is: 1442.5491307209395"
     ]
    },
    {
     "name": "stderr",
     "output_type": "stream",
     "text": [
      "C:\\Users\\matth\\anaconda3\\lib\\site-packages\\statsmodels\\tsa\\base\\tsa_model.py:162: ValueWarning: No frequency information was provided, so inferred frequency Q-DEC will be used.\n",
      "  % freq, ValueWarning)\n",
      "C:\\Users\\matth\\anaconda3\\lib\\site-packages\\statsmodels\\tsa\\base\\tsa_model.py:162: ValueWarning: No frequency information was provided, so inferred frequency Q-DEC will be used.\n",
      "  % freq, ValueWarning)\n",
      "C:\\Users\\matth\\anaconda3\\lib\\site-packages\\statsmodels\\tsa\\base\\tsa_model.py:162: ValueWarning: No frequency information was provided, so inferred frequency Q-DEC will be used.\n",
      "  % freq, ValueWarning)\n",
      "C:\\Users\\matth\\anaconda3\\lib\\site-packages\\statsmodels\\tsa\\base\\tsa_model.py:162: ValueWarning: No frequency information was provided, so inferred frequency Q-DEC will be used.\n",
      "  % freq, ValueWarning)\n"
     ]
    },
    {
     "name": "stdout",
     "output_type": "stream",
     "text": [
      "\n",
      "Attempting to fit ARIMA(1,1,2)\n"
     ]
    },
    {
     "name": "stderr",
     "output_type": "stream",
     "text": [
      "C:\\Users\\matth\\anaconda3\\lib\\site-packages\\statsmodels\\tsa\\base\\tsa_model.py:162: ValueWarning: No frequency information was provided, so inferred frequency Q-DEC will be used.\n",
      "  % freq, ValueWarning)\n",
      "C:\\Users\\matth\\anaconda3\\lib\\site-packages\\statsmodels\\tsa\\base\\tsa_model.py:162: ValueWarning: No frequency information was provided, so inferred frequency Q-DEC will be used.\n",
      "  % freq, ValueWarning)\n"
     ]
    },
    {
     "name": "stdout",
     "output_type": "stream",
     "text": [
      "The AIC for ARIMA(1,1,2) is: 1442.9155385690597\n",
      "Attempting to fit ARIMA(1,1,3)\n"
     ]
    },
    {
     "name": "stderr",
     "output_type": "stream",
     "text": [
      "C:\\Users\\matth\\anaconda3\\lib\\site-packages\\statsmodels\\tsa\\base\\tsa_model.py:162: ValueWarning: No frequency information was provided, so inferred frequency Q-DEC will be used.\n",
      "  % freq, ValueWarning)\n",
      "C:\\Users\\matth\\anaconda3\\lib\\site-packages\\statsmodels\\tsa\\base\\tsa_model.py:162: ValueWarning: No frequency information was provided, so inferred frequency Q-DEC will be used.\n",
      "  % freq, ValueWarning)\n"
     ]
    },
    {
     "name": "stdout",
     "output_type": "stream",
     "text": [
      "The AIC for ARIMA(1,1,3) is: 1439.7071583112179\n",
      "Attempting to fit ARIMA(1,1,4)\n"
     ]
    },
    {
     "name": "stderr",
     "output_type": "stream",
     "text": [
      "C:\\Users\\matth\\anaconda3\\lib\\site-packages\\statsmodels\\tsa\\base\\tsa_model.py:162: ValueWarning: No frequency information was provided, so inferred frequency Q-DEC will be used.\n",
      "  % freq, ValueWarning)\n",
      "C:\\Users\\matth\\anaconda3\\lib\\site-packages\\statsmodels\\tsa\\base\\tsa_model.py:162: ValueWarning: No frequency information was provided, so inferred frequency Q-DEC will be used.\n",
      "  % freq, ValueWarning)\n"
     ]
    },
    {
     "name": "stdout",
     "output_type": "stream",
     "text": [
      "The AIC for ARIMA(1,1,4) is: 1441.3867552580436\n",
      "Attempting to fit ARIMA(1,1,5)\n"
     ]
    },
    {
     "name": "stderr",
     "output_type": "stream",
     "text": [
      "C:\\Users\\matth\\anaconda3\\lib\\site-packages\\statsmodels\\tsa\\base\\tsa_model.py:162: ValueWarning: No frequency information was provided, so inferred frequency Q-DEC will be used.\n",
      "  % freq, ValueWarning)\n",
      "C:\\Users\\matth\\anaconda3\\lib\\site-packages\\statsmodels\\tsa\\base\\tsa_model.py:162: ValueWarning: No frequency information was provided, so inferred frequency Q-DEC will be used.\n",
      "  % freq, ValueWarning)\n"
     ]
    },
    {
     "name": "stdout",
     "output_type": "stream",
     "text": [
      "The AIC for ARIMA(1,1,5) is: 1441.6733136421901\n",
      "Attempting to fit ARIMA(1,1,6)\n"
     ]
    },
    {
     "name": "stderr",
     "output_type": "stream",
     "text": [
      "C:\\Users\\matth\\anaconda3\\lib\\site-packages\\statsmodels\\tsa\\base\\tsa_model.py:162: ValueWarning: No frequency information was provided, so inferred frequency Q-DEC will be used.\n",
      "  % freq, ValueWarning)\n",
      "C:\\Users\\matth\\anaconda3\\lib\\site-packages\\statsmodels\\tsa\\base\\tsa_model.py:162: ValueWarning: No frequency information was provided, so inferred frequency Q-DEC will be used.\n",
      "  % freq, ValueWarning)\n"
     ]
    },
    {
     "name": "stdout",
     "output_type": "stream",
     "text": [
      "The AIC for ARIMA(1,1,6) is: 1439.472590519766\n",
      "Attempting to fit ARIMA(1,1,7)\n",
      "Attempting to fit ARIMA(1,1,8)\n",
      "Attempting to fit ARIMA(1,1,9)\n",
      "Attempting to fit ARIMA(1,1,10)\n",
      "Attempting to fit ARIMA(1,1,11)\n",
      "Attempting to fit ARIMA(2,1,0)\n",
      "The AIC for ARIMA(2,1,0) is: 1492.9526136800214"
     ]
    },
    {
     "name": "stderr",
     "output_type": "stream",
     "text": [
      "C:\\Users\\matth\\anaconda3\\lib\\site-packages\\statsmodels\\tsa\\base\\tsa_model.py:162: ValueWarning: No frequency information was provided, so inferred frequency Q-DEC will be used.\n",
      "  % freq, ValueWarning)\n",
      "C:\\Users\\matth\\anaconda3\\lib\\site-packages\\statsmodels\\tsa\\base\\tsa_model.py:162: ValueWarning: No frequency information was provided, so inferred frequency Q-DEC will be used.\n",
      "  % freq, ValueWarning)\n",
      "C:\\Users\\matth\\anaconda3\\lib\\site-packages\\statsmodels\\tsa\\base\\tsa_model.py:162: ValueWarning: No frequency information was provided, so inferred frequency Q-DEC will be used.\n",
      "  % freq, ValueWarning)\n",
      "C:\\Users\\matth\\anaconda3\\lib\\site-packages\\statsmodels\\tsa\\base\\tsa_model.py:162: ValueWarning: No frequency information was provided, so inferred frequency Q-DEC will be used.\n",
      "  % freq, ValueWarning)\n",
      "C:\\Users\\matth\\anaconda3\\lib\\site-packages\\statsmodels\\tsa\\base\\tsa_model.py:162: ValueWarning: No frequency information was provided, so inferred frequency Q-DEC will be used.\n",
      "  % freq, ValueWarning)\n",
      "C:\\Users\\matth\\anaconda3\\lib\\site-packages\\statsmodels\\tsa\\base\\tsa_model.py:162: ValueWarning: No frequency information was provided, so inferred frequency Q-DEC will be used.\n",
      "  % freq, ValueWarning)\n",
      "C:\\Users\\matth\\anaconda3\\lib\\site-packages\\statsmodels\\tsa\\base\\tsa_model.py:162: ValueWarning: No frequency information was provided, so inferred frequency Q-DEC will be used.\n",
      "  % freq, ValueWarning)\n",
      "C:\\Users\\matth\\anaconda3\\lib\\site-packages\\statsmodels\\tsa\\base\\tsa_model.py:162: ValueWarning: No frequency information was provided, so inferred frequency Q-DEC will be used.\n",
      "  % freq, ValueWarning)\n",
      "C:\\Users\\matth\\anaconda3\\lib\\site-packages\\statsmodels\\tsa\\base\\tsa_model.py:162: ValueWarning: No frequency information was provided, so inferred frequency Q-DEC will be used.\n",
      "  % freq, ValueWarning)\n",
      "C:\\Users\\matth\\anaconda3\\lib\\site-packages\\statsmodels\\tsa\\base\\tsa_model.py:162: ValueWarning: No frequency information was provided, so inferred frequency Q-DEC will be used.\n",
      "  % freq, ValueWarning)\n",
      "C:\\Users\\matth\\anaconda3\\lib\\site-packages\\statsmodels\\tsa\\base\\tsa_model.py:162: ValueWarning: No frequency information was provided, so inferred frequency Q-DEC will be used.\n",
      "  % freq, ValueWarning)\n",
      "C:\\Users\\matth\\anaconda3\\lib\\site-packages\\statsmodels\\tsa\\base\\tsa_model.py:162: ValueWarning: No frequency information was provided, so inferred frequency Q-DEC will be used.\n",
      "  % freq, ValueWarning)\n",
      "C:\\Users\\matth\\anaconda3\\lib\\site-packages\\statsmodels\\tsa\\base\\tsa_model.py:162: ValueWarning: No frequency information was provided, so inferred frequency Q-DEC will be used.\n",
      "  % freq, ValueWarning)\n",
      "C:\\Users\\matth\\anaconda3\\lib\\site-packages\\statsmodels\\tsa\\base\\tsa_model.py:162: ValueWarning: No frequency information was provided, so inferred frequency Q-DEC will be used.\n",
      "  % freq, ValueWarning)\n"
     ]
    },
    {
     "name": "stdout",
     "output_type": "stream",
     "text": [
      "\n",
      "Attempting to fit ARIMA(2,1,1)\n",
      "The AIC for ARIMA(2,1,1) is: 1441.4804545350323\n",
      "Attempting to fit ARIMA(2,1,2)\n"
     ]
    },
    {
     "name": "stderr",
     "output_type": "stream",
     "text": [
      "C:\\Users\\matth\\anaconda3\\lib\\site-packages\\statsmodels\\tsa\\base\\tsa_model.py:162: ValueWarning: No frequency information was provided, so inferred frequency Q-DEC will be used.\n",
      "  % freq, ValueWarning)\n",
      "C:\\Users\\matth\\anaconda3\\lib\\site-packages\\statsmodels\\tsa\\base\\tsa_model.py:162: ValueWarning: No frequency information was provided, so inferred frequency Q-DEC will be used.\n",
      "  % freq, ValueWarning)\n"
     ]
    },
    {
     "name": "stdout",
     "output_type": "stream",
     "text": [
      "The AIC for ARIMA(2,1,2) is: 1440.686005413771\n",
      "Attempting to fit ARIMA(2,1,3)\n"
     ]
    },
    {
     "name": "stderr",
     "output_type": "stream",
     "text": [
      "C:\\Users\\matth\\anaconda3\\lib\\site-packages\\statsmodels\\tsa\\base\\tsa_model.py:162: ValueWarning: No frequency information was provided, so inferred frequency Q-DEC will be used.\n",
      "  % freq, ValueWarning)\n",
      "C:\\Users\\matth\\anaconda3\\lib\\site-packages\\statsmodels\\tsa\\base\\tsa_model.py:162: ValueWarning: No frequency information was provided, so inferred frequency Q-DEC will be used.\n",
      "  % freq, ValueWarning)\n"
     ]
    },
    {
     "name": "stdout",
     "output_type": "stream",
     "text": [
      "The AIC for ARIMA(2,1,3) is: 1439.898797268048\n",
      "Attempting to fit ARIMA(2,1,4)\n"
     ]
    },
    {
     "name": "stderr",
     "output_type": "stream",
     "text": [
      "C:\\Users\\matth\\anaconda3\\lib\\site-packages\\statsmodels\\tsa\\base\\tsa_model.py:162: ValueWarning: No frequency information was provided, so inferred frequency Q-DEC will be used.\n",
      "  % freq, ValueWarning)\n",
      "C:\\Users\\matth\\anaconda3\\lib\\site-packages\\statsmodels\\tsa\\base\\tsa_model.py:162: ValueWarning: No frequency information was provided, so inferred frequency Q-DEC will be used.\n",
      "  % freq, ValueWarning)\n"
     ]
    },
    {
     "name": "stdout",
     "output_type": "stream",
     "text": [
      "The AIC for ARIMA(2,1,4) is: 1442.401718447834\n",
      "Attempting to fit ARIMA(2,1,5)\n"
     ]
    },
    {
     "name": "stderr",
     "output_type": "stream",
     "text": [
      "C:\\Users\\matth\\anaconda3\\lib\\site-packages\\statsmodels\\tsa\\base\\tsa_model.py:162: ValueWarning: No frequency information was provided, so inferred frequency Q-DEC will be used.\n",
      "  % freq, ValueWarning)\n",
      "C:\\Users\\matth\\anaconda3\\lib\\site-packages\\statsmodels\\tsa\\base\\tsa_model.py:162: ValueWarning: No frequency information was provided, so inferred frequency Q-DEC will be used.\n",
      "  % freq, ValueWarning)\n",
      "C:\\Users\\matth\\anaconda3\\lib\\site-packages\\statsmodels\\tsa\\tsatools.py:689: RuntimeWarning: overflow encountered in exp\n",
      "  newparams = ((1-np.exp(-params))/(1+np.exp(-params))).copy()\n",
      "C:\\Users\\matth\\anaconda3\\lib\\site-packages\\statsmodels\\tsa\\tsatools.py:689: RuntimeWarning: invalid value encountered in true_divide\n",
      "  newparams = ((1-np.exp(-params))/(1+np.exp(-params))).copy()\n",
      "C:\\Users\\matth\\anaconda3\\lib\\site-packages\\statsmodels\\tsa\\tsatools.py:690: RuntimeWarning: overflow encountered in exp\n",
      "  tmp = ((1-np.exp(-params))/(1+np.exp(-params))).copy()\n",
      "C:\\Users\\matth\\anaconda3\\lib\\site-packages\\statsmodels\\tsa\\tsatools.py:690: RuntimeWarning: invalid value encountered in true_divide\n",
      "  tmp = ((1-np.exp(-params))/(1+np.exp(-params))).copy()\n",
      "C:\\Users\\matth\\anaconda3\\lib\\site-packages\\statsmodels\\base\\model.py:548: HessianInversionWarning: Inverting hessian failed, no bse or cov_params available\n",
      "  'available', HessianInversionWarning)\n",
      "C:\\Users\\matth\\anaconda3\\lib\\site-packages\\statsmodels\\tsa\\base\\tsa_model.py:162: ValueWarning: No frequency information was provided, so inferred frequency Q-DEC will be used.\n",
      "  % freq, ValueWarning)\n",
      "C:\\Users\\matth\\anaconda3\\lib\\site-packages\\statsmodels\\tsa\\base\\tsa_model.py:162: ValueWarning: No frequency information was provided, so inferred frequency Q-DEC will be used.\n",
      "  % freq, ValueWarning)\n"
     ]
    },
    {
     "name": "stdout",
     "output_type": "stream",
     "text": [
      "The AIC for ARIMA(2,1,5) is: 1434.867077519368\n",
      "Attempting to fit ARIMA(2,1,6)\n",
      "The AIC for ARIMA(2,1,6) is: 1435.3534511879693\n",
      "Attempting to fit ARIMA(2,1,7)\n"
     ]
    },
    {
     "name": "stderr",
     "output_type": "stream",
     "text": [
      "C:\\Users\\matth\\anaconda3\\lib\\site-packages\\statsmodels\\tsa\\base\\tsa_model.py:162: ValueWarning: No frequency information was provided, so inferred frequency Q-DEC will be used.\n",
      "  % freq, ValueWarning)\n",
      "C:\\Users\\matth\\anaconda3\\lib\\site-packages\\statsmodels\\tsa\\base\\tsa_model.py:162: ValueWarning: No frequency information was provided, so inferred frequency Q-DEC will be used.\n",
      "  % freq, ValueWarning)\n",
      "C:\\Users\\matth\\anaconda3\\lib\\site-packages\\statsmodels\\tsa\\tsatools.py:716: RuntimeWarning: invalid value encountered in log\n",
      "  invmacoefs = -np.log((1-macoefs)/(1+macoefs))\n",
      "C:\\Users\\matth\\anaconda3\\lib\\site-packages\\statsmodels\\tsa\\base\\tsa_model.py:162: ValueWarning: No frequency information was provided, so inferred frequency Q-DEC will be used.\n",
      "  % freq, ValueWarning)\n",
      "C:\\Users\\matth\\anaconda3\\lib\\site-packages\\statsmodels\\tsa\\base\\tsa_model.py:162: ValueWarning: No frequency information was provided, so inferred frequency Q-DEC will be used.\n",
      "  % freq, ValueWarning)\n",
      "C:\\Users\\matth\\anaconda3\\lib\\site-packages\\statsmodels\\tsa\\base\\tsa_model.py:162: ValueWarning: No frequency information was provided, so inferred frequency Q-DEC will be used.\n",
      "  % freq, ValueWarning)\n",
      "C:\\Users\\matth\\anaconda3\\lib\\site-packages\\statsmodels\\tsa\\base\\tsa_model.py:162: ValueWarning: No frequency information was provided, so inferred frequency Q-DEC will be used.\n",
      "  % freq, ValueWarning)\n",
      "C:\\Users\\matth\\anaconda3\\lib\\site-packages\\statsmodels\\tsa\\base\\tsa_model.py:162: ValueWarning: No frequency information was provided, so inferred frequency Q-DEC will be used.\n",
      "  % freq, ValueWarning)\n",
      "C:\\Users\\matth\\anaconda3\\lib\\site-packages\\statsmodels\\tsa\\base\\tsa_model.py:162: ValueWarning: No frequency information was provided, so inferred frequency Q-DEC will be used.\n",
      "  % freq, ValueWarning)\n",
      "C:\\Users\\matth\\anaconda3\\lib\\site-packages\\statsmodels\\tsa\\base\\tsa_model.py:162: ValueWarning: No frequency information was provided, so inferred frequency Q-DEC will be used.\n",
      "  % freq, ValueWarning)\n",
      "C:\\Users\\matth\\anaconda3\\lib\\site-packages\\statsmodels\\tsa\\base\\tsa_model.py:162: ValueWarning: No frequency information was provided, so inferred frequency Q-DEC will be used.\n",
      "  % freq, ValueWarning)\n",
      "C:\\Users\\matth\\anaconda3\\lib\\site-packages\\statsmodels\\tsa\\base\\tsa_model.py:162: ValueWarning: No frequency information was provided, so inferred frequency Q-DEC will be used.\n",
      "  % freq, ValueWarning)\n",
      "C:\\Users\\matth\\anaconda3\\lib\\site-packages\\statsmodels\\tsa\\base\\tsa_model.py:162: ValueWarning: No frequency information was provided, so inferred frequency Q-DEC will be used.\n",
      "  % freq, ValueWarning)\n"
     ]
    },
    {
     "name": "stdout",
     "output_type": "stream",
     "text": [
      "Attempting to fit ARIMA(2,1,8)\n",
      "Attempting to fit ARIMA(2,1,9)\n",
      "Attempting to fit ARIMA(2,1,10)\n",
      "Attempting to fit ARIMA(2,1,11)\n",
      "Attempting to fit ARIMA(3,1,0)\n",
      "The AIC for ARIMA(3,1,0) is: 1489.0108968896527\n",
      "Attempting to fit ARIMA(3,1,1)\n"
     ]
    },
    {
     "name": "stderr",
     "output_type": "stream",
     "text": [
      "C:\\Users\\matth\\anaconda3\\lib\\site-packages\\statsmodels\\tsa\\base\\tsa_model.py:162: ValueWarning: No frequency information was provided, so inferred frequency Q-DEC will be used.\n",
      "  % freq, ValueWarning)\n",
      "C:\\Users\\matth\\anaconda3\\lib\\site-packages\\statsmodels\\tsa\\base\\tsa_model.py:162: ValueWarning: No frequency information was provided, so inferred frequency Q-DEC will be used.\n",
      "  % freq, ValueWarning)\n"
     ]
    },
    {
     "name": "stdout",
     "output_type": "stream",
     "text": [
      "The AIC for ARIMA(3,1,1) is: 1438.6429662984142\n",
      "Attempting to fit ARIMA(3,1,2)\n",
      "Attempting to fit ARIMA(3,1,3)\n",
      "Attempting to fit ARIMA(3,1,4)\n"
     ]
    },
    {
     "name": "stderr",
     "output_type": "stream",
     "text": [
      "C:\\Users\\matth\\anaconda3\\lib\\site-packages\\statsmodels\\tsa\\base\\tsa_model.py:162: ValueWarning: No frequency information was provided, so inferred frequency Q-DEC will be used.\n",
      "  % freq, ValueWarning)\n",
      "C:\\Users\\matth\\anaconda3\\lib\\site-packages\\statsmodels\\tsa\\base\\tsa_model.py:162: ValueWarning: No frequency information was provided, so inferred frequency Q-DEC will be used.\n",
      "  % freq, ValueWarning)\n",
      "C:\\Users\\matth\\anaconda3\\lib\\site-packages\\statsmodels\\tsa\\base\\tsa_model.py:162: ValueWarning: No frequency information was provided, so inferred frequency Q-DEC will be used.\n",
      "  % freq, ValueWarning)\n",
      "C:\\Users\\matth\\anaconda3\\lib\\site-packages\\statsmodels\\tsa\\base\\tsa_model.py:162: ValueWarning: No frequency information was provided, so inferred frequency Q-DEC will be used.\n",
      "  % freq, ValueWarning)\n",
      "C:\\Users\\matth\\anaconda3\\lib\\site-packages\\statsmodels\\tsa\\base\\tsa_model.py:162: ValueWarning: No frequency information was provided, so inferred frequency Q-DEC will be used.\n",
      "  % freq, ValueWarning)\n",
      "C:\\Users\\matth\\anaconda3\\lib\\site-packages\\statsmodels\\tsa\\base\\tsa_model.py:162: ValueWarning: No frequency information was provided, so inferred frequency Q-DEC will be used.\n",
      "  % freq, ValueWarning)\n"
     ]
    },
    {
     "name": "stdout",
     "output_type": "stream",
     "text": [
      "Attempting to fit ARIMA(3,1,5)\n"
     ]
    },
    {
     "name": "stderr",
     "output_type": "stream",
     "text": [
      "C:\\Users\\matth\\anaconda3\\lib\\site-packages\\statsmodels\\tsa\\base\\tsa_model.py:162: ValueWarning: No frequency information was provided, so inferred frequency Q-DEC will be used.\n",
      "  % freq, ValueWarning)\n",
      "C:\\Users\\matth\\anaconda3\\lib\\site-packages\\statsmodels\\tsa\\base\\tsa_model.py:162: ValueWarning: No frequency information was provided, so inferred frequency Q-DEC will be used.\n",
      "  % freq, ValueWarning)\n",
      "C:\\Users\\matth\\anaconda3\\lib\\site-packages\\statsmodels\\base\\model.py:548: HessianInversionWarning: Inverting hessian failed, no bse or cov_params available\n",
      "  'available', HessianInversionWarning)\n",
      "C:\\Users\\matth\\anaconda3\\lib\\site-packages\\statsmodels\\tsa\\base\\tsa_model.py:162: ValueWarning: No frequency information was provided, so inferred frequency Q-DEC will be used.\n",
      "  % freq, ValueWarning)\n",
      "C:\\Users\\matth\\anaconda3\\lib\\site-packages\\statsmodels\\tsa\\base\\tsa_model.py:162: ValueWarning: No frequency information was provided, so inferred frequency Q-DEC will be used.\n",
      "  % freq, ValueWarning)\n"
     ]
    },
    {
     "name": "stdout",
     "output_type": "stream",
     "text": [
      "The AIC for ARIMA(3,1,5) is: 1435.3505213710487\n",
      "Attempting to fit ARIMA(3,1,6)\n"
     ]
    },
    {
     "name": "stderr",
     "output_type": "stream",
     "text": [
      "C:\\Users\\matth\\anaconda3\\lib\\site-packages\\statsmodels\\base\\model.py:548: HessianInversionWarning: Inverting hessian failed, no bse or cov_params available\n",
      "  'available', HessianInversionWarning)\n",
      "C:\\Users\\matth\\anaconda3\\lib\\site-packages\\statsmodels\\base\\model.py:568: ConvergenceWarning: Maximum Likelihood optimization failed to converge. Check mle_retvals\n",
      "  \"Check mle_retvals\", ConvergenceWarning)\n",
      "C:\\Users\\matth\\anaconda3\\lib\\site-packages\\statsmodels\\tsa\\base\\tsa_model.py:162: ValueWarning: No frequency information was provided, so inferred frequency Q-DEC will be used.\n",
      "  % freq, ValueWarning)\n",
      "C:\\Users\\matth\\anaconda3\\lib\\site-packages\\statsmodels\\tsa\\base\\tsa_model.py:162: ValueWarning: No frequency information was provided, so inferred frequency Q-DEC will be used.\n",
      "  % freq, ValueWarning)\n"
     ]
    },
    {
     "name": "stdout",
     "output_type": "stream",
     "text": [
      "The AIC for ARIMA(3,1,6) is: 1432.5419959352982\n",
      "Attempting to fit ARIMA(3,1,7)\n"
     ]
    },
    {
     "name": "stderr",
     "output_type": "stream",
     "text": [
      "C:\\Users\\matth\\anaconda3\\lib\\site-packages\\statsmodels\\base\\model.py:548: HessianInversionWarning: Inverting hessian failed, no bse or cov_params available\n",
      "  'available', HessianInversionWarning)\n",
      "C:\\Users\\matth\\anaconda3\\lib\\site-packages\\statsmodels\\base\\model.py:568: ConvergenceWarning: Maximum Likelihood optimization failed to converge. Check mle_retvals\n",
      "  \"Check mle_retvals\", ConvergenceWarning)\n",
      "C:\\Users\\matth\\anaconda3\\lib\\site-packages\\statsmodels\\tsa\\base\\tsa_model.py:162: ValueWarning: No frequency information was provided, so inferred frequency Q-DEC will be used.\n",
      "  % freq, ValueWarning)\n",
      "C:\\Users\\matth\\anaconda3\\lib\\site-packages\\statsmodels\\tsa\\base\\tsa_model.py:162: ValueWarning: No frequency information was provided, so inferred frequency Q-DEC will be used.\n",
      "  % freq, ValueWarning)\n",
      "C:\\Users\\matth\\anaconda3\\lib\\site-packages\\statsmodels\\tsa\\base\\tsa_model.py:162: ValueWarning: No frequency information was provided, so inferred frequency Q-DEC will be used.\n",
      "  % freq, ValueWarning)\n",
      "C:\\Users\\matth\\anaconda3\\lib\\site-packages\\statsmodels\\tsa\\base\\tsa_model.py:162: ValueWarning: No frequency information was provided, so inferred frequency Q-DEC will be used.\n",
      "  % freq, ValueWarning)\n",
      "C:\\Users\\matth\\anaconda3\\lib\\site-packages\\statsmodels\\tsa\\base\\tsa_model.py:162: ValueWarning: No frequency information was provided, so inferred frequency Q-DEC will be used.\n",
      "  % freq, ValueWarning)\n",
      "C:\\Users\\matth\\anaconda3\\lib\\site-packages\\statsmodels\\tsa\\base\\tsa_model.py:162: ValueWarning: No frequency information was provided, so inferred frequency Q-DEC will be used.\n",
      "  % freq, ValueWarning)\n",
      "C:\\Users\\matth\\anaconda3\\lib\\site-packages\\statsmodels\\tsa\\base\\tsa_model.py:162: ValueWarning: No frequency information was provided, so inferred frequency Q-DEC will be used.\n",
      "  % freq, ValueWarning)\n",
      "C:\\Users\\matth\\anaconda3\\lib\\site-packages\\statsmodels\\tsa\\base\\tsa_model.py:162: ValueWarning: No frequency information was provided, so inferred frequency Q-DEC will be used.\n",
      "  % freq, ValueWarning)\n",
      "C:\\Users\\matth\\anaconda3\\lib\\site-packages\\statsmodels\\tsa\\base\\tsa_model.py:162: ValueWarning: No frequency information was provided, so inferred frequency Q-DEC will be used.\n",
      "  % freq, ValueWarning)\n",
      "C:\\Users\\matth\\anaconda3\\lib\\site-packages\\statsmodels\\tsa\\base\\tsa_model.py:162: ValueWarning: No frequency information was provided, so inferred frequency Q-DEC will be used.\n",
      "  % freq, ValueWarning)\n"
     ]
    },
    {
     "name": "stdout",
     "output_type": "stream",
     "text": [
      "The AIC for ARIMA(3,1,7) is: 1439.4086689182623\n",
      "Attempting to fit ARIMA(3,1,8)\n",
      "Attempting to fit ARIMA(3,1,9)\n",
      "Attempting to fit ARIMA(3,1,10)\n",
      "Attempting to fit ARIMA(3,1,11)\n",
      "Attempting to fit ARIMA(4,1,0)\n",
      "The AIC for ARIMA(4,1,0) is: 1486.7427331962367\n",
      "Attempting to fit ARIMA(4,1,1)\n"
     ]
    },
    {
     "name": "stderr",
     "output_type": "stream",
     "text": [
      "C:\\Users\\matth\\anaconda3\\lib\\site-packages\\statsmodels\\tsa\\base\\tsa_model.py:162: ValueWarning: No frequency information was provided, so inferred frequency Q-DEC will be used.\n",
      "  % freq, ValueWarning)\n",
      "C:\\Users\\matth\\anaconda3\\lib\\site-packages\\statsmodels\\tsa\\base\\tsa_model.py:162: ValueWarning: No frequency information was provided, so inferred frequency Q-DEC will be used.\n",
      "  % freq, ValueWarning)\n"
     ]
    },
    {
     "name": "stdout",
     "output_type": "stream",
     "text": [
      "The AIC for ARIMA(4,1,1) is: 1439.0675760574945\n",
      "Attempting to fit ARIMA(4,1,2)\n",
      "Attempting to fit ARIMA(4,1,3)\n",
      "Attempting to fit ARIMA(4,1,4)\n",
      "Attempting to fit ARIMA(4,1,5)\n",
      "Attempting to fit ARIMA(4,1,6)\n",
      "Attempting to fit ARIMA(4,1,7)\n",
      "Attempting to fit ARIMA(4,1,8)"
     ]
    },
    {
     "name": "stderr",
     "output_type": "stream",
     "text": [
      "C:\\Users\\matth\\anaconda3\\lib\\site-packages\\statsmodels\\tsa\\base\\tsa_model.py:162: ValueWarning: No frequency information was provided, so inferred frequency Q-DEC will be used.\n",
      "  % freq, ValueWarning)\n",
      "C:\\Users\\matth\\anaconda3\\lib\\site-packages\\statsmodels\\tsa\\base\\tsa_model.py:162: ValueWarning: No frequency information was provided, so inferred frequency Q-DEC will be used.\n",
      "  % freq, ValueWarning)\n",
      "C:\\Users\\matth\\anaconda3\\lib\\site-packages\\statsmodels\\tsa\\base\\tsa_model.py:162: ValueWarning: No frequency information was provided, so inferred frequency Q-DEC will be used.\n",
      "  % freq, ValueWarning)\n",
      "C:\\Users\\matth\\anaconda3\\lib\\site-packages\\statsmodels\\tsa\\base\\tsa_model.py:162: ValueWarning: No frequency information was provided, so inferred frequency Q-DEC will be used.\n",
      "  % freq, ValueWarning)\n",
      "C:\\Users\\matth\\anaconda3\\lib\\site-packages\\statsmodels\\tsa\\base\\tsa_model.py:162: ValueWarning: No frequency information was provided, so inferred frequency Q-DEC will be used.\n",
      "  % freq, ValueWarning)\n",
      "C:\\Users\\matth\\anaconda3\\lib\\site-packages\\statsmodels\\tsa\\base\\tsa_model.py:162: ValueWarning: No frequency information was provided, so inferred frequency Q-DEC will be used.\n",
      "  % freq, ValueWarning)\n",
      "C:\\Users\\matth\\anaconda3\\lib\\site-packages\\statsmodels\\tsa\\base\\tsa_model.py:162: ValueWarning: No frequency information was provided, so inferred frequency Q-DEC will be used.\n",
      "  % freq, ValueWarning)\n",
      "C:\\Users\\matth\\anaconda3\\lib\\site-packages\\statsmodels\\tsa\\base\\tsa_model.py:162: ValueWarning: No frequency information was provided, so inferred frequency Q-DEC will be used.\n",
      "  % freq, ValueWarning)\n",
      "C:\\Users\\matth\\anaconda3\\lib\\site-packages\\statsmodels\\tsa\\base\\tsa_model.py:162: ValueWarning: No frequency information was provided, so inferred frequency Q-DEC will be used.\n",
      "  % freq, ValueWarning)\n",
      "C:\\Users\\matth\\anaconda3\\lib\\site-packages\\statsmodels\\tsa\\base\\tsa_model.py:162: ValueWarning: No frequency information was provided, so inferred frequency Q-DEC will be used.\n",
      "  % freq, ValueWarning)\n",
      "C:\\Users\\matth\\anaconda3\\lib\\site-packages\\statsmodels\\tsa\\base\\tsa_model.py:162: ValueWarning: No frequency information was provided, so inferred frequency Q-DEC will be used.\n",
      "  % freq, ValueWarning)\n",
      "C:\\Users\\matth\\anaconda3\\lib\\site-packages\\statsmodels\\tsa\\base\\tsa_model.py:162: ValueWarning: No frequency information was provided, so inferred frequency Q-DEC will be used.\n",
      "  % freq, ValueWarning)\n"
     ]
    },
    {
     "name": "stdout",
     "output_type": "stream",
     "text": [
      "\n",
      "Attempting to fit ARIMA(4,1,9)\n",
      "Attempting to fit ARIMA(4,1,10)\n",
      "Attempting to fit ARIMA(4,1,11)\n",
      "Attempting to fit ARIMA(5,1,0)\n"
     ]
    },
    {
     "name": "stderr",
     "output_type": "stream",
     "text": [
      "C:\\Users\\matth\\anaconda3\\lib\\site-packages\\statsmodels\\tsa\\base\\tsa_model.py:162: ValueWarning: No frequency information was provided, so inferred frequency Q-DEC will be used.\n",
      "  % freq, ValueWarning)\n",
      "C:\\Users\\matth\\anaconda3\\lib\\site-packages\\statsmodels\\tsa\\base\\tsa_model.py:162: ValueWarning: No frequency information was provided, so inferred frequency Q-DEC will be used.\n",
      "  % freq, ValueWarning)\n",
      "C:\\Users\\matth\\anaconda3\\lib\\site-packages\\statsmodels\\tsa\\base\\tsa_model.py:162: ValueWarning: No frequency information was provided, so inferred frequency Q-DEC will be used.\n",
      "  % freq, ValueWarning)\n",
      "C:\\Users\\matth\\anaconda3\\lib\\site-packages\\statsmodels\\tsa\\base\\tsa_model.py:162: ValueWarning: No frequency information was provided, so inferred frequency Q-DEC will be used.\n",
      "  % freq, ValueWarning)\n",
      "C:\\Users\\matth\\anaconda3\\lib\\site-packages\\statsmodels\\tsa\\base\\tsa_model.py:162: ValueWarning: No frequency information was provided, so inferred frequency Q-DEC will be used.\n",
      "  % freq, ValueWarning)\n",
      "C:\\Users\\matth\\anaconda3\\lib\\site-packages\\statsmodels\\tsa\\base\\tsa_model.py:162: ValueWarning: No frequency information was provided, so inferred frequency Q-DEC will be used.\n",
      "  % freq, ValueWarning)\n",
      "C:\\Users\\matth\\anaconda3\\lib\\site-packages\\statsmodels\\tsa\\base\\tsa_model.py:162: ValueWarning: No frequency information was provided, so inferred frequency Q-DEC will be used.\n",
      "  % freq, ValueWarning)\n",
      "C:\\Users\\matth\\anaconda3\\lib\\site-packages\\statsmodels\\tsa\\base\\tsa_model.py:162: ValueWarning: No frequency information was provided, so inferred frequency Q-DEC will be used.\n",
      "  % freq, ValueWarning)\n",
      "C:\\Users\\matth\\anaconda3\\lib\\site-packages\\statsmodels\\tsa\\base\\tsa_model.py:162: ValueWarning: No frequency information was provided, so inferred frequency Q-DEC will be used.\n",
      "  % freq, ValueWarning)\n",
      "C:\\Users\\matth\\anaconda3\\lib\\site-packages\\statsmodels\\tsa\\base\\tsa_model.py:162: ValueWarning: No frequency information was provided, so inferred frequency Q-DEC will be used.\n",
      "  % freq, ValueWarning)\n"
     ]
    },
    {
     "name": "stdout",
     "output_type": "stream",
     "text": [
      "The AIC for ARIMA(5,1,0) is: 1474.1881404364885\n",
      "Attempting to fit ARIMA(5,1,1)\n"
     ]
    },
    {
     "name": "stderr",
     "output_type": "stream",
     "text": [
      "C:\\Users\\matth\\anaconda3\\lib\\site-packages\\statsmodels\\tsa\\base\\tsa_model.py:162: ValueWarning: No frequency information was provided, so inferred frequency Q-DEC will be used.\n",
      "  % freq, ValueWarning)\n",
      "C:\\Users\\matth\\anaconda3\\lib\\site-packages\\statsmodels\\tsa\\base\\tsa_model.py:162: ValueWarning: No frequency information was provided, so inferred frequency Q-DEC will be used.\n",
      "  % freq, ValueWarning)\n"
     ]
    },
    {
     "name": "stdout",
     "output_type": "stream",
     "text": [
      "The AIC for ARIMA(5,1,1) is: 1439.0533137774682\n",
      "Attempting to fit ARIMA(5,1,2)\n"
     ]
    },
    {
     "name": "stderr",
     "output_type": "stream",
     "text": [
      "C:\\Users\\matth\\anaconda3\\lib\\site-packages\\statsmodels\\tsa\\base\\tsa_model.py:162: ValueWarning: No frequency information was provided, so inferred frequency Q-DEC will be used.\n",
      "  % freq, ValueWarning)\n",
      "C:\\Users\\matth\\anaconda3\\lib\\site-packages\\statsmodels\\tsa\\base\\tsa_model.py:162: ValueWarning: No frequency information was provided, so inferred frequency Q-DEC will be used.\n",
      "  % freq, ValueWarning)\n"
     ]
    },
    {
     "name": "stdout",
     "output_type": "stream",
     "text": [
      "The AIC for ARIMA(5,1,2) is: 1440.3829104553847\n",
      "Attempting to fit ARIMA(5,1,3)\n"
     ]
    },
    {
     "name": "stderr",
     "output_type": "stream",
     "text": [
      "C:\\Users\\matth\\anaconda3\\lib\\site-packages\\statsmodels\\tsa\\base\\tsa_model.py:162: ValueWarning: No frequency information was provided, so inferred frequency Q-DEC will be used.\n",
      "  % freq, ValueWarning)\n",
      "C:\\Users\\matth\\anaconda3\\lib\\site-packages\\statsmodels\\tsa\\base\\tsa_model.py:162: ValueWarning: No frequency information was provided, so inferred frequency Q-DEC will be used.\n",
      "  % freq, ValueWarning)\n",
      "C:\\Users\\matth\\anaconda3\\lib\\site-packages\\statsmodels\\base\\model.py:548: HessianInversionWarning: Inverting hessian failed, no bse or cov_params available\n",
      "  'available', HessianInversionWarning)\n",
      "C:\\Users\\matth\\anaconda3\\lib\\site-packages\\statsmodels\\tsa\\base\\tsa_model.py:162: ValueWarning: No frequency information was provided, so inferred frequency Q-DEC will be used.\n",
      "  % freq, ValueWarning)\n",
      "C:\\Users\\matth\\anaconda3\\lib\\site-packages\\statsmodels\\tsa\\base\\tsa_model.py:162: ValueWarning: No frequency information was provided, so inferred frequency Q-DEC will be used.\n",
      "  % freq, ValueWarning)\n",
      "C:\\Users\\matth\\anaconda3\\lib\\site-packages\\statsmodels\\tsa\\base\\tsa_model.py:162: ValueWarning: No frequency information was provided, so inferred frequency Q-DEC will be used.\n",
      "  % freq, ValueWarning)\n",
      "C:\\Users\\matth\\anaconda3\\lib\\site-packages\\statsmodels\\tsa\\base\\tsa_model.py:162: ValueWarning: No frequency information was provided, so inferred frequency Q-DEC will be used.\n",
      "  % freq, ValueWarning)\n",
      "C:\\Users\\matth\\anaconda3\\lib\\site-packages\\statsmodels\\tsa\\base\\tsa_model.py:162: ValueWarning: No frequency information was provided, so inferred frequency Q-DEC will be used.\n",
      "  % freq, ValueWarning)\n",
      "C:\\Users\\matth\\anaconda3\\lib\\site-packages\\statsmodels\\tsa\\base\\tsa_model.py:162: ValueWarning: No frequency information was provided, so inferred frequency Q-DEC will be used.\n",
      "  % freq, ValueWarning)\n",
      "C:\\Users\\matth\\anaconda3\\lib\\site-packages\\statsmodels\\tsa\\base\\tsa_model.py:162: ValueWarning: No frequency information was provided, so inferred frequency Q-DEC will be used.\n",
      "  % freq, ValueWarning)\n",
      "C:\\Users\\matth\\anaconda3\\lib\\site-packages\\statsmodels\\tsa\\base\\tsa_model.py:162: ValueWarning: No frequency information was provided, so inferred frequency Q-DEC will be used.\n",
      "  % freq, ValueWarning)\n",
      "C:\\Users\\matth\\anaconda3\\lib\\site-packages\\statsmodels\\tsa\\base\\tsa_model.py:162: ValueWarning: No frequency information was provided, so inferred frequency Q-DEC will be used.\n",
      "  % freq, ValueWarning)\n",
      "C:\\Users\\matth\\anaconda3\\lib\\site-packages\\statsmodels\\tsa\\base\\tsa_model.py:162: ValueWarning: No frequency information was provided, so inferred frequency Q-DEC will be used.\n",
      "  % freq, ValueWarning)\n",
      "C:\\Users\\matth\\anaconda3\\lib\\site-packages\\statsmodels\\tsa\\base\\tsa_model.py:162: ValueWarning: No frequency information was provided, so inferred frequency Q-DEC will be used.\n",
      "  % freq, ValueWarning)\n",
      "C:\\Users\\matth\\anaconda3\\lib\\site-packages\\statsmodels\\tsa\\base\\tsa_model.py:162: ValueWarning: No frequency information was provided, so inferred frequency Q-DEC will be used.\n",
      "  % freq, ValueWarning)\n",
      "C:\\Users\\matth\\anaconda3\\lib\\site-packages\\statsmodels\\tsa\\base\\tsa_model.py:162: ValueWarning: No frequency information was provided, so inferred frequency Q-DEC will be used.\n",
      "  % freq, ValueWarning)\n",
      "C:\\Users\\matth\\anaconda3\\lib\\site-packages\\statsmodels\\tsa\\base\\tsa_model.py:162: ValueWarning: No frequency information was provided, so inferred frequency Q-DEC will be used.\n",
      "  % freq, ValueWarning)\n"
     ]
    },
    {
     "name": "stdout",
     "output_type": "stream",
     "text": [
      "The AIC for ARIMA(5,1,3) is: 1444.8606852109708\n",
      "Attempting to fit ARIMA(5,1,4)\n",
      "Attempting to fit ARIMA(5,1,5)\n",
      "Attempting to fit ARIMA(5,1,6)\n",
      "Attempting to fit ARIMA(5,1,7)\n",
      "Attempting to fit ARIMA(5,1,8)\n",
      "Attempting to fit ARIMA(5,1,9)\n",
      "Attempting to fit ARIMA(5,1,10)\n"
     ]
    },
    {
     "name": "stderr",
     "output_type": "stream",
     "text": [
      "C:\\Users\\matth\\anaconda3\\lib\\site-packages\\statsmodels\\tsa\\base\\tsa_model.py:162: ValueWarning: No frequency information was provided, so inferred frequency Q-DEC will be used.\n",
      "  % freq, ValueWarning)\n",
      "C:\\Users\\matth\\anaconda3\\lib\\site-packages\\statsmodels\\tsa\\base\\tsa_model.py:162: ValueWarning: No frequency information was provided, so inferred frequency Q-DEC will be used.\n",
      "  % freq, ValueWarning)\n",
      "C:\\Users\\matth\\anaconda3\\lib\\site-packages\\statsmodels\\tsa\\base\\tsa_model.py:162: ValueWarning: No frequency information was provided, so inferred frequency Q-DEC will be used.\n",
      "  % freq, ValueWarning)\n",
      "C:\\Users\\matth\\anaconda3\\lib\\site-packages\\statsmodels\\tsa\\base\\tsa_model.py:162: ValueWarning: No frequency information was provided, so inferred frequency Q-DEC will be used.\n",
      "  % freq, ValueWarning)\n"
     ]
    },
    {
     "name": "stdout",
     "output_type": "stream",
     "text": [
      "Attempting to fit ARIMA(5,1,11)\n",
      "Attempting to fit ARIMA(6,1,0)\n",
      "The AIC for ARIMA(6,1,0) is: 1472.529929110362\n",
      "Attempting to fit ARIMA(6,1,1)\n"
     ]
    },
    {
     "name": "stderr",
     "output_type": "stream",
     "text": [
      "C:\\Users\\matth\\anaconda3\\lib\\site-packages\\statsmodels\\tsa\\base\\tsa_model.py:162: ValueWarning: No frequency information was provided, so inferred frequency Q-DEC will be used.\n",
      "  % freq, ValueWarning)\n",
      "C:\\Users\\matth\\anaconda3\\lib\\site-packages\\statsmodels\\tsa\\base\\tsa_model.py:162: ValueWarning: No frequency information was provided, so inferred frequency Q-DEC will be used.\n",
      "  % freq, ValueWarning)\n"
     ]
    },
    {
     "name": "stdout",
     "output_type": "stream",
     "text": [
      "The AIC for ARIMA(6,1,1) is: 1440.367922142883\n",
      "Attempting to fit ARIMA(6,1,2)\n"
     ]
    },
    {
     "name": "stderr",
     "output_type": "stream",
     "text": [
      "C:\\Users\\matth\\anaconda3\\lib\\site-packages\\statsmodels\\tsa\\base\\tsa_model.py:162: ValueWarning: No frequency information was provided, so inferred frequency Q-DEC will be used.\n",
      "  % freq, ValueWarning)\n",
      "C:\\Users\\matth\\anaconda3\\lib\\site-packages\\statsmodels\\tsa\\base\\tsa_model.py:162: ValueWarning: No frequency information was provided, so inferred frequency Q-DEC will be used.\n",
      "  % freq, ValueWarning)\n"
     ]
    },
    {
     "name": "stdout",
     "output_type": "stream",
     "text": [
      "The AIC for ARIMA(6,1,2) is: 1442.242917886268\n",
      "Attempting to fit ARIMA(6,1,3)\n",
      "Attempting to fit ARIMA(6,1,4)\n",
      "Attempting to fit ARIMA(6,1,5)\n",
      "Attempting to fit ARIMA(6,1,6)\n",
      "Attempting to fit ARIMA(6,1,7)\n",
      "Attempting to fit ARIMA(6,1,8)\n",
      "Attempting to fit ARIMA(6,1,9)\n"
     ]
    },
    {
     "name": "stderr",
     "output_type": "stream",
     "text": [
      "C:\\Users\\matth\\anaconda3\\lib\\site-packages\\statsmodels\\tsa\\base\\tsa_model.py:162: ValueWarning: No frequency information was provided, so inferred frequency Q-DEC will be used.\n",
      "  % freq, ValueWarning)\n",
      "C:\\Users\\matth\\anaconda3\\lib\\site-packages\\statsmodels\\tsa\\base\\tsa_model.py:162: ValueWarning: No frequency information was provided, so inferred frequency Q-DEC will be used.\n",
      "  % freq, ValueWarning)\n",
      "C:\\Users\\matth\\anaconda3\\lib\\site-packages\\statsmodels\\tsa\\base\\tsa_model.py:162: ValueWarning: No frequency information was provided, so inferred frequency Q-DEC will be used.\n",
      "  % freq, ValueWarning)\n",
      "C:\\Users\\matth\\anaconda3\\lib\\site-packages\\statsmodels\\tsa\\base\\tsa_model.py:162: ValueWarning: No frequency information was provided, so inferred frequency Q-DEC will be used.\n",
      "  % freq, ValueWarning)\n",
      "C:\\Users\\matth\\anaconda3\\lib\\site-packages\\statsmodels\\tsa\\base\\tsa_model.py:162: ValueWarning: No frequency information was provided, so inferred frequency Q-DEC will be used.\n",
      "  % freq, ValueWarning)\n",
      "C:\\Users\\matth\\anaconda3\\lib\\site-packages\\statsmodels\\tsa\\base\\tsa_model.py:162: ValueWarning: No frequency information was provided, so inferred frequency Q-DEC will be used.\n",
      "  % freq, ValueWarning)\n",
      "C:\\Users\\matth\\anaconda3\\lib\\site-packages\\statsmodels\\tsa\\base\\tsa_model.py:162: ValueWarning: No frequency information was provided, so inferred frequency Q-DEC will be used.\n",
      "  % freq, ValueWarning)\n",
      "C:\\Users\\matth\\anaconda3\\lib\\site-packages\\statsmodels\\tsa\\base\\tsa_model.py:162: ValueWarning: No frequency information was provided, so inferred frequency Q-DEC will be used.\n",
      "  % freq, ValueWarning)\n",
      "C:\\Users\\matth\\anaconda3\\lib\\site-packages\\statsmodels\\tsa\\base\\tsa_model.py:162: ValueWarning: No frequency information was provided, so inferred frequency Q-DEC will be used.\n",
      "  % freq, ValueWarning)\n",
      "C:\\Users\\matth\\anaconda3\\lib\\site-packages\\statsmodels\\tsa\\base\\tsa_model.py:162: ValueWarning: No frequency information was provided, so inferred frequency Q-DEC will be used.\n",
      "  % freq, ValueWarning)\n",
      "C:\\Users\\matth\\anaconda3\\lib\\site-packages\\statsmodels\\tsa\\base\\tsa_model.py:162: ValueWarning: No frequency information was provided, so inferred frequency Q-DEC will be used.\n",
      "  % freq, ValueWarning)\n",
      "C:\\Users\\matth\\anaconda3\\lib\\site-packages\\statsmodels\\tsa\\base\\tsa_model.py:162: ValueWarning: No frequency information was provided, so inferred frequency Q-DEC will be used.\n",
      "  % freq, ValueWarning)\n",
      "C:\\Users\\matth\\anaconda3\\lib\\site-packages\\statsmodels\\tsa\\base\\tsa_model.py:162: ValueWarning: No frequency information was provided, so inferred frequency Q-DEC will be used.\n",
      "  % freq, ValueWarning)\n",
      "C:\\Users\\matth\\anaconda3\\lib\\site-packages\\statsmodels\\tsa\\base\\tsa_model.py:162: ValueWarning: No frequency information was provided, so inferred frequency Q-DEC will be used.\n",
      "  % freq, ValueWarning)\n"
     ]
    },
    {
     "name": "stdout",
     "output_type": "stream",
     "text": [
      "Attempting to fit ARIMA(6,1,10)\n",
      "Attempting to fit ARIMA(6,1,11)\n",
      "Attempting to fit ARIMA(7,1,0)\n"
     ]
    },
    {
     "name": "stderr",
     "output_type": "stream",
     "text": [
      "C:\\Users\\matth\\anaconda3\\lib\\site-packages\\statsmodels\\tsa\\base\\tsa_model.py:162: ValueWarning: No frequency information was provided, so inferred frequency Q-DEC will be used.\n",
      "  % freq, ValueWarning)\n",
      "C:\\Users\\matth\\anaconda3\\lib\\site-packages\\statsmodels\\tsa\\base\\tsa_model.py:162: ValueWarning: No frequency information was provided, so inferred frequency Q-DEC will be used.\n",
      "  % freq, ValueWarning)\n",
      "C:\\Users\\matth\\anaconda3\\lib\\site-packages\\statsmodels\\tsa\\base\\tsa_model.py:162: ValueWarning: No frequency information was provided, so inferred frequency Q-DEC will be used.\n",
      "  % freq, ValueWarning)\n",
      "C:\\Users\\matth\\anaconda3\\lib\\site-packages\\statsmodels\\tsa\\base\\tsa_model.py:162: ValueWarning: No frequency information was provided, so inferred frequency Q-DEC will be used.\n",
      "  % freq, ValueWarning)\n",
      "C:\\Users\\matth\\anaconda3\\lib\\site-packages\\statsmodels\\tsa\\base\\tsa_model.py:162: ValueWarning: No frequency information was provided, so inferred frequency Q-DEC will be used.\n",
      "  % freq, ValueWarning)\n",
      "C:\\Users\\matth\\anaconda3\\lib\\site-packages\\statsmodels\\tsa\\base\\tsa_model.py:162: ValueWarning: No frequency information was provided, so inferred frequency Q-DEC will be used.\n",
      "  % freq, ValueWarning)\n"
     ]
    },
    {
     "name": "stdout",
     "output_type": "stream",
     "text": [
      "The AIC for ARIMA(7,1,0) is: 1470.5234085691795\n",
      "Attempting to fit ARIMA(7,1,1)\n"
     ]
    },
    {
     "name": "stderr",
     "output_type": "stream",
     "text": [
      "C:\\Users\\matth\\anaconda3\\lib\\site-packages\\statsmodels\\tsa\\base\\tsa_model.py:162: ValueWarning: No frequency information was provided, so inferred frequency Q-DEC will be used.\n",
      "  % freq, ValueWarning)\n",
      "C:\\Users\\matth\\anaconda3\\lib\\site-packages\\statsmodels\\tsa\\base\\tsa_model.py:162: ValueWarning: No frequency information was provided, so inferred frequency Q-DEC will be used.\n",
      "  % freq, ValueWarning)\n"
     ]
    },
    {
     "name": "stdout",
     "output_type": "stream",
     "text": [
      "The AIC for ARIMA(7,1,1) is: 1442.046620482347\n",
      "Attempting to fit ARIMA(7,1,2)\n"
     ]
    },
    {
     "name": "stderr",
     "output_type": "stream",
     "text": [
      "C:\\Users\\matth\\anaconda3\\lib\\site-packages\\statsmodels\\tsa\\base\\tsa_model.py:162: ValueWarning: No frequency information was provided, so inferred frequency Q-DEC will be used.\n",
      "  % freq, ValueWarning)\n",
      "C:\\Users\\matth\\anaconda3\\lib\\site-packages\\statsmodels\\tsa\\base\\tsa_model.py:162: ValueWarning: No frequency information was provided, so inferred frequency Q-DEC will be used.\n",
      "  % freq, ValueWarning)\n"
     ]
    },
    {
     "name": "stdout",
     "output_type": "stream",
     "text": [
      "The AIC for ARIMA(7,1,2) is: 1462.540548017387\n",
      "Attempting to fit ARIMA(7,1,3)\n",
      "Attempting to fit ARIMA(7,1,4)\n",
      "Attempting to fit ARIMA(7,1,5)\n",
      "Attempting to fit ARIMA(7,1,6)\n",
      "Attempting to fit ARIMA(7,1,7)\n",
      "Attempting to fit ARIMA(7,1,8)\n",
      "Attempting to fit ARIMA(7,1,9)\n"
     ]
    },
    {
     "name": "stderr",
     "output_type": "stream",
     "text": [
      "C:\\Users\\matth\\anaconda3\\lib\\site-packages\\statsmodels\\tsa\\base\\tsa_model.py:162: ValueWarning: No frequency information was provided, so inferred frequency Q-DEC will be used.\n",
      "  % freq, ValueWarning)\n",
      "C:\\Users\\matth\\anaconda3\\lib\\site-packages\\statsmodels\\tsa\\base\\tsa_model.py:162: ValueWarning: No frequency information was provided, so inferred frequency Q-DEC will be used.\n",
      "  % freq, ValueWarning)\n",
      "C:\\Users\\matth\\anaconda3\\lib\\site-packages\\statsmodels\\tsa\\base\\tsa_model.py:162: ValueWarning: No frequency information was provided, so inferred frequency Q-DEC will be used.\n",
      "  % freq, ValueWarning)\n",
      "C:\\Users\\matth\\anaconda3\\lib\\site-packages\\statsmodels\\tsa\\base\\tsa_model.py:162: ValueWarning: No frequency information was provided, so inferred frequency Q-DEC will be used.\n",
      "  % freq, ValueWarning)\n",
      "C:\\Users\\matth\\anaconda3\\lib\\site-packages\\statsmodels\\tsa\\base\\tsa_model.py:162: ValueWarning: No frequency information was provided, so inferred frequency Q-DEC will be used.\n",
      "  % freq, ValueWarning)\n",
      "C:\\Users\\matth\\anaconda3\\lib\\site-packages\\statsmodels\\tsa\\base\\tsa_model.py:162: ValueWarning: No frequency information was provided, so inferred frequency Q-DEC will be used.\n",
      "  % freq, ValueWarning)\n",
      "C:\\Users\\matth\\anaconda3\\lib\\site-packages\\statsmodels\\tsa\\base\\tsa_model.py:162: ValueWarning: No frequency information was provided, so inferred frequency Q-DEC will be used.\n",
      "  % freq, ValueWarning)\n",
      "C:\\Users\\matth\\anaconda3\\lib\\site-packages\\statsmodels\\tsa\\base\\tsa_model.py:162: ValueWarning: No frequency information was provided, so inferred frequency Q-DEC will be used.\n",
      "  % freq, ValueWarning)\n",
      "C:\\Users\\matth\\anaconda3\\lib\\site-packages\\statsmodels\\tsa\\base\\tsa_model.py:162: ValueWarning: No frequency information was provided, so inferred frequency Q-DEC will be used.\n",
      "  % freq, ValueWarning)\n",
      "C:\\Users\\matth\\anaconda3\\lib\\site-packages\\statsmodels\\tsa\\base\\tsa_model.py:162: ValueWarning: No frequency information was provided, so inferred frequency Q-DEC will be used.\n",
      "  % freq, ValueWarning)\n",
      "C:\\Users\\matth\\anaconda3\\lib\\site-packages\\statsmodels\\tsa\\base\\tsa_model.py:162: ValueWarning: No frequency information was provided, so inferred frequency Q-DEC will be used.\n",
      "  % freq, ValueWarning)\n",
      "C:\\Users\\matth\\anaconda3\\lib\\site-packages\\statsmodels\\tsa\\base\\tsa_model.py:162: ValueWarning: No frequency information was provided, so inferred frequency Q-DEC will be used.\n",
      "  % freq, ValueWarning)\n",
      "C:\\Users\\matth\\anaconda3\\lib\\site-packages\\statsmodels\\tsa\\base\\tsa_model.py:162: ValueWarning: No frequency information was provided, so inferred frequency Q-DEC will be used.\n",
      "  % freq, ValueWarning)\n",
      "C:\\Users\\matth\\anaconda3\\lib\\site-packages\\statsmodels\\tsa\\base\\tsa_model.py:162: ValueWarning: No frequency information was provided, so inferred frequency Q-DEC will be used.\n",
      "  % freq, ValueWarning)\n"
     ]
    },
    {
     "name": "stdout",
     "output_type": "stream",
     "text": [
      "Attempting to fit ARIMA(7,1,10)\n",
      "Attempting to fit ARIMA(7,1,11)\n",
      "Attempting to fit ARIMA(8,1,0)\n"
     ]
    },
    {
     "name": "stderr",
     "output_type": "stream",
     "text": [
      "C:\\Users\\matth\\anaconda3\\lib\\site-packages\\statsmodels\\tsa\\base\\tsa_model.py:162: ValueWarning: No frequency information was provided, so inferred frequency Q-DEC will be used.\n",
      "  % freq, ValueWarning)\n",
      "C:\\Users\\matth\\anaconda3\\lib\\site-packages\\statsmodels\\tsa\\base\\tsa_model.py:162: ValueWarning: No frequency information was provided, so inferred frequency Q-DEC will be used.\n",
      "  % freq, ValueWarning)\n",
      "C:\\Users\\matth\\anaconda3\\lib\\site-packages\\statsmodels\\tsa\\base\\tsa_model.py:162: ValueWarning: No frequency information was provided, so inferred frequency Q-DEC will be used.\n",
      "  % freq, ValueWarning)\n",
      "C:\\Users\\matth\\anaconda3\\lib\\site-packages\\statsmodels\\tsa\\base\\tsa_model.py:162: ValueWarning: No frequency information was provided, so inferred frequency Q-DEC will be used.\n",
      "  % freq, ValueWarning)\n",
      "C:\\Users\\matth\\anaconda3\\lib\\site-packages\\statsmodels\\tsa\\base\\tsa_model.py:162: ValueWarning: No frequency information was provided, so inferred frequency Q-DEC will be used.\n",
      "  % freq, ValueWarning)\n",
      "C:\\Users\\matth\\anaconda3\\lib\\site-packages\\statsmodels\\tsa\\base\\tsa_model.py:162: ValueWarning: No frequency information was provided, so inferred frequency Q-DEC will be used.\n",
      "  % freq, ValueWarning)\n"
     ]
    },
    {
     "name": "stdout",
     "output_type": "stream",
     "text": [
      "The AIC for ARIMA(8,1,0) is: 1461.194533695952\n",
      "Attempting to fit ARIMA(8,1,1)\n"
     ]
    },
    {
     "name": "stderr",
     "output_type": "stream",
     "text": [
      "C:\\Users\\matth\\anaconda3\\lib\\site-packages\\statsmodels\\tsa\\base\\tsa_model.py:162: ValueWarning: No frequency information was provided, so inferred frequency Q-DEC will be used.\n",
      "  % freq, ValueWarning)\n",
      "C:\\Users\\matth\\anaconda3\\lib\\site-packages\\statsmodels\\tsa\\base\\tsa_model.py:162: ValueWarning: No frequency information was provided, so inferred frequency Q-DEC will be used.\n",
      "  % freq, ValueWarning)\n"
     ]
    },
    {
     "name": "stdout",
     "output_type": "stream",
     "text": [
      "The AIC for ARIMA(8,1,1) is: 1460.4428627503712\n",
      "Attempting to fit ARIMA(8,1,2)\n"
     ]
    },
    {
     "name": "stderr",
     "output_type": "stream",
     "text": [
      "C:\\Users\\matth\\anaconda3\\lib\\site-packages\\statsmodels\\tsa\\base\\tsa_model.py:162: ValueWarning: No frequency information was provided, so inferred frequency Q-DEC will be used.\n",
      "  % freq, ValueWarning)\n",
      "C:\\Users\\matth\\anaconda3\\lib\\site-packages\\statsmodels\\tsa\\base\\tsa_model.py:162: ValueWarning: No frequency information was provided, so inferred frequency Q-DEC will be used.\n",
      "  % freq, ValueWarning)\n"
     ]
    },
    {
     "name": "stdout",
     "output_type": "stream",
     "text": [
      "The AIC for ARIMA(8,1,2) is: 1460.5248918463685\n",
      "Attempting to fit ARIMA(8,1,3)\n"
     ]
    },
    {
     "name": "stderr",
     "output_type": "stream",
     "text": [
      "C:\\Users\\matth\\anaconda3\\lib\\site-packages\\statsmodels\\tsa\\base\\tsa_model.py:162: ValueWarning: No frequency information was provided, so inferred frequency Q-DEC will be used.\n",
      "  % freq, ValueWarning)\n",
      "C:\\Users\\matth\\anaconda3\\lib\\site-packages\\statsmodels\\tsa\\base\\tsa_model.py:162: ValueWarning: No frequency information was provided, so inferred frequency Q-DEC will be used.\n",
      "  % freq, ValueWarning)\n"
     ]
    },
    {
     "name": "stdout",
     "output_type": "stream",
     "text": [
      "The AIC for ARIMA(8,1,3) is: 1442.4112246007066\n",
      "Attempting to fit ARIMA(8,1,4)\n",
      "Attempting to fit ARIMA(8,1,5)\n",
      "Attempting to fit ARIMA(8,1,6)\n"
     ]
    },
    {
     "name": "stderr",
     "output_type": "stream",
     "text": [
      "C:\\Users\\matth\\anaconda3\\lib\\site-packages\\statsmodels\\tsa\\base\\tsa_model.py:162: ValueWarning: No frequency information was provided, so inferred frequency Q-DEC will be used.\n",
      "  % freq, ValueWarning)\n",
      "C:\\Users\\matth\\anaconda3\\lib\\site-packages\\statsmodels\\tsa\\base\\tsa_model.py:162: ValueWarning: No frequency information was provided, so inferred frequency Q-DEC will be used.\n",
      "  % freq, ValueWarning)\n",
      "C:\\Users\\matth\\anaconda3\\lib\\site-packages\\statsmodels\\tsa\\base\\tsa_model.py:162: ValueWarning: No frequency information was provided, so inferred frequency Q-DEC will be used.\n",
      "  % freq, ValueWarning)\n",
      "C:\\Users\\matth\\anaconda3\\lib\\site-packages\\statsmodels\\tsa\\base\\tsa_model.py:162: ValueWarning: No frequency information was provided, so inferred frequency Q-DEC will be used.\n",
      "  % freq, ValueWarning)\n",
      "C:\\Users\\matth\\anaconda3\\lib\\site-packages\\statsmodels\\tsa\\base\\tsa_model.py:162: ValueWarning: No frequency information was provided, so inferred frequency Q-DEC will be used.\n",
      "  % freq, ValueWarning)\n",
      "C:\\Users\\matth\\anaconda3\\lib\\site-packages\\statsmodels\\tsa\\base\\tsa_model.py:162: ValueWarning: No frequency information was provided, so inferred frequency Q-DEC will be used.\n",
      "  % freq, ValueWarning)\n",
      "C:\\Users\\matth\\anaconda3\\lib\\site-packages\\statsmodels\\base\\model.py:548: HessianInversionWarning: Inverting hessian failed, no bse or cov_params available\n",
      "  'available', HessianInversionWarning)\n",
      "C:\\Users\\matth\\anaconda3\\lib\\site-packages\\statsmodels\\tsa\\base\\tsa_model.py:162: ValueWarning: No frequency information was provided, so inferred frequency Q-DEC will be used.\n",
      "  % freq, ValueWarning)\n",
      "C:\\Users\\matth\\anaconda3\\lib\\site-packages\\statsmodels\\tsa\\base\\tsa_model.py:162: ValueWarning: No frequency information was provided, so inferred frequency Q-DEC will be used.\n",
      "  % freq, ValueWarning)\n",
      "C:\\Users\\matth\\anaconda3\\lib\\site-packages\\statsmodels\\tsa\\base\\tsa_model.py:162: ValueWarning: No frequency information was provided, so inferred frequency Q-DEC will be used.\n",
      "  % freq, ValueWarning)\n",
      "C:\\Users\\matth\\anaconda3\\lib\\site-packages\\statsmodels\\tsa\\base\\tsa_model.py:162: ValueWarning: No frequency information was provided, so inferred frequency Q-DEC will be used.\n",
      "  % freq, ValueWarning)\n",
      "C:\\Users\\matth\\anaconda3\\lib\\site-packages\\statsmodels\\tsa\\base\\tsa_model.py:162: ValueWarning: No frequency information was provided, so inferred frequency Q-DEC will be used.\n",
      "  % freq, ValueWarning)\n",
      "C:\\Users\\matth\\anaconda3\\lib\\site-packages\\statsmodels\\tsa\\base\\tsa_model.py:162: ValueWarning: No frequency information was provided, so inferred frequency Q-DEC will be used.\n",
      "  % freq, ValueWarning)\n",
      "C:\\Users\\matth\\anaconda3\\lib\\site-packages\\statsmodels\\tsa\\base\\tsa_model.py:162: ValueWarning: No frequency information was provided, so inferred frequency Q-DEC will be used.\n",
      "  % freq, ValueWarning)\n",
      "C:\\Users\\matth\\anaconda3\\lib\\site-packages\\statsmodels\\tsa\\base\\tsa_model.py:162: ValueWarning: No frequency information was provided, so inferred frequency Q-DEC will be used.\n",
      "  % freq, ValueWarning)\n",
      "C:\\Users\\matth\\anaconda3\\lib\\site-packages\\statsmodels\\tsa\\base\\tsa_model.py:162: ValueWarning: No frequency information was provided, so inferred frequency Q-DEC will be used.\n",
      "  % freq, ValueWarning)\n",
      "C:\\Users\\matth\\anaconda3\\lib\\site-packages\\statsmodels\\tsa\\base\\tsa_model.py:162: ValueWarning: No frequency information was provided, so inferred frequency Q-DEC will be used.\n",
      "  % freq, ValueWarning)\n",
      "C:\\Users\\matth\\anaconda3\\lib\\site-packages\\statsmodels\\tsa\\base\\tsa_model.py:162: ValueWarning: No frequency information was provided, so inferred frequency Q-DEC will be used.\n",
      "  % freq, ValueWarning)\n",
      "C:\\Users\\matth\\anaconda3\\lib\\site-packages\\statsmodels\\tsa\\base\\tsa_model.py:162: ValueWarning: No frequency information was provided, so inferred frequency Q-DEC will be used.\n",
      "  % freq, ValueWarning)\n"
     ]
    },
    {
     "name": "stdout",
     "output_type": "stream",
     "text": [
      "The AIC for ARIMA(8,1,6) is: 1433.2078662907616\n",
      "Attempting to fit ARIMA(8,1,7)\n",
      "Attempting to fit ARIMA(8,1,8)\n",
      "Attempting to fit ARIMA(8,1,9)\n",
      "Attempting to fit ARIMA(8,1,10)\n",
      "Attempting to fit ARIMA(8,1,11)\n",
      "Attempting to fit ARIMA(9,1,0)\n",
      "The AIC for ARIMA(9,1,0) is: 1459.832786434321\n",
      "Attempting to fit ARIMA(9,1,1)\n"
     ]
    },
    {
     "name": "stderr",
     "output_type": "stream",
     "text": [
      "C:\\Users\\matth\\anaconda3\\lib\\site-packages\\statsmodels\\tsa\\base\\tsa_model.py:162: ValueWarning: No frequency information was provided, so inferred frequency Q-DEC will be used.\n",
      "  % freq, ValueWarning)\n",
      "C:\\Users\\matth\\anaconda3\\lib\\site-packages\\statsmodels\\tsa\\base\\tsa_model.py:162: ValueWarning: No frequency information was provided, so inferred frequency Q-DEC will be used.\n",
      "  % freq, ValueWarning)\n"
     ]
    },
    {
     "name": "stdout",
     "output_type": "stream",
     "text": [
      "The AIC for ARIMA(9,1,1) is: 1443.8172760522418\n",
      "Attempting to fit ARIMA(9,1,2)\n"
     ]
    },
    {
     "name": "stderr",
     "output_type": "stream",
     "text": [
      "C:\\Users\\matth\\anaconda3\\lib\\site-packages\\statsmodels\\tsa\\base\\tsa_model.py:162: ValueWarning: No frequency information was provided, so inferred frequency Q-DEC will be used.\n",
      "  % freq, ValueWarning)\n",
      "C:\\Users\\matth\\anaconda3\\lib\\site-packages\\statsmodels\\tsa\\base\\tsa_model.py:162: ValueWarning: No frequency information was provided, so inferred frequency Q-DEC will be used.\n",
      "  % freq, ValueWarning)\n"
     ]
    },
    {
     "name": "stdout",
     "output_type": "stream",
     "text": [
      "The AIC for ARIMA(9,1,2) is: 1447.348778210078\n",
      "Attempting to fit ARIMA(9,1,3)\n"
     ]
    },
    {
     "name": "stderr",
     "output_type": "stream",
     "text": [
      "C:\\Users\\matth\\anaconda3\\lib\\site-packages\\statsmodels\\tsa\\base\\tsa_model.py:162: ValueWarning: No frequency information was provided, so inferred frequency Q-DEC will be used.\n",
      "  % freq, ValueWarning)\n",
      "C:\\Users\\matth\\anaconda3\\lib\\site-packages\\statsmodels\\tsa\\base\\tsa_model.py:162: ValueWarning: No frequency information was provided, so inferred frequency Q-DEC will be used.\n",
      "  % freq, ValueWarning)\n",
      "C:\\Users\\matth\\anaconda3\\lib\\site-packages\\statsmodels\\base\\model.py:548: HessianInversionWarning: Inverting hessian failed, no bse or cov_params available\n",
      "  'available', HessianInversionWarning)\n",
      "C:\\Users\\matth\\anaconda3\\lib\\site-packages\\statsmodels\\base\\model.py:568: ConvergenceWarning: Maximum Likelihood optimization failed to converge. Check mle_retvals\n",
      "  \"Check mle_retvals\", ConvergenceWarning)\n",
      "C:\\Users\\matth\\anaconda3\\lib\\site-packages\\statsmodels\\tsa\\base\\tsa_model.py:162: ValueWarning: No frequency information was provided, so inferred frequency Q-DEC will be used.\n",
      "  % freq, ValueWarning)\n",
      "C:\\Users\\matth\\anaconda3\\lib\\site-packages\\statsmodels\\tsa\\base\\tsa_model.py:162: ValueWarning: No frequency information was provided, so inferred frequency Q-DEC will be used.\n",
      "  % freq, ValueWarning)\n"
     ]
    },
    {
     "name": "stdout",
     "output_type": "stream",
     "text": [
      "The AIC for ARIMA(9,1,3) is: 1441.0853584000313\n",
      "Attempting to fit ARIMA(9,1,4)\n"
     ]
    },
    {
     "name": "stderr",
     "output_type": "stream",
     "text": [
      "C:\\Users\\matth\\anaconda3\\lib\\site-packages\\statsmodels\\base\\model.py:548: HessianInversionWarning: Inverting hessian failed, no bse or cov_params available\n",
      "  'available', HessianInversionWarning)\n",
      "C:\\Users\\matth\\anaconda3\\lib\\site-packages\\statsmodels\\base\\model.py:568: ConvergenceWarning: Maximum Likelihood optimization failed to converge. Check mle_retvals\n",
      "  \"Check mle_retvals\", ConvergenceWarning)\n",
      "C:\\Users\\matth\\anaconda3\\lib\\site-packages\\statsmodels\\tsa\\base\\tsa_model.py:162: ValueWarning: No frequency information was provided, so inferred frequency Q-DEC will be used.\n",
      "  % freq, ValueWarning)\n",
      "C:\\Users\\matth\\anaconda3\\lib\\site-packages\\statsmodels\\tsa\\base\\tsa_model.py:162: ValueWarning: No frequency information was provided, so inferred frequency Q-DEC will be used.\n",
      "  % freq, ValueWarning)\n"
     ]
    },
    {
     "name": "stdout",
     "output_type": "stream",
     "text": [
      "The AIC for ARIMA(9,1,4) is: 1443.5131273592629\n",
      "Attempting to fit ARIMA(9,1,5)\n"
     ]
    },
    {
     "name": "stderr",
     "output_type": "stream",
     "text": [
      "C:\\Users\\matth\\anaconda3\\lib\\site-packages\\statsmodels\\base\\model.py:548: HessianInversionWarning: Inverting hessian failed, no bse or cov_params available\n",
      "  'available', HessianInversionWarning)\n",
      "C:\\Users\\matth\\anaconda3\\lib\\site-packages\\statsmodels\\base\\model.py:568: ConvergenceWarning: Maximum Likelihood optimization failed to converge. Check mle_retvals\n",
      "  \"Check mle_retvals\", ConvergenceWarning)\n",
      "C:\\Users\\matth\\anaconda3\\lib\\site-packages\\statsmodels\\tsa\\base\\tsa_model.py:162: ValueWarning: No frequency information was provided, so inferred frequency Q-DEC will be used.\n",
      "  % freq, ValueWarning)\n",
      "C:\\Users\\matth\\anaconda3\\lib\\site-packages\\statsmodels\\tsa\\base\\tsa_model.py:162: ValueWarning: No frequency information was provided, so inferred frequency Q-DEC will be used.\n",
      "  % freq, ValueWarning)\n"
     ]
    },
    {
     "name": "stdout",
     "output_type": "stream",
     "text": [
      "The AIC for ARIMA(9,1,5) is: 1444.2562598837524\n",
      "Attempting to fit ARIMA(9,1,6)\n",
      "Attempting to fit ARIMA(9,1,7)\n"
     ]
    },
    {
     "name": "stderr",
     "output_type": "stream",
     "text": [
      "C:\\Users\\matth\\anaconda3\\lib\\site-packages\\statsmodels\\tsa\\base\\tsa_model.py:162: ValueWarning: No frequency information was provided, so inferred frequency Q-DEC will be used.\n",
      "  % freq, ValueWarning)\n",
      "C:\\Users\\matth\\anaconda3\\lib\\site-packages\\statsmodels\\tsa\\base\\tsa_model.py:162: ValueWarning: No frequency information was provided, so inferred frequency Q-DEC will be used.\n",
      "  % freq, ValueWarning)\n",
      "C:\\Users\\matth\\anaconda3\\lib\\site-packages\\statsmodels\\base\\model.py:548: HessianInversionWarning: Inverting hessian failed, no bse or cov_params available\n",
      "  'available', HessianInversionWarning)\n",
      "C:\\Users\\matth\\anaconda3\\lib\\site-packages\\statsmodels\\base\\model.py:568: ConvergenceWarning: Maximum Likelihood optimization failed to converge. Check mle_retvals\n",
      "  \"Check mle_retvals\", ConvergenceWarning)\n",
      "C:\\Users\\matth\\anaconda3\\lib\\site-packages\\statsmodels\\tsa\\base\\tsa_model.py:162: ValueWarning: No frequency information was provided, so inferred frequency Q-DEC will be used.\n",
      "  % freq, ValueWarning)\n",
      "C:\\Users\\matth\\anaconda3\\lib\\site-packages\\statsmodels\\tsa\\base\\tsa_model.py:162: ValueWarning: No frequency information was provided, so inferred frequency Q-DEC will be used.\n",
      "  % freq, ValueWarning)\n",
      "C:\\Users\\matth\\anaconda3\\lib\\site-packages\\statsmodels\\tsa\\base\\tsa_model.py:162: ValueWarning: No frequency information was provided, so inferred frequency Q-DEC will be used.\n",
      "  % freq, ValueWarning)\n",
      "C:\\Users\\matth\\anaconda3\\lib\\site-packages\\statsmodels\\tsa\\base\\tsa_model.py:162: ValueWarning: No frequency information was provided, so inferred frequency Q-DEC will be used.\n",
      "  % freq, ValueWarning)\n",
      "C:\\Users\\matth\\anaconda3\\lib\\site-packages\\statsmodels\\tsa\\base\\tsa_model.py:162: ValueWarning: No frequency information was provided, so inferred frequency Q-DEC will be used.\n",
      "  % freq, ValueWarning)\n",
      "C:\\Users\\matth\\anaconda3\\lib\\site-packages\\statsmodels\\tsa\\base\\tsa_model.py:162: ValueWarning: No frequency information was provided, so inferred frequency Q-DEC will be used.\n",
      "  % freq, ValueWarning)\n",
      "C:\\Users\\matth\\anaconda3\\lib\\site-packages\\statsmodels\\tsa\\base\\tsa_model.py:162: ValueWarning: No frequency information was provided, so inferred frequency Q-DEC will be used.\n",
      "  % freq, ValueWarning)\n",
      "C:\\Users\\matth\\anaconda3\\lib\\site-packages\\statsmodels\\tsa\\base\\tsa_model.py:162: ValueWarning: No frequency information was provided, so inferred frequency Q-DEC will be used.\n",
      "  % freq, ValueWarning)\n",
      "C:\\Users\\matth\\anaconda3\\lib\\site-packages\\statsmodels\\tsa\\base\\tsa_model.py:162: ValueWarning: No frequency information was provided, so inferred frequency Q-DEC will be used.\n",
      "  % freq, ValueWarning)\n",
      "C:\\Users\\matth\\anaconda3\\lib\\site-packages\\statsmodels\\tsa\\base\\tsa_model.py:162: ValueWarning: No frequency information was provided, so inferred frequency Q-DEC will be used.\n",
      "  % freq, ValueWarning)\n"
     ]
    },
    {
     "name": "stdout",
     "output_type": "stream",
     "text": [
      "The AIC for ARIMA(9,1,7) is: 1440.3811419423625\n",
      "Attempting to fit ARIMA(9,1,8)\n",
      "Attempting to fit ARIMA(9,1,9)\n",
      "Attempting to fit ARIMA(9,1,10)\n",
      "Attempting to fit ARIMA(9,1,11)\n",
      "Attempting to fit ARIMA(10,1,0)\n",
      "The AIC for ARIMA(10,1,0) is: 1461.7973632578064\n",
      "Attempting to fit ARIMA(10,1,1)\n"
     ]
    },
    {
     "name": "stderr",
     "output_type": "stream",
     "text": [
      "C:\\Users\\matth\\anaconda3\\lib\\site-packages\\statsmodels\\tsa\\base\\tsa_model.py:162: ValueWarning: No frequency information was provided, so inferred frequency Q-DEC will be used.\n",
      "  % freq, ValueWarning)\n",
      "C:\\Users\\matth\\anaconda3\\lib\\site-packages\\statsmodels\\tsa\\base\\tsa_model.py:162: ValueWarning: No frequency information was provided, so inferred frequency Q-DEC will be used.\n",
      "  % freq, ValueWarning)\n"
     ]
    },
    {
     "name": "stdout",
     "output_type": "stream",
     "text": [
      "The AIC for ARIMA(10,1,1) is: 1463.3277263300552\n",
      "Attempting to fit ARIMA(10,1,2)\n"
     ]
    },
    {
     "name": "stderr",
     "output_type": "stream",
     "text": [
      "C:\\Users\\matth\\anaconda3\\lib\\site-packages\\statsmodels\\tsa\\base\\tsa_model.py:162: ValueWarning: No frequency information was provided, so inferred frequency Q-DEC will be used.\n",
      "  % freq, ValueWarning)\n",
      "C:\\Users\\matth\\anaconda3\\lib\\site-packages\\statsmodels\\tsa\\base\\tsa_model.py:162: ValueWarning: No frequency information was provided, so inferred frequency Q-DEC will be used.\n",
      "  % freq, ValueWarning)\n"
     ]
    },
    {
     "name": "stdout",
     "output_type": "stream",
     "text": [
      "The AIC for ARIMA(10,1,2) is: 1446.2577835554787\n",
      "Attempting to fit ARIMA(10,1,3)\n"
     ]
    },
    {
     "name": "stderr",
     "output_type": "stream",
     "text": [
      "C:\\Users\\matth\\anaconda3\\lib\\site-packages\\statsmodels\\tsa\\base\\tsa_model.py:162: ValueWarning: No frequency information was provided, so inferred frequency Q-DEC will be used.\n",
      "  % freq, ValueWarning)\n",
      "C:\\Users\\matth\\anaconda3\\lib\\site-packages\\statsmodels\\tsa\\base\\tsa_model.py:162: ValueWarning: No frequency information was provided, so inferred frequency Q-DEC will be used.\n",
      "  % freq, ValueWarning)\n"
     ]
    },
    {
     "name": "stdout",
     "output_type": "stream",
     "text": [
      "The AIC for ARIMA(10,1,3) is: 1442.7443971689534\n",
      "Attempting to fit ARIMA(10,1,4)\n"
     ]
    },
    {
     "name": "stderr",
     "output_type": "stream",
     "text": [
      "C:\\Users\\matth\\anaconda3\\lib\\site-packages\\statsmodels\\tsa\\base\\tsa_model.py:162: ValueWarning: No frequency information was provided, so inferred frequency Q-DEC will be used.\n",
      "  % freq, ValueWarning)\n",
      "C:\\Users\\matth\\anaconda3\\lib\\site-packages\\statsmodels\\tsa\\base\\tsa_model.py:162: ValueWarning: No frequency information was provided, so inferred frequency Q-DEC will be used.\n",
      "  % freq, ValueWarning)\n"
     ]
    },
    {
     "name": "stdout",
     "output_type": "stream",
     "text": [
      "The AIC for ARIMA(10,1,4) is: 1444.481544945147\n",
      "Attempting to fit ARIMA(10,1,5)\n"
     ]
    },
    {
     "name": "stderr",
     "output_type": "stream",
     "text": [
      "C:\\Users\\matth\\anaconda3\\lib\\site-packages\\statsmodels\\tsa\\base\\tsa_model.py:162: ValueWarning: No frequency information was provided, so inferred frequency Q-DEC will be used.\n",
      "  % freq, ValueWarning)\n",
      "C:\\Users\\matth\\anaconda3\\lib\\site-packages\\statsmodels\\tsa\\base\\tsa_model.py:162: ValueWarning: No frequency information was provided, so inferred frequency Q-DEC will be used.\n",
      "  % freq, ValueWarning)\n",
      "C:\\Users\\matth\\anaconda3\\lib\\site-packages\\statsmodels\\base\\model.py:548: HessianInversionWarning: Inverting hessian failed, no bse or cov_params available\n",
      "  'available', HessianInversionWarning)\n",
      "C:\\Users\\matth\\anaconda3\\lib\\site-packages\\statsmodels\\base\\model.py:568: ConvergenceWarning: Maximum Likelihood optimization failed to converge. Check mle_retvals\n",
      "  \"Check mle_retvals\", ConvergenceWarning)\n",
      "C:\\Users\\matth\\anaconda3\\lib\\site-packages\\statsmodels\\tsa\\base\\tsa_model.py:162: ValueWarning: No frequency information was provided, so inferred frequency Q-DEC will be used.\n",
      "  % freq, ValueWarning)\n",
      "C:\\Users\\matth\\anaconda3\\lib\\site-packages\\statsmodels\\tsa\\base\\tsa_model.py:162: ValueWarning: No frequency information was provided, so inferred frequency Q-DEC will be used.\n",
      "  % freq, ValueWarning)\n"
     ]
    },
    {
     "name": "stdout",
     "output_type": "stream",
     "text": [
      "The AIC for ARIMA(10,1,5) is: 1445.0465841121963\n",
      "Attempting to fit ARIMA(10,1,6)\n",
      "Attempting to fit ARIMA(10,1,7)\n"
     ]
    },
    {
     "name": "stderr",
     "output_type": "stream",
     "text": [
      "C:\\Users\\matth\\anaconda3\\lib\\site-packages\\statsmodels\\tsa\\base\\tsa_model.py:162: ValueWarning: No frequency information was provided, so inferred frequency Q-DEC will be used.\n",
      "  % freq, ValueWarning)\n",
      "C:\\Users\\matth\\anaconda3\\lib\\site-packages\\statsmodels\\tsa\\base\\tsa_model.py:162: ValueWarning: No frequency information was provided, so inferred frequency Q-DEC will be used.\n",
      "  % freq, ValueWarning)\n"
     ]
    },
    {
     "name": "stdout",
     "output_type": "stream",
     "text": [
      "Attempting to fit ARIMA(10,1,8)\n",
      "Attempting to fit ARIMA(10,1,9)\n",
      "Attempting to fit ARIMA(10,1,10)\n",
      "Attempting to fit ARIMA(10,1,11)\n",
      "Attempting to fit ARIMA(11,1,0)\n"
     ]
    },
    {
     "name": "stderr",
     "output_type": "stream",
     "text": [
      "C:\\Users\\matth\\anaconda3\\lib\\site-packages\\statsmodels\\tsa\\base\\tsa_model.py:162: ValueWarning: No frequency information was provided, so inferred frequency Q-DEC will be used.\n",
      "  % freq, ValueWarning)\n",
      "C:\\Users\\matth\\anaconda3\\lib\\site-packages\\statsmodels\\tsa\\base\\tsa_model.py:162: ValueWarning: No frequency information was provided, so inferred frequency Q-DEC will be used.\n",
      "  % freq, ValueWarning)\n",
      "C:\\Users\\matth\\anaconda3\\lib\\site-packages\\statsmodels\\tsa\\base\\tsa_model.py:162: ValueWarning: No frequency information was provided, so inferred frequency Q-DEC will be used.\n",
      "  % freq, ValueWarning)\n",
      "C:\\Users\\matth\\anaconda3\\lib\\site-packages\\statsmodels\\tsa\\base\\tsa_model.py:162: ValueWarning: No frequency information was provided, so inferred frequency Q-DEC will be used.\n",
      "  % freq, ValueWarning)\n",
      "C:\\Users\\matth\\anaconda3\\lib\\site-packages\\statsmodels\\tsa\\base\\tsa_model.py:162: ValueWarning: No frequency information was provided, so inferred frequency Q-DEC will be used.\n",
      "  % freq, ValueWarning)\n",
      "C:\\Users\\matth\\anaconda3\\lib\\site-packages\\statsmodels\\tsa\\base\\tsa_model.py:162: ValueWarning: No frequency information was provided, so inferred frequency Q-DEC will be used.\n",
      "  % freq, ValueWarning)\n",
      "C:\\Users\\matth\\anaconda3\\lib\\site-packages\\statsmodels\\tsa\\base\\tsa_model.py:162: ValueWarning: No frequency information was provided, so inferred frequency Q-DEC will be used.\n",
      "  % freq, ValueWarning)\n",
      "C:\\Users\\matth\\anaconda3\\lib\\site-packages\\statsmodels\\tsa\\base\\tsa_model.py:162: ValueWarning: No frequency information was provided, so inferred frequency Q-DEC will be used.\n",
      "  % freq, ValueWarning)\n",
      "C:\\Users\\matth\\anaconda3\\lib\\site-packages\\statsmodels\\tsa\\base\\tsa_model.py:162: ValueWarning: No frequency information was provided, so inferred frequency Q-DEC will be used.\n",
      "  % freq, ValueWarning)\n",
      "C:\\Users\\matth\\anaconda3\\lib\\site-packages\\statsmodels\\tsa\\base\\tsa_model.py:162: ValueWarning: No frequency information was provided, so inferred frequency Q-DEC will be used.\n",
      "  % freq, ValueWarning)\n"
     ]
    },
    {
     "name": "stdout",
     "output_type": "stream",
     "text": [
      "The AIC for ARIMA(11,1,0) is: 1461.478856622216\n",
      "Attempting to fit ARIMA(11,1,1)\n"
     ]
    },
    {
     "name": "stderr",
     "output_type": "stream",
     "text": [
      "C:\\Users\\matth\\anaconda3\\lib\\site-packages\\statsmodels\\tsa\\base\\tsa_model.py:162: ValueWarning: No frequency information was provided, so inferred frequency Q-DEC will be used.\n",
      "  % freq, ValueWarning)\n",
      "C:\\Users\\matth\\anaconda3\\lib\\site-packages\\statsmodels\\tsa\\base\\tsa_model.py:162: ValueWarning: No frequency information was provided, so inferred frequency Q-DEC will be used.\n",
      "  % freq, ValueWarning)\n"
     ]
    },
    {
     "name": "stdout",
     "output_type": "stream",
     "text": [
      "The AIC for ARIMA(11,1,1) is: 1463.2022382436287\n",
      "Attempting to fit ARIMA(11,1,2)\n"
     ]
    },
    {
     "name": "stderr",
     "output_type": "stream",
     "text": [
      "C:\\Users\\matth\\anaconda3\\lib\\site-packages\\statsmodels\\tsa\\base\\tsa_model.py:162: ValueWarning: No frequency information was provided, so inferred frequency Q-DEC will be used.\n",
      "  % freq, ValueWarning)\n",
      "C:\\Users\\matth\\anaconda3\\lib\\site-packages\\statsmodels\\tsa\\base\\tsa_model.py:162: ValueWarning: No frequency information was provided, so inferred frequency Q-DEC will be used.\n",
      "  % freq, ValueWarning)\n"
     ]
    },
    {
     "name": "stdout",
     "output_type": "stream",
     "text": [
      "The AIC for ARIMA(11,1,2) is: 1448.2561545603044\n",
      "Attempting to fit ARIMA(11,1,3)\n"
     ]
    },
    {
     "name": "stderr",
     "output_type": "stream",
     "text": [
      "C:\\Users\\matth\\anaconda3\\lib\\site-packages\\statsmodels\\tsa\\base\\tsa_model.py:162: ValueWarning: No frequency information was provided, so inferred frequency Q-DEC will be used.\n",
      "  % freq, ValueWarning)\n",
      "C:\\Users\\matth\\anaconda3\\lib\\site-packages\\statsmodels\\tsa\\base\\tsa_model.py:162: ValueWarning: No frequency information was provided, so inferred frequency Q-DEC will be used.\n",
      "  % freq, ValueWarning)\n"
     ]
    },
    {
     "name": "stdout",
     "output_type": "stream",
     "text": [
      "The AIC for ARIMA(11,1,3) is: 1441.1625433246402\n",
      "Attempting to fit ARIMA(11,1,4)\n"
     ]
    },
    {
     "name": "stderr",
     "output_type": "stream",
     "text": [
      "C:\\Users\\matth\\anaconda3\\lib\\site-packages\\statsmodels\\tsa\\base\\tsa_model.py:162: ValueWarning: No frequency information was provided, so inferred frequency Q-DEC will be used.\n",
      "  % freq, ValueWarning)\n",
      "C:\\Users\\matth\\anaconda3\\lib\\site-packages\\statsmodels\\tsa\\base\\tsa_model.py:162: ValueWarning: No frequency information was provided, so inferred frequency Q-DEC will be used.\n",
      "  % freq, ValueWarning)\n",
      "C:\\Users\\matth\\anaconda3\\lib\\site-packages\\statsmodels\\base\\model.py:568: ConvergenceWarning: Maximum Likelihood optimization failed to converge. Check mle_retvals\n",
      "  \"Check mle_retvals\", ConvergenceWarning)\n",
      "C:\\Users\\matth\\anaconda3\\lib\\site-packages\\statsmodels\\tsa\\base\\tsa_model.py:162: ValueWarning: No frequency information was provided, so inferred frequency Q-DEC will be used.\n",
      "  % freq, ValueWarning)\n",
      "C:\\Users\\matth\\anaconda3\\lib\\site-packages\\statsmodels\\tsa\\base\\tsa_model.py:162: ValueWarning: No frequency information was provided, so inferred frequency Q-DEC will be used.\n",
      "  % freq, ValueWarning)\n"
     ]
    },
    {
     "name": "stdout",
     "output_type": "stream",
     "text": [
      "The AIC for ARIMA(11,1,4) is: 1442.809066278583\n",
      "Attempting to fit ARIMA(11,1,5)\n"
     ]
    },
    {
     "name": "stderr",
     "output_type": "stream",
     "text": [
      "C:\\Users\\matth\\anaconda3\\lib\\site-packages\\statsmodels\\base\\model.py:548: HessianInversionWarning: Inverting hessian failed, no bse or cov_params available\n",
      "  'available', HessianInversionWarning)\n",
      "C:\\Users\\matth\\anaconda3\\lib\\site-packages\\statsmodels\\base\\model.py:568: ConvergenceWarning: Maximum Likelihood optimization failed to converge. Check mle_retvals\n",
      "  \"Check mle_retvals\", ConvergenceWarning)\n",
      "C:\\Users\\matth\\anaconda3\\lib\\site-packages\\statsmodels\\tsa\\base\\tsa_model.py:162: ValueWarning: No frequency information was provided, so inferred frequency Q-DEC will be used.\n",
      "  % freq, ValueWarning)\n",
      "C:\\Users\\matth\\anaconda3\\lib\\site-packages\\statsmodels\\tsa\\base\\tsa_model.py:162: ValueWarning: No frequency information was provided, so inferred frequency Q-DEC will be used.\n",
      "  % freq, ValueWarning)\n"
     ]
    },
    {
     "name": "stdout",
     "output_type": "stream",
     "text": [
      "The AIC for ARIMA(11,1,5) is: 1447.0882690065973\n",
      "Attempting to fit ARIMA(11,1,6)\n",
      "The AIC for ARIMA(11,1,6) is: 1447.2365580610744\n",
      "Attempting to fit ARIMA(11,1,7)\n",
      "Attempting to fit ARIMA(11,1,8)\n",
      "Attempting to fit ARIMA(11,1,9)\n",
      "Attempting to fit ARIMA(11,1,10)\n",
      "Attempting to fit ARIMA(11,1,11)\n",
      "\n",
      "\n",
      "MODEL FINISHED!\n",
      "Our model that minimizes AIC on the training data is the ARIMA(3,1,6).\n",
      "This model has an AIC of 1432.5419959352982.\n"
     ]
    },
    {
     "name": "stderr",
     "output_type": "stream",
     "text": [
      "C:\\Users\\matth\\anaconda3\\lib\\site-packages\\statsmodels\\base\\model.py:548: HessianInversionWarning: Inverting hessian failed, no bse or cov_params available\n",
      "  'available', HessianInversionWarning)\n",
      "C:\\Users\\matth\\anaconda3\\lib\\site-packages\\statsmodels\\tsa\\base\\tsa_model.py:162: ValueWarning: No frequency information was provided, so inferred frequency Q-DEC will be used.\n",
      "  % freq, ValueWarning)\n",
      "C:\\Users\\matth\\anaconda3\\lib\\site-packages\\statsmodels\\tsa\\base\\tsa_model.py:162: ValueWarning: No frequency information was provided, so inferred frequency Q-DEC will be used.\n",
      "  % freq, ValueWarning)\n",
      "C:\\Users\\matth\\anaconda3\\lib\\site-packages\\statsmodels\\tsa\\base\\tsa_model.py:162: ValueWarning: No frequency information was provided, so inferred frequency Q-DEC will be used.\n",
      "  % freq, ValueWarning)\n",
      "C:\\Users\\matth\\anaconda3\\lib\\site-packages\\statsmodels\\tsa\\base\\tsa_model.py:162: ValueWarning: No frequency information was provided, so inferred frequency Q-DEC will be used.\n",
      "  % freq, ValueWarning)\n",
      "C:\\Users\\matth\\anaconda3\\lib\\site-packages\\statsmodels\\tsa\\base\\tsa_model.py:162: ValueWarning: No frequency information was provided, so inferred frequency Q-DEC will be used.\n",
      "  % freq, ValueWarning)\n",
      "C:\\Users\\matth\\anaconda3\\lib\\site-packages\\statsmodels\\tsa\\base\\tsa_model.py:162: ValueWarning: No frequency information was provided, so inferred frequency Q-DEC will be used.\n",
      "  % freq, ValueWarning)\n",
      "C:\\Users\\matth\\anaconda3\\lib\\site-packages\\statsmodels\\tsa\\base\\tsa_model.py:162: ValueWarning: No frequency information was provided, so inferred frequency Q-DEC will be used.\n",
      "  % freq, ValueWarning)\n",
      "C:\\Users\\matth\\anaconda3\\lib\\site-packages\\statsmodels\\tsa\\base\\tsa_model.py:162: ValueWarning: No frequency information was provided, so inferred frequency Q-DEC will be used.\n",
      "  % freq, ValueWarning)\n",
      "C:\\Users\\matth\\anaconda3\\lib\\site-packages\\statsmodels\\tsa\\base\\tsa_model.py:162: ValueWarning: No frequency information was provided, so inferred frequency Q-DEC will be used.\n",
      "  % freq, ValueWarning)\n",
      "C:\\Users\\matth\\anaconda3\\lib\\site-packages\\statsmodels\\tsa\\base\\tsa_model.py:162: ValueWarning: No frequency information was provided, so inferred frequency Q-DEC will be used.\n",
      "  % freq, ValueWarning)\n"
     ]
    }
   ],
   "source": [
    "#Code taking from a GA ARIMA Lesson \n",
    "\n",
    "# Starting AIC, p, and q.\n",
    "best_aic = 99 * (10**16) # HUGE NUMBER\n",
    "best_p = 0\n",
    "best_q = 0\n",
    "# Use nested for loop to iterate over values of p and q.\n",
    "for p in range(12):\n",
    "    for q in range(12):\n",
    "        # Insert try and except statements.\n",
    "        try:\n",
    "            # Fitting an ARIMA(p, 1, q) model.\n",
    "            print(f'Attempting to fit ARIMA({p},1,{q})')\n",
    "            # Instantiate ARIMA model.\n",
    "            arima = ARIMA(endog = y_train_pct.dropna(), # endog = y\n",
    "                          order = (p, 1, q)) # values of p, d, q\n",
    "            # Fit ARIMA model.\n",
    "            model = arima.fit()\n",
    "            # Print out AIC for ARIMA(p, 1, q) model.\n",
    "            print(f'The AIC for ARIMA({p},1,{q}) is: {model.aic}')\n",
    "            # Is my current model's AIC better than our best_aic?\n",
    "            if model.aic < best_aic:\n",
    "                # If so, let's overwrite best_aic, best_p, and best_q.\n",
    "                best_aic = model.aic\n",
    "                best_p = p\n",
    "                best_q = q\n",
    "        except:\n",
    "            pass\n",
    "print()\n",
    "print()\n",
    "print('MODEL FINISHED!')\n",
    "print(f'Our model that minimizes AIC on the training data is the ARIMA({best_p},1,{best_q}).')\n",
    "print(f'This model has an AIC of {best_aic}.')"
   ]
  },
  {
   "cell_type": "markdown",
   "metadata": {},
   "source": [
    "# Training the best real gdp ARIMA model"
   ]
  },
  {
   "cell_type": "code",
   "execution_count": 33,
   "metadata": {},
   "outputs": [
    {
     "name": "stderr",
     "output_type": "stream",
     "text": [
      "C:\\Users\\matth\\anaconda3\\lib\\site-packages\\statsmodels\\tsa\\base\\tsa_model.py:162: ValueWarning: No frequency information was provided, so inferred frequency Q-DEC will be used.\n",
      "  % freq, ValueWarning)\n",
      "C:\\Users\\matth\\anaconda3\\lib\\site-packages\\statsmodels\\tsa\\base\\tsa_model.py:162: ValueWarning: No frequency information was provided, so inferred frequency Q-DEC will be used.\n",
      "  % freq, ValueWarning)\n",
      "C:\\Users\\matth\\anaconda3\\lib\\site-packages\\statsmodels\\base\\model.py:548: HessianInversionWarning: Inverting hessian failed, no bse or cov_params available\n",
      "  'available', HessianInversionWarning)\n",
      "C:\\Users\\matth\\anaconda3\\lib\\site-packages\\statsmodels\\base\\model.py:568: ConvergenceWarning: Maximum Likelihood optimization failed to converge. Check mle_retvals\n",
      "  \"Check mle_retvals\", ConvergenceWarning)\n"
     ]
    }
   ],
   "source": [
    "# Instantiate best model.\n",
    "model = ARIMA(endog = y_train_pct.dropna(), # endog = y\n",
    "                          order = (3, 1, 6))\n",
    "# Fit ARIMA model.\n",
    "arima = model.fit()\n",
    "# Generate predictions based on test set.\n",
    "preds = model.predict(params = arima.params,\n",
    "                      start = y_test_pct.index[0],\n",
    "                      end = y_test_pct.index[-1])"
   ]
  },
  {
   "cell_type": "code",
   "execution_count": 36,
   "metadata": {},
   "outputs": [
    {
     "data": {
      "image/png": "[encoded data removed]",
      "text/plain": [
       "<Figure size 720x432 with 1 Axes>"
      ]
     },
     "metadata": {
      "needs_background": "light"
     },
     "output_type": "display_data"
    }
   ],
   "source": [
    "# Plot data.\n",
    "plt.figure(figsize=(10,6))\n",
    "# Plot training data.\n",
    "plt.plot(y_train_pct.index, pd.DataFrame(y_train_pct).diff(), color = 'blue')\n",
    "# Plot testing data.\n",
    "plt.plot(y_test_pct.index, pd.DataFrame(y_test_pct).diff(), color = 'orange')\n",
    "# Plot predicted test values.\n",
    "plt.plot(y_test_pct.index, preds, color = 'green')\n",
    "plt.title(label = 'Real GDP ARIMA(3, 1, 6) Predictions', fontsize=16)\n",
    "plt.show();"
   ]
  },
  {
   "cell_type": "code",
   "execution_count": 37,
   "metadata": {},
   "outputs": [
    {
     "data": {
      "text/plain": [
       "array([ 2.08264082, -0.0362394 ,  0.87952611,  0.54576486, -0.57018971,\n",
       "       -0.5851082 ,  0.46152741,  0.20009779, -0.6725906 , -0.1753174 ,\n",
       "        0.50014702, -0.13271676, -0.56545964,  0.14620129,  0.35438482,\n",
       "       -0.34841414, -0.33579408,  0.31308974,  0.12730245, -0.41047417,\n",
       "       -0.08440107,  0.3235839 , -0.08469375, -0.34104309,  0.109247  ,\n",
       "        0.22279324, -0.21880087, -0.19680921,  0.20534556,  0.07573778])"
      ]
     },
     "execution_count": 37,
     "metadata": {},
     "output_type": "execute_result"
    }
   ],
   "source": [
    "preds"
   ]
  },
  {
   "cell_type": "code",
   "execution_count": 38,
   "metadata": {},
   "outputs": [
    {
     "data": {
      "text/plain": [
       "DatetimeIndex(['2013-03-31', '2013-06-30', '2013-09-30', '2013-12-31',\n",
       "               '2014-03-31', '2014-06-30', '2014-09-30', '2014-12-31',\n",
       "               '2015-03-31', '2015-06-30', '2015-09-30', '2015-12-31',\n",
       "               '2016-03-31', '2016-06-30', '2016-09-30', '2016-12-31',\n",
       "               '2017-03-31', '2017-06-30', '2017-09-30', '2017-12-31',\n",
       "               '2018-03-31', '2018-06-30', '2018-09-30', '2018-12-31',\n",
       "               '2019-03-31', '2019-06-30', '2019-09-30', '2019-12-31',\n",
       "               '2020-03-31', '2020-06-30'],\n",
       "              dtype='datetime64[ns]', name='TimePeriod', freq=None)"
      ]
     },
     "execution_count": 38,
     "metadata": {},
     "output_type": "execute_result"
    }
   ],
   "source": [
    "y_test_pct.index"
   ]
  },
  {
   "cell_type": "markdown",
   "metadata": {},
   "source": [
    "# AutoRegressive Integrated Moving Average with exogenous regressors model\n",
    "\n",
    "Note: it is SARIMAX with out a seasonal component."
   ]
  },
  {
   "cell_type": "code",
   "execution_count": 21,
   "metadata": {},
   "outputs": [],
   "source": [
    "endog = df.loc['1948-06-30':'2020-06-30', 'gdp_percent_delta']"
   ]
  },
  {
   "cell_type": "code",
   "execution_count": 22,
   "metadata": {},
   "outputs": [],
   "source": [
    "exdog = sm.add_constant(df.loc['1948-06-30':'2020-06-30', ['consumption_pct_delta','investment_pct_delta','Exports_percent_delta', 'Imports_percent_delta','government_spending_percent_delta', 'gdp_percent_2delta','consumption_pct_2delta', 'investment_pct_2delta', 'Exports_pct_2delta','government_spending_pct_2delta','unemployment_rate', 'employed', 'Unemployed', 'civilian_labor_force','civilian_labor_force_participation_rate','unemployment_rate_percent_delta', 'employed_percent_delta','Unemployed_percent_delta', 'civilian_labor_force_percent_delta','civilian_labor_force_participation_rate_percent_delta']])"
   ]
  },
  {
   "cell_type": "code",
   "execution_count": 23,
   "metadata": {},
   "outputs": [],
   "source": [
    "# Create train-test split.\n",
    "X_train, X_test, y_train, y_test = train_test_split(exdog, endog, # The Model will handle differencing\n",
    "                                   test_size = .1, \n",
    "                                   shuffle = False # Must have for time seires\n",
    "                                  )"
   ]
  },
  {
   "cell_type": "code",
   "execution_count": 177,
   "metadata": {},
   "outputs": [
    {
     "data": {
      "text/html": [
       "<div>\n",
       "<style scoped>\n",
       "    .dataframe tbody tr th:only-of-type {\n",
       "        vertical-align: middle;\n",
       "    }\n",
       "\n",
       "    .dataframe tbody tr th {\n",
       "        vertical-align: top;\n",
       "    }\n",
       "\n",
       "    .dataframe thead th {\n",
       "        text-align: right;\n",
       "    }\n",
       "</style>\n",
       "<table border=\"1\" class=\"dataframe\">\n",
       "  <thead>\n",
       "    <tr style=\"text-align: right;\">\n",
       "      <th></th>\n",
       "      <th>const</th>\n",
       "      <th>consumption_pct_delta</th>\n",
       "      <th>investment_pct_delta</th>\n",
       "      <th>Exports_percent_delta</th>\n",
       "      <th>Imports_percent_delta</th>\n",
       "      <th>government_spending_percent_delta</th>\n",
       "      <th>gdp_percent_2delta</th>\n",
       "      <th>consumption_pct_2delta</th>\n",
       "      <th>investment_pct_2delta</th>\n",
       "      <th>Exports_pct_2delta</th>\n",
       "      <th>...</th>\n",
       "      <th>unemployment_rate</th>\n",
       "      <th>employed</th>\n",
       "      <th>Unemployed</th>\n",
       "      <th>civilian_labor_force</th>\n",
       "      <th>civilian_labor_force_participation_rate</th>\n",
       "      <th>unemployment_rate_percent_delta</th>\n",
       "      <th>employed_percent_delta</th>\n",
       "      <th>Unemployed_percent_delta</th>\n",
       "      <th>civilian_labor_force_percent_delta</th>\n",
       "      <th>civilian_labor_force_participation_rate_percent_delta</th>\n",
       "    </tr>\n",
       "    <tr>\n",
       "      <th>TimePeriod</th>\n",
       "      <th></th>\n",
       "      <th></th>\n",
       "      <th></th>\n",
       "      <th></th>\n",
       "      <th></th>\n",
       "      <th></th>\n",
       "      <th></th>\n",
       "      <th></th>\n",
       "      <th></th>\n",
       "      <th></th>\n",
       "      <th></th>\n",
       "      <th></th>\n",
       "      <th></th>\n",
       "      <th></th>\n",
       "      <th></th>\n",
       "      <th></th>\n",
       "      <th></th>\n",
       "      <th></th>\n",
       "      <th></th>\n",
       "      <th></th>\n",
       "      <th></th>\n",
       "    </tr>\n",
       "  </thead>\n",
       "  <tbody>\n",
       "    <tr>\n",
       "      <th>1948-06-30</th>\n",
       "      <td>1.0</td>\n",
       "      <td>4.736097</td>\n",
       "      <td>27.148009</td>\n",
       "      <td>-32.470522</td>\n",
       "      <td>16.826387</td>\n",
       "      <td>14.872934</td>\n",
       "      <td>0.097325</td>\n",
       "      <td>1.335017</td>\n",
       "      <td>-0.396861</td>\n",
       "      <td>1.049506</td>\n",
       "      <td>...</td>\n",
       "      <td>3.6</td>\n",
       "      <td>58743.0</td>\n",
       "      <td>2214.0</td>\n",
       "      <td>60957.0</td>\n",
       "      <td>59.2</td>\n",
       "      <td>-0.100000</td>\n",
       "      <td>0.018588</td>\n",
       "      <td>-0.077115</td>\n",
       "      <td>0.014766</td>\n",
       "      <td>0.011966</td>\n",
       "    </tr>\n",
       "    <tr>\n",
       "      <th>1948-09-30</th>\n",
       "      <td>1.0</td>\n",
       "      <td>0.591708</td>\n",
       "      <td>4.160956</td>\n",
       "      <td>9.743802</td>\n",
       "      <td>22.580189</td>\n",
       "      <td>8.609979</td>\n",
       "      <td>-0.652928</td>\n",
       "      <td>-0.873148</td>\n",
       "      <td>-0.834468</td>\n",
       "      <td>-1.251548</td>\n",
       "      <td>...</td>\n",
       "      <td>3.8</td>\n",
       "      <td>58513.0</td>\n",
       "      <td>2302.0</td>\n",
       "      <td>60815.0</td>\n",
       "      <td>58.9</td>\n",
       "      <td>0.055556</td>\n",
       "      <td>-0.003915</td>\n",
       "      <td>0.039747</td>\n",
       "      <td>-0.002330</td>\n",
       "      <td>-0.005068</td>\n",
       "    </tr>\n",
       "    <tr>\n",
       "      <th>1948-12-31</th>\n",
       "      <td>1.0</td>\n",
       "      <td>3.230697</td>\n",
       "      <td>-17.798842</td>\n",
       "      <td>-13.371874</td>\n",
       "      <td>-6.332499</td>\n",
       "      <td>15.567625</td>\n",
       "      <td>-0.804953</td>\n",
       "      <td>4.406978</td>\n",
       "      <td>-5.668049</td>\n",
       "      <td>-2.498930</td>\n",
       "      <td>...</td>\n",
       "      <td>4.0</td>\n",
       "      <td>58740.0</td>\n",
       "      <td>2429.0</td>\n",
       "      <td>61169.0</td>\n",
       "      <td>59.1</td>\n",
       "      <td>0.052632</td>\n",
       "      <td>0.003879</td>\n",
       "      <td>0.055169</td>\n",
       "      <td>0.005821</td>\n",
       "      <td>0.003396</td>\n",
       "    </tr>\n",
       "    <tr>\n",
       "      <th>1949-03-31</th>\n",
       "      <td>1.0</td>\n",
       "      <td>0.649057</td>\n",
       "      <td>-47.633551</td>\n",
       "      <td>57.175177</td>\n",
       "      <td>-11.468309</td>\n",
       "      <td>11.039360</td>\n",
       "      <td>-13.331583</td>\n",
       "      <td>-0.797172</td>\n",
       "      <td>2.122725</td>\n",
       "      <td>-4.395316</td>\n",
       "      <td>...</td>\n",
       "      <td>5.0</td>\n",
       "      <td>58043.0</td>\n",
       "      <td>3030.0</td>\n",
       "      <td>61073.0</td>\n",
       "      <td>58.9</td>\n",
       "      <td>0.250000</td>\n",
       "      <td>-0.011866</td>\n",
       "      <td>0.247427</td>\n",
       "      <td>-0.001569</td>\n",
       "      <td>-0.003384</td>\n",
       "    </tr>\n",
       "    <tr>\n",
       "      <th>1949-06-30</th>\n",
       "      <td>1.0</td>\n",
       "      <td>6.273223</td>\n",
       "      <td>-43.479531</td>\n",
       "      <td>-3.384139</td>\n",
       "      <td>-5.708570</td>\n",
       "      <td>18.547221</td>\n",
       "      <td>-0.752461</td>\n",
       "      <td>8.468708</td>\n",
       "      <td>-0.109762</td>\n",
       "      <td>-1.071603</td>\n",
       "      <td>...</td>\n",
       "      <td>6.2</td>\n",
       "      <td>57172.0</td>\n",
       "      <td>3776.0</td>\n",
       "      <td>60948.0</td>\n",
       "      <td>58.6</td>\n",
       "      <td>0.240000</td>\n",
       "      <td>-0.015006</td>\n",
       "      <td>0.246205</td>\n",
       "      <td>-0.002047</td>\n",
       "      <td>-0.005093</td>\n",
       "    </tr>\n",
       "    <tr>\n",
       "      <th>...</th>\n",
       "      <td>...</td>\n",
       "      <td>...</td>\n",
       "      <td>...</td>\n",
       "      <td>...</td>\n",
       "      <td>...</td>\n",
       "      <td>...</td>\n",
       "      <td>...</td>\n",
       "      <td>...</td>\n",
       "      <td>...</td>\n",
       "      <td>...</td>\n",
       "      <td>...</td>\n",
       "      <td>...</td>\n",
       "      <td>...</td>\n",
       "      <td>...</td>\n",
       "      <td>...</td>\n",
       "      <td>...</td>\n",
       "      <td>...</td>\n",
       "      <td>...</td>\n",
       "      <td>...</td>\n",
       "      <td>...</td>\n",
       "      <td>...</td>\n",
       "    </tr>\n",
       "    <tr>\n",
       "      <th>2012-03-31</th>\n",
       "      <td>1.0</td>\n",
       "      <td>3.250756</td>\n",
       "      <td>8.620266</td>\n",
       "      <td>2.506757</td>\n",
       "      <td>2.192532</td>\n",
       "      <td>-1.711566</td>\n",
       "      <td>-0.324590</td>\n",
       "      <td>3.393944</td>\n",
       "      <td>-0.728996</td>\n",
       "      <td>-0.398175</td>\n",
       "      <td>...</td>\n",
       "      <td>8.2</td>\n",
       "      <td>142036.0</td>\n",
       "      <td>12713.0</td>\n",
       "      <td>154749.0</td>\n",
       "      <td>63.8</td>\n",
       "      <td>-0.035294</td>\n",
       "      <td>0.008048</td>\n",
       "      <td>-0.029023</td>\n",
       "      <td>0.004896</td>\n",
       "      <td>-0.003125</td>\n",
       "    </tr>\n",
       "    <tr>\n",
       "      <th>2012-06-30</th>\n",
       "      <td>1.0</td>\n",
       "      <td>0.594835</td>\n",
       "      <td>9.532828</td>\n",
       "      <td>4.433127</td>\n",
       "      <td>1.984483</td>\n",
       "      <td>-2.075458</td>\n",
       "      <td>-0.450568</td>\n",
       "      <td>-0.815212</td>\n",
       "      <td>0.102336</td>\n",
       "      <td>0.756080</td>\n",
       "      <td>...</td>\n",
       "      <td>8.2</td>\n",
       "      <td>142391.0</td>\n",
       "      <td>12692.0</td>\n",
       "      <td>155083.0</td>\n",
       "      <td>63.8</td>\n",
       "      <td>0.000000</td>\n",
       "      <td>0.002499</td>\n",
       "      <td>-0.001652</td>\n",
       "      <td>0.002158</td>\n",
       "      <td>0.000000</td>\n",
       "    </tr>\n",
       "    <tr>\n",
       "      <th>2012-09-30</th>\n",
       "      <td>1.0</td>\n",
       "      <td>0.654290</td>\n",
       "      <td>1.827530</td>\n",
       "      <td>2.100293</td>\n",
       "      <td>2.157007</td>\n",
       "      <td>-0.613150</td>\n",
       "      <td>-0.686314</td>\n",
       "      <td>0.099707</td>\n",
       "      <td>-0.802913</td>\n",
       "      <td>-0.522170</td>\n",
       "      <td>...</td>\n",
       "      <td>7.8</td>\n",
       "      <td>143044.0</td>\n",
       "      <td>12115.0</td>\n",
       "      <td>155160.0</td>\n",
       "      <td>63.6</td>\n",
       "      <td>-0.048780</td>\n",
       "      <td>0.004586</td>\n",
       "      <td>-0.045462</td>\n",
       "      <td>0.000497</td>\n",
       "      <td>-0.003135</td>\n",
       "    </tr>\n",
       "    <tr>\n",
       "      <th>2012-12-31</th>\n",
       "      <td>1.0</td>\n",
       "      <td>1.804864</td>\n",
       "      <td>-3.510214</td>\n",
       "      <td>-0.508376</td>\n",
       "      <td>-3.796923</td>\n",
       "      <td>-3.890166</td>\n",
       "      <td>-0.156171</td>\n",
       "      <td>1.746745</td>\n",
       "      <td>-2.959846</td>\n",
       "      <td>-1.244414</td>\n",
       "      <td>...</td>\n",
       "      <td>7.9</td>\n",
       "      <td>143330.0</td>\n",
       "      <td>12298.0</td>\n",
       "      <td>155628.0</td>\n",
       "      <td>63.7</td>\n",
       "      <td>0.012821</td>\n",
       "      <td>0.001999</td>\n",
       "      <td>0.015105</td>\n",
       "      <td>0.003016</td>\n",
       "      <td>0.001572</td>\n",
       "    </tr>\n",
       "    <tr>\n",
       "      <th>2013-03-31</th>\n",
       "      <td>1.0</td>\n",
       "      <td>2.090342</td>\n",
       "      <td>15.769610</td>\n",
       "      <td>4.640623</td>\n",
       "      <td>1.174645</td>\n",
       "      <td>-3.536142</td>\n",
       "      <td>6.777728</td>\n",
       "      <td>0.156951</td>\n",
       "      <td>-5.192547</td>\n",
       "      <td>-9.956523</td>\n",
       "      <td>...</td>\n",
       "      <td>7.5</td>\n",
       "      <td>143316.0</td>\n",
       "      <td>11689.0</td>\n",
       "      <td>155005.0</td>\n",
       "      <td>63.3</td>\n",
       "      <td>-0.050633</td>\n",
       "      <td>-0.000098</td>\n",
       "      <td>-0.049520</td>\n",
       "      <td>-0.004003</td>\n",
       "      <td>-0.006279</td>\n",
       "    </tr>\n",
       "  </tbody>\n",
       "</table>\n",
       "<p>260 rows × 21 columns</p>\n",
       "</div>"
      ],
      "text/plain": [
       "            const  consumption_pct_delta  investment_pct_delta  \\\n",
       "TimePeriod                                                       \n",
       "1948-06-30    1.0               4.736097             27.148009   \n",
       "1948-09-30    1.0               0.591708              4.160956   \n",
       "1948-12-31    1.0               3.230697            -17.798842   \n",
       "1949-03-31    1.0               0.649057            -47.633551   \n",
       "1949-06-30    1.0               6.273223            -43.479531   \n",
       "...           ...                    ...                   ...   \n",
       "2012-03-31    1.0               3.250756              8.620266   \n",
       "2012-06-30    1.0               0.594835              9.532828   \n",
       "2012-09-30    1.0               0.654290              1.827530   \n",
       "2012-12-31    1.0               1.804864             -3.510214   \n",
       "2013-03-31    1.0               2.090342             15.769610   \n",
       "\n",
       "            Exports_percent_delta  Imports_percent_delta  \\\n",
       "TimePeriod                                                 \n",
       "1948-06-30             -32.470522              16.826387   \n",
       "1948-09-30               9.743802              22.580189   \n",
       "1948-12-31             -13.371874              -6.332499   \n",
       "1949-03-31              57.175177             -11.468309   \n",
       "1949-06-30              -3.384139              -5.708570   \n",
       "...                           ...                    ...   \n",
       "2012-03-31               2.506757               2.192532   \n",
       "2012-06-30               4.433127               1.984483   \n",
       "2012-09-30               2.100293               2.157007   \n",
       "2012-12-31              -0.508376              -3.796923   \n",
       "2013-03-31               4.640623               1.174645   \n",
       "\n",
       "            government_spending_percent_delta  gdp_percent_2delta  \\\n",
       "TimePeriod                                                          \n",
       "1948-06-30                          14.872934            0.097325   \n",
       "1948-09-30                           8.609979           -0.652928   \n",
       "1948-12-31                          15.567625           -0.804953   \n",
       "1949-03-31                          11.039360          -13.331583   \n",
       "1949-06-30                          18.547221           -0.752461   \n",
       "...                                       ...                 ...   \n",
       "2012-03-31                          -1.711566           -0.324590   \n",
       "2012-06-30                          -2.075458           -0.450568   \n",
       "2012-09-30                          -0.613150           -0.686314   \n",
       "2012-12-31                          -3.890166           -0.156171   \n",
       "2013-03-31                          -3.536142            6.777728   \n",
       "\n",
       "            consumption_pct_2delta  investment_pct_2delta  Exports_pct_2delta  \\\n",
       "TimePeriod                                                                      \n",
       "1948-06-30                1.335017              -0.396861            1.049506   \n",
       "1948-09-30               -0.873148              -0.834468           -1.251548   \n",
       "1948-12-31                4.406978              -5.668049           -2.498930   \n",
       "1949-03-31               -0.797172               2.122725           -4.395316   \n",
       "1949-06-30                8.468708              -0.109762           -1.071603   \n",
       "...                            ...                    ...                 ...   \n",
       "2012-03-31                3.393944              -0.728996           -0.398175   \n",
       "2012-06-30               -0.815212               0.102336            0.756080   \n",
       "2012-09-30                0.099707              -0.802913           -0.522170   \n",
       "2012-12-31                1.746745              -2.959846           -1.244414   \n",
       "2013-03-31                0.156951              -5.192547           -9.956523   \n",
       "\n",
       "            ...  unemployment_rate  employed  Unemployed  \\\n",
       "TimePeriod  ...                                            \n",
       "1948-06-30  ...                3.6   58743.0      2214.0   \n",
       "1948-09-30  ...                3.8   58513.0      2302.0   \n",
       "1948-12-31  ...                4.0   58740.0      2429.0   \n",
       "1949-03-31  ...                5.0   58043.0      3030.0   \n",
       "1949-06-30  ...                6.2   57172.0      3776.0   \n",
       "...         ...                ...       ...         ...   \n",
       "2012-03-31  ...                8.2  142036.0     12713.0   \n",
       "2012-06-30  ...                8.2  142391.0     12692.0   \n",
       "2012-09-30  ...                7.8  143044.0     12115.0   \n",
       "2012-12-31  ...                7.9  143330.0     12298.0   \n",
       "2013-03-31  ...                7.5  143316.0     11689.0   \n",
       "\n",
       "            civilian_labor_force  civilian_labor_force_participation_rate  \\\n",
       "TimePeriod                                                                  \n",
       "1948-06-30               60957.0                                     59.2   \n",
       "1948-09-30               60815.0                                     58.9   \n",
       "1948-12-31               61169.0                                     59.1   \n",
       "1949-03-31               61073.0                                     58.9   \n",
       "1949-06-30               60948.0                                     58.6   \n",
       "...                          ...                                      ...   \n",
       "2012-03-31              154749.0                                     63.8   \n",
       "2012-06-30              155083.0                                     63.8   \n",
       "2012-09-30              155160.0                                     63.6   \n",
       "2012-12-31              155628.0                                     63.7   \n",
       "2013-03-31              155005.0                                     63.3   \n",
       "\n",
       "            unemployment_rate_percent_delta  employed_percent_delta  \\\n",
       "TimePeriod                                                            \n",
       "1948-06-30                        -0.100000                0.018588   \n",
       "1948-09-30                         0.055556               -0.003915   \n",
       "1948-12-31                         0.052632                0.003879   \n",
       "1949-03-31                         0.250000               -0.011866   \n",
       "1949-06-30                         0.240000               -0.015006   \n",
       "...                                     ...                     ...   \n",
       "2012-03-31                        -0.035294                0.008048   \n",
       "2012-06-30                         0.000000                0.002499   \n",
       "2012-09-30                        -0.048780                0.004586   \n",
       "2012-12-31                         0.012821                0.001999   \n",
       "2013-03-31                        -0.050633               -0.000098   \n",
       "\n",
       "            Unemployed_percent_delta  civilian_labor_force_percent_delta  \\\n",
       "TimePeriod                                                                 \n",
       "1948-06-30                 -0.077115                            0.014766   \n",
       "1948-09-30                  0.039747                           -0.002330   \n",
       "1948-12-31                  0.055169                            0.005821   \n",
       "1949-03-31                  0.247427                           -0.001569   \n",
       "1949-06-30                  0.246205                           -0.002047   \n",
       "...                              ...                                 ...   \n",
       "2012-03-31                 -0.029023                            0.004896   \n",
       "2012-06-30                 -0.001652                            0.002158   \n",
       "2012-09-30                 -0.045462                            0.000497   \n",
       "2012-12-31                  0.015105                            0.003016   \n",
       "2013-03-31                 -0.049520                           -0.004003   \n",
       "\n",
       "            civilian_labor_force_participation_rate_percent_delta  \n",
       "TimePeriod                                                         \n",
       "1948-06-30                                           0.011966      \n",
       "1948-09-30                                          -0.005068      \n",
       "1948-12-31                                           0.003396      \n",
       "1949-03-31                                          -0.003384      \n",
       "1949-06-30                                          -0.005093      \n",
       "...                                                       ...      \n",
       "2012-03-31                                          -0.003125      \n",
       "2012-06-30                                           0.000000      \n",
       "2012-09-30                                          -0.003135      \n",
       "2012-12-31                                           0.001572      \n",
       "2013-03-31                                          -0.006279      \n",
       "\n",
       "[260 rows x 21 columns]"
      ]
     },
     "execution_count": 177,
     "metadata": {},
     "output_type": "execute_result"
    }
   ],
   "source": [
    "X_train"
   ]
  },
  {
   "cell_type": "code",
   "execution_count": 105,
   "metadata": {},
   "outputs": [
    {
     "name": "stdout",
     "output_type": "stream",
     "text": [
      "Attempting to fit SARIMAX(0,1,0)\n"
     ]
    },
    {
     "name": "stderr",
     "output_type": "stream",
     "text": [
      "C:\\Users\\matth\\anaconda3\\lib\\site-packages\\statsmodels\\tsa\\base\\tsa_model.py:162: ValueWarning: No frequency information was provided, so inferred frequency Q-DEC will be used.\n",
      "  % freq, ValueWarning)\n",
      "C:\\Users\\matth\\anaconda3\\lib\\site-packages\\statsmodels\\tsa\\base\\tsa_model.py:162: ValueWarning: No frequency information was provided, so inferred frequency Q-DEC will be used.\n",
      "  % freq, ValueWarning)\n"
     ]
    },
    {
     "name": "stdout",
     "output_type": "stream",
     "text": [
      "The AIC for SARIMAX(0,1,0) is: 830.4159044904645\n",
      "Attempting to fit SARIMAX(0,1,1)\n"
     ]
    },
    {
     "name": "stderr",
     "output_type": "stream",
     "text": [
      "C:\\Users\\matth\\anaconda3\\lib\\site-packages\\statsmodels\\tsa\\base\\tsa_model.py:162: ValueWarning: No frequency information was provided, so inferred frequency Q-DEC will be used.\n",
      "  % freq, ValueWarning)\n",
      "C:\\Users\\matth\\anaconda3\\lib\\site-packages\\statsmodels\\tsa\\base\\tsa_model.py:162: ValueWarning: No frequency information was provided, so inferred frequency Q-DEC will be used.\n",
      "  % freq, ValueWarning)\n"
     ]
    },
    {
     "name": "stdout",
     "output_type": "stream",
     "text": [
      "The AIC for SARIMAX(0,1,1) is: 721.8237303023466\n",
      "Attempting to fit SARIMAX(0,1,2)\n"
     ]
    },
    {
     "name": "stderr",
     "output_type": "stream",
     "text": [
      "C:\\Users\\matth\\anaconda3\\lib\\site-packages\\statsmodels\\tsa\\base\\tsa_model.py:162: ValueWarning: No frequency information was provided, so inferred frequency Q-DEC will be used.\n",
      "  % freq, ValueWarning)\n",
      "C:\\Users\\matth\\anaconda3\\lib\\site-packages\\statsmodels\\tsa\\base\\tsa_model.py:162: ValueWarning: No frequency information was provided, so inferred frequency Q-DEC will be used.\n",
      "  % freq, ValueWarning)\n"
     ]
    },
    {
     "name": "stdout",
     "output_type": "stream",
     "text": [
      "The AIC for SARIMAX(0,1,2) is: 714.217795626593\n",
      "Attempting to fit SARIMAX(0,1,3)\n"
     ]
    },
    {
     "name": "stderr",
     "output_type": "stream",
     "text": [
      "C:\\Users\\matth\\anaconda3\\lib\\site-packages\\statsmodels\\tsa\\base\\tsa_model.py:162: ValueWarning: No frequency information was provided, so inferred frequency Q-DEC will be used.\n",
      "  % freq, ValueWarning)\n",
      "C:\\Users\\matth\\anaconda3\\lib\\site-packages\\statsmodels\\tsa\\base\\tsa_model.py:162: ValueWarning: No frequency information was provided, so inferred frequency Q-DEC will be used.\n",
      "  % freq, ValueWarning)\n"
     ]
    },
    {
     "name": "stdout",
     "output_type": "stream",
     "text": [
      "The AIC for SARIMAX(0,1,3) is: 728.6488812829238\n",
      "Attempting to fit SARIMAX(0,1,4)\n"
     ]
    },
    {
     "name": "stderr",
     "output_type": "stream",
     "text": [
      "C:\\Users\\matth\\anaconda3\\lib\\site-packages\\statsmodels\\tsa\\base\\tsa_model.py:162: ValueWarning: No frequency information was provided, so inferred frequency Q-DEC will be used.\n",
      "  % freq, ValueWarning)\n",
      "C:\\Users\\matth\\anaconda3\\lib\\site-packages\\statsmodels\\tsa\\base\\tsa_model.py:162: ValueWarning: No frequency information was provided, so inferred frequency Q-DEC will be used.\n",
      "  % freq, ValueWarning)\n"
     ]
    },
    {
     "name": "stdout",
     "output_type": "stream",
     "text": [
      "The AIC for SARIMAX(0,1,4) is: 744.8406146237844\n",
      "Attempting to fit SARIMAX(0,1,5)\n"
     ]
    },
    {
     "name": "stderr",
     "output_type": "stream",
     "text": [
      "C:\\Users\\matth\\anaconda3\\lib\\site-packages\\statsmodels\\tsa\\base\\tsa_model.py:162: ValueWarning: No frequency information was provided, so inferred frequency Q-DEC will be used.\n",
      "  % freq, ValueWarning)\n",
      "C:\\Users\\matth\\anaconda3\\lib\\site-packages\\statsmodels\\tsa\\base\\tsa_model.py:162: ValueWarning: No frequency information was provided, so inferred frequency Q-DEC will be used.\n",
      "  % freq, ValueWarning)\n"
     ]
    },
    {
     "name": "stdout",
     "output_type": "stream",
     "text": [
      "The AIC for SARIMAX(0,1,5) is: 771.1474560788882\n",
      "Attempting to fit SARIMAX(0,1,6)\n"
     ]
    },
    {
     "name": "stderr",
     "output_type": "stream",
     "text": [
      "C:\\Users\\matth\\anaconda3\\lib\\site-packages\\statsmodels\\tsa\\base\\tsa_model.py:162: ValueWarning: No frequency information was provided, so inferred frequency Q-DEC will be used.\n",
      "  % freq, ValueWarning)\n",
      "C:\\Users\\matth\\anaconda3\\lib\\site-packages\\statsmodels\\tsa\\base\\tsa_model.py:162: ValueWarning: No frequency information was provided, so inferred frequency Q-DEC will be used.\n",
      "  % freq, ValueWarning)\n"
     ]
    },
    {
     "name": "stdout",
     "output_type": "stream",
     "text": [
      "The AIC for SARIMAX(0,1,6) is: 771.1850142138223\n",
      "Attempting to fit SARIMAX(0,1,7)\n"
     ]
    },
    {
     "name": "stderr",
     "output_type": "stream",
     "text": [
      "C:\\Users\\matth\\anaconda3\\lib\\site-packages\\statsmodels\\tsa\\base\\tsa_model.py:162: ValueWarning: No frequency information was provided, so inferred frequency Q-DEC will be used.\n",
      "  % freq, ValueWarning)\n",
      "C:\\Users\\matth\\anaconda3\\lib\\site-packages\\statsmodels\\tsa\\base\\tsa_model.py:162: ValueWarning: No frequency information was provided, so inferred frequency Q-DEC will be used.\n",
      "  % freq, ValueWarning)\n"
     ]
    },
    {
     "name": "stdout",
     "output_type": "stream",
     "text": [
      "The AIC for SARIMAX(0,1,7) is: 769.3580365756534\n",
      "Attempting to fit SARIMAX(0,1,8)\n"
     ]
    },
    {
     "name": "stderr",
     "output_type": "stream",
     "text": [
      "C:\\Users\\matth\\anaconda3\\lib\\site-packages\\statsmodels\\tsa\\base\\tsa_model.py:162: ValueWarning: No frequency information was provided, so inferred frequency Q-DEC will be used.\n",
      "  % freq, ValueWarning)\n",
      "C:\\Users\\matth\\anaconda3\\lib\\site-packages\\statsmodels\\tsa\\base\\tsa_model.py:162: ValueWarning: No frequency information was provided, so inferred frequency Q-DEC will be used.\n",
      "  % freq, ValueWarning)\n",
      "C:\\Users\\matth\\anaconda3\\lib\\site-packages\\statsmodels\\base\\model.py:568: ConvergenceWarning: Maximum Likelihood optimization failed to converge. Check mle_retvals\n",
      "  \"Check mle_retvals\", ConvergenceWarning)\n",
      "C:\\Users\\matth\\anaconda3\\lib\\site-packages\\statsmodels\\tsa\\base\\tsa_model.py:162: ValueWarning: No frequency information was provided, so inferred frequency Q-DEC will be used.\n",
      "  % freq, ValueWarning)\n",
      "C:\\Users\\matth\\anaconda3\\lib\\site-packages\\statsmodels\\tsa\\base\\tsa_model.py:162: ValueWarning: No frequency information was provided, so inferred frequency Q-DEC will be used.\n",
      "  % freq, ValueWarning)\n"
     ]
    },
    {
     "name": "stdout",
     "output_type": "stream",
     "text": [
      "The AIC for SARIMAX(0,1,8) is: 772.0639723954378\n",
      "Attempting to fit SARIMAX(0,1,9)\n",
      "The AIC for SARIMAX(0,1,9) is: 757.391872869973\n",
      "Attempting to fit SARIMAX(0,1,10)\n"
     ]
    },
    {
     "name": "stderr",
     "output_type": "stream",
     "text": [
      "C:\\Users\\matth\\anaconda3\\lib\\site-packages\\statsmodels\\tsa\\base\\tsa_model.py:162: ValueWarning: No frequency information was provided, so inferred frequency Q-DEC will be used.\n",
      "  % freq, ValueWarning)\n",
      "C:\\Users\\matth\\anaconda3\\lib\\site-packages\\statsmodels\\tsa\\base\\tsa_model.py:162: ValueWarning: No frequency information was provided, so inferred frequency Q-DEC will be used.\n",
      "  % freq, ValueWarning)\n"
     ]
    },
    {
     "name": "stdout",
     "output_type": "stream",
     "text": [
      "The AIC for SARIMAX(0,1,10) is: 763.3432060364652\n",
      "Attempting to fit SARIMAX(0,1,11)\n"
     ]
    },
    {
     "name": "stderr",
     "output_type": "stream",
     "text": [
      "C:\\Users\\matth\\anaconda3\\lib\\site-packages\\statsmodels\\tsa\\base\\tsa_model.py:162: ValueWarning: No frequency information was provided, so inferred frequency Q-DEC will be used.\n",
      "  % freq, ValueWarning)\n",
      "C:\\Users\\matth\\anaconda3\\lib\\site-packages\\statsmodels\\tsa\\base\\tsa_model.py:162: ValueWarning: No frequency information was provided, so inferred frequency Q-DEC will be used.\n",
      "  % freq, ValueWarning)\n"
     ]
    },
    {
     "name": "stdout",
     "output_type": "stream",
     "text": [
      "The AIC for SARIMAX(0,1,11) is: 761.5866924103466\n",
      "Attempting to fit SARIMAX(1,1,0)\n"
     ]
    },
    {
     "name": "stderr",
     "output_type": "stream",
     "text": [
      "C:\\Users\\matth\\anaconda3\\lib\\site-packages\\statsmodels\\tsa\\base\\tsa_model.py:162: ValueWarning: No frequency information was provided, so inferred frequency Q-DEC will be used.\n",
      "  % freq, ValueWarning)\n",
      "C:\\Users\\matth\\anaconda3\\lib\\site-packages\\statsmodels\\tsa\\base\\tsa_model.py:162: ValueWarning: No frequency information was provided, so inferred frequency Q-DEC will be used.\n",
      "  % freq, ValueWarning)\n"
     ]
    },
    {
     "name": "stdout",
     "output_type": "stream",
     "text": [
      "The AIC for SARIMAX(1,1,0) is: 779.8900300085714\n",
      "Attempting to fit SARIMAX(1,1,1)\n"
     ]
    },
    {
     "name": "stderr",
     "output_type": "stream",
     "text": [
      "C:\\Users\\matth\\anaconda3\\lib\\site-packages\\statsmodels\\tsa\\base\\tsa_model.py:162: ValueWarning: No frequency information was provided, so inferred frequency Q-DEC will be used.\n",
      "  % freq, ValueWarning)\n",
      "C:\\Users\\matth\\anaconda3\\lib\\site-packages\\statsmodels\\tsa\\base\\tsa_model.py:162: ValueWarning: No frequency information was provided, so inferred frequency Q-DEC will be used.\n",
      "  % freq, ValueWarning)\n",
      "C:\\Users\\matth\\anaconda3\\lib\\site-packages\\statsmodels\\base\\model.py:568: ConvergenceWarning: Maximum Likelihood optimization failed to converge. Check mle_retvals\n",
      "  \"Check mle_retvals\", ConvergenceWarning)\n",
      "C:\\Users\\matth\\anaconda3\\lib\\site-packages\\statsmodels\\tsa\\base\\tsa_model.py:162: ValueWarning: No frequency information was provided, so inferred frequency Q-DEC will be used.\n",
      "  % freq, ValueWarning)\n",
      "C:\\Users\\matth\\anaconda3\\lib\\site-packages\\statsmodels\\tsa\\base\\tsa_model.py:162: ValueWarning: No frequency information was provided, so inferred frequency Q-DEC will be used.\n",
      "  % freq, ValueWarning)\n"
     ]
    },
    {
     "name": "stdout",
     "output_type": "stream",
     "text": [
      "The AIC for SARIMAX(1,1,1) is: 919.8591117918378\n",
      "Attempting to fit SARIMAX(1,1,2)\n",
      "The AIC for SARIMAX(1,1,2) is: 711.1049042115557\n",
      "Attempting to fit SARIMAX(1,1,3)\n"
     ]
    },
    {
     "name": "stderr",
     "output_type": "stream",
     "text": [
      "C:\\Users\\matth\\anaconda3\\lib\\site-packages\\statsmodels\\tsa\\base\\tsa_model.py:162: ValueWarning: No frequency information was provided, so inferred frequency Q-DEC will be used.\n",
      "  % freq, ValueWarning)\n",
      "C:\\Users\\matth\\anaconda3\\lib\\site-packages\\statsmodels\\tsa\\base\\tsa_model.py:162: ValueWarning: No frequency information was provided, so inferred frequency Q-DEC will be used.\n",
      "  % freq, ValueWarning)\n",
      "C:\\Users\\matth\\anaconda3\\lib\\site-packages\\statsmodels\\base\\model.py:568: ConvergenceWarning: Maximum Likelihood optimization failed to converge. Check mle_retvals\n",
      "  \"Check mle_retvals\", ConvergenceWarning)\n",
      "C:\\Users\\matth\\anaconda3\\lib\\site-packages\\statsmodels\\tsa\\base\\tsa_model.py:162: ValueWarning: No frequency information was provided, so inferred frequency Q-DEC will be used.\n",
      "  % freq, ValueWarning)\n",
      "C:\\Users\\matth\\anaconda3\\lib\\site-packages\\statsmodels\\tsa\\base\\tsa_model.py:162: ValueWarning: No frequency information was provided, so inferred frequency Q-DEC will be used.\n",
      "  % freq, ValueWarning)\n"
     ]
    },
    {
     "name": "stdout",
     "output_type": "stream",
     "text": [
      "The AIC for SARIMAX(1,1,3) is: 733.3977954709023\n",
      "Attempting to fit SARIMAX(1,1,4)\n",
      "The AIC for SARIMAX(1,1,4) is: 743.3616905266786\n",
      "Attempting to fit SARIMAX(1,1,5)\n"
     ]
    },
    {
     "name": "stderr",
     "output_type": "stream",
     "text": [
      "C:\\Users\\matth\\anaconda3\\lib\\site-packages\\statsmodels\\tsa\\base\\tsa_model.py:162: ValueWarning: No frequency information was provided, so inferred frequency Q-DEC will be used.\n",
      "  % freq, ValueWarning)\n",
      "C:\\Users\\matth\\anaconda3\\lib\\site-packages\\statsmodels\\tsa\\base\\tsa_model.py:162: ValueWarning: No frequency information was provided, so inferred frequency Q-DEC will be used.\n",
      "  % freq, ValueWarning)\n"
     ]
    },
    {
     "name": "stdout",
     "output_type": "stream",
     "text": [
      "The AIC for SARIMAX(1,1,5) is: 755.8327999487185\n",
      "Attempting to fit SARIMAX(1,1,6)\n"
     ]
    },
    {
     "name": "stderr",
     "output_type": "stream",
     "text": [
      "C:\\Users\\matth\\anaconda3\\lib\\site-packages\\statsmodels\\tsa\\base\\tsa_model.py:162: ValueWarning: No frequency information was provided, so inferred frequency Q-DEC will be used.\n",
      "  % freq, ValueWarning)\n",
      "C:\\Users\\matth\\anaconda3\\lib\\site-packages\\statsmodels\\tsa\\base\\tsa_model.py:162: ValueWarning: No frequency information was provided, so inferred frequency Q-DEC will be used.\n",
      "  % freq, ValueWarning)\n"
     ]
    },
    {
     "name": "stdout",
     "output_type": "stream",
     "text": [
      "The AIC for SARIMAX(1,1,6) is: 773.7468235534699\n",
      "Attempting to fit SARIMAX(1,1,7)\n"
     ]
    },
    {
     "name": "stderr",
     "output_type": "stream",
     "text": [
      "C:\\Users\\matth\\anaconda3\\lib\\site-packages\\statsmodels\\tsa\\base\\tsa_model.py:162: ValueWarning: No frequency information was provided, so inferred frequency Q-DEC will be used.\n",
      "  % freq, ValueWarning)\n",
      "C:\\Users\\matth\\anaconda3\\lib\\site-packages\\statsmodels\\tsa\\base\\tsa_model.py:162: ValueWarning: No frequency information was provided, so inferred frequency Q-DEC will be used.\n",
      "  % freq, ValueWarning)\n"
     ]
    },
    {
     "name": "stdout",
     "output_type": "stream",
     "text": [
      "The AIC for SARIMAX(1,1,7) is: 773.4388791568623\n",
      "Attempting to fit SARIMAX(1,1,8)\n"
     ]
    },
    {
     "name": "stderr",
     "output_type": "stream",
     "text": [
      "C:\\Users\\matth\\anaconda3\\lib\\site-packages\\statsmodels\\tsa\\base\\tsa_model.py:162: ValueWarning: No frequency information was provided, so inferred frequency Q-DEC will be used.\n",
      "  % freq, ValueWarning)\n",
      "C:\\Users\\matth\\anaconda3\\lib\\site-packages\\statsmodels\\tsa\\base\\tsa_model.py:162: ValueWarning: No frequency information was provided, so inferred frequency Q-DEC will be used.\n",
      "  % freq, ValueWarning)\n"
     ]
    },
    {
     "name": "stdout",
     "output_type": "stream",
     "text": [
      "The AIC for SARIMAX(1,1,8) is: 771.8209350891754\n",
      "Attempting to fit SARIMAX(1,1,9)\n"
     ]
    },
    {
     "name": "stderr",
     "output_type": "stream",
     "text": [
      "C:\\Users\\matth\\anaconda3\\lib\\site-packages\\statsmodels\\tsa\\base\\tsa_model.py:162: ValueWarning: No frequency information was provided, so inferred frequency Q-DEC will be used.\n",
      "  % freq, ValueWarning)\n",
      "C:\\Users\\matth\\anaconda3\\lib\\site-packages\\statsmodels\\tsa\\base\\tsa_model.py:162: ValueWarning: No frequency information was provided, so inferred frequency Q-DEC will be used.\n",
      "  % freq, ValueWarning)\n"
     ]
    },
    {
     "name": "stdout",
     "output_type": "stream",
     "text": [
      "The AIC for SARIMAX(1,1,9) is: 766.0644761348212\n",
      "Attempting to fit SARIMAX(1,1,10)\n"
     ]
    },
    {
     "name": "stderr",
     "output_type": "stream",
     "text": [
      "C:\\Users\\matth\\anaconda3\\lib\\site-packages\\statsmodels\\tsa\\base\\tsa_model.py:162: ValueWarning: No frequency information was provided, so inferred frequency Q-DEC will be used.\n",
      "  % freq, ValueWarning)\n",
      "C:\\Users\\matth\\anaconda3\\lib\\site-packages\\statsmodels\\tsa\\base\\tsa_model.py:162: ValueWarning: No frequency information was provided, so inferred frequency Q-DEC will be used.\n",
      "  % freq, ValueWarning)\n"
     ]
    },
    {
     "name": "stdout",
     "output_type": "stream",
     "text": [
      "The AIC for SARIMAX(1,1,10) is: 774.8247668267916\n",
      "Attempting to fit SARIMAX(1,1,11)\n"
     ]
    },
    {
     "name": "stderr",
     "output_type": "stream",
     "text": [
      "C:\\Users\\matth\\anaconda3\\lib\\site-packages\\statsmodels\\tsa\\base\\tsa_model.py:162: ValueWarning: No frequency information was provided, so inferred frequency Q-DEC will be used.\n",
      "  % freq, ValueWarning)\n",
      "C:\\Users\\matth\\anaconda3\\lib\\site-packages\\statsmodels\\tsa\\base\\tsa_model.py:162: ValueWarning: No frequency information was provided, so inferred frequency Q-DEC will be used.\n",
      "  % freq, ValueWarning)\n"
     ]
    },
    {
     "name": "stdout",
     "output_type": "stream",
     "text": [
      "The AIC for SARIMAX(1,1,11) is: 773.0806752859783\n",
      "Attempting to fit SARIMAX(2,1,0)\n"
     ]
    },
    {
     "name": "stderr",
     "output_type": "stream",
     "text": [
      "C:\\Users\\matth\\anaconda3\\lib\\site-packages\\statsmodels\\tsa\\base\\tsa_model.py:162: ValueWarning: No frequency information was provided, so inferred frequency Q-DEC will be used.\n",
      "  % freq, ValueWarning)\n",
      "C:\\Users\\matth\\anaconda3\\lib\\site-packages\\statsmodels\\tsa\\base\\tsa_model.py:162: ValueWarning: No frequency information was provided, so inferred frequency Q-DEC will be used.\n",
      "  % freq, ValueWarning)\n"
     ]
    },
    {
     "name": "stdout",
     "output_type": "stream",
     "text": [
      "The AIC for SARIMAX(2,1,0) is: 748.3333343620664\n",
      "Attempting to fit SARIMAX(2,1,1)\n"
     ]
    },
    {
     "name": "stderr",
     "output_type": "stream",
     "text": [
      "C:\\Users\\matth\\anaconda3\\lib\\site-packages\\statsmodels\\tsa\\base\\tsa_model.py:162: ValueWarning: No frequency information was provided, so inferred frequency Q-DEC will be used.\n",
      "  % freq, ValueWarning)\n",
      "C:\\Users\\matth\\anaconda3\\lib\\site-packages\\statsmodels\\tsa\\base\\tsa_model.py:162: ValueWarning: No frequency information was provided, so inferred frequency Q-DEC will be used.\n",
      "  % freq, ValueWarning)\n"
     ]
    },
    {
     "name": "stdout",
     "output_type": "stream",
     "text": [
      "The AIC for SARIMAX(2,1,1) is: 715.6474799098751\n",
      "Attempting to fit SARIMAX(2,1,2)\n"
     ]
    },
    {
     "name": "stderr",
     "output_type": "stream",
     "text": [
      "C:\\Users\\matth\\anaconda3\\lib\\site-packages\\statsmodels\\tsa\\base\\tsa_model.py:162: ValueWarning: No frequency information was provided, so inferred frequency Q-DEC will be used.\n",
      "  % freq, ValueWarning)\n",
      "C:\\Users\\matth\\anaconda3\\lib\\site-packages\\statsmodels\\tsa\\base\\tsa_model.py:162: ValueWarning: No frequency information was provided, so inferred frequency Q-DEC will be used.\n",
      "  % freq, ValueWarning)\n"
     ]
    },
    {
     "name": "stdout",
     "output_type": "stream",
     "text": [
      "The AIC for SARIMAX(2,1,2) is: 711.362755156063\n",
      "Attempting to fit SARIMAX(2,1,3)\n"
     ]
    },
    {
     "name": "stderr",
     "output_type": "stream",
     "text": [
      "C:\\Users\\matth\\anaconda3\\lib\\site-packages\\statsmodels\\tsa\\base\\tsa_model.py:162: ValueWarning: No frequency information was provided, so inferred frequency Q-DEC will be used.\n",
      "  % freq, ValueWarning)\n",
      "C:\\Users\\matth\\anaconda3\\lib\\site-packages\\statsmodels\\tsa\\base\\tsa_model.py:162: ValueWarning: No frequency information was provided, so inferred frequency Q-DEC will be used.\n",
      "  % freq, ValueWarning)\n"
     ]
    },
    {
     "name": "stdout",
     "output_type": "stream",
     "text": [
      "The AIC for SARIMAX(2,1,3) is: 731.0241057772564\n",
      "Attempting to fit SARIMAX(2,1,4)\n"
     ]
    },
    {
     "name": "stderr",
     "output_type": "stream",
     "text": [
      "C:\\Users\\matth\\anaconda3\\lib\\site-packages\\statsmodels\\tsa\\base\\tsa_model.py:162: ValueWarning: No frequency information was provided, so inferred frequency Q-DEC will be used.\n",
      "  % freq, ValueWarning)\n",
      "C:\\Users\\matth\\anaconda3\\lib\\site-packages\\statsmodels\\tsa\\base\\tsa_model.py:162: ValueWarning: No frequency information was provided, so inferred frequency Q-DEC will be used.\n",
      "  % freq, ValueWarning)\n"
     ]
    },
    {
     "name": "stdout",
     "output_type": "stream",
     "text": [
      "The AIC for SARIMAX(2,1,4) is: 759.520645059263\n",
      "Attempting to fit SARIMAX(2,1,5)\n"
     ]
    },
    {
     "name": "stderr",
     "output_type": "stream",
     "text": [
      "C:\\Users\\matth\\anaconda3\\lib\\site-packages\\statsmodels\\tsa\\base\\tsa_model.py:162: ValueWarning: No frequency information was provided, so inferred frequency Q-DEC will be used.\n",
      "  % freq, ValueWarning)\n",
      "C:\\Users\\matth\\anaconda3\\lib\\site-packages\\statsmodels\\tsa\\base\\tsa_model.py:162: ValueWarning: No frequency information was provided, so inferred frequency Q-DEC will be used.\n",
      "  % freq, ValueWarning)\n",
      "C:\\Users\\matth\\anaconda3\\lib\\site-packages\\statsmodels\\base\\model.py:568: ConvergenceWarning: Maximum Likelihood optimization failed to converge. Check mle_retvals\n",
      "  \"Check mle_retvals\", ConvergenceWarning)\n",
      "C:\\Users\\matth\\anaconda3\\lib\\site-packages\\statsmodels\\tsa\\base\\tsa_model.py:162: ValueWarning: No frequency information was provided, so inferred frequency Q-DEC will be used.\n",
      "  % freq, ValueWarning)\n",
      "C:\\Users\\matth\\anaconda3\\lib\\site-packages\\statsmodels\\tsa\\base\\tsa_model.py:162: ValueWarning: No frequency information was provided, so inferred frequency Q-DEC will be used.\n",
      "  % freq, ValueWarning)\n"
     ]
    },
    {
     "name": "stdout",
     "output_type": "stream",
     "text": [
      "The AIC for SARIMAX(2,1,5) is: 753.0148295767159\n",
      "Attempting to fit SARIMAX(2,1,6)\n"
     ]
    },
    {
     "name": "stderr",
     "output_type": "stream",
     "text": [
      "C:\\Users\\matth\\anaconda3\\lib\\site-packages\\statsmodels\\base\\model.py:568: ConvergenceWarning: Maximum Likelihood optimization failed to converge. Check mle_retvals\n",
      "  \"Check mle_retvals\", ConvergenceWarning)\n",
      "C:\\Users\\matth\\anaconda3\\lib\\site-packages\\statsmodels\\tsa\\base\\tsa_model.py:162: ValueWarning: No frequency information was provided, so inferred frequency Q-DEC will be used.\n",
      "  % freq, ValueWarning)\n",
      "C:\\Users\\matth\\anaconda3\\lib\\site-packages\\statsmodels\\tsa\\base\\tsa_model.py:162: ValueWarning: No frequency information was provided, so inferred frequency Q-DEC will be used.\n",
      "  % freq, ValueWarning)\n"
     ]
    },
    {
     "name": "stdout",
     "output_type": "stream",
     "text": [
      "The AIC for SARIMAX(2,1,6) is: 764.9561532845516\n",
      "Attempting to fit SARIMAX(2,1,7)\n"
     ]
    },
    {
     "name": "stderr",
     "output_type": "stream",
     "text": [
      "C:\\Users\\matth\\anaconda3\\lib\\site-packages\\statsmodels\\base\\model.py:568: ConvergenceWarning: Maximum Likelihood optimization failed to converge. Check mle_retvals\n",
      "  \"Check mle_retvals\", ConvergenceWarning)\n",
      "C:\\Users\\matth\\anaconda3\\lib\\site-packages\\statsmodels\\tsa\\base\\tsa_model.py:162: ValueWarning: No frequency information was provided, so inferred frequency Q-DEC will be used.\n",
      "  % freq, ValueWarning)\n",
      "C:\\Users\\matth\\anaconda3\\lib\\site-packages\\statsmodels\\tsa\\base\\tsa_model.py:162: ValueWarning: No frequency information was provided, so inferred frequency Q-DEC will be used.\n",
      "  % freq, ValueWarning)\n"
     ]
    },
    {
     "name": "stdout",
     "output_type": "stream",
     "text": [
      "The AIC for SARIMAX(2,1,7) is: 767.4249406301876\n",
      "Attempting to fit SARIMAX(2,1,8)\n",
      "The AIC for SARIMAX(2,1,8) is: 777.8742419993462\n",
      "Attempting to fit SARIMAX(2,1,9)\n"
     ]
    },
    {
     "name": "stderr",
     "output_type": "stream",
     "text": [
      "C:\\Users\\matth\\anaconda3\\lib\\site-packages\\statsmodels\\tsa\\base\\tsa_model.py:162: ValueWarning: No frequency information was provided, so inferred frequency Q-DEC will be used.\n",
      "  % freq, ValueWarning)\n",
      "C:\\Users\\matth\\anaconda3\\lib\\site-packages\\statsmodels\\tsa\\base\\tsa_model.py:162: ValueWarning: No frequency information was provided, so inferred frequency Q-DEC will be used.\n",
      "  % freq, ValueWarning)\n"
     ]
    },
    {
     "name": "stdout",
     "output_type": "stream",
     "text": [
      "The AIC for SARIMAX(2,1,9) is: 767.3946685516366\n",
      "Attempting to fit SARIMAX(2,1,10)\n"
     ]
    },
    {
     "name": "stderr",
     "output_type": "stream",
     "text": [
      "C:\\Users\\matth\\anaconda3\\lib\\site-packages\\statsmodels\\tsa\\base\\tsa_model.py:162: ValueWarning: No frequency information was provided, so inferred frequency Q-DEC will be used.\n",
      "  % freq, ValueWarning)\n",
      "C:\\Users\\matth\\anaconda3\\lib\\site-packages\\statsmodels\\tsa\\base\\tsa_model.py:162: ValueWarning: No frequency information was provided, so inferred frequency Q-DEC will be used.\n",
      "  % freq, ValueWarning)\n",
      "C:\\Users\\matth\\anaconda3\\lib\\site-packages\\statsmodels\\base\\model.py:568: ConvergenceWarning: Maximum Likelihood optimization failed to converge. Check mle_retvals\n",
      "  \"Check mle_retvals\", ConvergenceWarning)\n",
      "C:\\Users\\matth\\anaconda3\\lib\\site-packages\\statsmodels\\tsa\\base\\tsa_model.py:162: ValueWarning: No frequency information was provided, so inferred frequency Q-DEC will be used.\n",
      "  % freq, ValueWarning)\n",
      "C:\\Users\\matth\\anaconda3\\lib\\site-packages\\statsmodels\\tsa\\base\\tsa_model.py:162: ValueWarning: No frequency information was provided, so inferred frequency Q-DEC will be used.\n",
      "  % freq, ValueWarning)\n"
     ]
    },
    {
     "name": "stdout",
     "output_type": "stream",
     "text": [
      "The AIC for SARIMAX(2,1,10) is: 765.4259708881216\n",
      "Attempting to fit SARIMAX(2,1,11)\n",
      "The AIC for SARIMAX(2,1,11) is: 775.5015184220078\n",
      "Attempting to fit SARIMAX(3,1,0)\n"
     ]
    },
    {
     "name": "stderr",
     "output_type": "stream",
     "text": [
      "C:\\Users\\matth\\anaconda3\\lib\\site-packages\\statsmodels\\tsa\\base\\tsa_model.py:162: ValueWarning: No frequency information was provided, so inferred frequency Q-DEC will be used.\n",
      "  % freq, ValueWarning)\n",
      "C:\\Users\\matth\\anaconda3\\lib\\site-packages\\statsmodels\\tsa\\base\\tsa_model.py:162: ValueWarning: No frequency information was provided, so inferred frequency Q-DEC will be used.\n",
      "  % freq, ValueWarning)\n"
     ]
    },
    {
     "name": "stdout",
     "output_type": "stream",
     "text": [
      "The AIC for SARIMAX(3,1,0) is: 717.3089995840209\n",
      "Attempting to fit SARIMAX(3,1,1)\n"
     ]
    },
    {
     "name": "stderr",
     "output_type": "stream",
     "text": [
      "C:\\Users\\matth\\anaconda3\\lib\\site-packages\\statsmodels\\tsa\\base\\tsa_model.py:162: ValueWarning: No frequency information was provided, so inferred frequency Q-DEC will be used.\n",
      "  % freq, ValueWarning)\n",
      "C:\\Users\\matth\\anaconda3\\lib\\site-packages\\statsmodels\\tsa\\base\\tsa_model.py:162: ValueWarning: No frequency information was provided, so inferred frequency Q-DEC will be used.\n",
      "  % freq, ValueWarning)\n"
     ]
    },
    {
     "name": "stdout",
     "output_type": "stream",
     "text": [
      "The AIC for SARIMAX(3,1,1) is: 707.4482636411869\n",
      "Attempting to fit SARIMAX(3,1,2)\n"
     ]
    },
    {
     "name": "stderr",
     "output_type": "stream",
     "text": [
      "C:\\Users\\matth\\anaconda3\\lib\\site-packages\\statsmodels\\tsa\\base\\tsa_model.py:162: ValueWarning: No frequency information was provided, so inferred frequency Q-DEC will be used.\n",
      "  % freq, ValueWarning)\n",
      "C:\\Users\\matth\\anaconda3\\lib\\site-packages\\statsmodels\\tsa\\base\\tsa_model.py:162: ValueWarning: No frequency information was provided, so inferred frequency Q-DEC will be used.\n",
      "  % freq, ValueWarning)\n"
     ]
    },
    {
     "name": "stdout",
     "output_type": "stream",
     "text": [
      "The AIC for SARIMAX(3,1,2) is: 715.5540758322429\n",
      "Attempting to fit SARIMAX(3,1,3)\n"
     ]
    },
    {
     "name": "stderr",
     "output_type": "stream",
     "text": [
      "C:\\Users\\matth\\anaconda3\\lib\\site-packages\\statsmodels\\tsa\\base\\tsa_model.py:162: ValueWarning: No frequency information was provided, so inferred frequency Q-DEC will be used.\n",
      "  % freq, ValueWarning)\n",
      "C:\\Users\\matth\\anaconda3\\lib\\site-packages\\statsmodels\\tsa\\base\\tsa_model.py:162: ValueWarning: No frequency information was provided, so inferred frequency Q-DEC will be used.\n",
      "  % freq, ValueWarning)\n"
     ]
    },
    {
     "name": "stdout",
     "output_type": "stream",
     "text": [
      "The AIC for SARIMAX(3,1,3) is: 731.1323322523137\n",
      "Attempting to fit SARIMAX(3,1,4)\n"
     ]
    },
    {
     "name": "stderr",
     "output_type": "stream",
     "text": [
      "C:\\Users\\matth\\anaconda3\\lib\\site-packages\\statsmodels\\tsa\\base\\tsa_model.py:162: ValueWarning: No frequency information was provided, so inferred frequency Q-DEC will be used.\n",
      "  % freq, ValueWarning)\n",
      "C:\\Users\\matth\\anaconda3\\lib\\site-packages\\statsmodels\\tsa\\base\\tsa_model.py:162: ValueWarning: No frequency information was provided, so inferred frequency Q-DEC will be used.\n",
      "  % freq, ValueWarning)\n"
     ]
    },
    {
     "name": "stdout",
     "output_type": "stream",
     "text": [
      "The AIC for SARIMAX(3,1,4) is: 797.9050286728491\n",
      "Attempting to fit SARIMAX(3,1,5)\n"
     ]
    },
    {
     "name": "stderr",
     "output_type": "stream",
     "text": [
      "C:\\Users\\matth\\anaconda3\\lib\\site-packages\\statsmodels\\tsa\\base\\tsa_model.py:162: ValueWarning: No frequency information was provided, so inferred frequency Q-DEC will be used.\n",
      "  % freq, ValueWarning)\n",
      "C:\\Users\\matth\\anaconda3\\lib\\site-packages\\statsmodels\\tsa\\base\\tsa_model.py:162: ValueWarning: No frequency information was provided, so inferred frequency Q-DEC will be used.\n",
      "  % freq, ValueWarning)\n"
     ]
    },
    {
     "name": "stdout",
     "output_type": "stream",
     "text": [
      "The AIC for SARIMAX(3,1,5) is: 776.036440177643\n",
      "Attempting to fit SARIMAX(3,1,6)\n"
     ]
    },
    {
     "name": "stderr",
     "output_type": "stream",
     "text": [
      "C:\\Users\\matth\\anaconda3\\lib\\site-packages\\statsmodels\\tsa\\base\\tsa_model.py:162: ValueWarning: No frequency information was provided, so inferred frequency Q-DEC will be used.\n",
      "  % freq, ValueWarning)\n",
      "C:\\Users\\matth\\anaconda3\\lib\\site-packages\\statsmodels\\tsa\\base\\tsa_model.py:162: ValueWarning: No frequency information was provided, so inferred frequency Q-DEC will be used.\n",
      "  % freq, ValueWarning)\n"
     ]
    },
    {
     "name": "stdout",
     "output_type": "stream",
     "text": [
      "The AIC for SARIMAX(3,1,6) is: 776.4220968810203\n",
      "Attempting to fit SARIMAX(3,1,7)\n"
     ]
    },
    {
     "name": "stderr",
     "output_type": "stream",
     "text": [
      "C:\\Users\\matth\\anaconda3\\lib\\site-packages\\statsmodels\\tsa\\base\\tsa_model.py:162: ValueWarning: No frequency information was provided, so inferred frequency Q-DEC will be used.\n",
      "  % freq, ValueWarning)\n",
      "C:\\Users\\matth\\anaconda3\\lib\\site-packages\\statsmodels\\tsa\\base\\tsa_model.py:162: ValueWarning: No frequency information was provided, so inferred frequency Q-DEC will be used.\n",
      "  % freq, ValueWarning)\n",
      "C:\\Users\\matth\\anaconda3\\lib\\site-packages\\statsmodels\\base\\model.py:568: ConvergenceWarning: Maximum Likelihood optimization failed to converge. Check mle_retvals\n",
      "  \"Check mle_retvals\", ConvergenceWarning)\n",
      "C:\\Users\\matth\\anaconda3\\lib\\site-packages\\statsmodels\\tsa\\base\\tsa_model.py:162: ValueWarning: No frequency information was provided, so inferred frequency Q-DEC will be used.\n",
      "  % freq, ValueWarning)\n",
      "C:\\Users\\matth\\anaconda3\\lib\\site-packages\\statsmodels\\tsa\\base\\tsa_model.py:162: ValueWarning: No frequency information was provided, so inferred frequency Q-DEC will be used.\n",
      "  % freq, ValueWarning)\n"
     ]
    },
    {
     "name": "stdout",
     "output_type": "stream",
     "text": [
      "The AIC for SARIMAX(3,1,7) is: 763.7871681119834\n",
      "Attempting to fit SARIMAX(3,1,8)\n",
      "The AIC for SARIMAX(3,1,8) is: 779.8524556047436\n",
      "Attempting to fit SARIMAX(3,1,9)\n"
     ]
    },
    {
     "name": "stderr",
     "output_type": "stream",
     "text": [
      "C:\\Users\\matth\\anaconda3\\lib\\site-packages\\statsmodels\\tsa\\base\\tsa_model.py:162: ValueWarning: No frequency information was provided, so inferred frequency Q-DEC will be used.\n",
      "  % freq, ValueWarning)\n",
      "C:\\Users\\matth\\anaconda3\\lib\\site-packages\\statsmodels\\tsa\\base\\tsa_model.py:162: ValueWarning: No frequency information was provided, so inferred frequency Q-DEC will be used.\n",
      "  % freq, ValueWarning)\n"
     ]
    },
    {
     "name": "stdout",
     "output_type": "stream",
     "text": [
      "The AIC for SARIMAX(3,1,9) is: 767.786578153085\n",
      "Attempting to fit SARIMAX(3,1,10)\n"
     ]
    },
    {
     "name": "stderr",
     "output_type": "stream",
     "text": [
      "C:\\Users\\matth\\anaconda3\\lib\\site-packages\\statsmodels\\tsa\\base\\tsa_model.py:162: ValueWarning: No frequency information was provided, so inferred frequency Q-DEC will be used.\n",
      "  % freq, ValueWarning)\n",
      "C:\\Users\\matth\\anaconda3\\lib\\site-packages\\statsmodels\\tsa\\base\\tsa_model.py:162: ValueWarning: No frequency information was provided, so inferred frequency Q-DEC will be used.\n",
      "  % freq, ValueWarning)\n"
     ]
    },
    {
     "name": "stdout",
     "output_type": "stream",
     "text": [
      "The AIC for SARIMAX(3,1,10) is: 766.1897414942933\n",
      "Attempting to fit SARIMAX(3,1,11)\n"
     ]
    },
    {
     "name": "stderr",
     "output_type": "stream",
     "text": [
      "C:\\Users\\matth\\anaconda3\\lib\\site-packages\\statsmodels\\tsa\\base\\tsa_model.py:162: ValueWarning: No frequency information was provided, so inferred frequency Q-DEC will be used.\n",
      "  % freq, ValueWarning)\n",
      "C:\\Users\\matth\\anaconda3\\lib\\site-packages\\statsmodels\\tsa\\base\\tsa_model.py:162: ValueWarning: No frequency information was provided, so inferred frequency Q-DEC will be used.\n",
      "  % freq, ValueWarning)\n"
     ]
    },
    {
     "name": "stdout",
     "output_type": "stream",
     "text": [
      "The AIC for SARIMAX(3,1,11) is: 766.8440686172969\n",
      "Attempting to fit SARIMAX(4,1,0)\n"
     ]
    },
    {
     "name": "stderr",
     "output_type": "stream",
     "text": [
      "C:\\Users\\matth\\anaconda3\\lib\\site-packages\\statsmodels\\tsa\\base\\tsa_model.py:162: ValueWarning: No frequency information was provided, so inferred frequency Q-DEC will be used.\n",
      "  % freq, ValueWarning)\n",
      "C:\\Users\\matth\\anaconda3\\lib\\site-packages\\statsmodels\\tsa\\base\\tsa_model.py:162: ValueWarning: No frequency information was provided, so inferred frequency Q-DEC will be used.\n",
      "  % freq, ValueWarning)\n"
     ]
    },
    {
     "name": "stdout",
     "output_type": "stream",
     "text": [
      "The AIC for SARIMAX(4,1,0) is: 715.3124231888862\n",
      "Attempting to fit SARIMAX(4,1,1)\n"
     ]
    },
    {
     "name": "stderr",
     "output_type": "stream",
     "text": [
      "C:\\Users\\matth\\anaconda3\\lib\\site-packages\\statsmodels\\tsa\\base\\tsa_model.py:162: ValueWarning: No frequency information was provided, so inferred frequency Q-DEC will be used.\n",
      "  % freq, ValueWarning)\n",
      "C:\\Users\\matth\\anaconda3\\lib\\site-packages\\statsmodels\\tsa\\base\\tsa_model.py:162: ValueWarning: No frequency information was provided, so inferred frequency Q-DEC will be used.\n",
      "  % freq, ValueWarning)\n"
     ]
    },
    {
     "name": "stdout",
     "output_type": "stream",
     "text": [
      "The AIC for SARIMAX(4,1,1) is: 711.0183882700194\n",
      "Attempting to fit SARIMAX(4,1,2)\n"
     ]
    },
    {
     "name": "stderr",
     "output_type": "stream",
     "text": [
      "C:\\Users\\matth\\anaconda3\\lib\\site-packages\\statsmodels\\tsa\\base\\tsa_model.py:162: ValueWarning: No frequency information was provided, so inferred frequency Q-DEC will be used.\n",
      "  % freq, ValueWarning)\n",
      "C:\\Users\\matth\\anaconda3\\lib\\site-packages\\statsmodels\\tsa\\base\\tsa_model.py:162: ValueWarning: No frequency information was provided, so inferred frequency Q-DEC will be used.\n",
      "  % freq, ValueWarning)\n",
      "C:\\Users\\matth\\anaconda3\\lib\\site-packages\\statsmodels\\base\\model.py:568: ConvergenceWarning: Maximum Likelihood optimization failed to converge. Check mle_retvals\n",
      "  \"Check mle_retvals\", ConvergenceWarning)\n",
      "C:\\Users\\matth\\anaconda3\\lib\\site-packages\\statsmodels\\tsa\\base\\tsa_model.py:162: ValueWarning: No frequency information was provided, so inferred frequency Q-DEC will be used.\n",
      "  % freq, ValueWarning)\n",
      "C:\\Users\\matth\\anaconda3\\lib\\site-packages\\statsmodels\\tsa\\base\\tsa_model.py:162: ValueWarning: No frequency information was provided, so inferred frequency Q-DEC will be used.\n",
      "  % freq, ValueWarning)\n"
     ]
    },
    {
     "name": "stdout",
     "output_type": "stream",
     "text": [
      "The AIC for SARIMAX(4,1,2) is: 786.4840934676429\n",
      "Attempting to fit SARIMAX(4,1,3)\n",
      "The AIC for SARIMAX(4,1,3) is: 733.5905319412418\n",
      "Attempting to fit SARIMAX(4,1,4)\n"
     ]
    },
    {
     "name": "stderr",
     "output_type": "stream",
     "text": [
      "C:\\Users\\matth\\anaconda3\\lib\\site-packages\\statsmodels\\tsa\\base\\tsa_model.py:162: ValueWarning: No frequency information was provided, so inferred frequency Q-DEC will be used.\n",
      "  % freq, ValueWarning)\n",
      "C:\\Users\\matth\\anaconda3\\lib\\site-packages\\statsmodels\\tsa\\base\\tsa_model.py:162: ValueWarning: No frequency information was provided, so inferred frequency Q-DEC will be used.\n",
      "  % freq, ValueWarning)\n"
     ]
    },
    {
     "name": "stdout",
     "output_type": "stream",
     "text": [
      "The AIC for SARIMAX(4,1,4) is: 781.6815430878557\n",
      "Attempting to fit SARIMAX(4,1,5)\n"
     ]
    },
    {
     "name": "stderr",
     "output_type": "stream",
     "text": [
      "C:\\Users\\matth\\anaconda3\\lib\\site-packages\\statsmodels\\tsa\\base\\tsa_model.py:162: ValueWarning: No frequency information was provided, so inferred frequency Q-DEC will be used.\n",
      "  % freq, ValueWarning)\n",
      "C:\\Users\\matth\\anaconda3\\lib\\site-packages\\statsmodels\\tsa\\base\\tsa_model.py:162: ValueWarning: No frequency information was provided, so inferred frequency Q-DEC will be used.\n",
      "  % freq, ValueWarning)\n"
     ]
    },
    {
     "name": "stdout",
     "output_type": "stream",
     "text": [
      "The AIC for SARIMAX(4,1,5) is: 1180.6027703146235\n",
      "Attempting to fit SARIMAX(4,1,6)\n"
     ]
    },
    {
     "name": "stderr",
     "output_type": "stream",
     "text": [
      "C:\\Users\\matth\\anaconda3\\lib\\site-packages\\statsmodels\\tsa\\base\\tsa_model.py:162: ValueWarning: No frequency information was provided, so inferred frequency Q-DEC will be used.\n",
      "  % freq, ValueWarning)\n",
      "C:\\Users\\matth\\anaconda3\\lib\\site-packages\\statsmodels\\tsa\\base\\tsa_model.py:162: ValueWarning: No frequency information was provided, so inferred frequency Q-DEC will be used.\n",
      "  % freq, ValueWarning)\n"
     ]
    },
    {
     "name": "stdout",
     "output_type": "stream",
     "text": [
      "The AIC for SARIMAX(4,1,6) is: 774.5829675996189\n",
      "Attempting to fit SARIMAX(4,1,7)\n"
     ]
    },
    {
     "name": "stderr",
     "output_type": "stream",
     "text": [
      "C:\\Users\\matth\\anaconda3\\lib\\site-packages\\statsmodels\\tsa\\base\\tsa_model.py:162: ValueWarning: No frequency information was provided, so inferred frequency Q-DEC will be used.\n",
      "  % freq, ValueWarning)\n",
      "C:\\Users\\matth\\anaconda3\\lib\\site-packages\\statsmodels\\tsa\\base\\tsa_model.py:162: ValueWarning: No frequency information was provided, so inferred frequency Q-DEC will be used.\n",
      "  % freq, ValueWarning)\n"
     ]
    },
    {
     "name": "stdout",
     "output_type": "stream",
     "text": [
      "The AIC for SARIMAX(4,1,7) is: 764.8425567452189\n",
      "Attempting to fit SARIMAX(4,1,8)\n"
     ]
    },
    {
     "name": "stderr",
     "output_type": "stream",
     "text": [
      "C:\\Users\\matth\\anaconda3\\lib\\site-packages\\statsmodels\\tsa\\base\\tsa_model.py:162: ValueWarning: No frequency information was provided, so inferred frequency Q-DEC will be used.\n",
      "  % freq, ValueWarning)\n",
      "C:\\Users\\matth\\anaconda3\\lib\\site-packages\\statsmodels\\tsa\\base\\tsa_model.py:162: ValueWarning: No frequency information was provided, so inferred frequency Q-DEC will be used.\n",
      "  % freq, ValueWarning)\n"
     ]
    },
    {
     "name": "stdout",
     "output_type": "stream",
     "text": [
      "The AIC for SARIMAX(4,1,8) is: 780.3303126967883\n",
      "Attempting to fit SARIMAX(4,1,9)\n"
     ]
    },
    {
     "name": "stderr",
     "output_type": "stream",
     "text": [
      "C:\\Users\\matth\\anaconda3\\lib\\site-packages\\statsmodels\\tsa\\base\\tsa_model.py:162: ValueWarning: No frequency information was provided, so inferred frequency Q-DEC will be used.\n",
      "  % freq, ValueWarning)\n",
      "C:\\Users\\matth\\anaconda3\\lib\\site-packages\\statsmodels\\tsa\\base\\tsa_model.py:162: ValueWarning: No frequency information was provided, so inferred frequency Q-DEC will be used.\n",
      "  % freq, ValueWarning)\n"
     ]
    },
    {
     "name": "stdout",
     "output_type": "stream",
     "text": [
      "The AIC for SARIMAX(4,1,9) is: 783.4600181809171\n",
      "Attempting to fit SARIMAX(4,1,10)\n"
     ]
    },
    {
     "name": "stderr",
     "output_type": "stream",
     "text": [
      "C:\\Users\\matth\\anaconda3\\lib\\site-packages\\statsmodels\\tsa\\base\\tsa_model.py:162: ValueWarning: No frequency information was provided, so inferred frequency Q-DEC will be used.\n",
      "  % freq, ValueWarning)\n",
      "C:\\Users\\matth\\anaconda3\\lib\\site-packages\\statsmodels\\tsa\\base\\tsa_model.py:162: ValueWarning: No frequency information was provided, so inferred frequency Q-DEC will be used.\n",
      "  % freq, ValueWarning)\n"
     ]
    },
    {
     "name": "stdout",
     "output_type": "stream",
     "text": [
      "The AIC for SARIMAX(4,1,10) is: 780.6550502301058\n",
      "Attempting to fit SARIMAX(4,1,11)\n"
     ]
    },
    {
     "name": "stderr",
     "output_type": "stream",
     "text": [
      "C:\\Users\\matth\\anaconda3\\lib\\site-packages\\statsmodels\\tsa\\base\\tsa_model.py:162: ValueWarning: No frequency information was provided, so inferred frequency Q-DEC will be used.\n",
      "  % freq, ValueWarning)\n",
      "C:\\Users\\matth\\anaconda3\\lib\\site-packages\\statsmodels\\tsa\\base\\tsa_model.py:162: ValueWarning: No frequency information was provided, so inferred frequency Q-DEC will be used.\n",
      "  % freq, ValueWarning)\n"
     ]
    },
    {
     "name": "stdout",
     "output_type": "stream",
     "text": [
      "The AIC for SARIMAX(4,1,11) is: 780.5077902358877\n",
      "Attempting to fit SARIMAX(5,1,0)\n"
     ]
    },
    {
     "name": "stderr",
     "output_type": "stream",
     "text": [
      "C:\\Users\\matth\\anaconda3\\lib\\site-packages\\statsmodels\\tsa\\base\\tsa_model.py:162: ValueWarning: No frequency information was provided, so inferred frequency Q-DEC will be used.\n",
      "  % freq, ValueWarning)\n",
      "C:\\Users\\matth\\anaconda3\\lib\\site-packages\\statsmodels\\tsa\\base\\tsa_model.py:162: ValueWarning: No frequency information was provided, so inferred frequency Q-DEC will be used.\n",
      "  % freq, ValueWarning)\n"
     ]
    },
    {
     "name": "stdout",
     "output_type": "stream",
     "text": [
      "The AIC for SARIMAX(5,1,0) is: 703.7904903683493\n",
      "Attempting to fit SARIMAX(5,1,1)\n"
     ]
    },
    {
     "name": "stderr",
     "output_type": "stream",
     "text": [
      "C:\\Users\\matth\\anaconda3\\lib\\site-packages\\statsmodels\\tsa\\base\\tsa_model.py:162: ValueWarning: No frequency information was provided, so inferred frequency Q-DEC will be used.\n",
      "  % freq, ValueWarning)\n",
      "C:\\Users\\matth\\anaconda3\\lib\\site-packages\\statsmodels\\tsa\\base\\tsa_model.py:162: ValueWarning: No frequency information was provided, so inferred frequency Q-DEC will be used.\n",
      "  % freq, ValueWarning)\n"
     ]
    },
    {
     "name": "stdout",
     "output_type": "stream",
     "text": [
      "The AIC for SARIMAX(5,1,1) is: 713.3604039594925\n",
      "Attempting to fit SARIMAX(5,1,2)\n"
     ]
    },
    {
     "name": "stderr",
     "output_type": "stream",
     "text": [
      "C:\\Users\\matth\\anaconda3\\lib\\site-packages\\statsmodels\\tsa\\base\\tsa_model.py:162: ValueWarning: No frequency information was provided, so inferred frequency Q-DEC will be used.\n",
      "  % freq, ValueWarning)\n",
      "C:\\Users\\matth\\anaconda3\\lib\\site-packages\\statsmodels\\tsa\\base\\tsa_model.py:162: ValueWarning: No frequency information was provided, so inferred frequency Q-DEC will be used.\n",
      "  % freq, ValueWarning)\n"
     ]
    },
    {
     "name": "stdout",
     "output_type": "stream",
     "text": [
      "The AIC for SARIMAX(5,1,2) is: 927.8132343021283\n",
      "Attempting to fit SARIMAX(5,1,3)\n"
     ]
    },
    {
     "name": "stderr",
     "output_type": "stream",
     "text": [
      "C:\\Users\\matth\\anaconda3\\lib\\site-packages\\statsmodels\\tsa\\base\\tsa_model.py:162: ValueWarning: No frequency information was provided, so inferred frequency Q-DEC will be used.\n",
      "  % freq, ValueWarning)\n",
      "C:\\Users\\matth\\anaconda3\\lib\\site-packages\\statsmodels\\tsa\\base\\tsa_model.py:162: ValueWarning: No frequency information was provided, so inferred frequency Q-DEC will be used.\n",
      "  % freq, ValueWarning)\n"
     ]
    },
    {
     "name": "stdout",
     "output_type": "stream",
     "text": [
      "The AIC for SARIMAX(5,1,3) is: 737.3017368806709\n",
      "Attempting to fit SARIMAX(5,1,4)\n"
     ]
    },
    {
     "name": "stderr",
     "output_type": "stream",
     "text": [
      "C:\\Users\\matth\\anaconda3\\lib\\site-packages\\statsmodels\\tsa\\base\\tsa_model.py:162: ValueWarning: No frequency information was provided, so inferred frequency Q-DEC will be used.\n",
      "  % freq, ValueWarning)\n",
      "C:\\Users\\matth\\anaconda3\\lib\\site-packages\\statsmodels\\tsa\\base\\tsa_model.py:162: ValueWarning: No frequency information was provided, so inferred frequency Q-DEC will be used.\n",
      "  % freq, ValueWarning)\n"
     ]
    },
    {
     "name": "stdout",
     "output_type": "stream",
     "text": [
      "The AIC for SARIMAX(5,1,4) is: 833.6172427430072\n",
      "Attempting to fit SARIMAX(5,1,5)\n"
     ]
    },
    {
     "name": "stderr",
     "output_type": "stream",
     "text": [
      "C:\\Users\\matth\\anaconda3\\lib\\site-packages\\statsmodels\\tsa\\base\\tsa_model.py:162: ValueWarning: No frequency information was provided, so inferred frequency Q-DEC will be used.\n",
      "  % freq, ValueWarning)\n",
      "C:\\Users\\matth\\anaconda3\\lib\\site-packages\\statsmodels\\tsa\\base\\tsa_model.py:162: ValueWarning: No frequency information was provided, so inferred frequency Q-DEC will be used.\n",
      "  % freq, ValueWarning)\n",
      "C:\\Users\\matth\\anaconda3\\lib\\site-packages\\statsmodels\\base\\model.py:568: ConvergenceWarning: Maximum Likelihood optimization failed to converge. Check mle_retvals\n",
      "  \"Check mle_retvals\", ConvergenceWarning)\n",
      "C:\\Users\\matth\\anaconda3\\lib\\site-packages\\statsmodels\\tsa\\base\\tsa_model.py:162: ValueWarning: No frequency information was provided, so inferred frequency Q-DEC will be used.\n",
      "  % freq, ValueWarning)\n",
      "C:\\Users\\matth\\anaconda3\\lib\\site-packages\\statsmodels\\tsa\\base\\tsa_model.py:162: ValueWarning: No frequency information was provided, so inferred frequency Q-DEC will be used.\n",
      "  % freq, ValueWarning)\n"
     ]
    },
    {
     "name": "stdout",
     "output_type": "stream",
     "text": [
      "The AIC for SARIMAX(5,1,5) is: 782.2220253533026\n",
      "Attempting to fit SARIMAX(5,1,6)\n"
     ]
    },
    {
     "name": "stderr",
     "output_type": "stream",
     "text": [
      "C:\\Users\\matth\\anaconda3\\lib\\site-packages\\statsmodels\\base\\model.py:568: ConvergenceWarning: Maximum Likelihood optimization failed to converge. Check mle_retvals\n",
      "  \"Check mle_retvals\", ConvergenceWarning)\n",
      "C:\\Users\\matth\\anaconda3\\lib\\site-packages\\statsmodels\\tsa\\base\\tsa_model.py:162: ValueWarning: No frequency information was provided, so inferred frequency Q-DEC will be used.\n",
      "  % freq, ValueWarning)\n",
      "C:\\Users\\matth\\anaconda3\\lib\\site-packages\\statsmodels\\tsa\\base\\tsa_model.py:162: ValueWarning: No frequency information was provided, so inferred frequency Q-DEC will be used.\n",
      "  % freq, ValueWarning)\n"
     ]
    },
    {
     "name": "stdout",
     "output_type": "stream",
     "text": [
      "The AIC for SARIMAX(5,1,6) is: 1091.8268008359319\n",
      "Attempting to fit SARIMAX(5,1,7)\n",
      "The AIC for SARIMAX(5,1,7) is: 766.5895983111193\n",
      "Attempting to fit SARIMAX(5,1,8)\n"
     ]
    },
    {
     "name": "stderr",
     "output_type": "stream",
     "text": [
      "C:\\Users\\matth\\anaconda3\\lib\\site-packages\\statsmodels\\tsa\\base\\tsa_model.py:162: ValueWarning: No frequency information was provided, so inferred frequency Q-DEC will be used.\n",
      "  % freq, ValueWarning)\n",
      "C:\\Users\\matth\\anaconda3\\lib\\site-packages\\statsmodels\\tsa\\base\\tsa_model.py:162: ValueWarning: No frequency information was provided, so inferred frequency Q-DEC will be used.\n",
      "  % freq, ValueWarning)\n"
     ]
    },
    {
     "name": "stdout",
     "output_type": "stream",
     "text": [
      "The AIC for SARIMAX(5,1,8) is: 781.675219296384\n",
      "Attempting to fit SARIMAX(5,1,9)\n"
     ]
    },
    {
     "name": "stderr",
     "output_type": "stream",
     "text": [
      "C:\\Users\\matth\\anaconda3\\lib\\site-packages\\statsmodels\\tsa\\base\\tsa_model.py:162: ValueWarning: No frequency information was provided, so inferred frequency Q-DEC will be used.\n",
      "  % freq, ValueWarning)\n",
      "C:\\Users\\matth\\anaconda3\\lib\\site-packages\\statsmodels\\tsa\\base\\tsa_model.py:162: ValueWarning: No frequency information was provided, so inferred frequency Q-DEC will be used.\n",
      "  % freq, ValueWarning)\n"
     ]
    },
    {
     "name": "stdout",
     "output_type": "stream",
     "text": [
      "The AIC for SARIMAX(5,1,9) is: 784.8447588126537\n",
      "Attempting to fit SARIMAX(5,1,10)\n"
     ]
    },
    {
     "name": "stderr",
     "output_type": "stream",
     "text": [
      "C:\\Users\\matth\\anaconda3\\lib\\site-packages\\statsmodels\\tsa\\base\\tsa_model.py:162: ValueWarning: No frequency information was provided, so inferred frequency Q-DEC will be used.\n",
      "  % freq, ValueWarning)\n",
      "C:\\Users\\matth\\anaconda3\\lib\\site-packages\\statsmodels\\tsa\\base\\tsa_model.py:162: ValueWarning: No frequency information was provided, so inferred frequency Q-DEC will be used.\n",
      "  % freq, ValueWarning)\n"
     ]
    },
    {
     "name": "stdout",
     "output_type": "stream",
     "text": [
      "The AIC for SARIMAX(5,1,10) is: 771.6392922485554\n",
      "Attempting to fit SARIMAX(5,1,11)\n"
     ]
    },
    {
     "name": "stderr",
     "output_type": "stream",
     "text": [
      "C:\\Users\\matth\\anaconda3\\lib\\site-packages\\statsmodels\\tsa\\base\\tsa_model.py:162: ValueWarning: No frequency information was provided, so inferred frequency Q-DEC will be used.\n",
      "  % freq, ValueWarning)\n",
      "C:\\Users\\matth\\anaconda3\\lib\\site-packages\\statsmodels\\tsa\\base\\tsa_model.py:162: ValueWarning: No frequency information was provided, so inferred frequency Q-DEC will be used.\n",
      "  % freq, ValueWarning)\n",
      "C:\\Users\\matth\\anaconda3\\lib\\site-packages\\statsmodels\\base\\model.py:568: ConvergenceWarning: Maximum Likelihood optimization failed to converge. Check mle_retvals\n",
      "  \"Check mle_retvals\", ConvergenceWarning)\n",
      "C:\\Users\\matth\\anaconda3\\lib\\site-packages\\statsmodels\\tsa\\base\\tsa_model.py:162: ValueWarning: No frequency information was provided, so inferred frequency Q-DEC will be used.\n",
      "  % freq, ValueWarning)\n",
      "C:\\Users\\matth\\anaconda3\\lib\\site-packages\\statsmodels\\tsa\\base\\tsa_model.py:162: ValueWarning: No frequency information was provided, so inferred frequency Q-DEC will be used.\n",
      "  % freq, ValueWarning)\n"
     ]
    },
    {
     "name": "stdout",
     "output_type": "stream",
     "text": [
      "The AIC for SARIMAX(5,1,11) is: 766.4973038396654\n",
      "Attempting to fit SARIMAX(6,1,0)\n",
      "The AIC for SARIMAX(6,1,0) is: 708.859227902702\n",
      "Attempting to fit SARIMAX(6,1,1)\n"
     ]
    },
    {
     "name": "stderr",
     "output_type": "stream",
     "text": [
      "C:\\Users\\matth\\anaconda3\\lib\\site-packages\\statsmodels\\tsa\\base\\tsa_model.py:162: ValueWarning: No frequency information was provided, so inferred frequency Q-DEC will be used.\n",
      "  % freq, ValueWarning)\n",
      "C:\\Users\\matth\\anaconda3\\lib\\site-packages\\statsmodels\\tsa\\base\\tsa_model.py:162: ValueWarning: No frequency information was provided, so inferred frequency Q-DEC will be used.\n",
      "  % freq, ValueWarning)\n"
     ]
    },
    {
     "name": "stdout",
     "output_type": "stream",
     "text": [
      "The AIC for SARIMAX(6,1,1) is: 717.4624798039051\n",
      "Attempting to fit SARIMAX(6,1,2)\n"
     ]
    },
    {
     "name": "stderr",
     "output_type": "stream",
     "text": [
      "C:\\Users\\matth\\anaconda3\\lib\\site-packages\\statsmodels\\tsa\\base\\tsa_model.py:162: ValueWarning: No frequency information was provided, so inferred frequency Q-DEC will be used.\n",
      "  % freq, ValueWarning)\n",
      "C:\\Users\\matth\\anaconda3\\lib\\site-packages\\statsmodels\\tsa\\base\\tsa_model.py:162: ValueWarning: No frequency information was provided, so inferred frequency Q-DEC will be used.\n",
      "  % freq, ValueWarning)\n"
     ]
    },
    {
     "name": "stdout",
     "output_type": "stream",
     "text": [
      "The AIC for SARIMAX(6,1,2) is: 712.9144670385134\n",
      "Attempting to fit SARIMAX(6,1,3)\n"
     ]
    },
    {
     "name": "stderr",
     "output_type": "stream",
     "text": [
      "C:\\Users\\matth\\anaconda3\\lib\\site-packages\\statsmodels\\tsa\\base\\tsa_model.py:162: ValueWarning: No frequency information was provided, so inferred frequency Q-DEC will be used.\n",
      "  % freq, ValueWarning)\n",
      "C:\\Users\\matth\\anaconda3\\lib\\site-packages\\statsmodels\\tsa\\base\\tsa_model.py:162: ValueWarning: No frequency information was provided, so inferred frequency Q-DEC will be used.\n",
      "  % freq, ValueWarning)\n",
      "C:\\Users\\matth\\anaconda3\\lib\\site-packages\\statsmodels\\base\\model.py:568: ConvergenceWarning: Maximum Likelihood optimization failed to converge. Check mle_retvals\n",
      "  \"Check mle_retvals\", ConvergenceWarning)\n",
      "C:\\Users\\matth\\anaconda3\\lib\\site-packages\\statsmodels\\tsa\\base\\tsa_model.py:162: ValueWarning: No frequency information was provided, so inferred frequency Q-DEC will be used.\n",
      "  % freq, ValueWarning)\n",
      "C:\\Users\\matth\\anaconda3\\lib\\site-packages\\statsmodels\\tsa\\base\\tsa_model.py:162: ValueWarning: No frequency information was provided, so inferred frequency Q-DEC will be used.\n",
      "  % freq, ValueWarning)\n"
     ]
    },
    {
     "name": "stdout",
     "output_type": "stream",
     "text": [
      "The AIC for SARIMAX(6,1,3) is: 776.8514238276757\n",
      "Attempting to fit SARIMAX(6,1,4)\n",
      "The AIC for SARIMAX(6,1,4) is: 852.5169509021684\n",
      "Attempting to fit SARIMAX(6,1,5)\n"
     ]
    },
    {
     "name": "stderr",
     "output_type": "stream",
     "text": [
      "C:\\Users\\matth\\anaconda3\\lib\\site-packages\\statsmodels\\tsa\\base\\tsa_model.py:162: ValueWarning: No frequency information was provided, so inferred frequency Q-DEC will be used.\n",
      "  % freq, ValueWarning)\n",
      "C:\\Users\\matth\\anaconda3\\lib\\site-packages\\statsmodels\\tsa\\base\\tsa_model.py:162: ValueWarning: No frequency information was provided, so inferred frequency Q-DEC will be used.\n",
      "  % freq, ValueWarning)\n",
      "C:\\Users\\matth\\anaconda3\\lib\\site-packages\\statsmodels\\base\\model.py:568: ConvergenceWarning: Maximum Likelihood optimization failed to converge. Check mle_retvals\n",
      "  \"Check mle_retvals\", ConvergenceWarning)\n",
      "C:\\Users\\matth\\anaconda3\\lib\\site-packages\\statsmodels\\tsa\\base\\tsa_model.py:162: ValueWarning: No frequency information was provided, so inferred frequency Q-DEC will be used.\n",
      "  % freq, ValueWarning)\n",
      "C:\\Users\\matth\\anaconda3\\lib\\site-packages\\statsmodels\\tsa\\base\\tsa_model.py:162: ValueWarning: No frequency information was provided, so inferred frequency Q-DEC will be used.\n",
      "  % freq, ValueWarning)\n"
     ]
    },
    {
     "name": "stdout",
     "output_type": "stream",
     "text": [
      "The AIC for SARIMAX(6,1,5) is: 1213.4507421618935\n",
      "Attempting to fit SARIMAX(6,1,6)\n"
     ]
    },
    {
     "name": "stderr",
     "output_type": "stream",
     "text": [
      "C:\\Users\\matth\\anaconda3\\lib\\site-packages\\statsmodels\\base\\model.py:568: ConvergenceWarning: Maximum Likelihood optimization failed to converge. Check mle_retvals\n",
      "  \"Check mle_retvals\", ConvergenceWarning)\n",
      "C:\\Users\\matth\\anaconda3\\lib\\site-packages\\statsmodels\\tsa\\base\\tsa_model.py:162: ValueWarning: No frequency information was provided, so inferred frequency Q-DEC will be used.\n",
      "  % freq, ValueWarning)\n",
      "C:\\Users\\matth\\anaconda3\\lib\\site-packages\\statsmodels\\tsa\\base\\tsa_model.py:162: ValueWarning: No frequency information was provided, so inferred frequency Q-DEC will be used.\n",
      "  % freq, ValueWarning)\n"
     ]
    },
    {
     "name": "stdout",
     "output_type": "stream",
     "text": [
      "The AIC for SARIMAX(6,1,6) is: 1036.7592753047752\n",
      "Attempting to fit SARIMAX(6,1,7)\n",
      "The AIC for SARIMAX(6,1,7) is: 774.191759175817\n",
      "Attempting to fit SARIMAX(6,1,8)\n"
     ]
    },
    {
     "name": "stderr",
     "output_type": "stream",
     "text": [
      "C:\\Users\\matth\\anaconda3\\lib\\site-packages\\statsmodels\\tsa\\base\\tsa_model.py:162: ValueWarning: No frequency information was provided, so inferred frequency Q-DEC will be used.\n",
      "  % freq, ValueWarning)\n",
      "C:\\Users\\matth\\anaconda3\\lib\\site-packages\\statsmodels\\tsa\\base\\tsa_model.py:162: ValueWarning: No frequency information was provided, so inferred frequency Q-DEC will be used.\n",
      "  % freq, ValueWarning)\n"
     ]
    },
    {
     "name": "stdout",
     "output_type": "stream",
     "text": [
      "The AIC for SARIMAX(6,1,8) is: 779.8951768632653\n",
      "Attempting to fit SARIMAX(6,1,9)\n"
     ]
    },
    {
     "name": "stderr",
     "output_type": "stream",
     "text": [
      "C:\\Users\\matth\\anaconda3\\lib\\site-packages\\statsmodels\\tsa\\base\\tsa_model.py:162: ValueWarning: No frequency information was provided, so inferred frequency Q-DEC will be used.\n",
      "  % freq, ValueWarning)\n",
      "C:\\Users\\matth\\anaconda3\\lib\\site-packages\\statsmodels\\tsa\\base\\tsa_model.py:162: ValueWarning: No frequency information was provided, so inferred frequency Q-DEC will be used.\n",
      "  % freq, ValueWarning)\n"
     ]
    },
    {
     "name": "stdout",
     "output_type": "stream",
     "text": [
      "The AIC for SARIMAX(6,1,9) is: 791.9896430346886\n",
      "Attempting to fit SARIMAX(6,1,10)\n"
     ]
    },
    {
     "name": "stderr",
     "output_type": "stream",
     "text": [
      "C:\\Users\\matth\\anaconda3\\lib\\site-packages\\statsmodels\\tsa\\base\\tsa_model.py:162: ValueWarning: No frequency information was provided, so inferred frequency Q-DEC will be used.\n",
      "  % freq, ValueWarning)\n",
      "C:\\Users\\matth\\anaconda3\\lib\\site-packages\\statsmodels\\tsa\\base\\tsa_model.py:162: ValueWarning: No frequency information was provided, so inferred frequency Q-DEC will be used.\n",
      "  % freq, ValueWarning)\n",
      "C:\\Users\\matth\\anaconda3\\lib\\site-packages\\statsmodels\\base\\model.py:568: ConvergenceWarning: Maximum Likelihood optimization failed to converge. Check mle_retvals\n",
      "  \"Check mle_retvals\", ConvergenceWarning)\n",
      "C:\\Users\\matth\\anaconda3\\lib\\site-packages\\statsmodels\\tsa\\base\\tsa_model.py:162: ValueWarning: No frequency information was provided, so inferred frequency Q-DEC will be used.\n",
      "  % freq, ValueWarning)\n",
      "C:\\Users\\matth\\anaconda3\\lib\\site-packages\\statsmodels\\tsa\\base\\tsa_model.py:162: ValueWarning: No frequency information was provided, so inferred frequency Q-DEC will be used.\n",
      "  % freq, ValueWarning)\n"
     ]
    },
    {
     "name": "stdout",
     "output_type": "stream",
     "text": [
      "The AIC for SARIMAX(6,1,10) is: 795.6308618404382\n",
      "Attempting to fit SARIMAX(6,1,11)\n",
      "The AIC for SARIMAX(6,1,11) is: 795.5840221303706\n",
      "Attempting to fit SARIMAX(7,1,0)\n"
     ]
    },
    {
     "name": "stderr",
     "output_type": "stream",
     "text": [
      "C:\\Users\\matth\\anaconda3\\lib\\site-packages\\statsmodels\\tsa\\base\\tsa_model.py:162: ValueWarning: No frequency information was provided, so inferred frequency Q-DEC will be used.\n",
      "  % freq, ValueWarning)\n",
      "C:\\Users\\matth\\anaconda3\\lib\\site-packages\\statsmodels\\tsa\\base\\tsa_model.py:162: ValueWarning: No frequency information was provided, so inferred frequency Q-DEC will be used.\n",
      "  % freq, ValueWarning)\n"
     ]
    },
    {
     "name": "stdout",
     "output_type": "stream",
     "text": [
      "The AIC for SARIMAX(7,1,0) is: 711.1657277081447\n",
      "Attempting to fit SARIMAX(7,1,1)\n"
     ]
    },
    {
     "name": "stderr",
     "output_type": "stream",
     "text": [
      "C:\\Users\\matth\\anaconda3\\lib\\site-packages\\statsmodels\\tsa\\base\\tsa_model.py:162: ValueWarning: No frequency information was provided, so inferred frequency Q-DEC will be used.\n",
      "  % freq, ValueWarning)\n",
      "C:\\Users\\matth\\anaconda3\\lib\\site-packages\\statsmodels\\tsa\\base\\tsa_model.py:162: ValueWarning: No frequency information was provided, so inferred frequency Q-DEC will be used.\n",
      "  % freq, ValueWarning)\n"
     ]
    },
    {
     "name": "stdout",
     "output_type": "stream",
     "text": [
      "The AIC for SARIMAX(7,1,1) is: 725.779981183463\n",
      "Attempting to fit SARIMAX(7,1,2)\n"
     ]
    },
    {
     "name": "stderr",
     "output_type": "stream",
     "text": [
      "C:\\Users\\matth\\anaconda3\\lib\\site-packages\\statsmodels\\tsa\\base\\tsa_model.py:162: ValueWarning: No frequency information was provided, so inferred frequency Q-DEC will be used.\n",
      "  % freq, ValueWarning)\n",
      "C:\\Users\\matth\\anaconda3\\lib\\site-packages\\statsmodels\\tsa\\base\\tsa_model.py:162: ValueWarning: No frequency information was provided, so inferred frequency Q-DEC will be used.\n",
      "  % freq, ValueWarning)\n"
     ]
    },
    {
     "name": "stdout",
     "output_type": "stream",
     "text": [
      "The AIC for SARIMAX(7,1,2) is: 723.1444250106135\n",
      "Attempting to fit SARIMAX(7,1,3)\n"
     ]
    },
    {
     "name": "stderr",
     "output_type": "stream",
     "text": [
      "C:\\Users\\matth\\anaconda3\\lib\\site-packages\\statsmodels\\tsa\\base\\tsa_model.py:162: ValueWarning: No frequency information was provided, so inferred frequency Q-DEC will be used.\n",
      "  % freq, ValueWarning)\n",
      "C:\\Users\\matth\\anaconda3\\lib\\site-packages\\statsmodels\\tsa\\base\\tsa_model.py:162: ValueWarning: No frequency information was provided, so inferred frequency Q-DEC will be used.\n",
      "  % freq, ValueWarning)\n"
     ]
    },
    {
     "name": "stdout",
     "output_type": "stream",
     "text": [
      "The AIC for SARIMAX(7,1,3) is: 931.0423520646582\n",
      "Attempting to fit SARIMAX(7,1,4)\n"
     ]
    },
    {
     "name": "stderr",
     "output_type": "stream",
     "text": [
      "C:\\Users\\matth\\anaconda3\\lib\\site-packages\\statsmodels\\tsa\\base\\tsa_model.py:162: ValueWarning: No frequency information was provided, so inferred frequency Q-DEC will be used.\n",
      "  % freq, ValueWarning)\n",
      "C:\\Users\\matth\\anaconda3\\lib\\site-packages\\statsmodels\\tsa\\base\\tsa_model.py:162: ValueWarning: No frequency information was provided, so inferred frequency Q-DEC will be used.\n",
      "  % freq, ValueWarning)\n",
      "C:\\Users\\matth\\anaconda3\\lib\\site-packages\\statsmodels\\base\\model.py:568: ConvergenceWarning: Maximum Likelihood optimization failed to converge. Check mle_retvals\n",
      "  \"Check mle_retvals\", ConvergenceWarning)\n",
      "C:\\Users\\matth\\anaconda3\\lib\\site-packages\\statsmodels\\tsa\\base\\tsa_model.py:162: ValueWarning: No frequency information was provided, so inferred frequency Q-DEC will be used.\n",
      "  % freq, ValueWarning)\n",
      "C:\\Users\\matth\\anaconda3\\lib\\site-packages\\statsmodels\\tsa\\base\\tsa_model.py:162: ValueWarning: No frequency information was provided, so inferred frequency Q-DEC will be used.\n",
      "  % freq, ValueWarning)\n"
     ]
    },
    {
     "name": "stdout",
     "output_type": "stream",
     "text": [
      "The AIC for SARIMAX(7,1,4) is: 808.7846467455777\n",
      "Attempting to fit SARIMAX(7,1,5)\n"
     ]
    },
    {
     "name": "stderr",
     "output_type": "stream",
     "text": [
      "C:\\Users\\matth\\anaconda3\\lib\\site-packages\\statsmodels\\base\\model.py:568: ConvergenceWarning: Maximum Likelihood optimization failed to converge. Check mle_retvals\n",
      "  \"Check mle_retvals\", ConvergenceWarning)\n",
      "C:\\Users\\matth\\anaconda3\\lib\\site-packages\\statsmodels\\tsa\\base\\tsa_model.py:162: ValueWarning: No frequency information was provided, so inferred frequency Q-DEC will be used.\n",
      "  % freq, ValueWarning)\n",
      "C:\\Users\\matth\\anaconda3\\lib\\site-packages\\statsmodels\\tsa\\base\\tsa_model.py:162: ValueWarning: No frequency information was provided, so inferred frequency Q-DEC will be used.\n",
      "  % freq, ValueWarning)\n"
     ]
    },
    {
     "name": "stdout",
     "output_type": "stream",
     "text": [
      "The AIC for SARIMAX(7,1,5) is: 782.4759075473071\n",
      "Attempting to fit SARIMAX(7,1,6)\n"
     ]
    },
    {
     "name": "stderr",
     "output_type": "stream",
     "text": [
      "C:\\Users\\matth\\anaconda3\\lib\\site-packages\\statsmodels\\base\\model.py:568: ConvergenceWarning: Maximum Likelihood optimization failed to converge. Check mle_retvals\n",
      "  \"Check mle_retvals\", ConvergenceWarning)\n",
      "C:\\Users\\matth\\anaconda3\\lib\\site-packages\\statsmodels\\tsa\\base\\tsa_model.py:162: ValueWarning: No frequency information was provided, so inferred frequency Q-DEC will be used.\n",
      "  % freq, ValueWarning)\n",
      "C:\\Users\\matth\\anaconda3\\lib\\site-packages\\statsmodels\\tsa\\base\\tsa_model.py:162: ValueWarning: No frequency information was provided, so inferred frequency Q-DEC will be used.\n",
      "  % freq, ValueWarning)\n"
     ]
    },
    {
     "name": "stdout",
     "output_type": "stream",
     "text": [
      "The AIC for SARIMAX(7,1,6) is: 788.060235639641\n",
      "Attempting to fit SARIMAX(7,1,7)\n"
     ]
    },
    {
     "name": "stderr",
     "output_type": "stream",
     "text": [
      "C:\\Users\\matth\\anaconda3\\lib\\site-packages\\statsmodels\\base\\model.py:568: ConvergenceWarning: Maximum Likelihood optimization failed to converge. Check mle_retvals\n",
      "  \"Check mle_retvals\", ConvergenceWarning)\n",
      "C:\\Users\\matth\\anaconda3\\lib\\site-packages\\statsmodels\\tsa\\base\\tsa_model.py:162: ValueWarning: No frequency information was provided, so inferred frequency Q-DEC will be used.\n",
      "  % freq, ValueWarning)\n",
      "C:\\Users\\matth\\anaconda3\\lib\\site-packages\\statsmodels\\tsa\\base\\tsa_model.py:162: ValueWarning: No frequency information was provided, so inferred frequency Q-DEC will be used.\n",
      "  % freq, ValueWarning)\n"
     ]
    },
    {
     "name": "stdout",
     "output_type": "stream",
     "text": [
      "The AIC for SARIMAX(7,1,7) is: 766.1391953987452\n",
      "Attempting to fit SARIMAX(7,1,8)\n",
      "The AIC for SARIMAX(7,1,8) is: 780.4847748755872\n",
      "Attempting to fit SARIMAX(7,1,9)\n"
     ]
    },
    {
     "name": "stderr",
     "output_type": "stream",
     "text": [
      "C:\\Users\\matth\\anaconda3\\lib\\site-packages\\statsmodels\\tsa\\base\\tsa_model.py:162: ValueWarning: No frequency information was provided, so inferred frequency Q-DEC will be used.\n",
      "  % freq, ValueWarning)\n",
      "C:\\Users\\matth\\anaconda3\\lib\\site-packages\\statsmodels\\tsa\\base\\tsa_model.py:162: ValueWarning: No frequency information was provided, so inferred frequency Q-DEC will be used.\n",
      "  % freq, ValueWarning)\n"
     ]
    },
    {
     "name": "stdout",
     "output_type": "stream",
     "text": [
      "The AIC for SARIMAX(7,1,9) is: 801.8232935340227\n",
      "Attempting to fit SARIMAX(7,1,10)\n"
     ]
    },
    {
     "name": "stderr",
     "output_type": "stream",
     "text": [
      "C:\\Users\\matth\\anaconda3\\lib\\site-packages\\statsmodels\\tsa\\base\\tsa_model.py:162: ValueWarning: No frequency information was provided, so inferred frequency Q-DEC will be used.\n",
      "  % freq, ValueWarning)\n",
      "C:\\Users\\matth\\anaconda3\\lib\\site-packages\\statsmodels\\tsa\\base\\tsa_model.py:162: ValueWarning: No frequency information was provided, so inferred frequency Q-DEC will be used.\n",
      "  % freq, ValueWarning)\n"
     ]
    },
    {
     "name": "stdout",
     "output_type": "stream",
     "text": [
      "The AIC for SARIMAX(7,1,10) is: 804.3250288707877\n",
      "Attempting to fit SARIMAX(7,1,11)\n"
     ]
    },
    {
     "name": "stderr",
     "output_type": "stream",
     "text": [
      "C:\\Users\\matth\\anaconda3\\lib\\site-packages\\statsmodels\\tsa\\base\\tsa_model.py:162: ValueWarning: No frequency information was provided, so inferred frequency Q-DEC will be used.\n",
      "  % freq, ValueWarning)\n",
      "C:\\Users\\matth\\anaconda3\\lib\\site-packages\\statsmodels\\tsa\\base\\tsa_model.py:162: ValueWarning: No frequency information was provided, so inferred frequency Q-DEC will be used.\n",
      "  % freq, ValueWarning)\n"
     ]
    },
    {
     "name": "stdout",
     "output_type": "stream",
     "text": [
      "The AIC for SARIMAX(7,1,11) is: 799.9006515623034\n",
      "Attempting to fit SARIMAX(8,1,0)\n"
     ]
    },
    {
     "name": "stderr",
     "output_type": "stream",
     "text": [
      "C:\\Users\\matth\\anaconda3\\lib\\site-packages\\statsmodels\\tsa\\base\\tsa_model.py:162: ValueWarning: No frequency information was provided, so inferred frequency Q-DEC will be used.\n",
      "  % freq, ValueWarning)\n",
      "C:\\Users\\matth\\anaconda3\\lib\\site-packages\\statsmodels\\tsa\\base\\tsa_model.py:162: ValueWarning: No frequency information was provided, so inferred frequency Q-DEC will be used.\n",
      "  % freq, ValueWarning)\n"
     ]
    },
    {
     "name": "stdout",
     "output_type": "stream",
     "text": [
      "The AIC for SARIMAX(8,1,0) is: 718.0857507679164\n",
      "Attempting to fit SARIMAX(8,1,1)\n"
     ]
    },
    {
     "name": "stderr",
     "output_type": "stream",
     "text": [
      "C:\\Users\\matth\\anaconda3\\lib\\site-packages\\statsmodels\\tsa\\base\\tsa_model.py:162: ValueWarning: No frequency information was provided, so inferred frequency Q-DEC will be used.\n",
      "  % freq, ValueWarning)\n",
      "C:\\Users\\matth\\anaconda3\\lib\\site-packages\\statsmodels\\tsa\\base\\tsa_model.py:162: ValueWarning: No frequency information was provided, so inferred frequency Q-DEC will be used.\n",
      "  % freq, ValueWarning)\n"
     ]
    },
    {
     "name": "stdout",
     "output_type": "stream",
     "text": [
      "The AIC for SARIMAX(8,1,1) is: 734.949244082464\n",
      "Attempting to fit SARIMAX(8,1,2)\n"
     ]
    },
    {
     "name": "stderr",
     "output_type": "stream",
     "text": [
      "C:\\Users\\matth\\anaconda3\\lib\\site-packages\\statsmodels\\tsa\\base\\tsa_model.py:162: ValueWarning: No frequency information was provided, so inferred frequency Q-DEC will be used.\n",
      "  % freq, ValueWarning)\n",
      "C:\\Users\\matth\\anaconda3\\lib\\site-packages\\statsmodels\\tsa\\base\\tsa_model.py:162: ValueWarning: No frequency information was provided, so inferred frequency Q-DEC will be used.\n",
      "  % freq, ValueWarning)\n"
     ]
    },
    {
     "name": "stdout",
     "output_type": "stream",
     "text": [
      "The AIC for SARIMAX(8,1,2) is: 729.6587004601017\n",
      "Attempting to fit SARIMAX(8,1,3)\n"
     ]
    },
    {
     "name": "stderr",
     "output_type": "stream",
     "text": [
      "C:\\Users\\matth\\anaconda3\\lib\\site-packages\\statsmodels\\tsa\\base\\tsa_model.py:162: ValueWarning: No frequency information was provided, so inferred frequency Q-DEC will be used.\n",
      "  % freq, ValueWarning)\n",
      "C:\\Users\\matth\\anaconda3\\lib\\site-packages\\statsmodels\\tsa\\base\\tsa_model.py:162: ValueWarning: No frequency information was provided, so inferred frequency Q-DEC will be used.\n",
      "  % freq, ValueWarning)\n"
     ]
    },
    {
     "name": "stdout",
     "output_type": "stream",
     "text": [
      "The AIC for SARIMAX(8,1,3) is: 745.3838988788516\n",
      "Attempting to fit SARIMAX(8,1,4)\n"
     ]
    },
    {
     "name": "stderr",
     "output_type": "stream",
     "text": [
      "C:\\Users\\matth\\anaconda3\\lib\\site-packages\\statsmodels\\tsa\\base\\tsa_model.py:162: ValueWarning: No frequency information was provided, so inferred frequency Q-DEC will be used.\n",
      "  % freq, ValueWarning)\n",
      "C:\\Users\\matth\\anaconda3\\lib\\site-packages\\statsmodels\\tsa\\base\\tsa_model.py:162: ValueWarning: No frequency information was provided, so inferred frequency Q-DEC will be used.\n",
      "  % freq, ValueWarning)\n"
     ]
    },
    {
     "name": "stdout",
     "output_type": "stream",
     "text": [
      "The AIC for SARIMAX(8,1,4) is: 884.9620338649125\n",
      "Attempting to fit SARIMAX(8,1,5)\n"
     ]
    },
    {
     "name": "stderr",
     "output_type": "stream",
     "text": [
      "C:\\Users\\matth\\anaconda3\\lib\\site-packages\\statsmodels\\tsa\\base\\tsa_model.py:162: ValueWarning: No frequency information was provided, so inferred frequency Q-DEC will be used.\n",
      "  % freq, ValueWarning)\n",
      "C:\\Users\\matth\\anaconda3\\lib\\site-packages\\statsmodels\\tsa\\base\\tsa_model.py:162: ValueWarning: No frequency information was provided, so inferred frequency Q-DEC will be used.\n",
      "  % freq, ValueWarning)\n"
     ]
    },
    {
     "name": "stdout",
     "output_type": "stream",
     "text": [
      "The AIC for SARIMAX(8,1,5) is: 925.7026223417612\n",
      "Attempting to fit SARIMAX(8,1,6)\n"
     ]
    },
    {
     "name": "stderr",
     "output_type": "stream",
     "text": [
      "C:\\Users\\matth\\anaconda3\\lib\\site-packages\\statsmodels\\tsa\\base\\tsa_model.py:162: ValueWarning: No frequency information was provided, so inferred frequency Q-DEC will be used.\n",
      "  % freq, ValueWarning)\n",
      "C:\\Users\\matth\\anaconda3\\lib\\site-packages\\statsmodels\\tsa\\base\\tsa_model.py:162: ValueWarning: No frequency information was provided, so inferred frequency Q-DEC will be used.\n",
      "  % freq, ValueWarning)\n"
     ]
    },
    {
     "name": "stdout",
     "output_type": "stream",
     "text": [
      "The AIC for SARIMAX(8,1,6) is: 924.826365398264\n",
      "Attempting to fit SARIMAX(8,1,7)\n"
     ]
    },
    {
     "name": "stderr",
     "output_type": "stream",
     "text": [
      "C:\\Users\\matth\\anaconda3\\lib\\site-packages\\statsmodels\\tsa\\base\\tsa_model.py:162: ValueWarning: No frequency information was provided, so inferred frequency Q-DEC will be used.\n",
      "  % freq, ValueWarning)\n",
      "C:\\Users\\matth\\anaconda3\\lib\\site-packages\\statsmodels\\tsa\\base\\tsa_model.py:162: ValueWarning: No frequency information was provided, so inferred frequency Q-DEC will be used.\n",
      "  % freq, ValueWarning)\n"
     ]
    },
    {
     "name": "stdout",
     "output_type": "stream",
     "text": [
      "The AIC for SARIMAX(8,1,7) is: 794.7927644291373\n",
      "Attempting to fit SARIMAX(8,1,8)\n"
     ]
    },
    {
     "name": "stderr",
     "output_type": "stream",
     "text": [
      "C:\\Users\\matth\\anaconda3\\lib\\site-packages\\statsmodels\\tsa\\base\\tsa_model.py:162: ValueWarning: No frequency information was provided, so inferred frequency Q-DEC will be used.\n",
      "  % freq, ValueWarning)\n",
      "C:\\Users\\matth\\anaconda3\\lib\\site-packages\\statsmodels\\tsa\\base\\tsa_model.py:162: ValueWarning: No frequency information was provided, so inferred frequency Q-DEC will be used.\n",
      "  % freq, ValueWarning)\n"
     ]
    },
    {
     "name": "stdout",
     "output_type": "stream",
     "text": [
      "The AIC for SARIMAX(8,1,8) is: 792.5279008891549\n",
      "Attempting to fit SARIMAX(8,1,9)\n"
     ]
    },
    {
     "name": "stderr",
     "output_type": "stream",
     "text": [
      "C:\\Users\\matth\\anaconda3\\lib\\site-packages\\statsmodels\\tsa\\base\\tsa_model.py:162: ValueWarning: No frequency information was provided, so inferred frequency Q-DEC will be used.\n",
      "  % freq, ValueWarning)\n",
      "C:\\Users\\matth\\anaconda3\\lib\\site-packages\\statsmodels\\tsa\\base\\tsa_model.py:162: ValueWarning: No frequency information was provided, so inferred frequency Q-DEC will be used.\n",
      "  % freq, ValueWarning)\n"
     ]
    },
    {
     "name": "stdout",
     "output_type": "stream",
     "text": [
      "The AIC for SARIMAX(8,1,9) is: 802.563022544046\n",
      "Attempting to fit SARIMAX(8,1,10)\n"
     ]
    },
    {
     "name": "stderr",
     "output_type": "stream",
     "text": [
      "C:\\Users\\matth\\anaconda3\\lib\\site-packages\\statsmodels\\tsa\\base\\tsa_model.py:162: ValueWarning: No frequency information was provided, so inferred frequency Q-DEC will be used.\n",
      "  % freq, ValueWarning)\n",
      "C:\\Users\\matth\\anaconda3\\lib\\site-packages\\statsmodels\\tsa\\base\\tsa_model.py:162: ValueWarning: No frequency information was provided, so inferred frequency Q-DEC will be used.\n",
      "  % freq, ValueWarning)\n"
     ]
    },
    {
     "name": "stdout",
     "output_type": "stream",
     "text": [
      "The AIC for SARIMAX(8,1,10) is: 799.9620369462529\n",
      "Attempting to fit SARIMAX(8,1,11)\n"
     ]
    },
    {
     "name": "stderr",
     "output_type": "stream",
     "text": [
      "C:\\Users\\matth\\anaconda3\\lib\\site-packages\\statsmodels\\tsa\\base\\tsa_model.py:162: ValueWarning: No frequency information was provided, so inferred frequency Q-DEC will be used.\n",
      "  % freq, ValueWarning)\n",
      "C:\\Users\\matth\\anaconda3\\lib\\site-packages\\statsmodels\\tsa\\base\\tsa_model.py:162: ValueWarning: No frequency information was provided, so inferred frequency Q-DEC will be used.\n",
      "  % freq, ValueWarning)\n"
     ]
    },
    {
     "name": "stdout",
     "output_type": "stream",
     "text": [
      "The AIC for SARIMAX(8,1,11) is: 784.9587718865357\n",
      "Attempting to fit SARIMAX(9,1,0)\n"
     ]
    },
    {
     "name": "stderr",
     "output_type": "stream",
     "text": [
      "C:\\Users\\matth\\anaconda3\\lib\\site-packages\\statsmodels\\tsa\\base\\tsa_model.py:162: ValueWarning: No frequency information was provided, so inferred frequency Q-DEC will be used.\n",
      "  % freq, ValueWarning)\n",
      "C:\\Users\\matth\\anaconda3\\lib\\site-packages\\statsmodels\\tsa\\base\\tsa_model.py:162: ValueWarning: No frequency information was provided, so inferred frequency Q-DEC will be used.\n",
      "  % freq, ValueWarning)\n"
     ]
    },
    {
     "name": "stdout",
     "output_type": "stream",
     "text": [
      "The AIC for SARIMAX(9,1,0) is: 725.0673086035887\n",
      "Attempting to fit SARIMAX(9,1,1)\n"
     ]
    },
    {
     "name": "stderr",
     "output_type": "stream",
     "text": [
      "C:\\Users\\matth\\anaconda3\\lib\\site-packages\\statsmodels\\tsa\\base\\tsa_model.py:162: ValueWarning: No frequency information was provided, so inferred frequency Q-DEC will be used.\n",
      "  % freq, ValueWarning)\n",
      "C:\\Users\\matth\\anaconda3\\lib\\site-packages\\statsmodels\\tsa\\base\\tsa_model.py:162: ValueWarning: No frequency information was provided, so inferred frequency Q-DEC will be used.\n",
      "  % freq, ValueWarning)\n"
     ]
    },
    {
     "name": "stdout",
     "output_type": "stream",
     "text": [
      "The AIC for SARIMAX(9,1,1) is: 737.6625882099743\n",
      "Attempting to fit SARIMAX(9,1,2)\n"
     ]
    },
    {
     "name": "stderr",
     "output_type": "stream",
     "text": [
      "C:\\Users\\matth\\anaconda3\\lib\\site-packages\\statsmodels\\tsa\\base\\tsa_model.py:162: ValueWarning: No frequency information was provided, so inferred frequency Q-DEC will be used.\n",
      "  % freq, ValueWarning)\n",
      "C:\\Users\\matth\\anaconda3\\lib\\site-packages\\statsmodels\\tsa\\base\\tsa_model.py:162: ValueWarning: No frequency information was provided, so inferred frequency Q-DEC will be used.\n",
      "  % freq, ValueWarning)\n"
     ]
    },
    {
     "name": "stdout",
     "output_type": "stream",
     "text": [
      "The AIC for SARIMAX(9,1,2) is: 739.8775352176393\n",
      "Attempting to fit SARIMAX(9,1,3)\n"
     ]
    },
    {
     "name": "stderr",
     "output_type": "stream",
     "text": [
      "C:\\Users\\matth\\anaconda3\\lib\\site-packages\\statsmodels\\tsa\\base\\tsa_model.py:162: ValueWarning: No frequency information was provided, so inferred frequency Q-DEC will be used.\n",
      "  % freq, ValueWarning)\n",
      "C:\\Users\\matth\\anaconda3\\lib\\site-packages\\statsmodels\\tsa\\base\\tsa_model.py:162: ValueWarning: No frequency information was provided, so inferred frequency Q-DEC will be used.\n",
      "  % freq, ValueWarning)\n"
     ]
    },
    {
     "name": "stdout",
     "output_type": "stream",
     "text": [
      "The AIC for SARIMAX(9,1,3) is: 745.717364435557\n",
      "Attempting to fit SARIMAX(9,1,4)\n"
     ]
    },
    {
     "name": "stderr",
     "output_type": "stream",
     "text": [
      "C:\\Users\\matth\\anaconda3\\lib\\site-packages\\statsmodels\\tsa\\base\\tsa_model.py:162: ValueWarning: No frequency information was provided, so inferred frequency Q-DEC will be used.\n",
      "  % freq, ValueWarning)\n",
      "C:\\Users\\matth\\anaconda3\\lib\\site-packages\\statsmodels\\tsa\\base\\tsa_model.py:162: ValueWarning: No frequency information was provided, so inferred frequency Q-DEC will be used.\n",
      "  % freq, ValueWarning)\n",
      "C:\\Users\\matth\\anaconda3\\lib\\site-packages\\statsmodels\\base\\model.py:568: ConvergenceWarning: Maximum Likelihood optimization failed to converge. Check mle_retvals\n",
      "  \"Check mle_retvals\", ConvergenceWarning)\n",
      "C:\\Users\\matth\\anaconda3\\lib\\site-packages\\statsmodels\\tsa\\base\\tsa_model.py:162: ValueWarning: No frequency information was provided, so inferred frequency Q-DEC will be used.\n",
      "  % freq, ValueWarning)\n",
      "C:\\Users\\matth\\anaconda3\\lib\\site-packages\\statsmodels\\tsa\\base\\tsa_model.py:162: ValueWarning: No frequency information was provided, so inferred frequency Q-DEC will be used.\n",
      "  % freq, ValueWarning)\n"
     ]
    },
    {
     "name": "stdout",
     "output_type": "stream",
     "text": [
      "The AIC for SARIMAX(9,1,4) is: 814.732852940173\n",
      "Attempting to fit SARIMAX(9,1,5)\n"
     ]
    },
    {
     "name": "stderr",
     "output_type": "stream",
     "text": [
      "C:\\Users\\matth\\anaconda3\\lib\\site-packages\\statsmodels\\base\\model.py:568: ConvergenceWarning: Maximum Likelihood optimization failed to converge. Check mle_retvals\n",
      "  \"Check mle_retvals\", ConvergenceWarning)\n",
      "C:\\Users\\matth\\anaconda3\\lib\\site-packages\\statsmodels\\tsa\\base\\tsa_model.py:162: ValueWarning: No frequency information was provided, so inferred frequency Q-DEC will be used.\n",
      "  % freq, ValueWarning)\n",
      "C:\\Users\\matth\\anaconda3\\lib\\site-packages\\statsmodels\\tsa\\base\\tsa_model.py:162: ValueWarning: No frequency information was provided, so inferred frequency Q-DEC will be used.\n",
      "  % freq, ValueWarning)\n"
     ]
    },
    {
     "name": "stdout",
     "output_type": "stream",
     "text": [
      "The AIC for SARIMAX(9,1,5) is: 789.8283095365891\n",
      "Attempting to fit SARIMAX(9,1,6)\n",
      "The AIC for SARIMAX(9,1,6) is: 928.2837371009209\n",
      "Attempting to fit SARIMAX(9,1,7)\n"
     ]
    },
    {
     "name": "stderr",
     "output_type": "stream",
     "text": [
      "C:\\Users\\matth\\anaconda3\\lib\\site-packages\\statsmodels\\tsa\\base\\tsa_model.py:162: ValueWarning: No frequency information was provided, so inferred frequency Q-DEC will be used.\n",
      "  % freq, ValueWarning)\n",
      "C:\\Users\\matth\\anaconda3\\lib\\site-packages\\statsmodels\\tsa\\base\\tsa_model.py:162: ValueWarning: No frequency information was provided, so inferred frequency Q-DEC will be used.\n",
      "  % freq, ValueWarning)\n"
     ]
    },
    {
     "name": "stdout",
     "output_type": "stream",
     "text": [
      "The AIC for SARIMAX(9,1,7) is: 786.9443105456762\n",
      "Attempting to fit SARIMAX(9,1,8)\n"
     ]
    },
    {
     "name": "stderr",
     "output_type": "stream",
     "text": [
      "C:\\Users\\matth\\anaconda3\\lib\\site-packages\\statsmodels\\tsa\\base\\tsa_model.py:162: ValueWarning: No frequency information was provided, so inferred frequency Q-DEC will be used.\n",
      "  % freq, ValueWarning)\n",
      "C:\\Users\\matth\\anaconda3\\lib\\site-packages\\statsmodels\\tsa\\base\\tsa_model.py:162: ValueWarning: No frequency information was provided, so inferred frequency Q-DEC will be used.\n",
      "  % freq, ValueWarning)\n"
     ]
    },
    {
     "name": "stdout",
     "output_type": "stream",
     "text": [
      "The AIC for SARIMAX(9,1,8) is: 791.6399197664074\n",
      "Attempting to fit SARIMAX(9,1,9)\n"
     ]
    },
    {
     "name": "stderr",
     "output_type": "stream",
     "text": [
      "C:\\Users\\matth\\anaconda3\\lib\\site-packages\\statsmodels\\tsa\\base\\tsa_model.py:162: ValueWarning: No frequency information was provided, so inferred frequency Q-DEC will be used.\n",
      "  % freq, ValueWarning)\n",
      "C:\\Users\\matth\\anaconda3\\lib\\site-packages\\statsmodels\\tsa\\base\\tsa_model.py:162: ValueWarning: No frequency information was provided, so inferred frequency Q-DEC will be used.\n",
      "  % freq, ValueWarning)\n",
      "C:\\Users\\matth\\anaconda3\\lib\\site-packages\\statsmodels\\base\\model.py:568: ConvergenceWarning: Maximum Likelihood optimization failed to converge. Check mle_retvals\n",
      "  \"Check mle_retvals\", ConvergenceWarning)\n",
      "C:\\Users\\matth\\anaconda3\\lib\\site-packages\\statsmodels\\tsa\\base\\tsa_model.py:162: ValueWarning: No frequency information was provided, so inferred frequency Q-DEC will be used.\n",
      "  % freq, ValueWarning)\n",
      "C:\\Users\\matth\\anaconda3\\lib\\site-packages\\statsmodels\\tsa\\base\\tsa_model.py:162: ValueWarning: No frequency information was provided, so inferred frequency Q-DEC will be used.\n",
      "  % freq, ValueWarning)\n"
     ]
    },
    {
     "name": "stdout",
     "output_type": "stream",
     "text": [
      "The AIC for SARIMAX(9,1,9) is: 791.2523495860185\n",
      "Attempting to fit SARIMAX(9,1,10)\n",
      "The AIC for SARIMAX(9,1,10) is: 800.1363142953096\n",
      "Attempting to fit SARIMAX(9,1,11)\n"
     ]
    },
    {
     "name": "stderr",
     "output_type": "stream",
     "text": [
      "C:\\Users\\matth\\anaconda3\\lib\\site-packages\\statsmodels\\tsa\\base\\tsa_model.py:162: ValueWarning: No frequency information was provided, so inferred frequency Q-DEC will be used.\n",
      "  % freq, ValueWarning)\n",
      "C:\\Users\\matth\\anaconda3\\lib\\site-packages\\statsmodels\\tsa\\base\\tsa_model.py:162: ValueWarning: No frequency information was provided, so inferred frequency Q-DEC will be used.\n",
      "  % freq, ValueWarning)\n"
     ]
    },
    {
     "name": "stdout",
     "output_type": "stream",
     "text": [
      "The AIC for SARIMAX(9,1,11) is: 805.8690501303806\n",
      "Attempting to fit SARIMAX(10,1,0)\n"
     ]
    },
    {
     "name": "stderr",
     "output_type": "stream",
     "text": [
      "C:\\Users\\matth\\anaconda3\\lib\\site-packages\\statsmodels\\tsa\\base\\tsa_model.py:162: ValueWarning: No frequency information was provided, so inferred frequency Q-DEC will be used.\n",
      "  % freq, ValueWarning)\n",
      "C:\\Users\\matth\\anaconda3\\lib\\site-packages\\statsmodels\\tsa\\base\\tsa_model.py:162: ValueWarning: No frequency information was provided, so inferred frequency Q-DEC will be used.\n",
      "  % freq, ValueWarning)\n"
     ]
    },
    {
     "name": "stdout",
     "output_type": "stream",
     "text": [
      "The AIC for SARIMAX(10,1,0) is: 735.9144871910142\n",
      "Attempting to fit SARIMAX(10,1,1)\n"
     ]
    },
    {
     "name": "stderr",
     "output_type": "stream",
     "text": [
      "C:\\Users\\matth\\anaconda3\\lib\\site-packages\\statsmodels\\tsa\\base\\tsa_model.py:162: ValueWarning: No frequency information was provided, so inferred frequency Q-DEC will be used.\n",
      "  % freq, ValueWarning)\n",
      "C:\\Users\\matth\\anaconda3\\lib\\site-packages\\statsmodels\\tsa\\base\\tsa_model.py:162: ValueWarning: No frequency information was provided, so inferred frequency Q-DEC will be used.\n",
      "  % freq, ValueWarning)\n"
     ]
    },
    {
     "name": "stdout",
     "output_type": "stream",
     "text": [
      "The AIC for SARIMAX(10,1,1) is: 757.2469216322297\n",
      "Attempting to fit SARIMAX(10,1,2)\n"
     ]
    },
    {
     "name": "stderr",
     "output_type": "stream",
     "text": [
      "C:\\Users\\matth\\anaconda3\\lib\\site-packages\\statsmodels\\tsa\\base\\tsa_model.py:162: ValueWarning: No frequency information was provided, so inferred frequency Q-DEC will be used.\n",
      "  % freq, ValueWarning)\n",
      "C:\\Users\\matth\\anaconda3\\lib\\site-packages\\statsmodels\\tsa\\base\\tsa_model.py:162: ValueWarning: No frequency information was provided, so inferred frequency Q-DEC will be used.\n",
      "  % freq, ValueWarning)\n"
     ]
    },
    {
     "name": "stdout",
     "output_type": "stream",
     "text": [
      "The AIC for SARIMAX(10,1,2) is: 750.7069198852948\n",
      "Attempting to fit SARIMAX(10,1,3)\n"
     ]
    },
    {
     "name": "stderr",
     "output_type": "stream",
     "text": [
      "C:\\Users\\matth\\anaconda3\\lib\\site-packages\\statsmodels\\tsa\\base\\tsa_model.py:162: ValueWarning: No frequency information was provided, so inferred frequency Q-DEC will be used.\n",
      "  % freq, ValueWarning)\n",
      "C:\\Users\\matth\\anaconda3\\lib\\site-packages\\statsmodels\\tsa\\base\\tsa_model.py:162: ValueWarning: No frequency information was provided, so inferred frequency Q-DEC will be used.\n",
      "  % freq, ValueWarning)\n",
      "C:\\Users\\matth\\anaconda3\\lib\\site-packages\\statsmodels\\base\\model.py:568: ConvergenceWarning: Maximum Likelihood optimization failed to converge. Check mle_retvals\n",
      "  \"Check mle_retvals\", ConvergenceWarning)\n",
      "C:\\Users\\matth\\anaconda3\\lib\\site-packages\\statsmodels\\tsa\\base\\tsa_model.py:162: ValueWarning: No frequency information was provided, so inferred frequency Q-DEC will be used.\n",
      "  % freq, ValueWarning)\n",
      "C:\\Users\\matth\\anaconda3\\lib\\site-packages\\statsmodels\\tsa\\base\\tsa_model.py:162: ValueWarning: No frequency information was provided, so inferred frequency Q-DEC will be used.\n",
      "  % freq, ValueWarning)\n"
     ]
    },
    {
     "name": "stdout",
     "output_type": "stream",
     "text": [
      "The AIC for SARIMAX(10,1,3) is: 748.3078114296914\n",
      "Attempting to fit SARIMAX(10,1,4)\n",
      "The AIC for SARIMAX(10,1,4) is: 886.2525355603822\n",
      "Attempting to fit SARIMAX(10,1,5)\n"
     ]
    },
    {
     "name": "stderr",
     "output_type": "stream",
     "text": [
      "C:\\Users\\matth\\anaconda3\\lib\\site-packages\\statsmodels\\tsa\\base\\tsa_model.py:162: ValueWarning: No frequency information was provided, so inferred frequency Q-DEC will be used.\n",
      "  % freq, ValueWarning)\n",
      "C:\\Users\\matth\\anaconda3\\lib\\site-packages\\statsmodels\\tsa\\base\\tsa_model.py:162: ValueWarning: No frequency information was provided, so inferred frequency Q-DEC will be used.\n",
      "  % freq, ValueWarning)\n",
      "C:\\Users\\matth\\anaconda3\\lib\\site-packages\\statsmodels\\base\\model.py:568: ConvergenceWarning: Maximum Likelihood optimization failed to converge. Check mle_retvals\n",
      "  \"Check mle_retvals\", ConvergenceWarning)\n",
      "C:\\Users\\matth\\anaconda3\\lib\\site-packages\\statsmodels\\tsa\\base\\tsa_model.py:162: ValueWarning: No frequency information was provided, so inferred frequency Q-DEC will be used.\n",
      "  % freq, ValueWarning)\n",
      "C:\\Users\\matth\\anaconda3\\lib\\site-packages\\statsmodels\\tsa\\base\\tsa_model.py:162: ValueWarning: No frequency information was provided, so inferred frequency Q-DEC will be used.\n",
      "  % freq, ValueWarning)\n"
     ]
    },
    {
     "name": "stdout",
     "output_type": "stream",
     "text": [
      "The AIC for SARIMAX(10,1,5) is: 793.0595249277906\n",
      "Attempting to fit SARIMAX(10,1,6)\n",
      "The AIC for SARIMAX(10,1,6) is: 932.9180866780903\n",
      "Attempting to fit SARIMAX(10,1,7)\n"
     ]
    },
    {
     "name": "stderr",
     "output_type": "stream",
     "text": [
      "C:\\Users\\matth\\anaconda3\\lib\\site-packages\\statsmodels\\tsa\\base\\tsa_model.py:162: ValueWarning: No frequency information was provided, so inferred frequency Q-DEC will be used.\n",
      "  % freq, ValueWarning)\n",
      "C:\\Users\\matth\\anaconda3\\lib\\site-packages\\statsmodels\\tsa\\base\\tsa_model.py:162: ValueWarning: No frequency information was provided, so inferred frequency Q-DEC will be used.\n",
      "  % freq, ValueWarning)\n"
     ]
    },
    {
     "name": "stdout",
     "output_type": "stream",
     "text": [
      "The AIC for SARIMAX(10,1,7) is: 784.9501501145115\n",
      "Attempting to fit SARIMAX(10,1,8)\n"
     ]
    },
    {
     "name": "stderr",
     "output_type": "stream",
     "text": [
      "C:\\Users\\matth\\anaconda3\\lib\\site-packages\\statsmodels\\tsa\\base\\tsa_model.py:162: ValueWarning: No frequency information was provided, so inferred frequency Q-DEC will be used.\n",
      "  % freq, ValueWarning)\n",
      "C:\\Users\\matth\\anaconda3\\lib\\site-packages\\statsmodels\\tsa\\base\\tsa_model.py:162: ValueWarning: No frequency information was provided, so inferred frequency Q-DEC will be used.\n",
      "  % freq, ValueWarning)\n",
      "C:\\Users\\matth\\anaconda3\\lib\\site-packages\\statsmodels\\base\\model.py:568: ConvergenceWarning: Maximum Likelihood optimization failed to converge. Check mle_retvals\n",
      "  \"Check mle_retvals\", ConvergenceWarning)\n",
      "C:\\Users\\matth\\anaconda3\\lib\\site-packages\\statsmodels\\tsa\\base\\tsa_model.py:162: ValueWarning: No frequency information was provided, so inferred frequency Q-DEC will be used.\n",
      "  % freq, ValueWarning)\n",
      "C:\\Users\\matth\\anaconda3\\lib\\site-packages\\statsmodels\\tsa\\base\\tsa_model.py:162: ValueWarning: No frequency information was provided, so inferred frequency Q-DEC will be used.\n",
      "  % freq, ValueWarning)\n"
     ]
    },
    {
     "name": "stdout",
     "output_type": "stream",
     "text": [
      "The AIC for SARIMAX(10,1,8) is: 796.4902307410509\n",
      "Attempting to fit SARIMAX(10,1,9)\n"
     ]
    },
    {
     "name": "stderr",
     "output_type": "stream",
     "text": [
      "C:\\Users\\matth\\anaconda3\\lib\\site-packages\\statsmodels\\base\\model.py:568: ConvergenceWarning: Maximum Likelihood optimization failed to converge. Check mle_retvals\n",
      "  \"Check mle_retvals\", ConvergenceWarning)\n",
      "C:\\Users\\matth\\anaconda3\\lib\\site-packages\\statsmodels\\tsa\\base\\tsa_model.py:162: ValueWarning: No frequency information was provided, so inferred frequency Q-DEC will be used.\n",
      "  % freq, ValueWarning)\n",
      "C:\\Users\\matth\\anaconda3\\lib\\site-packages\\statsmodels\\tsa\\base\\tsa_model.py:162: ValueWarning: No frequency information was provided, so inferred frequency Q-DEC will be used.\n",
      "  % freq, ValueWarning)\n"
     ]
    },
    {
     "name": "stdout",
     "output_type": "stream",
     "text": [
      "The AIC for SARIMAX(10,1,9) is: 812.5631728252188\n",
      "Attempting to fit SARIMAX(10,1,10)\n",
      "The AIC for SARIMAX(10,1,10) is: 819.7878035460383\n",
      "Attempting to fit SARIMAX(10,1,11)\n"
     ]
    },
    {
     "name": "stderr",
     "output_type": "stream",
     "text": [
      "C:\\Users\\matth\\anaconda3\\lib\\site-packages\\statsmodels\\tsa\\base\\tsa_model.py:162: ValueWarning: No frequency information was provided, so inferred frequency Q-DEC will be used.\n",
      "  % freq, ValueWarning)\n",
      "C:\\Users\\matth\\anaconda3\\lib\\site-packages\\statsmodels\\tsa\\base\\tsa_model.py:162: ValueWarning: No frequency information was provided, so inferred frequency Q-DEC will be used.\n",
      "  % freq, ValueWarning)\n"
     ]
    },
    {
     "name": "stdout",
     "output_type": "stream",
     "text": [
      "The AIC for SARIMAX(10,1,11) is: 796.6536238027436\n",
      "Attempting to fit SARIMAX(11,1,0)\n"
     ]
    },
    {
     "name": "stderr",
     "output_type": "stream",
     "text": [
      "C:\\Users\\matth\\anaconda3\\lib\\site-packages\\statsmodels\\tsa\\base\\tsa_model.py:162: ValueWarning: No frequency information was provided, so inferred frequency Q-DEC will be used.\n",
      "  % freq, ValueWarning)\n",
      "C:\\Users\\matth\\anaconda3\\lib\\site-packages\\statsmodels\\tsa\\base\\tsa_model.py:162: ValueWarning: No frequency information was provided, so inferred frequency Q-DEC will be used.\n",
      "  % freq, ValueWarning)\n"
     ]
    },
    {
     "name": "stdout",
     "output_type": "stream",
     "text": [
      "The AIC for SARIMAX(11,1,0) is: 778.0236054410868\n",
      "Attempting to fit SARIMAX(11,1,1)\n"
     ]
    },
    {
     "name": "stderr",
     "output_type": "stream",
     "text": [
      "C:\\Users\\matth\\anaconda3\\lib\\site-packages\\statsmodels\\tsa\\base\\tsa_model.py:162: ValueWarning: No frequency information was provided, so inferred frequency Q-DEC will be used.\n",
      "  % freq, ValueWarning)\n",
      "C:\\Users\\matth\\anaconda3\\lib\\site-packages\\statsmodels\\tsa\\base\\tsa_model.py:162: ValueWarning: No frequency information was provided, so inferred frequency Q-DEC will be used.\n",
      "  % freq, ValueWarning)\n"
     ]
    },
    {
     "name": "stdout",
     "output_type": "stream",
     "text": [
      "The AIC for SARIMAX(11,1,1) is: 780.251419673948\n",
      "Attempting to fit SARIMAX(11,1,2)\n"
     ]
    },
    {
     "name": "stderr",
     "output_type": "stream",
     "text": [
      "C:\\Users\\matth\\anaconda3\\lib\\site-packages\\statsmodels\\tsa\\base\\tsa_model.py:162: ValueWarning: No frequency information was provided, so inferred frequency Q-DEC will be used.\n",
      "  % freq, ValueWarning)\n",
      "C:\\Users\\matth\\anaconda3\\lib\\site-packages\\statsmodels\\tsa\\base\\tsa_model.py:162: ValueWarning: No frequency information was provided, so inferred frequency Q-DEC will be used.\n",
      "  % freq, ValueWarning)\n"
     ]
    },
    {
     "name": "stdout",
     "output_type": "stream",
     "text": [
      "The AIC for SARIMAX(11,1,2) is: 774.277507422729\n",
      "Attempting to fit SARIMAX(11,1,3)\n"
     ]
    },
    {
     "name": "stderr",
     "output_type": "stream",
     "text": [
      "C:\\Users\\matth\\anaconda3\\lib\\site-packages\\statsmodels\\tsa\\base\\tsa_model.py:162: ValueWarning: No frequency information was provided, so inferred frequency Q-DEC will be used.\n",
      "  % freq, ValueWarning)\n",
      "C:\\Users\\matth\\anaconda3\\lib\\site-packages\\statsmodels\\tsa\\base\\tsa_model.py:162: ValueWarning: No frequency information was provided, so inferred frequency Q-DEC will be used.\n",
      "  % freq, ValueWarning)\n"
     ]
    },
    {
     "name": "stdout",
     "output_type": "stream",
     "text": [
      "The AIC for SARIMAX(11,1,3) is: 771.1927601431453\n",
      "Attempting to fit SARIMAX(11,1,4)\n"
     ]
    },
    {
     "name": "stderr",
     "output_type": "stream",
     "text": [
      "C:\\Users\\matth\\anaconda3\\lib\\site-packages\\statsmodels\\tsa\\base\\tsa_model.py:162: ValueWarning: No frequency information was provided, so inferred frequency Q-DEC will be used.\n",
      "  % freq, ValueWarning)\n",
      "C:\\Users\\matth\\anaconda3\\lib\\site-packages\\statsmodels\\tsa\\base\\tsa_model.py:162: ValueWarning: No frequency information was provided, so inferred frequency Q-DEC will be used.\n",
      "  % freq, ValueWarning)\n"
     ]
    },
    {
     "name": "stdout",
     "output_type": "stream",
     "text": [
      "The AIC for SARIMAX(11,1,4) is: 889.1295837791749\n",
      "Attempting to fit SARIMAX(11,1,5)\n"
     ]
    },
    {
     "name": "stderr",
     "output_type": "stream",
     "text": [
      "C:\\Users\\matth\\anaconda3\\lib\\site-packages\\statsmodels\\tsa\\base\\tsa_model.py:162: ValueWarning: No frequency information was provided, so inferred frequency Q-DEC will be used.\n",
      "  % freq, ValueWarning)\n",
      "C:\\Users\\matth\\anaconda3\\lib\\site-packages\\statsmodels\\tsa\\base\\tsa_model.py:162: ValueWarning: No frequency information was provided, so inferred frequency Q-DEC will be used.\n",
      "  % freq, ValueWarning)\n"
     ]
    },
    {
     "name": "stdout",
     "output_type": "stream",
     "text": [
      "The AIC for SARIMAX(11,1,5) is: 795.199886858552\n",
      "Attempting to fit SARIMAX(11,1,6)\n"
     ]
    },
    {
     "name": "stderr",
     "output_type": "stream",
     "text": [
      "C:\\Users\\matth\\anaconda3\\lib\\site-packages\\statsmodels\\tsa\\base\\tsa_model.py:162: ValueWarning: No frequency information was provided, so inferred frequency Q-DEC will be used.\n",
      "  % freq, ValueWarning)\n",
      "C:\\Users\\matth\\anaconda3\\lib\\site-packages\\statsmodels\\tsa\\base\\tsa_model.py:162: ValueWarning: No frequency information was provided, so inferred frequency Q-DEC will be used.\n",
      "  % freq, ValueWarning)\n",
      "C:\\Users\\matth\\anaconda3\\lib\\site-packages\\statsmodels\\base\\model.py:568: ConvergenceWarning: Maximum Likelihood optimization failed to converge. Check mle_retvals\n",
      "  \"Check mle_retvals\", ConvergenceWarning)\n",
      "C:\\Users\\matth\\anaconda3\\lib\\site-packages\\statsmodels\\tsa\\base\\tsa_model.py:162: ValueWarning: No frequency information was provided, so inferred frequency Q-DEC will be used.\n",
      "  % freq, ValueWarning)\n",
      "C:\\Users\\matth\\anaconda3\\lib\\site-packages\\statsmodels\\tsa\\base\\tsa_model.py:162: ValueWarning: No frequency information was provided, so inferred frequency Q-DEC will be used.\n",
      "  % freq, ValueWarning)\n"
     ]
    },
    {
     "name": "stdout",
     "output_type": "stream",
     "text": [
      "The AIC for SARIMAX(11,1,6) is: 791.6442980165514\n",
      "Attempting to fit SARIMAX(11,1,7)\n",
      "The AIC for SARIMAX(11,1,7) is: 765.7136964292877\n",
      "Attempting to fit SARIMAX(11,1,8)\n"
     ]
    },
    {
     "name": "stderr",
     "output_type": "stream",
     "text": [
      "C:\\Users\\matth\\anaconda3\\lib\\site-packages\\statsmodels\\tsa\\base\\tsa_model.py:162: ValueWarning: No frequency information was provided, so inferred frequency Q-DEC will be used.\n",
      "  % freq, ValueWarning)\n",
      "C:\\Users\\matth\\anaconda3\\lib\\site-packages\\statsmodels\\tsa\\base\\tsa_model.py:162: ValueWarning: No frequency information was provided, so inferred frequency Q-DEC will be used.\n",
      "  % freq, ValueWarning)\n"
     ]
    },
    {
     "name": "stdout",
     "output_type": "stream",
     "text": [
      "The AIC for SARIMAX(11,1,8) is: 935.2395861239421\n",
      "Attempting to fit SARIMAX(11,1,9)\n"
     ]
    },
    {
     "name": "stderr",
     "output_type": "stream",
     "text": [
      "C:\\Users\\matth\\anaconda3\\lib\\site-packages\\statsmodels\\tsa\\base\\tsa_model.py:162: ValueWarning: No frequency information was provided, so inferred frequency Q-DEC will be used.\n",
      "  % freq, ValueWarning)\n",
      "C:\\Users\\matth\\anaconda3\\lib\\site-packages\\statsmodels\\tsa\\base\\tsa_model.py:162: ValueWarning: No frequency information was provided, so inferred frequency Q-DEC will be used.\n",
      "  % freq, ValueWarning)\n"
     ]
    },
    {
     "name": "stdout",
     "output_type": "stream",
     "text": [
      "The AIC for SARIMAX(11,1,9) is: 988.1509380960334\n",
      "Attempting to fit SARIMAX(11,1,10)\n"
     ]
    },
    {
     "name": "stderr",
     "output_type": "stream",
     "text": [
      "C:\\Users\\matth\\anaconda3\\lib\\site-packages\\statsmodels\\tsa\\base\\tsa_model.py:162: ValueWarning: No frequency information was provided, so inferred frequency Q-DEC will be used.\n",
      "  % freq, ValueWarning)\n",
      "C:\\Users\\matth\\anaconda3\\lib\\site-packages\\statsmodels\\tsa\\base\\tsa_model.py:162: ValueWarning: No frequency information was provided, so inferred frequency Q-DEC will be used.\n",
      "  % freq, ValueWarning)\n",
      "C:\\Users\\matth\\anaconda3\\lib\\site-packages\\statsmodels\\base\\model.py:568: ConvergenceWarning: Maximum Likelihood optimization failed to converge. Check mle_retvals\n",
      "  \"Check mle_retvals\", ConvergenceWarning)\n",
      "C:\\Users\\matth\\anaconda3\\lib\\site-packages\\statsmodels\\tsa\\base\\tsa_model.py:162: ValueWarning: No frequency information was provided, so inferred frequency Q-DEC will be used.\n",
      "  % freq, ValueWarning)\n",
      "C:\\Users\\matth\\anaconda3\\lib\\site-packages\\statsmodels\\tsa\\base\\tsa_model.py:162: ValueWarning: No frequency information was provided, so inferred frequency Q-DEC will be used.\n",
      "  % freq, ValueWarning)\n"
     ]
    },
    {
     "name": "stdout",
     "output_type": "stream",
     "text": [
      "The AIC for SARIMAX(11,1,10) is: 802.570694014449\n",
      "Attempting to fit SARIMAX(11,1,11)\n"
     ]
    },
    {
     "name": "stderr",
     "output_type": "stream",
     "text": [
      "C:\\Users\\matth\\anaconda3\\lib\\site-packages\\statsmodels\\base\\model.py:568: ConvergenceWarning: Maximum Likelihood optimization failed to converge. Check mle_retvals\n",
      "  \"Check mle_retvals\", ConvergenceWarning)\n"
     ]
    },
    {
     "name": "stdout",
     "output_type": "stream",
     "text": [
      "The AIC for SARIMAX(11,1,11) is: 804.0083318122958\n",
      "\n",
      "\n",
      "MODEL FINISHED!\n",
      "Our model that minimizes AIC on the training data is the SARIMAX(5,1,0).\n",
      "This model has an AIC of 703.7904903683493.\n"
     ]
    }
   ],
   "source": [
    "#Code taking from a GA ARIMA Lesson and modified for grid search SARIMAX model\n",
    "\n",
    "# Starting AIC, p, and q.\n",
    "best_aic = 99 * (10**16) # HUGE NUMBER\n",
    "best_p = 0\n",
    "best_q = 0\n",
    "# Use nested for loop to iterate over values of p and q.\n",
    "for p in range(12):\n",
    "    for q in range(12):\n",
    "        # Insert try and except statements.\n",
    "        try:\n",
    "            # Fitting an SARIMAX(p, 1, q) model.\n",
    "            print(f'Attempting to fit SARIMAX({p},1,{q})')\n",
    "            # Instantiate ARIMA model.\n",
    "            SAR = SARIMAX(y_train, X_train, order = (p, 1, q)) # values of p, d, q\n",
    "            # Fit SARIMAX model.\n",
    "            model = SAR.fit()\n",
    "            # Print out AIC for SARIMAX(p, 1, q) model.\n",
    "            print(f'The AIC for SARIMAX({p},1,{q}) is: {model.aic}')\n",
    "            # Is my current model's AIC better than our best_aic?\n",
    "            if model.aic < best_aic:\n",
    "                # If so, let's overwrite best_aic, best_p, and best_q.\n",
    "                best_aic = model.aic\n",
    "                best_p = p\n",
    "                best_q = q\n",
    "        except:\n",
    "            pass\n",
    "print()\n",
    "print()\n",
    "print('MODEL FINISHED!')\n",
    "print(f'Our model that minimizes AIC on the training data is the SARIMAX({best_p},1,{best_q}).')\n",
    "print(f'This model has an AIC of {best_aic}.')"
   ]
  },
  {
   "cell_type": "markdown",
   "metadata": {},
   "source": [
    "# The best fit SARIMAX (5,1,0)"
   ]
  },
  {
   "cell_type": "code",
   "execution_count": 24,
   "metadata": {},
   "outputs": [
    {
     "name": "stderr",
     "output_type": "stream",
     "text": [
      "C:\\Users\\matth\\anaconda3\\lib\\site-packages\\statsmodels\\tsa\\base\\tsa_model.py:162: ValueWarning: No frequency information was provided, so inferred frequency Q-DEC will be used.\n",
      "  % freq, ValueWarning)\n",
      "C:\\Users\\matth\\anaconda3\\lib\\site-packages\\statsmodels\\tsa\\base\\tsa_model.py:162: ValueWarning: No frequency information was provided, so inferred frequency Q-DEC will be used.\n",
      "  % freq, ValueWarning)\n"
     ]
    }
   ],
   "source": [
    "# Instantiate best model.\n",
    "model = SARIMAX(y_train, # endog = y\n",
    "                X_train,\n",
    "                order = (5, 1, 0))\n",
    "# Fit ARIMA model.\n",
    "sarimax = model.fit()\n"
   ]
  },
  {
   "cell_type": "code",
   "execution_count": 25,
   "metadata": {},
   "outputs": [],
   "source": [
    "tr_start,tr_end = '1948-06-30','2013-03-31'\n",
    "te_start,te_end = '2013-06-30','2020-06-30'"
   ]
  },
  {
   "cell_type": "code",
   "execution_count": 26,
   "metadata": {},
   "outputs": [],
   "source": [
    "pred = sarimax.predict(tr_end,te_end,exog = X_test)[1:]"
   ]
  },
  {
   "cell_type": "code",
   "execution_count": 32,
   "metadata": {},
   "outputs": [
    {
     "data": {
      "image/png": "[encoded data removed]",
      "text/plain": [
       "<Figure size 720x432 with 1 Axes>"
      ]
     },
     "metadata": {
      "needs_background": "light"
     },
     "output_type": "display_data"
    }
   ],
   "source": [
    "# Plot data.\n",
    "plt.figure(figsize=(10,6))\n",
    "# Plot training data.\n",
    "plt.plot(y_train.index, pd.DataFrame(y_train).diff(), color = 'blue')\n",
    "# Plot testing data.\n",
    "plt.plot(y_test.index, pd.DataFrame(y_test).diff(), color = 'orange')\n",
    "# Plot predicted test values.\n",
    "plt.plot(y_test.index, pred, color = 'green')\n",
    "plt.title(label = 'Real GDP PCT ARIMAX(5, 1, 0) Predictions', fontsize=16)\n",
    "plt.savefig('../assets/Real_GDP_PCT_AIMAX_5_1_0.png', dpi=300);"
   ]
  },
  {
   "cell_type": "code",
   "execution_count": 109,
   "metadata": {},
   "outputs": [
    {
     "data": {
      "text/plain": [
       "const                                                    3.867243e-12\n",
       "consumption_pct_delta                                    5.967911e-01\n",
       "investment_pct_delta                                     1.550544e-01\n",
       "Exports_percent_delta                                    3.973383e-02\n",
       "Imports_percent_delta                                   -3.593158e-02\n",
       "government_spending_percent_delta                        1.891226e-01\n",
       "gdp_percent_2delta                                       1.662286e-03\n",
       "consumption_pct_2delta                                   1.126324e-02\n",
       "investment_pct_2delta                                   -1.098514e-04\n",
       "Exports_pct_2delta                                       6.880657e-03\n",
       "government_spending_pct_2delta                          -9.998299e-04\n",
       "unemployment_rate                                       -5.770242e-01\n",
       "employed                                                -3.901030e-01\n",
       "Unemployed                                              -3.896300e-01\n",
       "civilian_labor_force                                     3.900353e-01\n",
       "civilian_labor_force_participation_rate                  5.840884e-01\n",
       "unemployment_rate_percent_delta                         -1.397382e-01\n",
       "employed_percent_delta                                   1.636897e+01\n",
       "Unemployed_percent_delta                                 2.810849e-01\n",
       "civilian_labor_force_percent_delta                       3.508881e+01\n",
       "civilian_labor_force_participation_rate_percent_delta   -6.578950e+01\n",
       "ar.L1                                                   -6.974977e-01\n",
       "ar.L2                                                   -6.544250e-01\n",
       "ar.L3                                                   -4.899223e-01\n",
       "ar.L4                                                   -2.007923e-01\n",
       "ar.L5                                                   -1.483775e-01\n",
       "sigma2                                                   7.445712e-01\n",
       "dtype: float64"
      ]
     },
     "execution_count": 109,
     "metadata": {},
     "output_type": "execute_result"
    }
   ],
   "source": [
    "sarimax.params"
   ]
  },
  {
   "cell_type": "code",
   "execution_count": 87,
   "metadata": {},
   "outputs": [
    {
     "data": {
      "text/html": [
       "<table class=\"simpletable\">\n",
       "<caption>SARIMAX Results</caption>\n",
       "<tr>\n",
       "  <th>Dep. Variable:</th>   <td>gdp_percent_delta</td> <th>  No. Observations:  </th>    <td>234</td>  \n",
       "</tr>\n",
       "<tr>\n",
       "  <th>Model:</th>           <td>SARIMAX(5, 1, 0)</td>  <th>  Log Likelihood     </th> <td>-284.000</td>\n",
       "</tr>\n",
       "<tr>\n",
       "  <th>Date:</th>            <td>Sun, 06 Sep 2020</td>  <th>  AIC                </th>  <td>622.001</td>\n",
       "</tr>\n",
       "<tr>\n",
       "  <th>Time:</th>                <td>17:19:24</td>      <th>  BIC                </th>  <td>715.179</td>\n",
       "</tr>\n",
       "<tr>\n",
       "  <th>Sample:</th>             <td>06-30-1948</td>     <th>  HQIC               </th>  <td>659.574</td>\n",
       "</tr>\n",
       "<tr>\n",
       "  <th></th>                   <td>- 09-30-2006</td>    <th>                     </th>     <td> </td>   \n",
       "</tr>\n",
       "<tr>\n",
       "  <th>Covariance Type:</th>        <td>opg</td>        <th>                     </th>     <td> </td>   \n",
       "</tr>\n",
       "</table>\n",
       "<table class=\"simpletable\">\n",
       "<tr>\n",
       "                            <td></td>                               <th>coef</th>     <th>std err</th>      <th>z</th>      <th>P>|z|</th>  <th>[0.025</th>    <th>0.975]</th>  \n",
       "</tr>\n",
       "<tr>\n",
       "  <th>const</th>                                                 <td>-3.953e-11</td> <td>    0.007</td> <td>-5.33e-09</td> <td> 1.000</td> <td>   -0.015</td> <td>    0.015</td>\n",
       "</tr>\n",
       "<tr>\n",
       "  <th>consumption_pct_delta</th>                                 <td>    0.5918</td> <td>    0.020</td> <td>   29.764</td> <td> 0.000</td> <td>    0.553</td> <td>    0.631</td>\n",
       "</tr>\n",
       "<tr>\n",
       "  <th>investment_pct_delta</th>                                  <td>    0.1578</td> <td>    0.002</td> <td>   64.019</td> <td> 0.000</td> <td>    0.153</td> <td>    0.163</td>\n",
       "</tr>\n",
       "<tr>\n",
       "  <th>Exports_percent_delta</th>                                 <td>    0.0390</td> <td>    0.003</td> <td>   12.205</td> <td> 0.000</td> <td>    0.033</td> <td>    0.045</td>\n",
       "</tr>\n",
       "<tr>\n",
       "  <th>Imports_percent_delta</th>                                 <td>   -0.0316</td> <td>    0.003</td> <td>   -9.074</td> <td> 0.000</td> <td>   -0.038</td> <td>   -0.025</td>\n",
       "</tr>\n",
       "<tr>\n",
       "  <th>government_spending_percent_delta</th>                     <td>    0.1895</td> <td>    0.009</td> <td>   20.042</td> <td> 0.000</td> <td>    0.171</td> <td>    0.208</td>\n",
       "</tr>\n",
       "<tr>\n",
       "  <th>gdp_percent_2delta</th>                                    <td>    0.0003</td> <td>    0.006</td> <td>    0.059</td> <td> 0.953</td> <td>   -0.011</td> <td>    0.012</td>\n",
       "</tr>\n",
       "<tr>\n",
       "  <th>consumption_pct_2delta</th>                                <td>    0.0116</td> <td>    0.011</td> <td>    1.023</td> <td> 0.306</td> <td>   -0.011</td> <td>    0.034</td>\n",
       "</tr>\n",
       "<tr>\n",
       "  <th>investment_pct_2delta</th>                                 <td>    0.0001</td> <td>    0.000</td> <td>    0.341</td> <td> 0.733</td> <td>   -0.001</td> <td>    0.001</td>\n",
       "</tr>\n",
       "<tr>\n",
       "  <th>Exports_pct_2delta</th>                                    <td>    0.0082</td> <td>    0.014</td> <td>    0.573</td> <td> 0.566</td> <td>   -0.020</td> <td>    0.036</td>\n",
       "</tr>\n",
       "<tr>\n",
       "  <th>government_spending_pct_2delta</th>                        <td>    0.0003</td> <td>    0.001</td> <td>    0.636</td> <td> 0.525</td> <td>   -0.001</td> <td>    0.001</td>\n",
       "</tr>\n",
       "<tr>\n",
       "  <th>unemployment_rate</th>                                     <td>   -0.1459</td> <td>    0.282</td> <td>   -0.518</td> <td> 0.605</td> <td>   -0.698</td> <td>    0.407</td>\n",
       "</tr>\n",
       "<tr>\n",
       "  <th>employed</th>                                              <td>   -0.3173</td> <td>    0.476</td> <td>   -0.666</td> <td> 0.505</td> <td>   -1.251</td> <td>    0.616</td>\n",
       "</tr>\n",
       "<tr>\n",
       "  <th>Unemployed</th>                                            <td>   -0.3173</td> <td>    0.476</td> <td>   -0.666</td> <td> 0.505</td> <td>   -1.251</td> <td>    0.616</td>\n",
       "</tr>\n",
       "<tr>\n",
       "  <th>civilian_labor_force</th>                                  <td>    0.3173</td> <td>    0.476</td> <td>    0.666</td> <td> 0.505</td> <td>   -0.616</td> <td>    1.251</td>\n",
       "</tr>\n",
       "<tr>\n",
       "  <th>civilian_labor_force_participation_rate</th>               <td>    0.6980</td> <td>    0.317</td> <td>    2.204</td> <td> 0.028</td> <td>    0.077</td> <td>    1.319</td>\n",
       "</tr>\n",
       "<tr>\n",
       "  <th>unemployment_rate_percent_delta</th>                       <td>    0.3611</td> <td>    9.031</td> <td>    0.040</td> <td> 0.968</td> <td>  -17.340</td> <td>   18.062</td>\n",
       "</tr>\n",
       "<tr>\n",
       "  <th>employed_percent_delta</th>                                <td>   47.6664</td> <td>   38.828</td> <td>    1.228</td> <td> 0.220</td> <td>  -28.435</td> <td>  123.768</td>\n",
       "</tr>\n",
       "<tr>\n",
       "  <th>Unemployed_percent_delta</th>                              <td>    1.0065</td> <td>    9.501</td> <td>    0.106</td> <td> 0.916</td> <td>  -17.615</td> <td>   19.628</td>\n",
       "</tr>\n",
       "<tr>\n",
       "  <th>civilian_labor_force_percent_delta</th>                    <td>    9.1646</td> <td>   58.156</td> <td>    0.158</td> <td> 0.875</td> <td> -104.818</td> <td>  123.147</td>\n",
       "</tr>\n",
       "<tr>\n",
       "  <th>civilian_labor_force_participation_rate_percent_delta</th> <td>  -74.8989</td> <td>   44.618</td> <td>   -1.679</td> <td> 0.093</td> <td> -162.349</td> <td>   12.551</td>\n",
       "</tr>\n",
       "<tr>\n",
       "  <th>ar.L1</th>                                                 <td>   -0.7982</td> <td>    0.065</td> <td>  -12.212</td> <td> 0.000</td> <td>   -0.926</td> <td>   -0.670</td>\n",
       "</tr>\n",
       "<tr>\n",
       "  <th>ar.L2</th>                                                 <td>   -0.7733</td> <td>    0.089</td> <td>   -8.671</td> <td> 0.000</td> <td>   -0.948</td> <td>   -0.598</td>\n",
       "</tr>\n",
       "<tr>\n",
       "  <th>ar.L3</th>                                                 <td>   -0.6232</td> <td>    0.100</td> <td>   -6.218</td> <td> 0.000</td> <td>   -0.820</td> <td>   -0.427</td>\n",
       "</tr>\n",
       "<tr>\n",
       "  <th>ar.L4</th>                                                 <td>   -0.2806</td> <td>    0.092</td> <td>   -3.052</td> <td> 0.002</td> <td>   -0.461</td> <td>   -0.100</td>\n",
       "</tr>\n",
       "<tr>\n",
       "  <th>ar.L5</th>                                                 <td>   -0.1673</td> <td>    0.065</td> <td>   -2.589</td> <td> 0.010</td> <td>   -0.294</td> <td>   -0.041</td>\n",
       "</tr>\n",
       "<tr>\n",
       "  <th>sigma2</th>                                                <td>    0.6682</td> <td>    0.066</td> <td>   10.129</td> <td> 0.000</td> <td>    0.539</td> <td>    0.797</td>\n",
       "</tr>\n",
       "</table>\n",
       "<table class=\"simpletable\">\n",
       "<tr>\n",
       "  <th>Ljung-Box (Q):</th>          <td>26.88</td> <th>  Jarque-Bera (JB):  </th> <td>435.64</td>\n",
       "</tr>\n",
       "<tr>\n",
       "  <th>Prob(Q):</th>                <td>0.94</td>  <th>  Prob(JB):          </th>  <td>0.00</td> \n",
       "</tr>\n",
       "<tr>\n",
       "  <th>Heteroskedasticity (H):</th> <td>0.33</td>  <th>  Skew:              </th>  <td>-0.72</td>\n",
       "</tr>\n",
       "<tr>\n",
       "  <th>Prob(H) (two-sided):</th>    <td>0.00</td>  <th>  Kurtosis:          </th>  <td>9.54</td> \n",
       "</tr>\n",
       "</table><br/><br/>Warnings:<br/>[1] Covariance matrix calculated using the outer product of gradients (complex-step).<br/>[2] Covariance matrix is singular or near-singular, with condition number 1.96e+18. Standard errors may be unstable."
      ],
      "text/plain": [
       "<class 'statsmodels.iolib.summary.Summary'>\n",
       "\"\"\"\n",
       "                               SARIMAX Results                                \n",
       "==============================================================================\n",
       "Dep. Variable:      gdp_percent_delta   No. Observations:                  234\n",
       "Model:               SARIMAX(5, 1, 0)   Log Likelihood                -284.000\n",
       "Date:                Sun, 06 Sep 2020   AIC                            622.001\n",
       "Time:                        17:19:24   BIC                            715.179\n",
       "Sample:                    06-30-1948   HQIC                           659.574\n",
       "                         - 09-30-2006                                         \n",
       "Covariance Type:                  opg                                         \n",
       "=========================================================================================================================\n",
       "                                                            coef    std err          z      P>|z|      [0.025      0.975]\n",
       "-------------------------------------------------------------------------------------------------------------------------\n",
       "const                                                 -3.953e-11      0.007  -5.33e-09      1.000      -0.015       0.015\n",
       "consumption_pct_delta                                     0.5918      0.020     29.764      0.000       0.553       0.631\n",
       "investment_pct_delta                                      0.1578      0.002     64.019      0.000       0.153       0.163\n",
       "Exports_percent_delta                                     0.0390      0.003     12.205      0.000       0.033       0.045\n",
       "Imports_percent_delta                                    -0.0316      0.003     -9.074      0.000      -0.038      -0.025\n",
       "government_spending_percent_delta                         0.1895      0.009     20.042      0.000       0.171       0.208\n",
       "gdp_percent_2delta                                        0.0003      0.006      0.059      0.953      -0.011       0.012\n",
       "consumption_pct_2delta                                    0.0116      0.011      1.023      0.306      -0.011       0.034\n",
       "investment_pct_2delta                                     0.0001      0.000      0.341      0.733      -0.001       0.001\n",
       "Exports_pct_2delta                                        0.0082      0.014      0.573      0.566      -0.020       0.036\n",
       "government_spending_pct_2delta                            0.0003      0.001      0.636      0.525      -0.001       0.001\n",
       "unemployment_rate                                        -0.1459      0.282     -0.518      0.605      -0.698       0.407\n",
       "employed                                                 -0.3173      0.476     -0.666      0.505      -1.251       0.616\n",
       "Unemployed                                               -0.3173      0.476     -0.666      0.505      -1.251       0.616\n",
       "civilian_labor_force                                      0.3173      0.476      0.666      0.505      -0.616       1.251\n",
       "civilian_labor_force_participation_rate                   0.6980      0.317      2.204      0.028       0.077       1.319\n",
       "unemployment_rate_percent_delta                           0.3611      9.031      0.040      0.968     -17.340      18.062\n",
       "employed_percent_delta                                   47.6664     38.828      1.228      0.220     -28.435     123.768\n",
       "Unemployed_percent_delta                                  1.0065      9.501      0.106      0.916     -17.615      19.628\n",
       "civilian_labor_force_percent_delta                        9.1646     58.156      0.158      0.875    -104.818     123.147\n",
       "civilian_labor_force_participation_rate_percent_delta   -74.8989     44.618     -1.679      0.093    -162.349      12.551\n",
       "ar.L1                                                    -0.7982      0.065    -12.212      0.000      -0.926      -0.670\n",
       "ar.L2                                                    -0.7733      0.089     -8.671      0.000      -0.948      -0.598\n",
       "ar.L3                                                    -0.6232      0.100     -6.218      0.000      -0.820      -0.427\n",
       "ar.L4                                                    -0.2806      0.092     -3.052      0.002      -0.461      -0.100\n",
       "ar.L5                                                    -0.1673      0.065     -2.589      0.010      -0.294      -0.041\n",
       "sigma2                                                    0.6682      0.066     10.129      0.000       0.539       0.797\n",
       "===================================================================================\n",
       "Ljung-Box (Q):                       26.88   Jarque-Bera (JB):               435.64\n",
       "Prob(Q):                              0.94   Prob(JB):                         0.00\n",
       "Heteroskedasticity (H):               0.33   Skew:                            -0.72\n",
       "Prob(H) (two-sided):                  0.00   Kurtosis:                         9.54\n",
       "===================================================================================\n",
       "\n",
       "Warnings:\n",
       "[1] Covariance matrix calculated using the outer product of gradients (complex-step).\n",
       "[2] Covariance matrix is singular or near-singular, with condition number 1.96e+18. Standard errors may be unstable.\n",
       "\"\"\""
      ]
     },
     "execution_count": 87,
     "metadata": {},
     "output_type": "execute_result"
    }
   ],
   "source": [
    "sarimax.summary()"
   ]
  },
  {
   "cell_type": "markdown",
   "metadata": {},
   "source": [
    "# SARIMAX grid search with stripped exdog varibles"
   ]
  },
  {
   "cell_type": "code",
   "execution_count": 9,
   "metadata": {},
   "outputs": [],
   "source": [
    "endog2 = df.loc['1948-06-30':'2020-06-30', 'gdp_percent_delta']"
   ]
  },
  {
   "cell_type": "code",
   "execution_count": 10,
   "metadata": {},
   "outputs": [],
   "source": [
    "exdog2 = sm.add_constant(df.loc['1948-06-30':'2020-06-30', ['consumption_pct_delta','investment_pct_delta','Exports_percent_delta', 'Imports_percent_delta','government_spending_percent_delta']])"
   ]
  },
  {
   "cell_type": "code",
   "execution_count": 11,
   "metadata": {},
   "outputs": [],
   "source": [
    "# Create train-test split.\n",
    "X_train_2, X_test_2, y_train_2, y_test_2 = train_test_split(exdog2, endog2, # The Model will handle differencing\n",
    "                                   test_size = .1, \n",
    "                                   shuffle = False # Must have for time seires\n",
    "                                  )"
   ]
  },
  {
   "cell_type": "code",
   "execution_count": 12,
   "metadata": {},
   "outputs": [
    {
     "name": "stdout",
     "output_type": "stream",
     "text": [
      "Attempting to fit SARIMAX(0,1,0)\n"
     ]
    },
    {
     "name": "stderr",
     "output_type": "stream",
     "text": [
      "C:\\Users\\matth\\anaconda3\\lib\\site-packages\\statsmodels\\tsa\\base\\tsa_model.py:162: ValueWarning: No frequency information was provided, so inferred frequency Q-DEC will be used.\n",
      "  % freq, ValueWarning)\n",
      "C:\\Users\\matth\\anaconda3\\lib\\site-packages\\statsmodels\\tsa\\base\\tsa_model.py:162: ValueWarning: No frequency information was provided, so inferred frequency Q-DEC will be used.\n",
      "  % freq, ValueWarning)\n"
     ]
    },
    {
     "name": "stdout",
     "output_type": "stream",
     "text": [
      "The AIC for SARIMAX(0,1,0) is: 811.5766152896863\n",
      "Attempting to fit SARIMAX(0,1,1)\n"
     ]
    },
    {
     "name": "stderr",
     "output_type": "stream",
     "text": [
      "C:\\Users\\matth\\anaconda3\\lib\\site-packages\\statsmodels\\tsa\\base\\tsa_model.py:162: ValueWarning: No frequency information was provided, so inferred frequency Q-DEC will be used.\n",
      "  % freq, ValueWarning)\n",
      "C:\\Users\\matth\\anaconda3\\lib\\site-packages\\statsmodels\\tsa\\base\\tsa_model.py:162: ValueWarning: No frequency information was provided, so inferred frequency Q-DEC will be used.\n",
      "  % freq, ValueWarning)\n"
     ]
    },
    {
     "name": "stdout",
     "output_type": "stream",
     "text": [
      "The AIC for SARIMAX(0,1,1) is: 670.8581433304971\n",
      "Attempting to fit SARIMAX(0,1,2)\n"
     ]
    },
    {
     "name": "stderr",
     "output_type": "stream",
     "text": [
      "C:\\Users\\matth\\anaconda3\\lib\\site-packages\\statsmodels\\tsa\\base\\tsa_model.py:162: ValueWarning: No frequency information was provided, so inferred frequency Q-DEC will be used.\n",
      "  % freq, ValueWarning)\n",
      "C:\\Users\\matth\\anaconda3\\lib\\site-packages\\statsmodels\\tsa\\base\\tsa_model.py:162: ValueWarning: No frequency information was provided, so inferred frequency Q-DEC will be used.\n",
      "  % freq, ValueWarning)\n",
      "C:\\Users\\matth\\anaconda3\\lib\\site-packages\\statsmodels\\base\\model.py:568: ConvergenceWarning: Maximum Likelihood optimization failed to converge. Check mle_retvals\n",
      "  \"Check mle_retvals\", ConvergenceWarning)\n",
      "C:\\Users\\matth\\anaconda3\\lib\\site-packages\\statsmodels\\tsa\\base\\tsa_model.py:162: ValueWarning: No frequency information was provided, so inferred frequency Q-DEC will be used.\n",
      "  % freq, ValueWarning)\n",
      "C:\\Users\\matth\\anaconda3\\lib\\site-packages\\statsmodels\\tsa\\base\\tsa_model.py:162: ValueWarning: No frequency information was provided, so inferred frequency Q-DEC will be used.\n",
      "  % freq, ValueWarning)\n"
     ]
    },
    {
     "name": "stdout",
     "output_type": "stream",
     "text": [
      "The AIC for SARIMAX(0,1,2) is: 672.6005354306104\n",
      "Attempting to fit SARIMAX(0,1,3)\n"
     ]
    },
    {
     "name": "stderr",
     "output_type": "stream",
     "text": [
      "C:\\Users\\matth\\anaconda3\\lib\\site-packages\\statsmodels\\base\\model.py:568: ConvergenceWarning: Maximum Likelihood optimization failed to converge. Check mle_retvals\n",
      "  \"Check mle_retvals\", ConvergenceWarning)\n",
      "C:\\Users\\matth\\anaconda3\\lib\\site-packages\\statsmodels\\tsa\\base\\tsa_model.py:162: ValueWarning: No frequency information was provided, so inferred frequency Q-DEC will be used.\n",
      "  % freq, ValueWarning)\n",
      "C:\\Users\\matth\\anaconda3\\lib\\site-packages\\statsmodels\\tsa\\base\\tsa_model.py:162: ValueWarning: No frequency information was provided, so inferred frequency Q-DEC will be used.\n",
      "  % freq, ValueWarning)\n"
     ]
    },
    {
     "name": "stdout",
     "output_type": "stream",
     "text": [
      "The AIC for SARIMAX(0,1,3) is: 673.3496406499676\n",
      "Attempting to fit SARIMAX(0,1,4)\n"
     ]
    },
    {
     "name": "stderr",
     "output_type": "stream",
     "text": [
      "C:\\Users\\matth\\anaconda3\\lib\\site-packages\\statsmodels\\base\\model.py:568: ConvergenceWarning: Maximum Likelihood optimization failed to converge. Check mle_retvals\n",
      "  \"Check mle_retvals\", ConvergenceWarning)\n",
      "C:\\Users\\matth\\anaconda3\\lib\\site-packages\\statsmodels\\tsa\\base\\tsa_model.py:162: ValueWarning: No frequency information was provided, so inferred frequency Q-DEC will be used.\n",
      "  % freq, ValueWarning)\n",
      "C:\\Users\\matth\\anaconda3\\lib\\site-packages\\statsmodels\\tsa\\base\\tsa_model.py:162: ValueWarning: No frequency information was provided, so inferred frequency Q-DEC will be used.\n",
      "  % freq, ValueWarning)\n"
     ]
    },
    {
     "name": "stdout",
     "output_type": "stream",
     "text": [
      "The AIC for SARIMAX(0,1,4) is: 674.9934264939798\n",
      "Attempting to fit SARIMAX(0,1,5)\n"
     ]
    },
    {
     "name": "stderr",
     "output_type": "stream",
     "text": [
      "C:\\Users\\matth\\anaconda3\\lib\\site-packages\\statsmodels\\base\\model.py:568: ConvergenceWarning: Maximum Likelihood optimization failed to converge. Check mle_retvals\n",
      "  \"Check mle_retvals\", ConvergenceWarning)\n",
      "C:\\Users\\matth\\anaconda3\\lib\\site-packages\\statsmodels\\tsa\\base\\tsa_model.py:162: ValueWarning: No frequency information was provided, so inferred frequency Q-DEC will be used.\n",
      "  % freq, ValueWarning)\n",
      "C:\\Users\\matth\\anaconda3\\lib\\site-packages\\statsmodels\\tsa\\base\\tsa_model.py:162: ValueWarning: No frequency information was provided, so inferred frequency Q-DEC will be used.\n",
      "  % freq, ValueWarning)\n"
     ]
    },
    {
     "name": "stdout",
     "output_type": "stream",
     "text": [
      "The AIC for SARIMAX(0,1,5) is: 668.1093102775972\n",
      "Attempting to fit SARIMAX(0,1,6)\n"
     ]
    },
    {
     "name": "stderr",
     "output_type": "stream",
     "text": [
      "C:\\Users\\matth\\anaconda3\\lib\\site-packages\\statsmodels\\base\\model.py:568: ConvergenceWarning: Maximum Likelihood optimization failed to converge. Check mle_retvals\n",
      "  \"Check mle_retvals\", ConvergenceWarning)\n",
      "C:\\Users\\matth\\anaconda3\\lib\\site-packages\\statsmodels\\tsa\\base\\tsa_model.py:162: ValueWarning: No frequency information was provided, so inferred frequency Q-DEC will be used.\n",
      "  % freq, ValueWarning)\n",
      "C:\\Users\\matth\\anaconda3\\lib\\site-packages\\statsmodels\\tsa\\base\\tsa_model.py:162: ValueWarning: No frequency information was provided, so inferred frequency Q-DEC will be used.\n",
      "  % freq, ValueWarning)\n"
     ]
    },
    {
     "name": "stdout",
     "output_type": "stream",
     "text": [
      "The AIC for SARIMAX(0,1,6) is: 669.2526533139901\n",
      "Attempting to fit SARIMAX(0,1,7)\n"
     ]
    },
    {
     "name": "stderr",
     "output_type": "stream",
     "text": [
      "C:\\Users\\matth\\anaconda3\\lib\\site-packages\\statsmodels\\tsa\\statespace\\sarimax.py:975: UserWarning: Non-invertible starting MA parameters found. Using zeros as starting parameters.\n",
      "  warn('Non-invertible starting MA parameters found.'\n",
      "C:\\Users\\matth\\anaconda3\\lib\\site-packages\\statsmodels\\base\\model.py:568: ConvergenceWarning: Maximum Likelihood optimization failed to converge. Check mle_retvals\n",
      "  \"Check mle_retvals\", ConvergenceWarning)\n",
      "C:\\Users\\matth\\anaconda3\\lib\\site-packages\\statsmodels\\tsa\\base\\tsa_model.py:162: ValueWarning: No frequency information was provided, so inferred frequency Q-DEC will be used.\n",
      "  % freq, ValueWarning)\n",
      "C:\\Users\\matth\\anaconda3\\lib\\site-packages\\statsmodels\\tsa\\base\\tsa_model.py:162: ValueWarning: No frequency information was provided, so inferred frequency Q-DEC will be used.\n",
      "  % freq, ValueWarning)\n"
     ]
    },
    {
     "name": "stdout",
     "output_type": "stream",
     "text": [
      "The AIC for SARIMAX(0,1,7) is: 665.9700239356249\n",
      "Attempting to fit SARIMAX(0,1,8)\n"
     ]
    },
    {
     "name": "stderr",
     "output_type": "stream",
     "text": [
      "C:\\Users\\matth\\anaconda3\\lib\\site-packages\\statsmodels\\base\\model.py:568: ConvergenceWarning: Maximum Likelihood optimization failed to converge. Check mle_retvals\n",
      "  \"Check mle_retvals\", ConvergenceWarning)\n",
      "C:\\Users\\matth\\anaconda3\\lib\\site-packages\\statsmodels\\tsa\\base\\tsa_model.py:162: ValueWarning: No frequency information was provided, so inferred frequency Q-DEC will be used.\n",
      "  % freq, ValueWarning)\n",
      "C:\\Users\\matth\\anaconda3\\lib\\site-packages\\statsmodels\\tsa\\base\\tsa_model.py:162: ValueWarning: No frequency information was provided, so inferred frequency Q-DEC will be used.\n",
      "  % freq, ValueWarning)\n"
     ]
    },
    {
     "name": "stdout",
     "output_type": "stream",
     "text": [
      "The AIC for SARIMAX(0,1,8) is: 661.7663700116573\n",
      "Attempting to fit SARIMAX(0,1,9)\n"
     ]
    },
    {
     "name": "stderr",
     "output_type": "stream",
     "text": [
      "C:\\Users\\matth\\anaconda3\\lib\\site-packages\\statsmodels\\base\\model.py:568: ConvergenceWarning: Maximum Likelihood optimization failed to converge. Check mle_retvals\n",
      "  \"Check mle_retvals\", ConvergenceWarning)\n",
      "C:\\Users\\matth\\anaconda3\\lib\\site-packages\\statsmodels\\tsa\\base\\tsa_model.py:162: ValueWarning: No frequency information was provided, so inferred frequency Q-DEC will be used.\n",
      "  % freq, ValueWarning)\n",
      "C:\\Users\\matth\\anaconda3\\lib\\site-packages\\statsmodels\\tsa\\base\\tsa_model.py:162: ValueWarning: No frequency information was provided, so inferred frequency Q-DEC will be used.\n",
      "  % freq, ValueWarning)\n"
     ]
    },
    {
     "name": "stdout",
     "output_type": "stream",
     "text": [
      "The AIC for SARIMAX(0,1,9) is: 664.3492848523084\n",
      "Attempting to fit SARIMAX(0,1,10)\n"
     ]
    },
    {
     "name": "stderr",
     "output_type": "stream",
     "text": [
      "C:\\Users\\matth\\anaconda3\\lib\\site-packages\\statsmodels\\base\\model.py:568: ConvergenceWarning: Maximum Likelihood optimization failed to converge. Check mle_retvals\n",
      "  \"Check mle_retvals\", ConvergenceWarning)\n",
      "C:\\Users\\matth\\anaconda3\\lib\\site-packages\\statsmodels\\tsa\\base\\tsa_model.py:162: ValueWarning: No frequency information was provided, so inferred frequency Q-DEC will be used.\n",
      "  % freq, ValueWarning)\n",
      "C:\\Users\\matth\\anaconda3\\lib\\site-packages\\statsmodels\\tsa\\base\\tsa_model.py:162: ValueWarning: No frequency information was provided, so inferred frequency Q-DEC will be used.\n",
      "  % freq, ValueWarning)\n"
     ]
    },
    {
     "name": "stdout",
     "output_type": "stream",
     "text": [
      "The AIC for SARIMAX(0,1,10) is: 664.8004841106317\n",
      "Attempting to fit SARIMAX(0,1,11)\n"
     ]
    },
    {
     "name": "stderr",
     "output_type": "stream",
     "text": [
      "C:\\Users\\matth\\anaconda3\\lib\\site-packages\\statsmodels\\base\\model.py:568: ConvergenceWarning: Maximum Likelihood optimization failed to converge. Check mle_retvals\n",
      "  \"Check mle_retvals\", ConvergenceWarning)\n",
      "C:\\Users\\matth\\anaconda3\\lib\\site-packages\\statsmodels\\tsa\\base\\tsa_model.py:162: ValueWarning: No frequency information was provided, so inferred frequency Q-DEC will be used.\n",
      "  % freq, ValueWarning)\n",
      "C:\\Users\\matth\\anaconda3\\lib\\site-packages\\statsmodels\\tsa\\base\\tsa_model.py:162: ValueWarning: No frequency information was provided, so inferred frequency Q-DEC will be used.\n",
      "  % freq, ValueWarning)\n"
     ]
    },
    {
     "name": "stdout",
     "output_type": "stream",
     "text": [
      "The AIC for SARIMAX(0,1,11) is: 674.1809397678945\n",
      "Attempting to fit SARIMAX(1,1,0)\n",
      "The AIC for SARIMAX(1,1,0) is: 762.4521859414663\n",
      "Attempting to fit SARIMAX(1,1,1)\n"
     ]
    },
    {
     "name": "stderr",
     "output_type": "stream",
     "text": [
      "C:\\Users\\matth\\anaconda3\\lib\\site-packages\\statsmodels\\tsa\\base\\tsa_model.py:162: ValueWarning: No frequency information was provided, so inferred frequency Q-DEC will be used.\n",
      "  % freq, ValueWarning)\n",
      "C:\\Users\\matth\\anaconda3\\lib\\site-packages\\statsmodels\\tsa\\base\\tsa_model.py:162: ValueWarning: No frequency information was provided, so inferred frequency Q-DEC will be used.\n",
      "  % freq, ValueWarning)\n",
      "C:\\Users\\matth\\anaconda3\\lib\\site-packages\\statsmodels\\base\\model.py:568: ConvergenceWarning: Maximum Likelihood optimization failed to converge. Check mle_retvals\n",
      "  \"Check mle_retvals\", ConvergenceWarning)\n",
      "C:\\Users\\matth\\anaconda3\\lib\\site-packages\\statsmodels\\tsa\\base\\tsa_model.py:162: ValueWarning: No frequency information was provided, so inferred frequency Q-DEC will be used.\n",
      "  % freq, ValueWarning)\n",
      "C:\\Users\\matth\\anaconda3\\lib\\site-packages\\statsmodels\\tsa\\base\\tsa_model.py:162: ValueWarning: No frequency information was provided, so inferred frequency Q-DEC will be used.\n",
      "  % freq, ValueWarning)\n"
     ]
    },
    {
     "name": "stdout",
     "output_type": "stream",
     "text": [
      "The AIC for SARIMAX(1,1,1) is: 672.6398584348751\n",
      "Attempting to fit SARIMAX(1,1,2)\n"
     ]
    },
    {
     "name": "stderr",
     "output_type": "stream",
     "text": [
      "C:\\Users\\matth\\anaconda3\\lib\\site-packages\\statsmodels\\base\\model.py:568: ConvergenceWarning: Maximum Likelihood optimization failed to converge. Check mle_retvals\n",
      "  \"Check mle_retvals\", ConvergenceWarning)\n",
      "C:\\Users\\matth\\anaconda3\\lib\\site-packages\\statsmodels\\tsa\\base\\tsa_model.py:162: ValueWarning: No frequency information was provided, so inferred frequency Q-DEC will be used.\n",
      "  % freq, ValueWarning)\n",
      "C:\\Users\\matth\\anaconda3\\lib\\site-packages\\statsmodels\\tsa\\base\\tsa_model.py:162: ValueWarning: No frequency information was provided, so inferred frequency Q-DEC will be used.\n",
      "  % freq, ValueWarning)\n"
     ]
    },
    {
     "name": "stdout",
     "output_type": "stream",
     "text": [
      "The AIC for SARIMAX(1,1,2) is: 674.1266524943892\n",
      "Attempting to fit SARIMAX(1,1,3)\n"
     ]
    },
    {
     "name": "stderr",
     "output_type": "stream",
     "text": [
      "C:\\Users\\matth\\anaconda3\\lib\\site-packages\\statsmodels\\base\\model.py:568: ConvergenceWarning: Maximum Likelihood optimization failed to converge. Check mle_retvals\n",
      "  \"Check mle_retvals\", ConvergenceWarning)\n",
      "C:\\Users\\matth\\anaconda3\\lib\\site-packages\\statsmodels\\tsa\\base\\tsa_model.py:162: ValueWarning: No frequency information was provided, so inferred frequency Q-DEC will be used.\n",
      "  % freq, ValueWarning)\n",
      "C:\\Users\\matth\\anaconda3\\lib\\site-packages\\statsmodels\\tsa\\base\\tsa_model.py:162: ValueWarning: No frequency information was provided, so inferred frequency Q-DEC will be used.\n",
      "  % freq, ValueWarning)\n"
     ]
    },
    {
     "name": "stdout",
     "output_type": "stream",
     "text": [
      "The AIC for SARIMAX(1,1,3) is: 676.0084711111551\n",
      "Attempting to fit SARIMAX(1,1,4)\n"
     ]
    },
    {
     "name": "stderr",
     "output_type": "stream",
     "text": [
      "C:\\Users\\matth\\anaconda3\\lib\\site-packages\\statsmodels\\base\\model.py:568: ConvergenceWarning: Maximum Likelihood optimization failed to converge. Check mle_retvals\n",
      "  \"Check mle_retvals\", ConvergenceWarning)\n",
      "C:\\Users\\matth\\anaconda3\\lib\\site-packages\\statsmodels\\tsa\\base\\tsa_model.py:162: ValueWarning: No frequency information was provided, so inferred frequency Q-DEC will be used.\n",
      "  % freq, ValueWarning)\n",
      "C:\\Users\\matth\\anaconda3\\lib\\site-packages\\statsmodels\\tsa\\base\\tsa_model.py:162: ValueWarning: No frequency information was provided, so inferred frequency Q-DEC will be used.\n",
      "  % freq, ValueWarning)\n"
     ]
    },
    {
     "name": "stdout",
     "output_type": "stream",
     "text": [
      "The AIC for SARIMAX(1,1,4) is: 674.6708641793347\n",
      "Attempting to fit SARIMAX(1,1,5)\n"
     ]
    },
    {
     "name": "stderr",
     "output_type": "stream",
     "text": [
      "C:\\Users\\matth\\anaconda3\\lib\\site-packages\\statsmodels\\base\\model.py:568: ConvergenceWarning: Maximum Likelihood optimization failed to converge. Check mle_retvals\n",
      "  \"Check mle_retvals\", ConvergenceWarning)\n",
      "C:\\Users\\matth\\anaconda3\\lib\\site-packages\\statsmodels\\tsa\\base\\tsa_model.py:162: ValueWarning: No frequency information was provided, so inferred frequency Q-DEC will be used.\n",
      "  % freq, ValueWarning)\n",
      "C:\\Users\\matth\\anaconda3\\lib\\site-packages\\statsmodels\\tsa\\base\\tsa_model.py:162: ValueWarning: No frequency information was provided, so inferred frequency Q-DEC will be used.\n",
      "  % freq, ValueWarning)\n"
     ]
    },
    {
     "name": "stdout",
     "output_type": "stream",
     "text": [
      "The AIC for SARIMAX(1,1,5) is: 671.4208879588426\n",
      "Attempting to fit SARIMAX(1,1,6)\n"
     ]
    },
    {
     "name": "stderr",
     "output_type": "stream",
     "text": [
      "C:\\Users\\matth\\anaconda3\\lib\\site-packages\\statsmodels\\base\\model.py:568: ConvergenceWarning: Maximum Likelihood optimization failed to converge. Check mle_retvals\n",
      "  \"Check mle_retvals\", ConvergenceWarning)\n",
      "C:\\Users\\matth\\anaconda3\\lib\\site-packages\\statsmodels\\tsa\\base\\tsa_model.py:162: ValueWarning: No frequency information was provided, so inferred frequency Q-DEC will be used.\n",
      "  % freq, ValueWarning)\n",
      "C:\\Users\\matth\\anaconda3\\lib\\site-packages\\statsmodels\\tsa\\base\\tsa_model.py:162: ValueWarning: No frequency information was provided, so inferred frequency Q-DEC will be used.\n",
      "  % freq, ValueWarning)\n"
     ]
    },
    {
     "name": "stdout",
     "output_type": "stream",
     "text": [
      "The AIC for SARIMAX(1,1,6) is: 670.3674188576452\n",
      "Attempting to fit SARIMAX(1,1,7)\n"
     ]
    },
    {
     "name": "stderr",
     "output_type": "stream",
     "text": [
      "C:\\Users\\matth\\anaconda3\\lib\\site-packages\\statsmodels\\base\\model.py:568: ConvergenceWarning: Maximum Likelihood optimization failed to converge. Check mle_retvals\n",
      "  \"Check mle_retvals\", ConvergenceWarning)\n",
      "C:\\Users\\matth\\anaconda3\\lib\\site-packages\\statsmodels\\tsa\\base\\tsa_model.py:162: ValueWarning: No frequency information was provided, so inferred frequency Q-DEC will be used.\n",
      "  % freq, ValueWarning)\n",
      "C:\\Users\\matth\\anaconda3\\lib\\site-packages\\statsmodels\\tsa\\base\\tsa_model.py:162: ValueWarning: No frequency information was provided, so inferred frequency Q-DEC will be used.\n",
      "  % freq, ValueWarning)\n"
     ]
    },
    {
     "name": "stdout",
     "output_type": "stream",
     "text": [
      "The AIC for SARIMAX(1,1,7) is: 669.0501440718836\n",
      "Attempting to fit SARIMAX(1,1,8)\n"
     ]
    },
    {
     "name": "stderr",
     "output_type": "stream",
     "text": [
      "C:\\Users\\matth\\anaconda3\\lib\\site-packages\\statsmodels\\base\\model.py:568: ConvergenceWarning: Maximum Likelihood optimization failed to converge. Check mle_retvals\n",
      "  \"Check mle_retvals\", ConvergenceWarning)\n",
      "C:\\Users\\matth\\anaconda3\\lib\\site-packages\\statsmodels\\tsa\\base\\tsa_model.py:162: ValueWarning: No frequency information was provided, so inferred frequency Q-DEC will be used.\n",
      "  % freq, ValueWarning)\n",
      "C:\\Users\\matth\\anaconda3\\lib\\site-packages\\statsmodels\\tsa\\base\\tsa_model.py:162: ValueWarning: No frequency information was provided, so inferred frequency Q-DEC will be used.\n",
      "  % freq, ValueWarning)\n"
     ]
    },
    {
     "name": "stdout",
     "output_type": "stream",
     "text": [
      "The AIC for SARIMAX(1,1,8) is: 665.1796432876579\n",
      "Attempting to fit SARIMAX(1,1,9)\n"
     ]
    },
    {
     "name": "stderr",
     "output_type": "stream",
     "text": [
      "C:\\Users\\matth\\anaconda3\\lib\\site-packages\\statsmodels\\base\\model.py:568: ConvergenceWarning: Maximum Likelihood optimization failed to converge. Check mle_retvals\n",
      "  \"Check mle_retvals\", ConvergenceWarning)\n",
      "C:\\Users\\matth\\anaconda3\\lib\\site-packages\\statsmodels\\tsa\\base\\tsa_model.py:162: ValueWarning: No frequency information was provided, so inferred frequency Q-DEC will be used.\n",
      "  % freq, ValueWarning)\n",
      "C:\\Users\\matth\\anaconda3\\lib\\site-packages\\statsmodels\\tsa\\base\\tsa_model.py:162: ValueWarning: No frequency information was provided, so inferred frequency Q-DEC will be used.\n",
      "  % freq, ValueWarning)\n"
     ]
    },
    {
     "name": "stdout",
     "output_type": "stream",
     "text": [
      "The AIC for SARIMAX(1,1,9) is: 666.4096017606712\n",
      "Attempting to fit SARIMAX(1,1,10)\n"
     ]
    },
    {
     "name": "stderr",
     "output_type": "stream",
     "text": [
      "C:\\Users\\matth\\anaconda3\\lib\\site-packages\\statsmodels\\base\\model.py:568: ConvergenceWarning: Maximum Likelihood optimization failed to converge. Check mle_retvals\n",
      "  \"Check mle_retvals\", ConvergenceWarning)\n",
      "C:\\Users\\matth\\anaconda3\\lib\\site-packages\\statsmodels\\tsa\\base\\tsa_model.py:162: ValueWarning: No frequency information was provided, so inferred frequency Q-DEC will be used.\n",
      "  % freq, ValueWarning)\n",
      "C:\\Users\\matth\\anaconda3\\lib\\site-packages\\statsmodels\\tsa\\base\\tsa_model.py:162: ValueWarning: No frequency information was provided, so inferred frequency Q-DEC will be used.\n",
      "  % freq, ValueWarning)\n"
     ]
    },
    {
     "name": "stdout",
     "output_type": "stream",
     "text": [
      "The AIC for SARIMAX(1,1,10) is: 666.4772969762879\n",
      "Attempting to fit SARIMAX(1,1,11)\n"
     ]
    },
    {
     "name": "stderr",
     "output_type": "stream",
     "text": [
      "C:\\Users\\matth\\anaconda3\\lib\\site-packages\\statsmodels\\base\\model.py:568: ConvergenceWarning: Maximum Likelihood optimization failed to converge. Check mle_retvals\n",
      "  \"Check mle_retvals\", ConvergenceWarning)\n",
      "C:\\Users\\matth\\anaconda3\\lib\\site-packages\\statsmodels\\tsa\\base\\tsa_model.py:162: ValueWarning: No frequency information was provided, so inferred frequency Q-DEC will be used.\n",
      "  % freq, ValueWarning)\n",
      "C:\\Users\\matth\\anaconda3\\lib\\site-packages\\statsmodels\\tsa\\base\\tsa_model.py:162: ValueWarning: No frequency information was provided, so inferred frequency Q-DEC will be used.\n",
      "  % freq, ValueWarning)\n"
     ]
    },
    {
     "name": "stdout",
     "output_type": "stream",
     "text": [
      "The AIC for SARIMAX(1,1,11) is: 670.1781083650435\n",
      "Attempting to fit SARIMAX(2,1,0)\n",
      "The AIC for SARIMAX(2,1,0) is: 721.036401469649\n",
      "Attempting to fit SARIMAX(2,1,1)\n"
     ]
    },
    {
     "name": "stderr",
     "output_type": "stream",
     "text": [
      "C:\\Users\\matth\\anaconda3\\lib\\site-packages\\statsmodels\\tsa\\base\\tsa_model.py:162: ValueWarning: No frequency information was provided, so inferred frequency Q-DEC will be used.\n",
      "  % freq, ValueWarning)\n",
      "C:\\Users\\matth\\anaconda3\\lib\\site-packages\\statsmodels\\tsa\\base\\tsa_model.py:162: ValueWarning: No frequency information was provided, so inferred frequency Q-DEC will be used.\n",
      "  % freq, ValueWarning)\n",
      "C:\\Users\\matth\\anaconda3\\lib\\site-packages\\statsmodels\\base\\model.py:568: ConvergenceWarning: Maximum Likelihood optimization failed to converge. Check mle_retvals\n",
      "  \"Check mle_retvals\", ConvergenceWarning)\n",
      "C:\\Users\\matth\\anaconda3\\lib\\site-packages\\statsmodels\\tsa\\base\\tsa_model.py:162: ValueWarning: No frequency information was provided, so inferred frequency Q-DEC will be used.\n",
      "  % freq, ValueWarning)\n",
      "C:\\Users\\matth\\anaconda3\\lib\\site-packages\\statsmodels\\tsa\\base\\tsa_model.py:162: ValueWarning: No frequency information was provided, so inferred frequency Q-DEC will be used.\n",
      "  % freq, ValueWarning)\n"
     ]
    },
    {
     "name": "stdout",
     "output_type": "stream",
     "text": [
      "The AIC for SARIMAX(2,1,1) is: 671.090111562364\n",
      "Attempting to fit SARIMAX(2,1,2)\n"
     ]
    },
    {
     "name": "stderr",
     "output_type": "stream",
     "text": [
      "C:\\Users\\matth\\anaconda3\\lib\\site-packages\\statsmodels\\base\\model.py:568: ConvergenceWarning: Maximum Likelihood optimization failed to converge. Check mle_retvals\n",
      "  \"Check mle_retvals\", ConvergenceWarning)\n",
      "C:\\Users\\matth\\anaconda3\\lib\\site-packages\\statsmodels\\tsa\\base\\tsa_model.py:162: ValueWarning: No frequency information was provided, so inferred frequency Q-DEC will be used.\n",
      "  % freq, ValueWarning)\n",
      "C:\\Users\\matth\\anaconda3\\lib\\site-packages\\statsmodels\\tsa\\base\\tsa_model.py:162: ValueWarning: No frequency information was provided, so inferred frequency Q-DEC will be used.\n",
      "  % freq, ValueWarning)\n"
     ]
    },
    {
     "name": "stdout",
     "output_type": "stream",
     "text": [
      "The AIC for SARIMAX(2,1,2) is: 674.9603223598533\n",
      "Attempting to fit SARIMAX(2,1,3)\n"
     ]
    },
    {
     "name": "stderr",
     "output_type": "stream",
     "text": [
      "C:\\Users\\matth\\anaconda3\\lib\\site-packages\\statsmodels\\base\\model.py:568: ConvergenceWarning: Maximum Likelihood optimization failed to converge. Check mle_retvals\n",
      "  \"Check mle_retvals\", ConvergenceWarning)\n",
      "C:\\Users\\matth\\anaconda3\\lib\\site-packages\\statsmodels\\tsa\\base\\tsa_model.py:162: ValueWarning: No frequency information was provided, so inferred frequency Q-DEC will be used.\n",
      "  % freq, ValueWarning)\n",
      "C:\\Users\\matth\\anaconda3\\lib\\site-packages\\statsmodels\\tsa\\base\\tsa_model.py:162: ValueWarning: No frequency information was provided, so inferred frequency Q-DEC will be used.\n",
      "  % freq, ValueWarning)\n"
     ]
    },
    {
     "name": "stdout",
     "output_type": "stream",
     "text": [
      "The AIC for SARIMAX(2,1,3) is: 672.9912233917776\n",
      "Attempting to fit SARIMAX(2,1,4)\n"
     ]
    },
    {
     "name": "stderr",
     "output_type": "stream",
     "text": [
      "C:\\Users\\matth\\anaconda3\\lib\\site-packages\\statsmodels\\base\\model.py:568: ConvergenceWarning: Maximum Likelihood optimization failed to converge. Check mle_retvals\n",
      "  \"Check mle_retvals\", ConvergenceWarning)\n",
      "C:\\Users\\matth\\anaconda3\\lib\\site-packages\\statsmodels\\tsa\\base\\tsa_model.py:162: ValueWarning: No frequency information was provided, so inferred frequency Q-DEC will be used.\n",
      "  % freq, ValueWarning)\n",
      "C:\\Users\\matth\\anaconda3\\lib\\site-packages\\statsmodels\\tsa\\base\\tsa_model.py:162: ValueWarning: No frequency information was provided, so inferred frequency Q-DEC will be used.\n",
      "  % freq, ValueWarning)\n"
     ]
    },
    {
     "name": "stdout",
     "output_type": "stream",
     "text": [
      "The AIC for SARIMAX(2,1,4) is: 674.5682769998707\n",
      "Attempting to fit SARIMAX(2,1,5)\n"
     ]
    },
    {
     "name": "stderr",
     "output_type": "stream",
     "text": [
      "C:\\Users\\matth\\anaconda3\\lib\\site-packages\\statsmodels\\base\\model.py:568: ConvergenceWarning: Maximum Likelihood optimization failed to converge. Check mle_retvals\n",
      "  \"Check mle_retvals\", ConvergenceWarning)\n",
      "C:\\Users\\matth\\anaconda3\\lib\\site-packages\\statsmodels\\tsa\\base\\tsa_model.py:162: ValueWarning: No frequency information was provided, so inferred frequency Q-DEC will be used.\n",
      "  % freq, ValueWarning)\n",
      "C:\\Users\\matth\\anaconda3\\lib\\site-packages\\statsmodels\\tsa\\base\\tsa_model.py:162: ValueWarning: No frequency information was provided, so inferred frequency Q-DEC will be used.\n",
      "  % freq, ValueWarning)\n"
     ]
    },
    {
     "name": "stdout",
     "output_type": "stream",
     "text": [
      "The AIC for SARIMAX(2,1,5) is: 673.7488062761913\n",
      "Attempting to fit SARIMAX(2,1,6)\n"
     ]
    },
    {
     "name": "stderr",
     "output_type": "stream",
     "text": [
      "C:\\Users\\matth\\anaconda3\\lib\\site-packages\\statsmodels\\base\\model.py:568: ConvergenceWarning: Maximum Likelihood optimization failed to converge. Check mle_retvals\n",
      "  \"Check mle_retvals\", ConvergenceWarning)\n",
      "C:\\Users\\matth\\anaconda3\\lib\\site-packages\\statsmodels\\tsa\\base\\tsa_model.py:162: ValueWarning: No frequency information was provided, so inferred frequency Q-DEC will be used.\n",
      "  % freq, ValueWarning)\n",
      "C:\\Users\\matth\\anaconda3\\lib\\site-packages\\statsmodels\\tsa\\base\\tsa_model.py:162: ValueWarning: No frequency information was provided, so inferred frequency Q-DEC will be used.\n",
      "  % freq, ValueWarning)\n"
     ]
    },
    {
     "name": "stdout",
     "output_type": "stream",
     "text": [
      "The AIC for SARIMAX(2,1,6) is: 672.7780339849683\n",
      "Attempting to fit SARIMAX(2,1,7)\n"
     ]
    },
    {
     "name": "stderr",
     "output_type": "stream",
     "text": [
      "C:\\Users\\matth\\anaconda3\\lib\\site-packages\\statsmodels\\base\\model.py:568: ConvergenceWarning: Maximum Likelihood optimization failed to converge. Check mle_retvals\n",
      "  \"Check mle_retvals\", ConvergenceWarning)\n",
      "C:\\Users\\matth\\anaconda3\\lib\\site-packages\\statsmodels\\tsa\\base\\tsa_model.py:162: ValueWarning: No frequency information was provided, so inferred frequency Q-DEC will be used.\n",
      "  % freq, ValueWarning)\n",
      "C:\\Users\\matth\\anaconda3\\lib\\site-packages\\statsmodels\\tsa\\base\\tsa_model.py:162: ValueWarning: No frequency information was provided, so inferred frequency Q-DEC will be used.\n",
      "  % freq, ValueWarning)\n"
     ]
    },
    {
     "name": "stdout",
     "output_type": "stream",
     "text": [
      "The AIC for SARIMAX(2,1,7) is: 673.1483419185402\n",
      "Attempting to fit SARIMAX(2,1,8)\n"
     ]
    },
    {
     "name": "stderr",
     "output_type": "stream",
     "text": [
      "C:\\Users\\matth\\anaconda3\\lib\\site-packages\\statsmodels\\base\\model.py:568: ConvergenceWarning: Maximum Likelihood optimization failed to converge. Check mle_retvals\n",
      "  \"Check mle_retvals\", ConvergenceWarning)\n",
      "C:\\Users\\matth\\anaconda3\\lib\\site-packages\\statsmodels\\tsa\\base\\tsa_model.py:162: ValueWarning: No frequency information was provided, so inferred frequency Q-DEC will be used.\n",
      "  % freq, ValueWarning)\n",
      "C:\\Users\\matth\\anaconda3\\lib\\site-packages\\statsmodels\\tsa\\base\\tsa_model.py:162: ValueWarning: No frequency information was provided, so inferred frequency Q-DEC will be used.\n",
      "  % freq, ValueWarning)\n"
     ]
    },
    {
     "name": "stdout",
     "output_type": "stream",
     "text": [
      "The AIC for SARIMAX(2,1,8) is: 670.5861489106964\n",
      "Attempting to fit SARIMAX(2,1,9)\n"
     ]
    },
    {
     "name": "stderr",
     "output_type": "stream",
     "text": [
      "C:\\Users\\matth\\anaconda3\\lib\\site-packages\\statsmodels\\base\\model.py:568: ConvergenceWarning: Maximum Likelihood optimization failed to converge. Check mle_retvals\n",
      "  \"Check mle_retvals\", ConvergenceWarning)\n",
      "C:\\Users\\matth\\anaconda3\\lib\\site-packages\\statsmodels\\tsa\\base\\tsa_model.py:162: ValueWarning: No frequency information was provided, so inferred frequency Q-DEC will be used.\n",
      "  % freq, ValueWarning)\n",
      "C:\\Users\\matth\\anaconda3\\lib\\site-packages\\statsmodels\\tsa\\base\\tsa_model.py:162: ValueWarning: No frequency information was provided, so inferred frequency Q-DEC will be used.\n",
      "  % freq, ValueWarning)\n"
     ]
    },
    {
     "name": "stdout",
     "output_type": "stream",
     "text": [
      "The AIC for SARIMAX(2,1,9) is: 669.4956143575877\n",
      "Attempting to fit SARIMAX(2,1,10)\n"
     ]
    },
    {
     "name": "stderr",
     "output_type": "stream",
     "text": [
      "C:\\Users\\matth\\anaconda3\\lib\\site-packages\\statsmodels\\base\\model.py:568: ConvergenceWarning: Maximum Likelihood optimization failed to converge. Check mle_retvals\n",
      "  \"Check mle_retvals\", ConvergenceWarning)\n",
      "C:\\Users\\matth\\anaconda3\\lib\\site-packages\\statsmodels\\tsa\\base\\tsa_model.py:162: ValueWarning: No frequency information was provided, so inferred frequency Q-DEC will be used.\n",
      "  % freq, ValueWarning)\n",
      "C:\\Users\\matth\\anaconda3\\lib\\site-packages\\statsmodels\\tsa\\base\\tsa_model.py:162: ValueWarning: No frequency information was provided, so inferred frequency Q-DEC will be used.\n",
      "  % freq, ValueWarning)\n"
     ]
    },
    {
     "name": "stdout",
     "output_type": "stream",
     "text": [
      "The AIC for SARIMAX(2,1,10) is: 665.0661285397957\n",
      "Attempting to fit SARIMAX(2,1,11)\n"
     ]
    },
    {
     "name": "stderr",
     "output_type": "stream",
     "text": [
      "C:\\Users\\matth\\anaconda3\\lib\\site-packages\\statsmodels\\base\\model.py:568: ConvergenceWarning: Maximum Likelihood optimization failed to converge. Check mle_retvals\n",
      "  \"Check mle_retvals\", ConvergenceWarning)\n",
      "C:\\Users\\matth\\anaconda3\\lib\\site-packages\\statsmodels\\tsa\\base\\tsa_model.py:162: ValueWarning: No frequency information was provided, so inferred frequency Q-DEC will be used.\n",
      "  % freq, ValueWarning)\n",
      "C:\\Users\\matth\\anaconda3\\lib\\site-packages\\statsmodels\\tsa\\base\\tsa_model.py:162: ValueWarning: No frequency information was provided, so inferred frequency Q-DEC will be used.\n",
      "  % freq, ValueWarning)\n"
     ]
    },
    {
     "name": "stdout",
     "output_type": "stream",
     "text": [
      "The AIC for SARIMAX(2,1,11) is: 666.8825792067316\n",
      "Attempting to fit SARIMAX(3,1,0)\n"
     ]
    },
    {
     "name": "stderr",
     "output_type": "stream",
     "text": [
      "C:\\Users\\matth\\anaconda3\\lib\\site-packages\\statsmodels\\base\\model.py:568: ConvergenceWarning: Maximum Likelihood optimization failed to converge. Check mle_retvals\n",
      "  \"Check mle_retvals\", ConvergenceWarning)\n",
      "C:\\Users\\matth\\anaconda3\\lib\\site-packages\\statsmodels\\tsa\\base\\tsa_model.py:162: ValueWarning: No frequency information was provided, so inferred frequency Q-DEC will be used.\n",
      "  % freq, ValueWarning)\n",
      "C:\\Users\\matth\\anaconda3\\lib\\site-packages\\statsmodels\\tsa\\base\\tsa_model.py:162: ValueWarning: No frequency information was provided, so inferred frequency Q-DEC will be used.\n",
      "  % freq, ValueWarning)\n"
     ]
    },
    {
     "name": "stdout",
     "output_type": "stream",
     "text": [
      "The AIC for SARIMAX(3,1,0) is: 682.4592673291468\n",
      "Attempting to fit SARIMAX(3,1,1)\n"
     ]
    },
    {
     "name": "stderr",
     "output_type": "stream",
     "text": [
      "C:\\Users\\matth\\anaconda3\\lib\\site-packages\\statsmodels\\base\\model.py:568: ConvergenceWarning: Maximum Likelihood optimization failed to converge. Check mle_retvals\n",
      "  \"Check mle_retvals\", ConvergenceWarning)\n",
      "C:\\Users\\matth\\anaconda3\\lib\\site-packages\\statsmodels\\tsa\\base\\tsa_model.py:162: ValueWarning: No frequency information was provided, so inferred frequency Q-DEC will be used.\n",
      "  % freq, ValueWarning)\n",
      "C:\\Users\\matth\\anaconda3\\lib\\site-packages\\statsmodels\\tsa\\base\\tsa_model.py:162: ValueWarning: No frequency information was provided, so inferred frequency Q-DEC will be used.\n",
      "  % freq, ValueWarning)\n",
      "C:\\Users\\matth\\anaconda3\\lib\\site-packages\\statsmodels\\tsa\\statespace\\sarimax.py:963: UserWarning: Non-stationary starting autoregressive parameters found. Using zeros as starting parameters.\n",
      "  warn('Non-stationary starting autoregressive parameters'\n"
     ]
    },
    {
     "name": "stdout",
     "output_type": "stream",
     "text": [
      "The AIC for SARIMAX(3,1,1) is: 671.4695705854697\n",
      "Attempting to fit SARIMAX(3,1,2)\n"
     ]
    },
    {
     "name": "stderr",
     "output_type": "stream",
     "text": [
      "C:\\Users\\matth\\anaconda3\\lib\\site-packages\\statsmodels\\base\\model.py:568: ConvergenceWarning: Maximum Likelihood optimization failed to converge. Check mle_retvals\n",
      "  \"Check mle_retvals\", ConvergenceWarning)\n",
      "C:\\Users\\matth\\anaconda3\\lib\\site-packages\\statsmodels\\tsa\\base\\tsa_model.py:162: ValueWarning: No frequency information was provided, so inferred frequency Q-DEC will be used.\n",
      "  % freq, ValueWarning)\n",
      "C:\\Users\\matth\\anaconda3\\lib\\site-packages\\statsmodels\\tsa\\base\\tsa_model.py:162: ValueWarning: No frequency information was provided, so inferred frequency Q-DEC will be used.\n",
      "  % freq, ValueWarning)\n"
     ]
    },
    {
     "name": "stdout",
     "output_type": "stream",
     "text": [
      "The AIC for SARIMAX(3,1,2) is: 681.0919672262274\n",
      "Attempting to fit SARIMAX(3,1,3)\n"
     ]
    },
    {
     "name": "stderr",
     "output_type": "stream",
     "text": [
      "C:\\Users\\matth\\anaconda3\\lib\\site-packages\\statsmodels\\base\\model.py:568: ConvergenceWarning: Maximum Likelihood optimization failed to converge. Check mle_retvals\n",
      "  \"Check mle_retvals\", ConvergenceWarning)\n",
      "C:\\Users\\matth\\anaconda3\\lib\\site-packages\\statsmodels\\tsa\\base\\tsa_model.py:162: ValueWarning: No frequency information was provided, so inferred frequency Q-DEC will be used.\n",
      "  % freq, ValueWarning)\n",
      "C:\\Users\\matth\\anaconda3\\lib\\site-packages\\statsmodels\\tsa\\base\\tsa_model.py:162: ValueWarning: No frequency information was provided, so inferred frequency Q-DEC will be used.\n",
      "  % freq, ValueWarning)\n"
     ]
    },
    {
     "name": "stdout",
     "output_type": "stream",
     "text": [
      "The AIC for SARIMAX(3,1,3) is: 674.8705191091263\n",
      "Attempting to fit SARIMAX(3,1,4)\n"
     ]
    },
    {
     "name": "stderr",
     "output_type": "stream",
     "text": [
      "C:\\Users\\matth\\anaconda3\\lib\\site-packages\\statsmodels\\base\\model.py:568: ConvergenceWarning: Maximum Likelihood optimization failed to converge. Check mle_retvals\n",
      "  \"Check mle_retvals\", ConvergenceWarning)\n",
      "C:\\Users\\matth\\anaconda3\\lib\\site-packages\\statsmodels\\tsa\\base\\tsa_model.py:162: ValueWarning: No frequency information was provided, so inferred frequency Q-DEC will be used.\n",
      "  % freq, ValueWarning)\n",
      "C:\\Users\\matth\\anaconda3\\lib\\site-packages\\statsmodels\\tsa\\base\\tsa_model.py:162: ValueWarning: No frequency information was provided, so inferred frequency Q-DEC will be used.\n",
      "  % freq, ValueWarning)\n"
     ]
    },
    {
     "name": "stdout",
     "output_type": "stream",
     "text": [
      "The AIC for SARIMAX(3,1,4) is: 677.8805559255622\n",
      "Attempting to fit SARIMAX(3,1,5)\n"
     ]
    },
    {
     "name": "stderr",
     "output_type": "stream",
     "text": [
      "C:\\Users\\matth\\anaconda3\\lib\\site-packages\\statsmodels\\base\\model.py:568: ConvergenceWarning: Maximum Likelihood optimization failed to converge. Check mle_retvals\n",
      "  \"Check mle_retvals\", ConvergenceWarning)\n",
      "C:\\Users\\matth\\anaconda3\\lib\\site-packages\\statsmodels\\tsa\\base\\tsa_model.py:162: ValueWarning: No frequency information was provided, so inferred frequency Q-DEC will be used.\n",
      "  % freq, ValueWarning)\n",
      "C:\\Users\\matth\\anaconda3\\lib\\site-packages\\statsmodels\\tsa\\base\\tsa_model.py:162: ValueWarning: No frequency information was provided, so inferred frequency Q-DEC will be used.\n",
      "  % freq, ValueWarning)\n"
     ]
    },
    {
     "name": "stdout",
     "output_type": "stream",
     "text": [
      "The AIC for SARIMAX(3,1,5) is: 675.8603155813336\n",
      "Attempting to fit SARIMAX(3,1,6)\n"
     ]
    },
    {
     "name": "stderr",
     "output_type": "stream",
     "text": [
      "C:\\Users\\matth\\anaconda3\\lib\\site-packages\\statsmodels\\base\\model.py:568: ConvergenceWarning: Maximum Likelihood optimization failed to converge. Check mle_retvals\n",
      "  \"Check mle_retvals\", ConvergenceWarning)\n",
      "C:\\Users\\matth\\anaconda3\\lib\\site-packages\\statsmodels\\tsa\\base\\tsa_model.py:162: ValueWarning: No frequency information was provided, so inferred frequency Q-DEC will be used.\n",
      "  % freq, ValueWarning)\n",
      "C:\\Users\\matth\\anaconda3\\lib\\site-packages\\statsmodels\\tsa\\base\\tsa_model.py:162: ValueWarning: No frequency information was provided, so inferred frequency Q-DEC will be used.\n",
      "  % freq, ValueWarning)\n"
     ]
    },
    {
     "name": "stdout",
     "output_type": "stream",
     "text": [
      "The AIC for SARIMAX(3,1,6) is: 681.4661075316403\n",
      "Attempting to fit SARIMAX(3,1,7)\n"
     ]
    },
    {
     "name": "stderr",
     "output_type": "stream",
     "text": [
      "C:\\Users\\matth\\anaconda3\\lib\\site-packages\\statsmodels\\base\\model.py:568: ConvergenceWarning: Maximum Likelihood optimization failed to converge. Check mle_retvals\n",
      "  \"Check mle_retvals\", ConvergenceWarning)\n",
      "C:\\Users\\matth\\anaconda3\\lib\\site-packages\\statsmodels\\tsa\\base\\tsa_model.py:162: ValueWarning: No frequency information was provided, so inferred frequency Q-DEC will be used.\n",
      "  % freq, ValueWarning)\n",
      "C:\\Users\\matth\\anaconda3\\lib\\site-packages\\statsmodels\\tsa\\base\\tsa_model.py:162: ValueWarning: No frequency information was provided, so inferred frequency Q-DEC will be used.\n",
      "  % freq, ValueWarning)\n"
     ]
    },
    {
     "name": "stdout",
     "output_type": "stream",
     "text": [
      "The AIC for SARIMAX(3,1,7) is: 668.9416976132101\n",
      "Attempting to fit SARIMAX(3,1,8)\n"
     ]
    },
    {
     "name": "stderr",
     "output_type": "stream",
     "text": [
      "C:\\Users\\matth\\anaconda3\\lib\\site-packages\\statsmodels\\base\\model.py:568: ConvergenceWarning: Maximum Likelihood optimization failed to converge. Check mle_retvals\n",
      "  \"Check mle_retvals\", ConvergenceWarning)\n",
      "C:\\Users\\matth\\anaconda3\\lib\\site-packages\\statsmodels\\tsa\\base\\tsa_model.py:162: ValueWarning: No frequency information was provided, so inferred frequency Q-DEC will be used.\n",
      "  % freq, ValueWarning)\n",
      "C:\\Users\\matth\\anaconda3\\lib\\site-packages\\statsmodels\\tsa\\base\\tsa_model.py:162: ValueWarning: No frequency information was provided, so inferred frequency Q-DEC will be used.\n",
      "  % freq, ValueWarning)\n"
     ]
    },
    {
     "name": "stdout",
     "output_type": "stream",
     "text": [
      "The AIC for SARIMAX(3,1,8) is: 670.4705236116242\n",
      "Attempting to fit SARIMAX(3,1,9)\n"
     ]
    },
    {
     "name": "stderr",
     "output_type": "stream",
     "text": [
      "C:\\Users\\matth\\anaconda3\\lib\\site-packages\\statsmodels\\base\\model.py:568: ConvergenceWarning: Maximum Likelihood optimization failed to converge. Check mle_retvals\n",
      "  \"Check mle_retvals\", ConvergenceWarning)\n",
      "C:\\Users\\matth\\anaconda3\\lib\\site-packages\\statsmodels\\tsa\\base\\tsa_model.py:162: ValueWarning: No frequency information was provided, so inferred frequency Q-DEC will be used.\n",
      "  % freq, ValueWarning)\n",
      "C:\\Users\\matth\\anaconda3\\lib\\site-packages\\statsmodels\\tsa\\base\\tsa_model.py:162: ValueWarning: No frequency information was provided, so inferred frequency Q-DEC will be used.\n",
      "  % freq, ValueWarning)\n"
     ]
    },
    {
     "name": "stdout",
     "output_type": "stream",
     "text": [
      "The AIC for SARIMAX(3,1,9) is: 670.2705399652327\n",
      "Attempting to fit SARIMAX(3,1,10)\n"
     ]
    },
    {
     "name": "stderr",
     "output_type": "stream",
     "text": [
      "C:\\Users\\matth\\anaconda3\\lib\\site-packages\\statsmodels\\base\\model.py:568: ConvergenceWarning: Maximum Likelihood optimization failed to converge. Check mle_retvals\n",
      "  \"Check mle_retvals\", ConvergenceWarning)\n",
      "C:\\Users\\matth\\anaconda3\\lib\\site-packages\\statsmodels\\tsa\\base\\tsa_model.py:162: ValueWarning: No frequency information was provided, so inferred frequency Q-DEC will be used.\n",
      "  % freq, ValueWarning)\n",
      "C:\\Users\\matth\\anaconda3\\lib\\site-packages\\statsmodels\\tsa\\base\\tsa_model.py:162: ValueWarning: No frequency information was provided, so inferred frequency Q-DEC will be used.\n",
      "  % freq, ValueWarning)\n"
     ]
    },
    {
     "name": "stdout",
     "output_type": "stream",
     "text": [
      "The AIC for SARIMAX(3,1,10) is: 666.7955809743959\n",
      "Attempting to fit SARIMAX(3,1,11)\n"
     ]
    },
    {
     "name": "stderr",
     "output_type": "stream",
     "text": [
      "C:\\Users\\matth\\anaconda3\\lib\\site-packages\\statsmodels\\base\\model.py:568: ConvergenceWarning: Maximum Likelihood optimization failed to converge. Check mle_retvals\n",
      "  \"Check mle_retvals\", ConvergenceWarning)\n",
      "C:\\Users\\matth\\anaconda3\\lib\\site-packages\\statsmodels\\tsa\\base\\tsa_model.py:162: ValueWarning: No frequency information was provided, so inferred frequency Q-DEC will be used.\n",
      "  % freq, ValueWarning)\n",
      "C:\\Users\\matth\\anaconda3\\lib\\site-packages\\statsmodels\\tsa\\base\\tsa_model.py:162: ValueWarning: No frequency information was provided, so inferred frequency Q-DEC will be used.\n",
      "  % freq, ValueWarning)\n"
     ]
    },
    {
     "name": "stdout",
     "output_type": "stream",
     "text": [
      "The AIC for SARIMAX(3,1,11) is: 670.446730989866\n",
      "Attempting to fit SARIMAX(4,1,0)\n",
      "The AIC for SARIMAX(4,1,0) is: 679.5706781997641\n",
      "Attempting to fit SARIMAX(4,1,1)\n"
     ]
    },
    {
     "name": "stderr",
     "output_type": "stream",
     "text": [
      "C:\\Users\\matth\\anaconda3\\lib\\site-packages\\statsmodels\\tsa\\base\\tsa_model.py:162: ValueWarning: No frequency information was provided, so inferred frequency Q-DEC will be used.\n",
      "  % freq, ValueWarning)\n",
      "C:\\Users\\matth\\anaconda3\\lib\\site-packages\\statsmodels\\tsa\\base\\tsa_model.py:162: ValueWarning: No frequency information was provided, so inferred frequency Q-DEC will be used.\n",
      "  % freq, ValueWarning)\n",
      "C:\\Users\\matth\\anaconda3\\lib\\site-packages\\statsmodels\\base\\model.py:568: ConvergenceWarning: Maximum Likelihood optimization failed to converge. Check mle_retvals\n",
      "  \"Check mle_retvals\", ConvergenceWarning)\n",
      "C:\\Users\\matth\\anaconda3\\lib\\site-packages\\statsmodels\\tsa\\base\\tsa_model.py:162: ValueWarning: No frequency information was provided, so inferred frequency Q-DEC will be used.\n",
      "  % freq, ValueWarning)\n",
      "C:\\Users\\matth\\anaconda3\\lib\\site-packages\\statsmodels\\tsa\\base\\tsa_model.py:162: ValueWarning: No frequency information was provided, so inferred frequency Q-DEC will be used.\n",
      "  % freq, ValueWarning)\n"
     ]
    },
    {
     "name": "stdout",
     "output_type": "stream",
     "text": [
      "The AIC for SARIMAX(4,1,1) is: 673.3298114657886\n",
      "Attempting to fit SARIMAX(4,1,2)\n"
     ]
    },
    {
     "name": "stderr",
     "output_type": "stream",
     "text": [
      "C:\\Users\\matth\\anaconda3\\lib\\site-packages\\statsmodels\\base\\model.py:568: ConvergenceWarning: Maximum Likelihood optimization failed to converge. Check mle_retvals\n",
      "  \"Check mle_retvals\", ConvergenceWarning)\n",
      "C:\\Users\\matth\\anaconda3\\lib\\site-packages\\statsmodels\\tsa\\base\\tsa_model.py:162: ValueWarning: No frequency information was provided, so inferred frequency Q-DEC will be used.\n",
      "  % freq, ValueWarning)\n",
      "C:\\Users\\matth\\anaconda3\\lib\\site-packages\\statsmodels\\tsa\\base\\tsa_model.py:162: ValueWarning: No frequency information was provided, so inferred frequency Q-DEC will be used.\n",
      "  % freq, ValueWarning)\n"
     ]
    },
    {
     "name": "stdout",
     "output_type": "stream",
     "text": [
      "The AIC for SARIMAX(4,1,2) is: 673.6654608479188\n",
      "Attempting to fit SARIMAX(4,1,3)\n"
     ]
    },
    {
     "name": "stderr",
     "output_type": "stream",
     "text": [
      "C:\\Users\\matth\\anaconda3\\lib\\site-packages\\statsmodels\\base\\model.py:568: ConvergenceWarning: Maximum Likelihood optimization failed to converge. Check mle_retvals\n",
      "  \"Check mle_retvals\", ConvergenceWarning)\n",
      "C:\\Users\\matth\\anaconda3\\lib\\site-packages\\statsmodels\\tsa\\base\\tsa_model.py:162: ValueWarning: No frequency information was provided, so inferred frequency Q-DEC will be used.\n",
      "  % freq, ValueWarning)\n",
      "C:\\Users\\matth\\anaconda3\\lib\\site-packages\\statsmodels\\tsa\\base\\tsa_model.py:162: ValueWarning: No frequency information was provided, so inferred frequency Q-DEC will be used.\n",
      "  % freq, ValueWarning)\n"
     ]
    },
    {
     "name": "stdout",
     "output_type": "stream",
     "text": [
      "The AIC for SARIMAX(4,1,3) is: 676.6560526272558\n",
      "Attempting to fit SARIMAX(4,1,4)\n"
     ]
    },
    {
     "name": "stderr",
     "output_type": "stream",
     "text": [
      "C:\\Users\\matth\\anaconda3\\lib\\site-packages\\statsmodels\\base\\model.py:568: ConvergenceWarning: Maximum Likelihood optimization failed to converge. Check mle_retvals\n",
      "  \"Check mle_retvals\", ConvergenceWarning)\n",
      "C:\\Users\\matth\\anaconda3\\lib\\site-packages\\statsmodels\\tsa\\base\\tsa_model.py:162: ValueWarning: No frequency information was provided, so inferred frequency Q-DEC will be used.\n",
      "  % freq, ValueWarning)\n",
      "C:\\Users\\matth\\anaconda3\\lib\\site-packages\\statsmodels\\tsa\\base\\tsa_model.py:162: ValueWarning: No frequency information was provided, so inferred frequency Q-DEC will be used.\n",
      "  % freq, ValueWarning)\n"
     ]
    },
    {
     "name": "stdout",
     "output_type": "stream",
     "text": [
      "The AIC for SARIMAX(4,1,4) is: 677.8176454947451\n",
      "Attempting to fit SARIMAX(4,1,5)\n"
     ]
    },
    {
     "name": "stderr",
     "output_type": "stream",
     "text": [
      "C:\\Users\\matth\\anaconda3\\lib\\site-packages\\statsmodels\\base\\model.py:568: ConvergenceWarning: Maximum Likelihood optimization failed to converge. Check mle_retvals\n",
      "  \"Check mle_retvals\", ConvergenceWarning)\n",
      "C:\\Users\\matth\\anaconda3\\lib\\site-packages\\statsmodels\\tsa\\base\\tsa_model.py:162: ValueWarning: No frequency information was provided, so inferred frequency Q-DEC will be used.\n",
      "  % freq, ValueWarning)\n",
      "C:\\Users\\matth\\anaconda3\\lib\\site-packages\\statsmodels\\tsa\\base\\tsa_model.py:162: ValueWarning: No frequency information was provided, so inferred frequency Q-DEC will be used.\n",
      "  % freq, ValueWarning)\n"
     ]
    },
    {
     "name": "stdout",
     "output_type": "stream",
     "text": [
      "The AIC for SARIMAX(4,1,5) is: 677.1924199844615\n",
      "Attempting to fit SARIMAX(4,1,6)\n"
     ]
    },
    {
     "name": "stderr",
     "output_type": "stream",
     "text": [
      "C:\\Users\\matth\\anaconda3\\lib\\site-packages\\statsmodels\\base\\model.py:568: ConvergenceWarning: Maximum Likelihood optimization failed to converge. Check mle_retvals\n",
      "  \"Check mle_retvals\", ConvergenceWarning)\n",
      "C:\\Users\\matth\\anaconda3\\lib\\site-packages\\statsmodels\\tsa\\base\\tsa_model.py:162: ValueWarning: No frequency information was provided, so inferred frequency Q-DEC will be used.\n",
      "  % freq, ValueWarning)\n",
      "C:\\Users\\matth\\anaconda3\\lib\\site-packages\\statsmodels\\tsa\\base\\tsa_model.py:162: ValueWarning: No frequency information was provided, so inferred frequency Q-DEC will be used.\n",
      "  % freq, ValueWarning)\n"
     ]
    },
    {
     "name": "stdout",
     "output_type": "stream",
     "text": [
      "The AIC for SARIMAX(4,1,6) is: 682.3292849807301\n",
      "Attempting to fit SARIMAX(4,1,7)\n"
     ]
    },
    {
     "name": "stderr",
     "output_type": "stream",
     "text": [
      "C:\\Users\\matth\\anaconda3\\lib\\site-packages\\statsmodels\\base\\model.py:568: ConvergenceWarning: Maximum Likelihood optimization failed to converge. Check mle_retvals\n",
      "  \"Check mle_retvals\", ConvergenceWarning)\n",
      "C:\\Users\\matth\\anaconda3\\lib\\site-packages\\statsmodels\\tsa\\base\\tsa_model.py:162: ValueWarning: No frequency information was provided, so inferred frequency Q-DEC will be used.\n",
      "  % freq, ValueWarning)\n",
      "C:\\Users\\matth\\anaconda3\\lib\\site-packages\\statsmodels\\tsa\\base\\tsa_model.py:162: ValueWarning: No frequency information was provided, so inferred frequency Q-DEC will be used.\n",
      "  % freq, ValueWarning)\n"
     ]
    },
    {
     "name": "stdout",
     "output_type": "stream",
     "text": [
      "The AIC for SARIMAX(4,1,7) is: 675.6808718765149\n",
      "Attempting to fit SARIMAX(4,1,8)\n"
     ]
    },
    {
     "name": "stderr",
     "output_type": "stream",
     "text": [
      "C:\\Users\\matth\\anaconda3\\lib\\site-packages\\statsmodels\\base\\model.py:568: ConvergenceWarning: Maximum Likelihood optimization failed to converge. Check mle_retvals\n",
      "  \"Check mle_retvals\", ConvergenceWarning)\n",
      "C:\\Users\\matth\\anaconda3\\lib\\site-packages\\statsmodels\\tsa\\base\\tsa_model.py:162: ValueWarning: No frequency information was provided, so inferred frequency Q-DEC will be used.\n",
      "  % freq, ValueWarning)\n",
      "C:\\Users\\matth\\anaconda3\\lib\\site-packages\\statsmodels\\tsa\\base\\tsa_model.py:162: ValueWarning: No frequency information was provided, so inferred frequency Q-DEC will be used.\n",
      "  % freq, ValueWarning)\n"
     ]
    },
    {
     "name": "stdout",
     "output_type": "stream",
     "text": [
      "The AIC for SARIMAX(4,1,8) is: 673.1966018152891\n",
      "Attempting to fit SARIMAX(4,1,9)\n"
     ]
    },
    {
     "name": "stderr",
     "output_type": "stream",
     "text": [
      "C:\\Users\\matth\\anaconda3\\lib\\site-packages\\statsmodels\\base\\model.py:568: ConvergenceWarning: Maximum Likelihood optimization failed to converge. Check mle_retvals\n",
      "  \"Check mle_retvals\", ConvergenceWarning)\n",
      "C:\\Users\\matth\\anaconda3\\lib\\site-packages\\statsmodels\\tsa\\base\\tsa_model.py:162: ValueWarning: No frequency information was provided, so inferred frequency Q-DEC will be used.\n",
      "  % freq, ValueWarning)\n",
      "C:\\Users\\matth\\anaconda3\\lib\\site-packages\\statsmodels\\tsa\\base\\tsa_model.py:162: ValueWarning: No frequency information was provided, so inferred frequency Q-DEC will be used.\n",
      "  % freq, ValueWarning)\n"
     ]
    },
    {
     "name": "stdout",
     "output_type": "stream",
     "text": [
      "The AIC for SARIMAX(4,1,9) is: 671.8587906703802\n",
      "Attempting to fit SARIMAX(4,1,10)\n"
     ]
    },
    {
     "name": "stderr",
     "output_type": "stream",
     "text": [
      "C:\\Users\\matth\\anaconda3\\lib\\site-packages\\statsmodels\\base\\model.py:568: ConvergenceWarning: Maximum Likelihood optimization failed to converge. Check mle_retvals\n",
      "  \"Check mle_retvals\", ConvergenceWarning)\n",
      "C:\\Users\\matth\\anaconda3\\lib\\site-packages\\statsmodels\\tsa\\base\\tsa_model.py:162: ValueWarning: No frequency information was provided, so inferred frequency Q-DEC will be used.\n",
      "  % freq, ValueWarning)\n",
      "C:\\Users\\matth\\anaconda3\\lib\\site-packages\\statsmodels\\tsa\\base\\tsa_model.py:162: ValueWarning: No frequency information was provided, so inferred frequency Q-DEC will be used.\n",
      "  % freq, ValueWarning)\n"
     ]
    },
    {
     "name": "stdout",
     "output_type": "stream",
     "text": [
      "The AIC for SARIMAX(4,1,10) is: 669.5806077125786\n",
      "Attempting to fit SARIMAX(4,1,11)\n"
     ]
    },
    {
     "name": "stderr",
     "output_type": "stream",
     "text": [
      "C:\\Users\\matth\\anaconda3\\lib\\site-packages\\statsmodels\\base\\model.py:568: ConvergenceWarning: Maximum Likelihood optimization failed to converge. Check mle_retvals\n",
      "  \"Check mle_retvals\", ConvergenceWarning)\n",
      "C:\\Users\\matth\\anaconda3\\lib\\site-packages\\statsmodels\\tsa\\base\\tsa_model.py:162: ValueWarning: No frequency information was provided, so inferred frequency Q-DEC will be used.\n",
      "  % freq, ValueWarning)\n",
      "C:\\Users\\matth\\anaconda3\\lib\\site-packages\\statsmodels\\tsa\\base\\tsa_model.py:162: ValueWarning: No frequency information was provided, so inferred frequency Q-DEC will be used.\n",
      "  % freq, ValueWarning)\n"
     ]
    },
    {
     "name": "stdout",
     "output_type": "stream",
     "text": [
      "The AIC for SARIMAX(4,1,11) is: 671.2344424992937\n",
      "Attempting to fit SARIMAX(5,1,0)\n"
     ]
    },
    {
     "name": "stderr",
     "output_type": "stream",
     "text": [
      "C:\\Users\\matth\\anaconda3\\lib\\site-packages\\statsmodels\\base\\model.py:568: ConvergenceWarning: Maximum Likelihood optimization failed to converge. Check mle_retvals\n",
      "  \"Check mle_retvals\", ConvergenceWarning)\n",
      "C:\\Users\\matth\\anaconda3\\lib\\site-packages\\statsmodels\\tsa\\base\\tsa_model.py:162: ValueWarning: No frequency information was provided, so inferred frequency Q-DEC will be used.\n",
      "  % freq, ValueWarning)\n",
      "C:\\Users\\matth\\anaconda3\\lib\\site-packages\\statsmodels\\tsa\\base\\tsa_model.py:162: ValueWarning: No frequency information was provided, so inferred frequency Q-DEC will be used.\n",
      "  % freq, ValueWarning)\n"
     ]
    },
    {
     "name": "stdout",
     "output_type": "stream",
     "text": [
      "The AIC for SARIMAX(5,1,0) is: 674.8559078078722\n",
      "Attempting to fit SARIMAX(5,1,1)\n"
     ]
    },
    {
     "name": "stderr",
     "output_type": "stream",
     "text": [
      "C:\\Users\\matth\\anaconda3\\lib\\site-packages\\statsmodels\\base\\model.py:568: ConvergenceWarning: Maximum Likelihood optimization failed to converge. Check mle_retvals\n",
      "  \"Check mle_retvals\", ConvergenceWarning)\n",
      "C:\\Users\\matth\\anaconda3\\lib\\site-packages\\statsmodels\\tsa\\base\\tsa_model.py:162: ValueWarning: No frequency information was provided, so inferred frequency Q-DEC will be used.\n",
      "  % freq, ValueWarning)\n",
      "C:\\Users\\matth\\anaconda3\\lib\\site-packages\\statsmodels\\tsa\\base\\tsa_model.py:162: ValueWarning: No frequency information was provided, so inferred frequency Q-DEC will be used.\n",
      "  % freq, ValueWarning)\n"
     ]
    },
    {
     "name": "stdout",
     "output_type": "stream",
     "text": [
      "The AIC for SARIMAX(5,1,1) is: 673.7400039341035\n",
      "Attempting to fit SARIMAX(5,1,2)\n"
     ]
    },
    {
     "name": "stderr",
     "output_type": "stream",
     "text": [
      "C:\\Users\\matth\\anaconda3\\lib\\site-packages\\statsmodels\\base\\model.py:568: ConvergenceWarning: Maximum Likelihood optimization failed to converge. Check mle_retvals\n",
      "  \"Check mle_retvals\", ConvergenceWarning)\n",
      "C:\\Users\\matth\\anaconda3\\lib\\site-packages\\statsmodels\\tsa\\base\\tsa_model.py:162: ValueWarning: No frequency information was provided, so inferred frequency Q-DEC will be used.\n",
      "  % freq, ValueWarning)\n",
      "C:\\Users\\matth\\anaconda3\\lib\\site-packages\\statsmodels\\tsa\\base\\tsa_model.py:162: ValueWarning: No frequency information was provided, so inferred frequency Q-DEC will be used.\n",
      "  % freq, ValueWarning)\n"
     ]
    },
    {
     "name": "stdout",
     "output_type": "stream",
     "text": [
      "The AIC for SARIMAX(5,1,2) is: 673.9899912035711\n",
      "Attempting to fit SARIMAX(5,1,3)\n"
     ]
    },
    {
     "name": "stderr",
     "output_type": "stream",
     "text": [
      "C:\\Users\\matth\\anaconda3\\lib\\site-packages\\statsmodels\\base\\model.py:568: ConvergenceWarning: Maximum Likelihood optimization failed to converge. Check mle_retvals\n",
      "  \"Check mle_retvals\", ConvergenceWarning)\n",
      "C:\\Users\\matth\\anaconda3\\lib\\site-packages\\statsmodels\\tsa\\base\\tsa_model.py:162: ValueWarning: No frequency information was provided, so inferred frequency Q-DEC will be used.\n",
      "  % freq, ValueWarning)\n",
      "C:\\Users\\matth\\anaconda3\\lib\\site-packages\\statsmodels\\tsa\\base\\tsa_model.py:162: ValueWarning: No frequency information was provided, so inferred frequency Q-DEC will be used.\n",
      "  % freq, ValueWarning)\n"
     ]
    },
    {
     "name": "stdout",
     "output_type": "stream",
     "text": [
      "The AIC for SARIMAX(5,1,3) is: 677.7236850556162\n",
      "Attempting to fit SARIMAX(5,1,4)\n"
     ]
    },
    {
     "name": "stderr",
     "output_type": "stream",
     "text": [
      "C:\\Users\\matth\\anaconda3\\lib\\site-packages\\statsmodels\\base\\model.py:568: ConvergenceWarning: Maximum Likelihood optimization failed to converge. Check mle_retvals\n",
      "  \"Check mle_retvals\", ConvergenceWarning)\n",
      "C:\\Users\\matth\\anaconda3\\lib\\site-packages\\statsmodels\\tsa\\base\\tsa_model.py:162: ValueWarning: No frequency information was provided, so inferred frequency Q-DEC will be used.\n",
      "  % freq, ValueWarning)\n",
      "C:\\Users\\matth\\anaconda3\\lib\\site-packages\\statsmodels\\tsa\\base\\tsa_model.py:162: ValueWarning: No frequency information was provided, so inferred frequency Q-DEC will be used.\n",
      "  % freq, ValueWarning)\n"
     ]
    },
    {
     "name": "stdout",
     "output_type": "stream",
     "text": [
      "The AIC for SARIMAX(5,1,4) is: 679.7978648549739\n",
      "Attempting to fit SARIMAX(5,1,5)\n"
     ]
    },
    {
     "name": "stderr",
     "output_type": "stream",
     "text": [
      "C:\\Users\\matth\\anaconda3\\lib\\site-packages\\statsmodels\\base\\model.py:568: ConvergenceWarning: Maximum Likelihood optimization failed to converge. Check mle_retvals\n",
      "  \"Check mle_retvals\", ConvergenceWarning)\n",
      "C:\\Users\\matth\\anaconda3\\lib\\site-packages\\statsmodels\\tsa\\base\\tsa_model.py:162: ValueWarning: No frequency information was provided, so inferred frequency Q-DEC will be used.\n",
      "  % freq, ValueWarning)\n",
      "C:\\Users\\matth\\anaconda3\\lib\\site-packages\\statsmodels\\tsa\\base\\tsa_model.py:162: ValueWarning: No frequency information was provided, so inferred frequency Q-DEC will be used.\n",
      "  % freq, ValueWarning)\n"
     ]
    },
    {
     "name": "stdout",
     "output_type": "stream",
     "text": [
      "The AIC for SARIMAX(5,1,5) is: 680.8129298348873\n",
      "Attempting to fit SARIMAX(5,1,6)\n"
     ]
    },
    {
     "name": "stderr",
     "output_type": "stream",
     "text": [
      "C:\\Users\\matth\\anaconda3\\lib\\site-packages\\statsmodels\\base\\model.py:568: ConvergenceWarning: Maximum Likelihood optimization failed to converge. Check mle_retvals\n",
      "  \"Check mle_retvals\", ConvergenceWarning)\n",
      "C:\\Users\\matth\\anaconda3\\lib\\site-packages\\statsmodels\\tsa\\base\\tsa_model.py:162: ValueWarning: No frequency information was provided, so inferred frequency Q-DEC will be used.\n",
      "  % freq, ValueWarning)\n",
      "C:\\Users\\matth\\anaconda3\\lib\\site-packages\\statsmodels\\tsa\\base\\tsa_model.py:162: ValueWarning: No frequency information was provided, so inferred frequency Q-DEC will be used.\n",
      "  % freq, ValueWarning)\n"
     ]
    },
    {
     "name": "stdout",
     "output_type": "stream",
     "text": [
      "The AIC for SARIMAX(5,1,6) is: 681.8984124599099\n",
      "Attempting to fit SARIMAX(5,1,7)\n"
     ]
    },
    {
     "name": "stderr",
     "output_type": "stream",
     "text": [
      "C:\\Users\\matth\\anaconda3\\lib\\site-packages\\statsmodels\\base\\model.py:568: ConvergenceWarning: Maximum Likelihood optimization failed to converge. Check mle_retvals\n",
      "  \"Check mle_retvals\", ConvergenceWarning)\n",
      "C:\\Users\\matth\\anaconda3\\lib\\site-packages\\statsmodels\\tsa\\base\\tsa_model.py:162: ValueWarning: No frequency information was provided, so inferred frequency Q-DEC will be used.\n",
      "  % freq, ValueWarning)\n",
      "C:\\Users\\matth\\anaconda3\\lib\\site-packages\\statsmodels\\tsa\\base\\tsa_model.py:162: ValueWarning: No frequency information was provided, so inferred frequency Q-DEC will be used.\n",
      "  % freq, ValueWarning)\n"
     ]
    },
    {
     "name": "stdout",
     "output_type": "stream",
     "text": [
      "The AIC for SARIMAX(5,1,7) is: 674.6880096766557\n",
      "Attempting to fit SARIMAX(5,1,8)\n"
     ]
    },
    {
     "name": "stderr",
     "output_type": "stream",
     "text": [
      "C:\\Users\\matth\\anaconda3\\lib\\site-packages\\statsmodels\\base\\model.py:568: ConvergenceWarning: Maximum Likelihood optimization failed to converge. Check mle_retvals\n",
      "  \"Check mle_retvals\", ConvergenceWarning)\n",
      "C:\\Users\\matth\\anaconda3\\lib\\site-packages\\statsmodels\\tsa\\base\\tsa_model.py:162: ValueWarning: No frequency information was provided, so inferred frequency Q-DEC will be used.\n",
      "  % freq, ValueWarning)\n",
      "C:\\Users\\matth\\anaconda3\\lib\\site-packages\\statsmodels\\tsa\\base\\tsa_model.py:162: ValueWarning: No frequency information was provided, so inferred frequency Q-DEC will be used.\n",
      "  % freq, ValueWarning)\n"
     ]
    },
    {
     "name": "stdout",
     "output_type": "stream",
     "text": [
      "The AIC for SARIMAX(5,1,8) is: 676.5405673066189\n",
      "Attempting to fit SARIMAX(5,1,9)\n"
     ]
    },
    {
     "name": "stderr",
     "output_type": "stream",
     "text": [
      "C:\\Users\\matth\\anaconda3\\lib\\site-packages\\statsmodels\\base\\model.py:568: ConvergenceWarning: Maximum Likelihood optimization failed to converge. Check mle_retvals\n",
      "  \"Check mle_retvals\", ConvergenceWarning)\n",
      "C:\\Users\\matth\\anaconda3\\lib\\site-packages\\statsmodels\\tsa\\base\\tsa_model.py:162: ValueWarning: No frequency information was provided, so inferred frequency Q-DEC will be used.\n",
      "  % freq, ValueWarning)\n",
      "C:\\Users\\matth\\anaconda3\\lib\\site-packages\\statsmodels\\tsa\\base\\tsa_model.py:162: ValueWarning: No frequency information was provided, so inferred frequency Q-DEC will be used.\n",
      "  % freq, ValueWarning)\n"
     ]
    },
    {
     "name": "stdout",
     "output_type": "stream",
     "text": [
      "The AIC for SARIMAX(5,1,9) is: 669.337593281524\n",
      "Attempting to fit SARIMAX(5,1,10)\n"
     ]
    },
    {
     "name": "stderr",
     "output_type": "stream",
     "text": [
      "C:\\Users\\matth\\anaconda3\\lib\\site-packages\\statsmodels\\base\\model.py:568: ConvergenceWarning: Maximum Likelihood optimization failed to converge. Check mle_retvals\n",
      "  \"Check mle_retvals\", ConvergenceWarning)\n",
      "C:\\Users\\matth\\anaconda3\\lib\\site-packages\\statsmodels\\tsa\\base\\tsa_model.py:162: ValueWarning: No frequency information was provided, so inferred frequency Q-DEC will be used.\n",
      "  % freq, ValueWarning)\n",
      "C:\\Users\\matth\\anaconda3\\lib\\site-packages\\statsmodels\\tsa\\base\\tsa_model.py:162: ValueWarning: No frequency information was provided, so inferred frequency Q-DEC will be used.\n",
      "  % freq, ValueWarning)\n"
     ]
    },
    {
     "name": "stdout",
     "output_type": "stream",
     "text": [
      "The AIC for SARIMAX(5,1,10) is: 671.7708853609952\n",
      "Attempting to fit SARIMAX(5,1,11)\n"
     ]
    },
    {
     "name": "stderr",
     "output_type": "stream",
     "text": [
      "C:\\Users\\matth\\anaconda3\\lib\\site-packages\\statsmodels\\base\\model.py:568: ConvergenceWarning: Maximum Likelihood optimization failed to converge. Check mle_retvals\n",
      "  \"Check mle_retvals\", ConvergenceWarning)\n",
      "C:\\Users\\matth\\anaconda3\\lib\\site-packages\\statsmodels\\tsa\\base\\tsa_model.py:162: ValueWarning: No frequency information was provided, so inferred frequency Q-DEC will be used.\n",
      "  % freq, ValueWarning)\n",
      "C:\\Users\\matth\\anaconda3\\lib\\site-packages\\statsmodels\\tsa\\base\\tsa_model.py:162: ValueWarning: No frequency information was provided, so inferred frequency Q-DEC will be used.\n",
      "  % freq, ValueWarning)\n"
     ]
    },
    {
     "name": "stdout",
     "output_type": "stream",
     "text": [
      "The AIC for SARIMAX(5,1,11) is: 673.7078309390615\n",
      "Attempting to fit SARIMAX(6,1,0)\n"
     ]
    },
    {
     "name": "stderr",
     "output_type": "stream",
     "text": [
      "C:\\Users\\matth\\anaconda3\\lib\\site-packages\\statsmodels\\base\\model.py:568: ConvergenceWarning: Maximum Likelihood optimization failed to converge. Check mle_retvals\n",
      "  \"Check mle_retvals\", ConvergenceWarning)\n",
      "C:\\Users\\matth\\anaconda3\\lib\\site-packages\\statsmodels\\tsa\\base\\tsa_model.py:162: ValueWarning: No frequency information was provided, so inferred frequency Q-DEC will be used.\n",
      "  % freq, ValueWarning)\n",
      "C:\\Users\\matth\\anaconda3\\lib\\site-packages\\statsmodels\\tsa\\base\\tsa_model.py:162: ValueWarning: No frequency information was provided, so inferred frequency Q-DEC will be used.\n",
      "  % freq, ValueWarning)\n"
     ]
    },
    {
     "name": "stdout",
     "output_type": "stream",
     "text": [
      "The AIC for SARIMAX(6,1,0) is: 673.6318847653897\n",
      "Attempting to fit SARIMAX(6,1,1)\n"
     ]
    },
    {
     "name": "stderr",
     "output_type": "stream",
     "text": [
      "C:\\Users\\matth\\anaconda3\\lib\\site-packages\\statsmodels\\base\\model.py:568: ConvergenceWarning: Maximum Likelihood optimization failed to converge. Check mle_retvals\n",
      "  \"Check mle_retvals\", ConvergenceWarning)\n",
      "C:\\Users\\matth\\anaconda3\\lib\\site-packages\\statsmodels\\tsa\\base\\tsa_model.py:162: ValueWarning: No frequency information was provided, so inferred frequency Q-DEC will be used.\n",
      "  % freq, ValueWarning)\n",
      "C:\\Users\\matth\\anaconda3\\lib\\site-packages\\statsmodels\\tsa\\base\\tsa_model.py:162: ValueWarning: No frequency information was provided, so inferred frequency Q-DEC will be used.\n",
      "  % freq, ValueWarning)\n"
     ]
    },
    {
     "name": "stdout",
     "output_type": "stream",
     "text": [
      "The AIC for SARIMAX(6,1,1) is: 675.7374211398035\n",
      "Attempting to fit SARIMAX(6,1,2)\n"
     ]
    },
    {
     "name": "stderr",
     "output_type": "stream",
     "text": [
      "C:\\Users\\matth\\anaconda3\\lib\\site-packages\\statsmodels\\base\\model.py:568: ConvergenceWarning: Maximum Likelihood optimization failed to converge. Check mle_retvals\n",
      "  \"Check mle_retvals\", ConvergenceWarning)\n",
      "C:\\Users\\matth\\anaconda3\\lib\\site-packages\\statsmodels\\tsa\\base\\tsa_model.py:162: ValueWarning: No frequency information was provided, so inferred frequency Q-DEC will be used.\n",
      "  % freq, ValueWarning)\n",
      "C:\\Users\\matth\\anaconda3\\lib\\site-packages\\statsmodels\\tsa\\base\\tsa_model.py:162: ValueWarning: No frequency information was provided, so inferred frequency Q-DEC will be used.\n",
      "  % freq, ValueWarning)\n"
     ]
    },
    {
     "name": "stdout",
     "output_type": "stream",
     "text": [
      "The AIC for SARIMAX(6,1,2) is: 675.0787999232515\n",
      "Attempting to fit SARIMAX(6,1,3)\n"
     ]
    },
    {
     "name": "stderr",
     "output_type": "stream",
     "text": [
      "C:\\Users\\matth\\anaconda3\\lib\\site-packages\\statsmodels\\base\\model.py:568: ConvergenceWarning: Maximum Likelihood optimization failed to converge. Check mle_retvals\n",
      "  \"Check mle_retvals\", ConvergenceWarning)\n",
      "C:\\Users\\matth\\anaconda3\\lib\\site-packages\\statsmodels\\tsa\\base\\tsa_model.py:162: ValueWarning: No frequency information was provided, so inferred frequency Q-DEC will be used.\n",
      "  % freq, ValueWarning)\n",
      "C:\\Users\\matth\\anaconda3\\lib\\site-packages\\statsmodels\\tsa\\base\\tsa_model.py:162: ValueWarning: No frequency information was provided, so inferred frequency Q-DEC will be used.\n",
      "  % freq, ValueWarning)\n"
     ]
    },
    {
     "name": "stdout",
     "output_type": "stream",
     "text": [
      "The AIC for SARIMAX(6,1,3) is: 677.9103696284737\n",
      "Attempting to fit SARIMAX(6,1,4)\n"
     ]
    },
    {
     "name": "stderr",
     "output_type": "stream",
     "text": [
      "C:\\Users\\matth\\anaconda3\\lib\\site-packages\\statsmodels\\base\\model.py:568: ConvergenceWarning: Maximum Likelihood optimization failed to converge. Check mle_retvals\n",
      "  \"Check mle_retvals\", ConvergenceWarning)\n",
      "C:\\Users\\matth\\anaconda3\\lib\\site-packages\\statsmodels\\tsa\\base\\tsa_model.py:162: ValueWarning: No frequency information was provided, so inferred frequency Q-DEC will be used.\n",
      "  % freq, ValueWarning)\n",
      "C:\\Users\\matth\\anaconda3\\lib\\site-packages\\statsmodels\\tsa\\base\\tsa_model.py:162: ValueWarning: No frequency information was provided, so inferred frequency Q-DEC will be used.\n",
      "  % freq, ValueWarning)\n"
     ]
    },
    {
     "name": "stdout",
     "output_type": "stream",
     "text": [
      "The AIC for SARIMAX(6,1,4) is: 695.8007170246768\n",
      "Attempting to fit SARIMAX(6,1,5)\n"
     ]
    },
    {
     "name": "stderr",
     "output_type": "stream",
     "text": [
      "C:\\Users\\matth\\anaconda3\\lib\\site-packages\\statsmodels\\base\\model.py:568: ConvergenceWarning: Maximum Likelihood optimization failed to converge. Check mle_retvals\n",
      "  \"Check mle_retvals\", ConvergenceWarning)\n",
      "C:\\Users\\matth\\anaconda3\\lib\\site-packages\\statsmodels\\tsa\\base\\tsa_model.py:162: ValueWarning: No frequency information was provided, so inferred frequency Q-DEC will be used.\n",
      "  % freq, ValueWarning)\n",
      "C:\\Users\\matth\\anaconda3\\lib\\site-packages\\statsmodels\\tsa\\base\\tsa_model.py:162: ValueWarning: No frequency information was provided, so inferred frequency Q-DEC will be used.\n",
      "  % freq, ValueWarning)\n"
     ]
    },
    {
     "name": "stdout",
     "output_type": "stream",
     "text": [
      "The AIC for SARIMAX(6,1,5) is: 682.1390817385789\n",
      "Attempting to fit SARIMAX(6,1,6)\n"
     ]
    },
    {
     "name": "stderr",
     "output_type": "stream",
     "text": [
      "C:\\Users\\matth\\anaconda3\\lib\\site-packages\\statsmodels\\base\\model.py:568: ConvergenceWarning: Maximum Likelihood optimization failed to converge. Check mle_retvals\n",
      "  \"Check mle_retvals\", ConvergenceWarning)\n",
      "C:\\Users\\matth\\anaconda3\\lib\\site-packages\\statsmodels\\tsa\\base\\tsa_model.py:162: ValueWarning: No frequency information was provided, so inferred frequency Q-DEC will be used.\n",
      "  % freq, ValueWarning)\n",
      "C:\\Users\\matth\\anaconda3\\lib\\site-packages\\statsmodels\\tsa\\base\\tsa_model.py:162: ValueWarning: No frequency information was provided, so inferred frequency Q-DEC will be used.\n",
      "  % freq, ValueWarning)\n"
     ]
    },
    {
     "name": "stdout",
     "output_type": "stream",
     "text": [
      "The AIC for SARIMAX(6,1,6) is: 681.9269308743488\n",
      "Attempting to fit SARIMAX(6,1,7)\n"
     ]
    },
    {
     "name": "stderr",
     "output_type": "stream",
     "text": [
      "C:\\Users\\matth\\anaconda3\\lib\\site-packages\\statsmodels\\base\\model.py:568: ConvergenceWarning: Maximum Likelihood optimization failed to converge. Check mle_retvals\n",
      "  \"Check mle_retvals\", ConvergenceWarning)\n",
      "C:\\Users\\matth\\anaconda3\\lib\\site-packages\\statsmodels\\tsa\\base\\tsa_model.py:162: ValueWarning: No frequency information was provided, so inferred frequency Q-DEC will be used.\n",
      "  % freq, ValueWarning)\n",
      "C:\\Users\\matth\\anaconda3\\lib\\site-packages\\statsmodels\\tsa\\base\\tsa_model.py:162: ValueWarning: No frequency information was provided, so inferred frequency Q-DEC will be used.\n",
      "  % freq, ValueWarning)\n"
     ]
    },
    {
     "name": "stdout",
     "output_type": "stream",
     "text": [
      "The AIC for SARIMAX(6,1,7) is: 673.581089962289\n",
      "Attempting to fit SARIMAX(6,1,8)\n"
     ]
    },
    {
     "name": "stderr",
     "output_type": "stream",
     "text": [
      "C:\\Users\\matth\\anaconda3\\lib\\site-packages\\statsmodels\\base\\model.py:568: ConvergenceWarning: Maximum Likelihood optimization failed to converge. Check mle_retvals\n",
      "  \"Check mle_retvals\", ConvergenceWarning)\n",
      "C:\\Users\\matth\\anaconda3\\lib\\site-packages\\statsmodels\\tsa\\base\\tsa_model.py:162: ValueWarning: No frequency information was provided, so inferred frequency Q-DEC will be used.\n",
      "  % freq, ValueWarning)\n",
      "C:\\Users\\matth\\anaconda3\\lib\\site-packages\\statsmodels\\tsa\\base\\tsa_model.py:162: ValueWarning: No frequency information was provided, so inferred frequency Q-DEC will be used.\n",
      "  % freq, ValueWarning)\n"
     ]
    },
    {
     "name": "stdout",
     "output_type": "stream",
     "text": [
      "The AIC for SARIMAX(6,1,8) is: 669.376464245551\n",
      "Attempting to fit SARIMAX(6,1,9)\n"
     ]
    },
    {
     "name": "stderr",
     "output_type": "stream",
     "text": [
      "C:\\Users\\matth\\anaconda3\\lib\\site-packages\\statsmodels\\base\\model.py:568: ConvergenceWarning: Maximum Likelihood optimization failed to converge. Check mle_retvals\n",
      "  \"Check mle_retvals\", ConvergenceWarning)\n",
      "C:\\Users\\matth\\anaconda3\\lib\\site-packages\\statsmodels\\tsa\\base\\tsa_model.py:162: ValueWarning: No frequency information was provided, so inferred frequency Q-DEC will be used.\n",
      "  % freq, ValueWarning)\n",
      "C:\\Users\\matth\\anaconda3\\lib\\site-packages\\statsmodels\\tsa\\base\\tsa_model.py:162: ValueWarning: No frequency information was provided, so inferred frequency Q-DEC will be used.\n",
      "  % freq, ValueWarning)\n"
     ]
    },
    {
     "name": "stdout",
     "output_type": "stream",
     "text": [
      "The AIC for SARIMAX(6,1,9) is: 670.4850600989591\n",
      "Attempting to fit SARIMAX(6,1,10)\n"
     ]
    },
    {
     "name": "stderr",
     "output_type": "stream",
     "text": [
      "C:\\Users\\matth\\anaconda3\\lib\\site-packages\\statsmodels\\base\\model.py:568: ConvergenceWarning: Maximum Likelihood optimization failed to converge. Check mle_retvals\n",
      "  \"Check mle_retvals\", ConvergenceWarning)\n",
      "C:\\Users\\matth\\anaconda3\\lib\\site-packages\\statsmodels\\tsa\\base\\tsa_model.py:162: ValueWarning: No frequency information was provided, so inferred frequency Q-DEC will be used.\n",
      "  % freq, ValueWarning)\n",
      "C:\\Users\\matth\\anaconda3\\lib\\site-packages\\statsmodels\\tsa\\base\\tsa_model.py:162: ValueWarning: No frequency information was provided, so inferred frequency Q-DEC will be used.\n",
      "  % freq, ValueWarning)\n"
     ]
    },
    {
     "name": "stdout",
     "output_type": "stream",
     "text": [
      "The AIC for SARIMAX(6,1,10) is: 673.5218288519454\n",
      "Attempting to fit SARIMAX(6,1,11)\n"
     ]
    },
    {
     "name": "stderr",
     "output_type": "stream",
     "text": [
      "C:\\Users\\matth\\anaconda3\\lib\\site-packages\\statsmodels\\base\\model.py:568: ConvergenceWarning: Maximum Likelihood optimization failed to converge. Check mle_retvals\n",
      "  \"Check mle_retvals\", ConvergenceWarning)\n",
      "C:\\Users\\matth\\anaconda3\\lib\\site-packages\\statsmodels\\tsa\\base\\tsa_model.py:162: ValueWarning: No frequency information was provided, so inferred frequency Q-DEC will be used.\n",
      "  % freq, ValueWarning)\n",
      "C:\\Users\\matth\\anaconda3\\lib\\site-packages\\statsmodels\\tsa\\base\\tsa_model.py:162: ValueWarning: No frequency information was provided, so inferred frequency Q-DEC will be used.\n",
      "  % freq, ValueWarning)\n"
     ]
    },
    {
     "name": "stdout",
     "output_type": "stream",
     "text": [
      "The AIC for SARIMAX(6,1,11) is: 675.0678075122197\n",
      "Attempting to fit SARIMAX(7,1,0)\n"
     ]
    },
    {
     "name": "stderr",
     "output_type": "stream",
     "text": [
      "C:\\Users\\matth\\anaconda3\\lib\\site-packages\\statsmodels\\base\\model.py:568: ConvergenceWarning: Maximum Likelihood optimization failed to converge. Check mle_retvals\n",
      "  \"Check mle_retvals\", ConvergenceWarning)\n",
      "C:\\Users\\matth\\anaconda3\\lib\\site-packages\\statsmodels\\tsa\\base\\tsa_model.py:162: ValueWarning: No frequency information was provided, so inferred frequency Q-DEC will be used.\n",
      "  % freq, ValueWarning)\n",
      "C:\\Users\\matth\\anaconda3\\lib\\site-packages\\statsmodels\\tsa\\base\\tsa_model.py:162: ValueWarning: No frequency information was provided, so inferred frequency Q-DEC will be used.\n",
      "  % freq, ValueWarning)\n"
     ]
    },
    {
     "name": "stdout",
     "output_type": "stream",
     "text": [
      "The AIC for SARIMAX(7,1,0) is: 675.4577671615245\n",
      "Attempting to fit SARIMAX(7,1,1)\n"
     ]
    },
    {
     "name": "stderr",
     "output_type": "stream",
     "text": [
      "C:\\Users\\matth\\anaconda3\\lib\\site-packages\\statsmodels\\base\\model.py:568: ConvergenceWarning: Maximum Likelihood optimization failed to converge. Check mle_retvals\n",
      "  \"Check mle_retvals\", ConvergenceWarning)\n",
      "C:\\Users\\matth\\anaconda3\\lib\\site-packages\\statsmodels\\tsa\\base\\tsa_model.py:162: ValueWarning: No frequency information was provided, so inferred frequency Q-DEC will be used.\n",
      "  % freq, ValueWarning)\n",
      "C:\\Users\\matth\\anaconda3\\lib\\site-packages\\statsmodels\\tsa\\base\\tsa_model.py:162: ValueWarning: No frequency information was provided, so inferred frequency Q-DEC will be used.\n",
      "  % freq, ValueWarning)\n"
     ]
    },
    {
     "name": "stdout",
     "output_type": "stream",
     "text": [
      "The AIC for SARIMAX(7,1,1) is: 677.4495472698889\n",
      "Attempting to fit SARIMAX(7,1,2)\n"
     ]
    },
    {
     "name": "stderr",
     "output_type": "stream",
     "text": [
      "C:\\Users\\matth\\anaconda3\\lib\\site-packages\\statsmodels\\base\\model.py:568: ConvergenceWarning: Maximum Likelihood optimization failed to converge. Check mle_retvals\n",
      "  \"Check mle_retvals\", ConvergenceWarning)\n",
      "C:\\Users\\matth\\anaconda3\\lib\\site-packages\\statsmodels\\tsa\\base\\tsa_model.py:162: ValueWarning: No frequency information was provided, so inferred frequency Q-DEC will be used.\n",
      "  % freq, ValueWarning)\n",
      "C:\\Users\\matth\\anaconda3\\lib\\site-packages\\statsmodels\\tsa\\base\\tsa_model.py:162: ValueWarning: No frequency information was provided, so inferred frequency Q-DEC will be used.\n",
      "  % freq, ValueWarning)\n"
     ]
    },
    {
     "name": "stdout",
     "output_type": "stream",
     "text": [
      "The AIC for SARIMAX(7,1,2) is: 676.052918252523\n",
      "Attempting to fit SARIMAX(7,1,3)\n"
     ]
    },
    {
     "name": "stderr",
     "output_type": "stream",
     "text": [
      "C:\\Users\\matth\\anaconda3\\lib\\site-packages\\statsmodels\\base\\model.py:568: ConvergenceWarning: Maximum Likelihood optimization failed to converge. Check mle_retvals\n",
      "  \"Check mle_retvals\", ConvergenceWarning)\n",
      "C:\\Users\\matth\\anaconda3\\lib\\site-packages\\statsmodels\\tsa\\base\\tsa_model.py:162: ValueWarning: No frequency information was provided, so inferred frequency Q-DEC will be used.\n",
      "  % freq, ValueWarning)\n",
      "C:\\Users\\matth\\anaconda3\\lib\\site-packages\\statsmodels\\tsa\\base\\tsa_model.py:162: ValueWarning: No frequency information was provided, so inferred frequency Q-DEC will be used.\n",
      "  % freq, ValueWarning)\n"
     ]
    },
    {
     "name": "stdout",
     "output_type": "stream",
     "text": [
      "The AIC for SARIMAX(7,1,3) is: 678.7644894566031\n",
      "Attempting to fit SARIMAX(7,1,4)\n"
     ]
    },
    {
     "name": "stderr",
     "output_type": "stream",
     "text": [
      "C:\\Users\\matth\\anaconda3\\lib\\site-packages\\statsmodels\\base\\model.py:568: ConvergenceWarning: Maximum Likelihood optimization failed to converge. Check mle_retvals\n",
      "  \"Check mle_retvals\", ConvergenceWarning)\n",
      "C:\\Users\\matth\\anaconda3\\lib\\site-packages\\statsmodels\\tsa\\base\\tsa_model.py:162: ValueWarning: No frequency information was provided, so inferred frequency Q-DEC will be used.\n",
      "  % freq, ValueWarning)\n",
      "C:\\Users\\matth\\anaconda3\\lib\\site-packages\\statsmodels\\tsa\\base\\tsa_model.py:162: ValueWarning: No frequency information was provided, so inferred frequency Q-DEC will be used.\n",
      "  % freq, ValueWarning)\n"
     ]
    },
    {
     "name": "stdout",
     "output_type": "stream",
     "text": [
      "The AIC for SARIMAX(7,1,4) is: 683.3776420170927\n",
      "Attempting to fit SARIMAX(7,1,5)\n"
     ]
    },
    {
     "name": "stderr",
     "output_type": "stream",
     "text": [
      "C:\\Users\\matth\\anaconda3\\lib\\site-packages\\statsmodels\\base\\model.py:568: ConvergenceWarning: Maximum Likelihood optimization failed to converge. Check mle_retvals\n",
      "  \"Check mle_retvals\", ConvergenceWarning)\n",
      "C:\\Users\\matth\\anaconda3\\lib\\site-packages\\statsmodels\\tsa\\base\\tsa_model.py:162: ValueWarning: No frequency information was provided, so inferred frequency Q-DEC will be used.\n",
      "  % freq, ValueWarning)\n",
      "C:\\Users\\matth\\anaconda3\\lib\\site-packages\\statsmodels\\tsa\\base\\tsa_model.py:162: ValueWarning: No frequency information was provided, so inferred frequency Q-DEC will be used.\n",
      "  % freq, ValueWarning)\n"
     ]
    },
    {
     "name": "stdout",
     "output_type": "stream",
     "text": [
      "The AIC for SARIMAX(7,1,5) is: 682.8109154854403\n",
      "Attempting to fit SARIMAX(7,1,6)\n"
     ]
    },
    {
     "name": "stderr",
     "output_type": "stream",
     "text": [
      "C:\\Users\\matth\\anaconda3\\lib\\site-packages\\statsmodels\\base\\model.py:568: ConvergenceWarning: Maximum Likelihood optimization failed to converge. Check mle_retvals\n",
      "  \"Check mle_retvals\", ConvergenceWarning)\n",
      "C:\\Users\\matth\\anaconda3\\lib\\site-packages\\statsmodels\\tsa\\base\\tsa_model.py:162: ValueWarning: No frequency information was provided, so inferred frequency Q-DEC will be used.\n",
      "  % freq, ValueWarning)\n",
      "C:\\Users\\matth\\anaconda3\\lib\\site-packages\\statsmodels\\tsa\\base\\tsa_model.py:162: ValueWarning: No frequency information was provided, so inferred frequency Q-DEC will be used.\n",
      "  % freq, ValueWarning)\n"
     ]
    },
    {
     "name": "stdout",
     "output_type": "stream",
     "text": [
      "The AIC for SARIMAX(7,1,6) is: 684.1239661156005\n",
      "Attempting to fit SARIMAX(7,1,7)\n"
     ]
    },
    {
     "name": "stderr",
     "output_type": "stream",
     "text": [
      "C:\\Users\\matth\\anaconda3\\lib\\site-packages\\statsmodels\\base\\model.py:568: ConvergenceWarning: Maximum Likelihood optimization failed to converge. Check mle_retvals\n",
      "  \"Check mle_retvals\", ConvergenceWarning)\n",
      "C:\\Users\\matth\\anaconda3\\lib\\site-packages\\statsmodels\\tsa\\base\\tsa_model.py:162: ValueWarning: No frequency information was provided, so inferred frequency Q-DEC will be used.\n",
      "  % freq, ValueWarning)\n",
      "C:\\Users\\matth\\anaconda3\\lib\\site-packages\\statsmodels\\tsa\\base\\tsa_model.py:162: ValueWarning: No frequency information was provided, so inferred frequency Q-DEC will be used.\n",
      "  % freq, ValueWarning)\n"
     ]
    },
    {
     "name": "stdout",
     "output_type": "stream",
     "text": [
      "The AIC for SARIMAX(7,1,7) is: 669.9438743505236\n",
      "Attempting to fit SARIMAX(7,1,8)\n"
     ]
    },
    {
     "name": "stderr",
     "output_type": "stream",
     "text": [
      "C:\\Users\\matth\\anaconda3\\lib\\site-packages\\statsmodels\\base\\model.py:568: ConvergenceWarning: Maximum Likelihood optimization failed to converge. Check mle_retvals\n",
      "  \"Check mle_retvals\", ConvergenceWarning)\n",
      "C:\\Users\\matth\\anaconda3\\lib\\site-packages\\statsmodels\\tsa\\base\\tsa_model.py:162: ValueWarning: No frequency information was provided, so inferred frequency Q-DEC will be used.\n",
      "  % freq, ValueWarning)\n",
      "C:\\Users\\matth\\anaconda3\\lib\\site-packages\\statsmodels\\tsa\\base\\tsa_model.py:162: ValueWarning: No frequency information was provided, so inferred frequency Q-DEC will be used.\n",
      "  % freq, ValueWarning)\n"
     ]
    },
    {
     "name": "stdout",
     "output_type": "stream",
     "text": [
      "The AIC for SARIMAX(7,1,8) is: 677.6760098157848\n",
      "Attempting to fit SARIMAX(7,1,9)\n"
     ]
    },
    {
     "name": "stderr",
     "output_type": "stream",
     "text": [
      "C:\\Users\\matth\\anaconda3\\lib\\site-packages\\statsmodels\\base\\model.py:568: ConvergenceWarning: Maximum Likelihood optimization failed to converge. Check mle_retvals\n",
      "  \"Check mle_retvals\", ConvergenceWarning)\n",
      "C:\\Users\\matth\\anaconda3\\lib\\site-packages\\statsmodels\\tsa\\base\\tsa_model.py:162: ValueWarning: No frequency information was provided, so inferred frequency Q-DEC will be used.\n",
      "  % freq, ValueWarning)\n",
      "C:\\Users\\matth\\anaconda3\\lib\\site-packages\\statsmodels\\tsa\\base\\tsa_model.py:162: ValueWarning: No frequency information was provided, so inferred frequency Q-DEC will be used.\n",
      "  % freq, ValueWarning)\n"
     ]
    },
    {
     "name": "stdout",
     "output_type": "stream",
     "text": [
      "The AIC for SARIMAX(7,1,9) is: 669.5419966296815\n",
      "Attempting to fit SARIMAX(7,1,10)\n"
     ]
    },
    {
     "name": "stderr",
     "output_type": "stream",
     "text": [
      "C:\\Users\\matth\\anaconda3\\lib\\site-packages\\statsmodels\\base\\model.py:568: ConvergenceWarning: Maximum Likelihood optimization failed to converge. Check mle_retvals\n",
      "  \"Check mle_retvals\", ConvergenceWarning)\n",
      "C:\\Users\\matth\\anaconda3\\lib\\site-packages\\statsmodels\\tsa\\base\\tsa_model.py:162: ValueWarning: No frequency information was provided, so inferred frequency Q-DEC will be used.\n",
      "  % freq, ValueWarning)\n",
      "C:\\Users\\matth\\anaconda3\\lib\\site-packages\\statsmodels\\tsa\\base\\tsa_model.py:162: ValueWarning: No frequency information was provided, so inferred frequency Q-DEC will be used.\n",
      "  % freq, ValueWarning)\n"
     ]
    },
    {
     "name": "stdout",
     "output_type": "stream",
     "text": [
      "The AIC for SARIMAX(7,1,10) is: 679.3714426740213\n",
      "Attempting to fit SARIMAX(7,1,11)\n"
     ]
    },
    {
     "name": "stderr",
     "output_type": "stream",
     "text": [
      "C:\\Users\\matth\\anaconda3\\lib\\site-packages\\statsmodels\\base\\model.py:568: ConvergenceWarning: Maximum Likelihood optimization failed to converge. Check mle_retvals\n",
      "  \"Check mle_retvals\", ConvergenceWarning)\n",
      "C:\\Users\\matth\\anaconda3\\lib\\site-packages\\statsmodels\\tsa\\base\\tsa_model.py:162: ValueWarning: No frequency information was provided, so inferred frequency Q-DEC will be used.\n",
      "  % freq, ValueWarning)\n",
      "C:\\Users\\matth\\anaconda3\\lib\\site-packages\\statsmodels\\tsa\\base\\tsa_model.py:162: ValueWarning: No frequency information was provided, so inferred frequency Q-DEC will be used.\n",
      "  % freq, ValueWarning)\n"
     ]
    },
    {
     "name": "stdout",
     "output_type": "stream",
     "text": [
      "The AIC for SARIMAX(7,1,11) is: 680.4031138596848\n",
      "Attempting to fit SARIMAX(8,1,0)\n"
     ]
    },
    {
     "name": "stderr",
     "output_type": "stream",
     "text": [
      "C:\\Users\\matth\\anaconda3\\lib\\site-packages\\statsmodels\\base\\model.py:568: ConvergenceWarning: Maximum Likelihood optimization failed to converge. Check mle_retvals\n",
      "  \"Check mle_retvals\", ConvergenceWarning)\n",
      "C:\\Users\\matth\\anaconda3\\lib\\site-packages\\statsmodels\\tsa\\base\\tsa_model.py:162: ValueWarning: No frequency information was provided, so inferred frequency Q-DEC will be used.\n",
      "  % freq, ValueWarning)\n",
      "C:\\Users\\matth\\anaconda3\\lib\\site-packages\\statsmodels\\tsa\\base\\tsa_model.py:162: ValueWarning: No frequency information was provided, so inferred frequency Q-DEC will be used.\n",
      "  % freq, ValueWarning)\n"
     ]
    },
    {
     "name": "stdout",
     "output_type": "stream",
     "text": [
      "The AIC for SARIMAX(8,1,0) is: 677.349669763567\n",
      "Attempting to fit SARIMAX(8,1,1)\n"
     ]
    },
    {
     "name": "stderr",
     "output_type": "stream",
     "text": [
      "C:\\Users\\matth\\anaconda3\\lib\\site-packages\\statsmodels\\base\\model.py:568: ConvergenceWarning: Maximum Likelihood optimization failed to converge. Check mle_retvals\n",
      "  \"Check mle_retvals\", ConvergenceWarning)\n",
      "C:\\Users\\matth\\anaconda3\\lib\\site-packages\\statsmodels\\tsa\\base\\tsa_model.py:162: ValueWarning: No frequency information was provided, so inferred frequency Q-DEC will be used.\n",
      "  % freq, ValueWarning)\n",
      "C:\\Users\\matth\\anaconda3\\lib\\site-packages\\statsmodels\\tsa\\base\\tsa_model.py:162: ValueWarning: No frequency information was provided, so inferred frequency Q-DEC will be used.\n",
      "  % freq, ValueWarning)\n"
     ]
    },
    {
     "name": "stdout",
     "output_type": "stream",
     "text": [
      "The AIC for SARIMAX(8,1,1) is: 679.4690717862591\n",
      "Attempting to fit SARIMAX(8,1,2)\n"
     ]
    },
    {
     "name": "stderr",
     "output_type": "stream",
     "text": [
      "C:\\Users\\matth\\anaconda3\\lib\\site-packages\\statsmodels\\base\\model.py:568: ConvergenceWarning: Maximum Likelihood optimization failed to converge. Check mle_retvals\n",
      "  \"Check mle_retvals\", ConvergenceWarning)\n",
      "C:\\Users\\matth\\anaconda3\\lib\\site-packages\\statsmodels\\tsa\\base\\tsa_model.py:162: ValueWarning: No frequency information was provided, so inferred frequency Q-DEC will be used.\n",
      "  % freq, ValueWarning)\n",
      "C:\\Users\\matth\\anaconda3\\lib\\site-packages\\statsmodels\\tsa\\base\\tsa_model.py:162: ValueWarning: No frequency information was provided, so inferred frequency Q-DEC will be used.\n",
      "  % freq, ValueWarning)\n"
     ]
    },
    {
     "name": "stdout",
     "output_type": "stream",
     "text": [
      "The AIC for SARIMAX(8,1,2) is: 679.291359725069\n",
      "Attempting to fit SARIMAX(8,1,3)\n"
     ]
    },
    {
     "name": "stderr",
     "output_type": "stream",
     "text": [
      "C:\\Users\\matth\\anaconda3\\lib\\site-packages\\statsmodels\\base\\model.py:568: ConvergenceWarning: Maximum Likelihood optimization failed to converge. Check mle_retvals\n",
      "  \"Check mle_retvals\", ConvergenceWarning)\n",
      "C:\\Users\\matth\\anaconda3\\lib\\site-packages\\statsmodels\\tsa\\base\\tsa_model.py:162: ValueWarning: No frequency information was provided, so inferred frequency Q-DEC will be used.\n",
      "  % freq, ValueWarning)\n",
      "C:\\Users\\matth\\anaconda3\\lib\\site-packages\\statsmodels\\tsa\\base\\tsa_model.py:162: ValueWarning: No frequency information was provided, so inferred frequency Q-DEC will be used.\n",
      "  % freq, ValueWarning)\n"
     ]
    },
    {
     "name": "stdout",
     "output_type": "stream",
     "text": [
      "The AIC for SARIMAX(8,1,3) is: 682.9892311001056\n",
      "Attempting to fit SARIMAX(8,1,4)\n"
     ]
    },
    {
     "name": "stderr",
     "output_type": "stream",
     "text": [
      "C:\\Users\\matth\\anaconda3\\lib\\site-packages\\statsmodels\\base\\model.py:568: ConvergenceWarning: Maximum Likelihood optimization failed to converge. Check mle_retvals\n",
      "  \"Check mle_retvals\", ConvergenceWarning)\n",
      "C:\\Users\\matth\\anaconda3\\lib\\site-packages\\statsmodels\\tsa\\base\\tsa_model.py:162: ValueWarning: No frequency information was provided, so inferred frequency Q-DEC will be used.\n",
      "  % freq, ValueWarning)\n",
      "C:\\Users\\matth\\anaconda3\\lib\\site-packages\\statsmodels\\tsa\\base\\tsa_model.py:162: ValueWarning: No frequency information was provided, so inferred frequency Q-DEC will be used.\n",
      "  % freq, ValueWarning)\n"
     ]
    },
    {
     "name": "stdout",
     "output_type": "stream",
     "text": [
      "The AIC for SARIMAX(8,1,4) is: 684.3970872281866\n",
      "Attempting to fit SARIMAX(8,1,5)\n"
     ]
    },
    {
     "name": "stderr",
     "output_type": "stream",
     "text": [
      "C:\\Users\\matth\\anaconda3\\lib\\site-packages\\statsmodels\\base\\model.py:568: ConvergenceWarning: Maximum Likelihood optimization failed to converge. Check mle_retvals\n",
      "  \"Check mle_retvals\", ConvergenceWarning)\n",
      "C:\\Users\\matth\\anaconda3\\lib\\site-packages\\statsmodels\\tsa\\base\\tsa_model.py:162: ValueWarning: No frequency information was provided, so inferred frequency Q-DEC will be used.\n",
      "  % freq, ValueWarning)\n",
      "C:\\Users\\matth\\anaconda3\\lib\\site-packages\\statsmodels\\tsa\\base\\tsa_model.py:162: ValueWarning: No frequency information was provided, so inferred frequency Q-DEC will be used.\n",
      "  % freq, ValueWarning)\n"
     ]
    },
    {
     "name": "stdout",
     "output_type": "stream",
     "text": [
      "The AIC for SARIMAX(8,1,5) is: 685.1021395164553\n",
      "Attempting to fit SARIMAX(8,1,6)\n"
     ]
    },
    {
     "name": "stderr",
     "output_type": "stream",
     "text": [
      "C:\\Users\\matth\\anaconda3\\lib\\site-packages\\statsmodels\\base\\model.py:568: ConvergenceWarning: Maximum Likelihood optimization failed to converge. Check mle_retvals\n",
      "  \"Check mle_retvals\", ConvergenceWarning)\n",
      "C:\\Users\\matth\\anaconda3\\lib\\site-packages\\statsmodels\\tsa\\base\\tsa_model.py:162: ValueWarning: No frequency information was provided, so inferred frequency Q-DEC will be used.\n",
      "  % freq, ValueWarning)\n",
      "C:\\Users\\matth\\anaconda3\\lib\\site-packages\\statsmodels\\tsa\\base\\tsa_model.py:162: ValueWarning: No frequency information was provided, so inferred frequency Q-DEC will be used.\n",
      "  % freq, ValueWarning)\n"
     ]
    },
    {
     "name": "stdout",
     "output_type": "stream",
     "text": [
      "The AIC for SARIMAX(8,1,6) is: 683.4774325166693\n",
      "Attempting to fit SARIMAX(8,1,7)\n"
     ]
    },
    {
     "name": "stderr",
     "output_type": "stream",
     "text": [
      "C:\\Users\\matth\\anaconda3\\lib\\site-packages\\statsmodels\\base\\model.py:568: ConvergenceWarning: Maximum Likelihood optimization failed to converge. Check mle_retvals\n",
      "  \"Check mle_retvals\", ConvergenceWarning)\n",
      "C:\\Users\\matth\\anaconda3\\lib\\site-packages\\statsmodels\\tsa\\base\\tsa_model.py:162: ValueWarning: No frequency information was provided, so inferred frequency Q-DEC will be used.\n",
      "  % freq, ValueWarning)\n",
      "C:\\Users\\matth\\anaconda3\\lib\\site-packages\\statsmodels\\tsa\\base\\tsa_model.py:162: ValueWarning: No frequency information was provided, so inferred frequency Q-DEC will be used.\n",
      "  % freq, ValueWarning)\n"
     ]
    },
    {
     "name": "stdout",
     "output_type": "stream",
     "text": [
      "The AIC for SARIMAX(8,1,7) is: 683.0667247318336\n",
      "Attempting to fit SARIMAX(8,1,8)\n"
     ]
    },
    {
     "name": "stderr",
     "output_type": "stream",
     "text": [
      "C:\\Users\\matth\\anaconda3\\lib\\site-packages\\statsmodels\\base\\model.py:568: ConvergenceWarning: Maximum Likelihood optimization failed to converge. Check mle_retvals\n",
      "  \"Check mle_retvals\", ConvergenceWarning)\n",
      "C:\\Users\\matth\\anaconda3\\lib\\site-packages\\statsmodels\\tsa\\base\\tsa_model.py:162: ValueWarning: No frequency information was provided, so inferred frequency Q-DEC will be used.\n",
      "  % freq, ValueWarning)\n",
      "C:\\Users\\matth\\anaconda3\\lib\\site-packages\\statsmodels\\tsa\\base\\tsa_model.py:162: ValueWarning: No frequency information was provided, so inferred frequency Q-DEC will be used.\n",
      "  % freq, ValueWarning)\n"
     ]
    },
    {
     "name": "stdout",
     "output_type": "stream",
     "text": [
      "The AIC for SARIMAX(8,1,8) is: 727.1432766495512\n",
      "Attempting to fit SARIMAX(8,1,9)\n"
     ]
    },
    {
     "name": "stderr",
     "output_type": "stream",
     "text": [
      "C:\\Users\\matth\\anaconda3\\lib\\site-packages\\statsmodels\\base\\model.py:568: ConvergenceWarning: Maximum Likelihood optimization failed to converge. Check mle_retvals\n",
      "  \"Check mle_retvals\", ConvergenceWarning)\n",
      "C:\\Users\\matth\\anaconda3\\lib\\site-packages\\statsmodels\\tsa\\base\\tsa_model.py:162: ValueWarning: No frequency information was provided, so inferred frequency Q-DEC will be used.\n",
      "  % freq, ValueWarning)\n",
      "C:\\Users\\matth\\anaconda3\\lib\\site-packages\\statsmodels\\tsa\\base\\tsa_model.py:162: ValueWarning: No frequency information was provided, so inferred frequency Q-DEC will be used.\n",
      "  % freq, ValueWarning)\n"
     ]
    },
    {
     "name": "stdout",
     "output_type": "stream",
     "text": [
      "The AIC for SARIMAX(8,1,9) is: 672.5353375995309\n",
      "Attempting to fit SARIMAX(8,1,10)\n"
     ]
    },
    {
     "name": "stderr",
     "output_type": "stream",
     "text": [
      "C:\\Users\\matth\\anaconda3\\lib\\site-packages\\statsmodels\\base\\model.py:568: ConvergenceWarning: Maximum Likelihood optimization failed to converge. Check mle_retvals\n",
      "  \"Check mle_retvals\", ConvergenceWarning)\n",
      "C:\\Users\\matth\\anaconda3\\lib\\site-packages\\statsmodels\\tsa\\base\\tsa_model.py:162: ValueWarning: No frequency information was provided, so inferred frequency Q-DEC will be used.\n",
      "  % freq, ValueWarning)\n",
      "C:\\Users\\matth\\anaconda3\\lib\\site-packages\\statsmodels\\tsa\\base\\tsa_model.py:162: ValueWarning: No frequency information was provided, so inferred frequency Q-DEC will be used.\n",
      "  % freq, ValueWarning)\n"
     ]
    },
    {
     "name": "stdout",
     "output_type": "stream",
     "text": [
      "The AIC for SARIMAX(8,1,10) is: 686.7708285303383\n",
      "Attempting to fit SARIMAX(8,1,11)\n"
     ]
    },
    {
     "name": "stderr",
     "output_type": "stream",
     "text": [
      "C:\\Users\\matth\\anaconda3\\lib\\site-packages\\statsmodels\\base\\model.py:568: ConvergenceWarning: Maximum Likelihood optimization failed to converge. Check mle_retvals\n",
      "  \"Check mle_retvals\", ConvergenceWarning)\n",
      "C:\\Users\\matth\\anaconda3\\lib\\site-packages\\statsmodels\\tsa\\base\\tsa_model.py:162: ValueWarning: No frequency information was provided, so inferred frequency Q-DEC will be used.\n",
      "  % freq, ValueWarning)\n",
      "C:\\Users\\matth\\anaconda3\\lib\\site-packages\\statsmodels\\tsa\\base\\tsa_model.py:162: ValueWarning: No frequency information was provided, so inferred frequency Q-DEC will be used.\n",
      "  % freq, ValueWarning)\n"
     ]
    },
    {
     "name": "stdout",
     "output_type": "stream",
     "text": [
      "The AIC for SARIMAX(8,1,11) is: 680.0888872434214\n",
      "Attempting to fit SARIMAX(9,1,0)\n"
     ]
    },
    {
     "name": "stderr",
     "output_type": "stream",
     "text": [
      "C:\\Users\\matth\\anaconda3\\lib\\site-packages\\statsmodels\\base\\model.py:568: ConvergenceWarning: Maximum Likelihood optimization failed to converge. Check mle_retvals\n",
      "  \"Check mle_retvals\", ConvergenceWarning)\n",
      "C:\\Users\\matth\\anaconda3\\lib\\site-packages\\statsmodels\\tsa\\base\\tsa_model.py:162: ValueWarning: No frequency information was provided, so inferred frequency Q-DEC will be used.\n",
      "  % freq, ValueWarning)\n",
      "C:\\Users\\matth\\anaconda3\\lib\\site-packages\\statsmodels\\tsa\\base\\tsa_model.py:162: ValueWarning: No frequency information was provided, so inferred frequency Q-DEC will be used.\n",
      "  % freq, ValueWarning)\n"
     ]
    },
    {
     "name": "stdout",
     "output_type": "stream",
     "text": [
      "The AIC for SARIMAX(9,1,0) is: 678.1935935641102\n",
      "Attempting to fit SARIMAX(9,1,1)\n"
     ]
    },
    {
     "name": "stderr",
     "output_type": "stream",
     "text": [
      "C:\\Users\\matth\\anaconda3\\lib\\site-packages\\statsmodels\\base\\model.py:568: ConvergenceWarning: Maximum Likelihood optimization failed to converge. Check mle_retvals\n",
      "  \"Check mle_retvals\", ConvergenceWarning)\n",
      "C:\\Users\\matth\\anaconda3\\lib\\site-packages\\statsmodels\\tsa\\base\\tsa_model.py:162: ValueWarning: No frequency information was provided, so inferred frequency Q-DEC will be used.\n",
      "  % freq, ValueWarning)\n",
      "C:\\Users\\matth\\anaconda3\\lib\\site-packages\\statsmodels\\tsa\\base\\tsa_model.py:162: ValueWarning: No frequency information was provided, so inferred frequency Q-DEC will be used.\n",
      "  % freq, ValueWarning)\n"
     ]
    },
    {
     "name": "stdout",
     "output_type": "stream",
     "text": [
      "The AIC for SARIMAX(9,1,1) is: 681.3487856753322\n",
      "Attempting to fit SARIMAX(9,1,2)\n"
     ]
    },
    {
     "name": "stderr",
     "output_type": "stream",
     "text": [
      "C:\\Users\\matth\\anaconda3\\lib\\site-packages\\statsmodels\\base\\model.py:568: ConvergenceWarning: Maximum Likelihood optimization failed to converge. Check mle_retvals\n",
      "  \"Check mle_retvals\", ConvergenceWarning)\n",
      "C:\\Users\\matth\\anaconda3\\lib\\site-packages\\statsmodels\\tsa\\base\\tsa_model.py:162: ValueWarning: No frequency information was provided, so inferred frequency Q-DEC will be used.\n",
      "  % freq, ValueWarning)\n",
      "C:\\Users\\matth\\anaconda3\\lib\\site-packages\\statsmodels\\tsa\\base\\tsa_model.py:162: ValueWarning: No frequency information was provided, so inferred frequency Q-DEC will be used.\n",
      "  % freq, ValueWarning)\n"
     ]
    },
    {
     "name": "stdout",
     "output_type": "stream",
     "text": [
      "The AIC for SARIMAX(9,1,2) is: 681.1679764223733\n",
      "Attempting to fit SARIMAX(9,1,3)\n"
     ]
    },
    {
     "name": "stderr",
     "output_type": "stream",
     "text": [
      "C:\\Users\\matth\\anaconda3\\lib\\site-packages\\statsmodels\\base\\model.py:568: ConvergenceWarning: Maximum Likelihood optimization failed to converge. Check mle_retvals\n",
      "  \"Check mle_retvals\", ConvergenceWarning)\n",
      "C:\\Users\\matth\\anaconda3\\lib\\site-packages\\statsmodels\\tsa\\base\\tsa_model.py:162: ValueWarning: No frequency information was provided, so inferred frequency Q-DEC will be used.\n",
      "  % freq, ValueWarning)\n",
      "C:\\Users\\matth\\anaconda3\\lib\\site-packages\\statsmodels\\tsa\\base\\tsa_model.py:162: ValueWarning: No frequency information was provided, so inferred frequency Q-DEC will be used.\n",
      "  % freq, ValueWarning)\n"
     ]
    },
    {
     "name": "stdout",
     "output_type": "stream",
     "text": [
      "The AIC for SARIMAX(9,1,3) is: 683.6033647312281\n",
      "Attempting to fit SARIMAX(9,1,4)\n"
     ]
    },
    {
     "name": "stderr",
     "output_type": "stream",
     "text": [
      "C:\\Users\\matth\\anaconda3\\lib\\site-packages\\statsmodels\\base\\model.py:568: ConvergenceWarning: Maximum Likelihood optimization failed to converge. Check mle_retvals\n",
      "  \"Check mle_retvals\", ConvergenceWarning)\n",
      "C:\\Users\\matth\\anaconda3\\lib\\site-packages\\statsmodels\\tsa\\base\\tsa_model.py:162: ValueWarning: No frequency information was provided, so inferred frequency Q-DEC will be used.\n",
      "  % freq, ValueWarning)\n",
      "C:\\Users\\matth\\anaconda3\\lib\\site-packages\\statsmodels\\tsa\\base\\tsa_model.py:162: ValueWarning: No frequency information was provided, so inferred frequency Q-DEC will be used.\n",
      "  % freq, ValueWarning)\n"
     ]
    },
    {
     "name": "stdout",
     "output_type": "stream",
     "text": [
      "The AIC for SARIMAX(9,1,4) is: 687.5687328950441\n",
      "Attempting to fit SARIMAX(9,1,5)\n"
     ]
    },
    {
     "name": "stderr",
     "output_type": "stream",
     "text": [
      "C:\\Users\\matth\\anaconda3\\lib\\site-packages\\statsmodels\\base\\model.py:568: ConvergenceWarning: Maximum Likelihood optimization failed to converge. Check mle_retvals\n",
      "  \"Check mle_retvals\", ConvergenceWarning)\n",
      "C:\\Users\\matth\\anaconda3\\lib\\site-packages\\statsmodels\\tsa\\base\\tsa_model.py:162: ValueWarning: No frequency information was provided, so inferred frequency Q-DEC will be used.\n",
      "  % freq, ValueWarning)\n",
      "C:\\Users\\matth\\anaconda3\\lib\\site-packages\\statsmodels\\tsa\\base\\tsa_model.py:162: ValueWarning: No frequency information was provided, so inferred frequency Q-DEC will be used.\n",
      "  % freq, ValueWarning)\n"
     ]
    },
    {
     "name": "stdout",
     "output_type": "stream",
     "text": [
      "The AIC for SARIMAX(9,1,5) is: 686.1833836426431\n",
      "Attempting to fit SARIMAX(9,1,6)\n"
     ]
    },
    {
     "name": "stderr",
     "output_type": "stream",
     "text": [
      "C:\\Users\\matth\\anaconda3\\lib\\site-packages\\statsmodels\\base\\model.py:568: ConvergenceWarning: Maximum Likelihood optimization failed to converge. Check mle_retvals\n",
      "  \"Check mle_retvals\", ConvergenceWarning)\n",
      "C:\\Users\\matth\\anaconda3\\lib\\site-packages\\statsmodels\\tsa\\base\\tsa_model.py:162: ValueWarning: No frequency information was provided, so inferred frequency Q-DEC will be used.\n",
      "  % freq, ValueWarning)\n",
      "C:\\Users\\matth\\anaconda3\\lib\\site-packages\\statsmodels\\tsa\\base\\tsa_model.py:162: ValueWarning: No frequency information was provided, so inferred frequency Q-DEC will be used.\n",
      "  % freq, ValueWarning)\n"
     ]
    },
    {
     "name": "stdout",
     "output_type": "stream",
     "text": [
      "The AIC for SARIMAX(9,1,6) is: 685.4894866189406\n",
      "Attempting to fit SARIMAX(9,1,7)\n"
     ]
    },
    {
     "name": "stderr",
     "output_type": "stream",
     "text": [
      "C:\\Users\\matth\\anaconda3\\lib\\site-packages\\statsmodels\\base\\model.py:568: ConvergenceWarning: Maximum Likelihood optimization failed to converge. Check mle_retvals\n",
      "  \"Check mle_retvals\", ConvergenceWarning)\n",
      "C:\\Users\\matth\\anaconda3\\lib\\site-packages\\statsmodels\\tsa\\base\\tsa_model.py:162: ValueWarning: No frequency information was provided, so inferred frequency Q-DEC will be used.\n",
      "  % freq, ValueWarning)\n",
      "C:\\Users\\matth\\anaconda3\\lib\\site-packages\\statsmodels\\tsa\\base\\tsa_model.py:162: ValueWarning: No frequency information was provided, so inferred frequency Q-DEC will be used.\n",
      "  % freq, ValueWarning)\n"
     ]
    },
    {
     "name": "stdout",
     "output_type": "stream",
     "text": [
      "The AIC for SARIMAX(9,1,7) is: 684.6390607929575\n",
      "Attempting to fit SARIMAX(9,1,8)\n"
     ]
    },
    {
     "name": "stderr",
     "output_type": "stream",
     "text": [
      "C:\\Users\\matth\\anaconda3\\lib\\site-packages\\statsmodels\\base\\model.py:568: ConvergenceWarning: Maximum Likelihood optimization failed to converge. Check mle_retvals\n",
      "  \"Check mle_retvals\", ConvergenceWarning)\n",
      "C:\\Users\\matth\\anaconda3\\lib\\site-packages\\statsmodels\\tsa\\base\\tsa_model.py:162: ValueWarning: No frequency information was provided, so inferred frequency Q-DEC will be used.\n",
      "  % freq, ValueWarning)\n",
      "C:\\Users\\matth\\anaconda3\\lib\\site-packages\\statsmodels\\tsa\\base\\tsa_model.py:162: ValueWarning: No frequency information was provided, so inferred frequency Q-DEC will be used.\n",
      "  % freq, ValueWarning)\n"
     ]
    },
    {
     "name": "stdout",
     "output_type": "stream",
     "text": [
      "The AIC for SARIMAX(9,1,8) is: 699.9615698235519\n",
      "Attempting to fit SARIMAX(9,1,9)\n"
     ]
    },
    {
     "name": "stderr",
     "output_type": "stream",
     "text": [
      "C:\\Users\\matth\\anaconda3\\lib\\site-packages\\statsmodels\\base\\model.py:568: ConvergenceWarning: Maximum Likelihood optimization failed to converge. Check mle_retvals\n",
      "  \"Check mle_retvals\", ConvergenceWarning)\n",
      "C:\\Users\\matth\\anaconda3\\lib\\site-packages\\statsmodels\\tsa\\base\\tsa_model.py:162: ValueWarning: No frequency information was provided, so inferred frequency Q-DEC will be used.\n",
      "  % freq, ValueWarning)\n",
      "C:\\Users\\matth\\anaconda3\\lib\\site-packages\\statsmodels\\tsa\\base\\tsa_model.py:162: ValueWarning: No frequency information was provided, so inferred frequency Q-DEC will be used.\n",
      "  % freq, ValueWarning)\n"
     ]
    },
    {
     "name": "stdout",
     "output_type": "stream",
     "text": [
      "The AIC for SARIMAX(9,1,9) is: 677.1233995416087\n",
      "Attempting to fit SARIMAX(9,1,10)\n"
     ]
    },
    {
     "name": "stderr",
     "output_type": "stream",
     "text": [
      "C:\\Users\\matth\\anaconda3\\lib\\site-packages\\statsmodels\\base\\model.py:568: ConvergenceWarning: Maximum Likelihood optimization failed to converge. Check mle_retvals\n",
      "  \"Check mle_retvals\", ConvergenceWarning)\n",
      "C:\\Users\\matth\\anaconda3\\lib\\site-packages\\statsmodels\\tsa\\base\\tsa_model.py:162: ValueWarning: No frequency information was provided, so inferred frequency Q-DEC will be used.\n",
      "  % freq, ValueWarning)\n",
      "C:\\Users\\matth\\anaconda3\\lib\\site-packages\\statsmodels\\tsa\\base\\tsa_model.py:162: ValueWarning: No frequency information was provided, so inferred frequency Q-DEC will be used.\n",
      "  % freq, ValueWarning)\n"
     ]
    },
    {
     "name": "stdout",
     "output_type": "stream",
     "text": [
      "The AIC for SARIMAX(9,1,10) is: 676.3996192907689\n",
      "Attempting to fit SARIMAX(9,1,11)\n"
     ]
    },
    {
     "name": "stderr",
     "output_type": "stream",
     "text": [
      "C:\\Users\\matth\\anaconda3\\lib\\site-packages\\statsmodels\\base\\model.py:568: ConvergenceWarning: Maximum Likelihood optimization failed to converge. Check mle_retvals\n",
      "  \"Check mle_retvals\", ConvergenceWarning)\n",
      "C:\\Users\\matth\\anaconda3\\lib\\site-packages\\statsmodels\\tsa\\base\\tsa_model.py:162: ValueWarning: No frequency information was provided, so inferred frequency Q-DEC will be used.\n",
      "  % freq, ValueWarning)\n",
      "C:\\Users\\matth\\anaconda3\\lib\\site-packages\\statsmodels\\tsa\\base\\tsa_model.py:162: ValueWarning: No frequency information was provided, so inferred frequency Q-DEC will be used.\n",
      "  % freq, ValueWarning)\n"
     ]
    },
    {
     "name": "stdout",
     "output_type": "stream",
     "text": [
      "The AIC for SARIMAX(9,1,11) is: 680.8574466403632\n",
      "Attempting to fit SARIMAX(10,1,0)\n"
     ]
    },
    {
     "name": "stderr",
     "output_type": "stream",
     "text": [
      "C:\\Users\\matth\\anaconda3\\lib\\site-packages\\statsmodels\\base\\model.py:568: ConvergenceWarning: Maximum Likelihood optimization failed to converge. Check mle_retvals\n",
      "  \"Check mle_retvals\", ConvergenceWarning)\n",
      "C:\\Users\\matth\\anaconda3\\lib\\site-packages\\statsmodels\\tsa\\base\\tsa_model.py:162: ValueWarning: No frequency information was provided, so inferred frequency Q-DEC will be used.\n",
      "  % freq, ValueWarning)\n",
      "C:\\Users\\matth\\anaconda3\\lib\\site-packages\\statsmodels\\tsa\\base\\tsa_model.py:162: ValueWarning: No frequency information was provided, so inferred frequency Q-DEC will be used.\n",
      "  % freq, ValueWarning)\n"
     ]
    },
    {
     "name": "stdout",
     "output_type": "stream",
     "text": [
      "The AIC for SARIMAX(10,1,0) is: 680.1827828193841\n",
      "Attempting to fit SARIMAX(10,1,1)\n"
     ]
    },
    {
     "name": "stderr",
     "output_type": "stream",
     "text": [
      "C:\\Users\\matth\\anaconda3\\lib\\site-packages\\statsmodels\\base\\model.py:568: ConvergenceWarning: Maximum Likelihood optimization failed to converge. Check mle_retvals\n",
      "  \"Check mle_retvals\", ConvergenceWarning)\n",
      "C:\\Users\\matth\\anaconda3\\lib\\site-packages\\statsmodels\\tsa\\base\\tsa_model.py:162: ValueWarning: No frequency information was provided, so inferred frequency Q-DEC will be used.\n",
      "  % freq, ValueWarning)\n",
      "C:\\Users\\matth\\anaconda3\\lib\\site-packages\\statsmodels\\tsa\\base\\tsa_model.py:162: ValueWarning: No frequency information was provided, so inferred frequency Q-DEC will be used.\n",
      "  % freq, ValueWarning)\n"
     ]
    },
    {
     "name": "stdout",
     "output_type": "stream",
     "text": [
      "The AIC for SARIMAX(10,1,1) is: 680.6298213630471\n",
      "Attempting to fit SARIMAX(10,1,2)\n"
     ]
    },
    {
     "name": "stderr",
     "output_type": "stream",
     "text": [
      "C:\\Users\\matth\\anaconda3\\lib\\site-packages\\statsmodels\\base\\model.py:568: ConvergenceWarning: Maximum Likelihood optimization failed to converge. Check mle_retvals\n",
      "  \"Check mle_retvals\", ConvergenceWarning)\n",
      "C:\\Users\\matth\\anaconda3\\lib\\site-packages\\statsmodels\\tsa\\base\\tsa_model.py:162: ValueWarning: No frequency information was provided, so inferred frequency Q-DEC will be used.\n",
      "  % freq, ValueWarning)\n",
      "C:\\Users\\matth\\anaconda3\\lib\\site-packages\\statsmodels\\tsa\\base\\tsa_model.py:162: ValueWarning: No frequency information was provided, so inferred frequency Q-DEC will be used.\n",
      "  % freq, ValueWarning)\n"
     ]
    },
    {
     "name": "stdout",
     "output_type": "stream",
     "text": [
      "The AIC for SARIMAX(10,1,2) is: 679.4399017670058\n",
      "Attempting to fit SARIMAX(10,1,3)\n"
     ]
    },
    {
     "name": "stderr",
     "output_type": "stream",
     "text": [
      "C:\\Users\\matth\\anaconda3\\lib\\site-packages\\statsmodels\\base\\model.py:568: ConvergenceWarning: Maximum Likelihood optimization failed to converge. Check mle_retvals\n",
      "  \"Check mle_retvals\", ConvergenceWarning)\n",
      "C:\\Users\\matth\\anaconda3\\lib\\site-packages\\statsmodels\\tsa\\base\\tsa_model.py:162: ValueWarning: No frequency information was provided, so inferred frequency Q-DEC will be used.\n",
      "  % freq, ValueWarning)\n",
      "C:\\Users\\matth\\anaconda3\\lib\\site-packages\\statsmodels\\tsa\\base\\tsa_model.py:162: ValueWarning: No frequency information was provided, so inferred frequency Q-DEC will be used.\n",
      "  % freq, ValueWarning)\n"
     ]
    },
    {
     "name": "stdout",
     "output_type": "stream",
     "text": [
      "The AIC for SARIMAX(10,1,3) is: 682.4241212168237\n",
      "Attempting to fit SARIMAX(10,1,4)\n"
     ]
    },
    {
     "name": "stderr",
     "output_type": "stream",
     "text": [
      "C:\\Users\\matth\\anaconda3\\lib\\site-packages\\statsmodels\\base\\model.py:568: ConvergenceWarning: Maximum Likelihood optimization failed to converge. Check mle_retvals\n",
      "  \"Check mle_retvals\", ConvergenceWarning)\n",
      "C:\\Users\\matth\\anaconda3\\lib\\site-packages\\statsmodels\\tsa\\base\\tsa_model.py:162: ValueWarning: No frequency information was provided, so inferred frequency Q-DEC will be used.\n",
      "  % freq, ValueWarning)\n",
      "C:\\Users\\matth\\anaconda3\\lib\\site-packages\\statsmodels\\tsa\\base\\tsa_model.py:162: ValueWarning: No frequency information was provided, so inferred frequency Q-DEC will be used.\n",
      "  % freq, ValueWarning)\n"
     ]
    },
    {
     "name": "stdout",
     "output_type": "stream",
     "text": [
      "The AIC for SARIMAX(10,1,4) is: 685.7475026092502\n",
      "Attempting to fit SARIMAX(10,1,5)\n"
     ]
    },
    {
     "name": "stderr",
     "output_type": "stream",
     "text": [
      "C:\\Users\\matth\\anaconda3\\lib\\site-packages\\statsmodels\\base\\model.py:568: ConvergenceWarning: Maximum Likelihood optimization failed to converge. Check mle_retvals\n",
      "  \"Check mle_retvals\", ConvergenceWarning)\n",
      "C:\\Users\\matth\\anaconda3\\lib\\site-packages\\statsmodels\\tsa\\base\\tsa_model.py:162: ValueWarning: No frequency information was provided, so inferred frequency Q-DEC will be used.\n",
      "  % freq, ValueWarning)\n",
      "C:\\Users\\matth\\anaconda3\\lib\\site-packages\\statsmodels\\tsa\\base\\tsa_model.py:162: ValueWarning: No frequency information was provided, so inferred frequency Q-DEC will be used.\n",
      "  % freq, ValueWarning)\n"
     ]
    },
    {
     "name": "stdout",
     "output_type": "stream",
     "text": [
      "The AIC for SARIMAX(10,1,5) is: 684.9051463902308\n",
      "Attempting to fit SARIMAX(10,1,6)\n"
     ]
    },
    {
     "name": "stderr",
     "output_type": "stream",
     "text": [
      "C:\\Users\\matth\\anaconda3\\lib\\site-packages\\statsmodels\\base\\model.py:568: ConvergenceWarning: Maximum Likelihood optimization failed to converge. Check mle_retvals\n",
      "  \"Check mle_retvals\", ConvergenceWarning)\n",
      "C:\\Users\\matth\\anaconda3\\lib\\site-packages\\statsmodels\\tsa\\base\\tsa_model.py:162: ValueWarning: No frequency information was provided, so inferred frequency Q-DEC will be used.\n",
      "  % freq, ValueWarning)\n",
      "C:\\Users\\matth\\anaconda3\\lib\\site-packages\\statsmodels\\tsa\\base\\tsa_model.py:162: ValueWarning: No frequency information was provided, so inferred frequency Q-DEC will be used.\n",
      "  % freq, ValueWarning)\n"
     ]
    },
    {
     "name": "stdout",
     "output_type": "stream",
     "text": [
      "The AIC for SARIMAX(10,1,6) is: 685.8270105805357\n",
      "Attempting to fit SARIMAX(10,1,7)\n"
     ]
    },
    {
     "name": "stderr",
     "output_type": "stream",
     "text": [
      "C:\\Users\\matth\\anaconda3\\lib\\site-packages\\statsmodels\\base\\model.py:568: ConvergenceWarning: Maximum Likelihood optimization failed to converge. Check mle_retvals\n",
      "  \"Check mle_retvals\", ConvergenceWarning)\n",
      "C:\\Users\\matth\\anaconda3\\lib\\site-packages\\statsmodels\\tsa\\base\\tsa_model.py:162: ValueWarning: No frequency information was provided, so inferred frequency Q-DEC will be used.\n",
      "  % freq, ValueWarning)\n",
      "C:\\Users\\matth\\anaconda3\\lib\\site-packages\\statsmodels\\tsa\\base\\tsa_model.py:162: ValueWarning: No frequency information was provided, so inferred frequency Q-DEC will be used.\n",
      "  % freq, ValueWarning)\n"
     ]
    },
    {
     "name": "stdout",
     "output_type": "stream",
     "text": [
      "The AIC for SARIMAX(10,1,7) is: 686.135411976441\n",
      "Attempting to fit SARIMAX(10,1,8)\n"
     ]
    },
    {
     "name": "stderr",
     "output_type": "stream",
     "text": [
      "C:\\Users\\matth\\anaconda3\\lib\\site-packages\\statsmodels\\base\\model.py:568: ConvergenceWarning: Maximum Likelihood optimization failed to converge. Check mle_retvals\n",
      "  \"Check mle_retvals\", ConvergenceWarning)\n",
      "C:\\Users\\matth\\anaconda3\\lib\\site-packages\\statsmodels\\tsa\\base\\tsa_model.py:162: ValueWarning: No frequency information was provided, so inferred frequency Q-DEC will be used.\n",
      "  % freq, ValueWarning)\n",
      "C:\\Users\\matth\\anaconda3\\lib\\site-packages\\statsmodels\\tsa\\base\\tsa_model.py:162: ValueWarning: No frequency information was provided, so inferred frequency Q-DEC will be used.\n",
      "  % freq, ValueWarning)\n"
     ]
    },
    {
     "name": "stdout",
     "output_type": "stream",
     "text": [
      "The AIC for SARIMAX(10,1,8) is: 683.3089921174397\n",
      "Attempting to fit SARIMAX(10,1,9)\n"
     ]
    },
    {
     "name": "stderr",
     "output_type": "stream",
     "text": [
      "C:\\Users\\matth\\anaconda3\\lib\\site-packages\\statsmodels\\base\\model.py:568: ConvergenceWarning: Maximum Likelihood optimization failed to converge. Check mle_retvals\n",
      "  \"Check mle_retvals\", ConvergenceWarning)\n",
      "C:\\Users\\matth\\anaconda3\\lib\\site-packages\\statsmodels\\tsa\\base\\tsa_model.py:162: ValueWarning: No frequency information was provided, so inferred frequency Q-DEC will be used.\n",
      "  % freq, ValueWarning)\n",
      "C:\\Users\\matth\\anaconda3\\lib\\site-packages\\statsmodels\\tsa\\base\\tsa_model.py:162: ValueWarning: No frequency information was provided, so inferred frequency Q-DEC will be used.\n",
      "  % freq, ValueWarning)\n"
     ]
    },
    {
     "name": "stdout",
     "output_type": "stream",
     "text": [
      "The AIC for SARIMAX(10,1,9) is: 679.4183819787604\n",
      "Attempting to fit SARIMAX(10,1,10)\n"
     ]
    },
    {
     "name": "stderr",
     "output_type": "stream",
     "text": [
      "C:\\Users\\matth\\anaconda3\\lib\\site-packages\\statsmodels\\base\\model.py:568: ConvergenceWarning: Maximum Likelihood optimization failed to converge. Check mle_retvals\n",
      "  \"Check mle_retvals\", ConvergenceWarning)\n",
      "C:\\Users\\matth\\anaconda3\\lib\\site-packages\\statsmodels\\tsa\\base\\tsa_model.py:162: ValueWarning: No frequency information was provided, so inferred frequency Q-DEC will be used.\n",
      "  % freq, ValueWarning)\n",
      "C:\\Users\\matth\\anaconda3\\lib\\site-packages\\statsmodels\\tsa\\base\\tsa_model.py:162: ValueWarning: No frequency information was provided, so inferred frequency Q-DEC will be used.\n",
      "  % freq, ValueWarning)\n"
     ]
    },
    {
     "name": "stdout",
     "output_type": "stream",
     "text": [
      "The AIC for SARIMAX(10,1,10) is: 679.0646503808077\n",
      "Attempting to fit SARIMAX(10,1,11)\n"
     ]
    },
    {
     "name": "stderr",
     "output_type": "stream",
     "text": [
      "C:\\Users\\matth\\anaconda3\\lib\\site-packages\\statsmodels\\base\\model.py:568: ConvergenceWarning: Maximum Likelihood optimization failed to converge. Check mle_retvals\n",
      "  \"Check mle_retvals\", ConvergenceWarning)\n",
      "C:\\Users\\matth\\anaconda3\\lib\\site-packages\\statsmodels\\tsa\\base\\tsa_model.py:162: ValueWarning: No frequency information was provided, so inferred frequency Q-DEC will be used.\n",
      "  % freq, ValueWarning)\n",
      "C:\\Users\\matth\\anaconda3\\lib\\site-packages\\statsmodels\\tsa\\base\\tsa_model.py:162: ValueWarning: No frequency information was provided, so inferred frequency Q-DEC will be used.\n",
      "  % freq, ValueWarning)\n"
     ]
    },
    {
     "name": "stdout",
     "output_type": "stream",
     "text": [
      "The AIC for SARIMAX(10,1,11) is: 686.5631288236973\n",
      "Attempting to fit SARIMAX(11,1,0)\n"
     ]
    },
    {
     "name": "stderr",
     "output_type": "stream",
     "text": [
      "C:\\Users\\matth\\anaconda3\\lib\\site-packages\\statsmodels\\base\\model.py:568: ConvergenceWarning: Maximum Likelihood optimization failed to converge. Check mle_retvals\n",
      "  \"Check mle_retvals\", ConvergenceWarning)\n",
      "C:\\Users\\matth\\anaconda3\\lib\\site-packages\\statsmodels\\tsa\\base\\tsa_model.py:162: ValueWarning: No frequency information was provided, so inferred frequency Q-DEC will be used.\n",
      "  % freq, ValueWarning)\n",
      "C:\\Users\\matth\\anaconda3\\lib\\site-packages\\statsmodels\\tsa\\base\\tsa_model.py:162: ValueWarning: No frequency information was provided, so inferred frequency Q-DEC will be used.\n",
      "  % freq, ValueWarning)\n"
     ]
    },
    {
     "name": "stdout",
     "output_type": "stream",
     "text": [
      "The AIC for SARIMAX(11,1,0) is: 681.4995540153355\n",
      "Attempting to fit SARIMAX(11,1,1)\n"
     ]
    },
    {
     "name": "stderr",
     "output_type": "stream",
     "text": [
      "C:\\Users\\matth\\anaconda3\\lib\\site-packages\\statsmodels\\base\\model.py:568: ConvergenceWarning: Maximum Likelihood optimization failed to converge. Check mle_retvals\n",
      "  \"Check mle_retvals\", ConvergenceWarning)\n",
      "C:\\Users\\matth\\anaconda3\\lib\\site-packages\\statsmodels\\tsa\\base\\tsa_model.py:162: ValueWarning: No frequency information was provided, so inferred frequency Q-DEC will be used.\n",
      "  % freq, ValueWarning)\n",
      "C:\\Users\\matth\\anaconda3\\lib\\site-packages\\statsmodels\\tsa\\base\\tsa_model.py:162: ValueWarning: No frequency information was provided, so inferred frequency Q-DEC will be used.\n",
      "  % freq, ValueWarning)\n"
     ]
    },
    {
     "name": "stdout",
     "output_type": "stream",
     "text": [
      "The AIC for SARIMAX(11,1,1) is: 678.2947409510517\n",
      "Attempting to fit SARIMAX(11,1,2)\n"
     ]
    },
    {
     "name": "stderr",
     "output_type": "stream",
     "text": [
      "C:\\Users\\matth\\anaconda3\\lib\\site-packages\\statsmodels\\base\\model.py:568: ConvergenceWarning: Maximum Likelihood optimization failed to converge. Check mle_retvals\n",
      "  \"Check mle_retvals\", ConvergenceWarning)\n",
      "C:\\Users\\matth\\anaconda3\\lib\\site-packages\\statsmodels\\tsa\\base\\tsa_model.py:162: ValueWarning: No frequency information was provided, so inferred frequency Q-DEC will be used.\n",
      "  % freq, ValueWarning)\n",
      "C:\\Users\\matth\\anaconda3\\lib\\site-packages\\statsmodels\\tsa\\base\\tsa_model.py:162: ValueWarning: No frequency information was provided, so inferred frequency Q-DEC will be used.\n",
      "  % freq, ValueWarning)\n"
     ]
    },
    {
     "name": "stdout",
     "output_type": "stream",
     "text": [
      "The AIC for SARIMAX(11,1,2) is: 676.0560892217791\n",
      "Attempting to fit SARIMAX(11,1,3)\n"
     ]
    },
    {
     "name": "stderr",
     "output_type": "stream",
     "text": [
      "C:\\Users\\matth\\anaconda3\\lib\\site-packages\\statsmodels\\base\\model.py:568: ConvergenceWarning: Maximum Likelihood optimization failed to converge. Check mle_retvals\n",
      "  \"Check mle_retvals\", ConvergenceWarning)\n",
      "C:\\Users\\matth\\anaconda3\\lib\\site-packages\\statsmodels\\tsa\\base\\tsa_model.py:162: ValueWarning: No frequency information was provided, so inferred frequency Q-DEC will be used.\n",
      "  % freq, ValueWarning)\n",
      "C:\\Users\\matth\\anaconda3\\lib\\site-packages\\statsmodels\\tsa\\base\\tsa_model.py:162: ValueWarning: No frequency information was provided, so inferred frequency Q-DEC will be used.\n",
      "  % freq, ValueWarning)\n"
     ]
    },
    {
     "name": "stdout",
     "output_type": "stream",
     "text": [
      "The AIC for SARIMAX(11,1,3) is: 678.9315472822275\n",
      "Attempting to fit SARIMAX(11,1,4)\n"
     ]
    },
    {
     "name": "stderr",
     "output_type": "stream",
     "text": [
      "C:\\Users\\matth\\anaconda3\\lib\\site-packages\\statsmodels\\base\\model.py:568: ConvergenceWarning: Maximum Likelihood optimization failed to converge. Check mle_retvals\n",
      "  \"Check mle_retvals\", ConvergenceWarning)\n",
      "C:\\Users\\matth\\anaconda3\\lib\\site-packages\\statsmodels\\tsa\\base\\tsa_model.py:162: ValueWarning: No frequency information was provided, so inferred frequency Q-DEC will be used.\n",
      "  % freq, ValueWarning)\n",
      "C:\\Users\\matth\\anaconda3\\lib\\site-packages\\statsmodels\\tsa\\base\\tsa_model.py:162: ValueWarning: No frequency information was provided, so inferred frequency Q-DEC will be used.\n",
      "  % freq, ValueWarning)\n"
     ]
    },
    {
     "name": "stdout",
     "output_type": "stream",
     "text": [
      "The AIC for SARIMAX(11,1,4) is: 682.076629958309\n",
      "Attempting to fit SARIMAX(11,1,5)\n"
     ]
    },
    {
     "name": "stderr",
     "output_type": "stream",
     "text": [
      "C:\\Users\\matth\\anaconda3\\lib\\site-packages\\statsmodels\\base\\model.py:568: ConvergenceWarning: Maximum Likelihood optimization failed to converge. Check mle_retvals\n",
      "  \"Check mle_retvals\", ConvergenceWarning)\n",
      "C:\\Users\\matth\\anaconda3\\lib\\site-packages\\statsmodels\\tsa\\base\\tsa_model.py:162: ValueWarning: No frequency information was provided, so inferred frequency Q-DEC will be used.\n",
      "  % freq, ValueWarning)\n",
      "C:\\Users\\matth\\anaconda3\\lib\\site-packages\\statsmodels\\tsa\\base\\tsa_model.py:162: ValueWarning: No frequency information was provided, so inferred frequency Q-DEC will be used.\n",
      "  % freq, ValueWarning)\n"
     ]
    },
    {
     "name": "stdout",
     "output_type": "stream",
     "text": [
      "The AIC for SARIMAX(11,1,5) is: 682.5630282699639\n",
      "Attempting to fit SARIMAX(11,1,6)\n"
     ]
    },
    {
     "name": "stderr",
     "output_type": "stream",
     "text": [
      "C:\\Users\\matth\\anaconda3\\lib\\site-packages\\statsmodels\\base\\model.py:568: ConvergenceWarning: Maximum Likelihood optimization failed to converge. Check mle_retvals\n",
      "  \"Check mle_retvals\", ConvergenceWarning)\n",
      "C:\\Users\\matth\\anaconda3\\lib\\site-packages\\statsmodels\\tsa\\base\\tsa_model.py:162: ValueWarning: No frequency information was provided, so inferred frequency Q-DEC will be used.\n",
      "  % freq, ValueWarning)\n",
      "C:\\Users\\matth\\anaconda3\\lib\\site-packages\\statsmodels\\tsa\\base\\tsa_model.py:162: ValueWarning: No frequency information was provided, so inferred frequency Q-DEC will be used.\n",
      "  % freq, ValueWarning)\n"
     ]
    },
    {
     "name": "stdout",
     "output_type": "stream",
     "text": [
      "The AIC for SARIMAX(11,1,6) is: 685.2525306716311\n",
      "Attempting to fit SARIMAX(11,1,7)\n"
     ]
    },
    {
     "name": "stderr",
     "output_type": "stream",
     "text": [
      "C:\\Users\\matth\\anaconda3\\lib\\site-packages\\statsmodels\\base\\model.py:568: ConvergenceWarning: Maximum Likelihood optimization failed to converge. Check mle_retvals\n",
      "  \"Check mle_retvals\", ConvergenceWarning)\n",
      "C:\\Users\\matth\\anaconda3\\lib\\site-packages\\statsmodels\\tsa\\base\\tsa_model.py:162: ValueWarning: No frequency information was provided, so inferred frequency Q-DEC will be used.\n",
      "  % freq, ValueWarning)\n",
      "C:\\Users\\matth\\anaconda3\\lib\\site-packages\\statsmodels\\tsa\\base\\tsa_model.py:162: ValueWarning: No frequency information was provided, so inferred frequency Q-DEC will be used.\n",
      "  % freq, ValueWarning)\n"
     ]
    },
    {
     "name": "stdout",
     "output_type": "stream",
     "text": [
      "The AIC for SARIMAX(11,1,7) is: 693.5276552045736\n",
      "Attempting to fit SARIMAX(11,1,8)\n"
     ]
    },
    {
     "name": "stderr",
     "output_type": "stream",
     "text": [
      "C:\\Users\\matth\\anaconda3\\lib\\site-packages\\statsmodels\\base\\model.py:568: ConvergenceWarning: Maximum Likelihood optimization failed to converge. Check mle_retvals\n",
      "  \"Check mle_retvals\", ConvergenceWarning)\n",
      "C:\\Users\\matth\\anaconda3\\lib\\site-packages\\statsmodels\\tsa\\base\\tsa_model.py:162: ValueWarning: No frequency information was provided, so inferred frequency Q-DEC will be used.\n",
      "  % freq, ValueWarning)\n",
      "C:\\Users\\matth\\anaconda3\\lib\\site-packages\\statsmodels\\tsa\\base\\tsa_model.py:162: ValueWarning: No frequency information was provided, so inferred frequency Q-DEC will be used.\n",
      "  % freq, ValueWarning)\n"
     ]
    },
    {
     "name": "stdout",
     "output_type": "stream",
     "text": [
      "The AIC for SARIMAX(11,1,8) is: 686.5615419081957\n",
      "Attempting to fit SARIMAX(11,1,9)\n"
     ]
    },
    {
     "name": "stderr",
     "output_type": "stream",
     "text": [
      "C:\\Users\\matth\\anaconda3\\lib\\site-packages\\statsmodels\\base\\model.py:568: ConvergenceWarning: Maximum Likelihood optimization failed to converge. Check mle_retvals\n",
      "  \"Check mle_retvals\", ConvergenceWarning)\n",
      "C:\\Users\\matth\\anaconda3\\lib\\site-packages\\statsmodels\\tsa\\base\\tsa_model.py:162: ValueWarning: No frequency information was provided, so inferred frequency Q-DEC will be used.\n",
      "  % freq, ValueWarning)\n",
      "C:\\Users\\matth\\anaconda3\\lib\\site-packages\\statsmodels\\tsa\\base\\tsa_model.py:162: ValueWarning: No frequency information was provided, so inferred frequency Q-DEC will be used.\n",
      "  % freq, ValueWarning)\n"
     ]
    },
    {
     "name": "stdout",
     "output_type": "stream",
     "text": [
      "The AIC for SARIMAX(11,1,9) is: 682.3686326109198\n",
      "Attempting to fit SARIMAX(11,1,10)\n"
     ]
    },
    {
     "name": "stderr",
     "output_type": "stream",
     "text": [
      "C:\\Users\\matth\\anaconda3\\lib\\site-packages\\statsmodels\\base\\model.py:568: ConvergenceWarning: Maximum Likelihood optimization failed to converge. Check mle_retvals\n",
      "  \"Check mle_retvals\", ConvergenceWarning)\n",
      "C:\\Users\\matth\\anaconda3\\lib\\site-packages\\statsmodels\\tsa\\base\\tsa_model.py:162: ValueWarning: No frequency information was provided, so inferred frequency Q-DEC will be used.\n",
      "  % freq, ValueWarning)\n",
      "C:\\Users\\matth\\anaconda3\\lib\\site-packages\\statsmodels\\tsa\\base\\tsa_model.py:162: ValueWarning: No frequency information was provided, so inferred frequency Q-DEC will be used.\n",
      "  % freq, ValueWarning)\n"
     ]
    },
    {
     "name": "stdout",
     "output_type": "stream",
     "text": [
      "The AIC for SARIMAX(11,1,10) is: 684.1046290563904\n",
      "Attempting to fit SARIMAX(11,1,11)\n",
      "The AIC for SARIMAX(11,1,11) is: 685.7762359386306\n",
      "\n",
      "\n",
      "MODEL FINISHED!\n",
      "Our model that minimizes AIC on the training data is the SARIMAX(0,1,8).\n",
      "This model has an AIC of 661.7663700116573.\n"
     ]
    },
    {
     "name": "stderr",
     "output_type": "stream",
     "text": [
      "C:\\Users\\matth\\anaconda3\\lib\\site-packages\\statsmodels\\base\\model.py:568: ConvergenceWarning: Maximum Likelihood optimization failed to converge. Check mle_retvals\n",
      "  \"Check mle_retvals\", ConvergenceWarning)\n"
     ]
    }
   ],
   "source": [
    "#Code taking from a GA ARIMA Lesson and modified for grid search SARIMAX model\n",
    "\n",
    "# Starting AIC, p, and q.\n",
    "best_aic = 99 * (10**16) # HUGE NUMBER\n",
    "best_p = 0\n",
    "best_q = 0\n",
    "# Use nested for loop to iterate over values of p and q.\n",
    "for p in range(12):\n",
    "    for q in range(12):\n",
    "        # Insert try and except statements.\n",
    "        try:\n",
    "            # Fitting an SARIMAX(p, 1, q) model.\n",
    "            print(f'Attempting to fit SARIMAX({p},1,{q})')\n",
    "            # Instantiate ARIMA model.\n",
    "            SAR = SARIMAX(y_train_2, X_train_2, order = (p, 1, q)) # values of p, d, q\n",
    "            # Fit SARIMAX model.\n",
    "            model = SAR.fit()\n",
    "            # Print out AIC for SARIMAX(p, 1, q) model.\n",
    "            print(f'The AIC for SARIMAX({p},1,{q}) is: {model.aic}')\n",
    "            # Is my current model's AIC better than our best_aic?\n",
    "            if model.aic < best_aic:\n",
    "                # If so, let's overwrite best_aic, best_p, and best_q.\n",
    "                best_aic = model.aic\n",
    "                best_p = p\n",
    "                best_q = q\n",
    "        except:\n",
    "            pass\n",
    "print()\n",
    "print()\n",
    "print('MODEL FINISHED!')\n",
    "print(f'Our model that minimizes AIC on the training data is the SARIMAX({best_p},1,{best_q}).')\n",
    "print(f'This model has an AIC of {best_aic}.')"
   ]
  },
  {
   "cell_type": "markdown",
   "metadata": {},
   "source": [
    "## SARIMAX (0,1,8) with stripped exdog varibles"
   ]
  },
  {
   "cell_type": "code",
   "execution_count": 13,
   "metadata": {},
   "outputs": [
    {
     "name": "stderr",
     "output_type": "stream",
     "text": [
      "C:\\Users\\matth\\anaconda3\\lib\\site-packages\\statsmodels\\tsa\\base\\tsa_model.py:162: ValueWarning: No frequency information was provided, so inferred frequency Q-DEC will be used.\n",
      "  % freq, ValueWarning)\n",
      "C:\\Users\\matth\\anaconda3\\lib\\site-packages\\statsmodels\\tsa\\base\\tsa_model.py:162: ValueWarning: No frequency information was provided, so inferred frequency Q-DEC will be used.\n",
      "  % freq, ValueWarning)\n",
      "C:\\Users\\matth\\anaconda3\\lib\\site-packages\\statsmodels\\base\\model.py:568: ConvergenceWarning: Maximum Likelihood optimization failed to converge. Check mle_retvals\n",
      "  \"Check mle_retvals\", ConvergenceWarning)\n"
     ]
    }
   ],
   "source": [
    "# Instantiate best model.\n",
    "model2 = SARIMAX(y_train_2, # endog = y\n",
    "                X_train_2,\n",
    "                order = (0, 1, 8))\n",
    "# Fit ARIMA model.\n",
    "sarimax2 = model2.fit()"
   ]
  },
  {
   "cell_type": "code",
   "execution_count": 18,
   "metadata": {},
   "outputs": [],
   "source": [
    "pred2 = sarimax2.predict(tr_end,te_end,exog = X_test_2)[1:]"
   ]
  },
  {
   "cell_type": "code",
   "execution_count": 33,
   "metadata": {},
   "outputs": [
    {
     "data": {
      "image/png": "[encoded data removed]",
      "text/plain": [
       "<Figure size 720x432 with 1 Axes>"
      ]
     },
     "metadata": {
      "needs_background": "light"
     },
     "output_type": "display_data"
    }
   ],
   "source": [
    "# Plot data.\n",
    "plt.figure(figsize=(10,6))\n",
    "# Plot training data.\n",
    "plt.plot(y_train_2.index, pd.DataFrame(y_train_2).diff(), color = 'blue')\n",
    "# Plot testing data.\n",
    "plt.plot(y_test_2.index, pd.DataFrame(y_test_2).diff(), color = 'orange')\n",
    "# Plot predicted test values.\n",
    "plt.plot(y_test_2.index, pred2, color = 'green')\n",
    "plt.title(label = 'Real GDP PCT ARIMAX(0, 1, 8) Predictions', fontsize=16)\n",
    "plt.savefig('../assets/Real_GDP_PCT_AIMAX_0_1_8.png', dpi=300);"
   ]
  },
  {
   "cell_type": "code",
   "execution_count": 17,
   "metadata": {},
   "outputs": [
    {
     "data": {
      "text/html": [
       "<table class=\"simpletable\">\n",
       "<caption>SARIMAX Results</caption>\n",
       "<tr>\n",
       "  <th>Dep. Variable:</th>   <td>gdp_percent_delta</td> <th>  No. Observations:  </th>    <td>260</td>  \n",
       "</tr>\n",
       "<tr>\n",
       "  <th>Model:</th>           <td>SARIMAX(0, 1, 8)</td>  <th>  Log Likelihood     </th> <td>-315.883</td>\n",
       "</tr>\n",
       "<tr>\n",
       "  <th>Date:</th>            <td>Mon, 07 Sep 2020</td>  <th>  AIC                </th>  <td>661.766</td>\n",
       "</tr>\n",
       "<tr>\n",
       "  <th>Time:</th>                <td>14:19:19</td>      <th>  BIC                </th>  <td>715.119</td>\n",
       "</tr>\n",
       "<tr>\n",
       "  <th>Sample:</th>             <td>06-30-1948</td>     <th>  HQIC               </th>  <td>683.217</td>\n",
       "</tr>\n",
       "<tr>\n",
       "  <th></th>                   <td>- 03-31-2013</td>    <th>                     </th>     <td> </td>   \n",
       "</tr>\n",
       "<tr>\n",
       "  <th>Covariance Type:</th>        <td>opg</td>        <th>                     </th>     <td> </td>   \n",
       "</tr>\n",
       "</table>\n",
       "<table class=\"simpletable\">\n",
       "<tr>\n",
       "                  <td></td>                     <th>coef</th>     <th>std err</th>      <th>z</th>      <th>P>|z|</th>  <th>[0.025</th>    <th>0.975]</th>  \n",
       "</tr>\n",
       "<tr>\n",
       "  <th>const</th>                             <td>-7.703e-09</td> <td> 1.41e-09</td> <td>   -5.474</td> <td> 0.000</td> <td>-1.05e-08</td> <td>-4.95e-09</td>\n",
       "</tr>\n",
       "<tr>\n",
       "  <th>consumption_pct_delta</th>             <td>    0.6188</td> <td>    0.015</td> <td>   40.061</td> <td> 0.000</td> <td>    0.589</td> <td>    0.649</td>\n",
       "</tr>\n",
       "<tr>\n",
       "  <th>investment_pct_delta</th>              <td>    0.1540</td> <td>    0.001</td> <td>  103.979</td> <td> 0.000</td> <td>    0.151</td> <td>    0.157</td>\n",
       "</tr>\n",
       "<tr>\n",
       "  <th>Exports_percent_delta</th>             <td>    0.0411</td> <td>    0.003</td> <td>   15.968</td> <td> 0.000</td> <td>    0.036</td> <td>    0.046</td>\n",
       "</tr>\n",
       "<tr>\n",
       "  <th>Imports_percent_delta</th>             <td>   -0.0341</td> <td>    0.003</td> <td>  -11.304</td> <td> 0.000</td> <td>   -0.040</td> <td>   -0.028</td>\n",
       "</tr>\n",
       "<tr>\n",
       "  <th>government_spending_percent_delta</th> <td>    0.1746</td> <td>    0.008</td> <td>   23.100</td> <td> 0.000</td> <td>    0.160</td> <td>    0.189</td>\n",
       "</tr>\n",
       "<tr>\n",
       "  <th>ma.L1</th>                             <td>   -0.9375</td> <td>    0.052</td> <td>  -18.075</td> <td> 0.000</td> <td>   -1.039</td> <td>   -0.836</td>\n",
       "</tr>\n",
       "<tr>\n",
       "  <th>ma.L2</th>                             <td>   -0.0802</td> <td>    0.066</td> <td>   -1.222</td> <td> 0.222</td> <td>   -0.209</td> <td>    0.048</td>\n",
       "</tr>\n",
       "<tr>\n",
       "  <th>ma.L3</th>                             <td>    0.1290</td> <td>    0.095</td> <td>    1.354</td> <td> 0.176</td> <td>   -0.058</td> <td>    0.316</td>\n",
       "</tr>\n",
       "<tr>\n",
       "  <th>ma.L4</th>                             <td>    0.1955</td> <td>    0.086</td> <td>    2.263</td> <td> 0.024</td> <td>    0.026</td> <td>    0.365</td>\n",
       "</tr>\n",
       "<tr>\n",
       "  <th>ma.L5</th>                             <td>   -0.1842</td> <td>    0.098</td> <td>   -1.885</td> <td> 0.059</td> <td>   -0.376</td> <td>    0.007</td>\n",
       "</tr>\n",
       "<tr>\n",
       "  <th>ma.L6</th>                             <td>    0.0736</td> <td>    0.107</td> <td>    0.690</td> <td> 0.490</td> <td>   -0.135</td> <td>    0.283</td>\n",
       "</tr>\n",
       "<tr>\n",
       "  <th>ma.L7</th>                             <td>   -0.0257</td> <td>    0.101</td> <td>   -0.255</td> <td> 0.799</td> <td>   -0.223</td> <td>    0.171</td>\n",
       "</tr>\n",
       "<tr>\n",
       "  <th>ma.L8</th>                             <td>   -0.1358</td> <td>    0.067</td> <td>   -2.023</td> <td> 0.043</td> <td>   -0.267</td> <td>   -0.004</td>\n",
       "</tr>\n",
       "<tr>\n",
       "  <th>sigma2</th>                            <td>    0.6599</td> <td>    0.055</td> <td>   12.096</td> <td> 0.000</td> <td>    0.553</td> <td>    0.767</td>\n",
       "</tr>\n",
       "</table>\n",
       "<table class=\"simpletable\">\n",
       "<tr>\n",
       "  <th>Ljung-Box (Q):</th>          <td>16.22</td> <th>  Jarque-Bera (JB):  </th> <td>296.78</td>\n",
       "</tr>\n",
       "<tr>\n",
       "  <th>Prob(Q):</th>                <td>1.00</td>  <th>  Prob(JB):          </th>  <td>0.00</td> \n",
       "</tr>\n",
       "<tr>\n",
       "  <th>Heteroskedasticity (H):</th> <td>0.46</td>  <th>  Skew:              </th>  <td>-0.66</td>\n",
       "</tr>\n",
       "<tr>\n",
       "  <th>Prob(H) (two-sided):</th>    <td>0.00</td>  <th>  Kurtosis:          </th>  <td>8.08</td> \n",
       "</tr>\n",
       "</table><br/><br/>Warnings:<br/>[1] Covariance matrix calculated using the outer product of gradients (complex-step).<br/>[2] Covariance matrix is singular or near-singular, with condition number 4.46e+23. Standard errors may be unstable."
      ],
      "text/plain": [
       "<class 'statsmodels.iolib.summary.Summary'>\n",
       "\"\"\"\n",
       "                               SARIMAX Results                                \n",
       "==============================================================================\n",
       "Dep. Variable:      gdp_percent_delta   No. Observations:                  260\n",
       "Model:               SARIMAX(0, 1, 8)   Log Likelihood                -315.883\n",
       "Date:                Mon, 07 Sep 2020   AIC                            661.766\n",
       "Time:                        14:19:19   BIC                            715.119\n",
       "Sample:                    06-30-1948   HQIC                           683.217\n",
       "                         - 03-31-2013                                         \n",
       "Covariance Type:                  opg                                         \n",
       "=====================================================================================================\n",
       "                                        coef    std err          z      P>|z|      [0.025      0.975]\n",
       "-----------------------------------------------------------------------------------------------------\n",
       "const                             -7.703e-09   1.41e-09     -5.474      0.000   -1.05e-08   -4.95e-09\n",
       "consumption_pct_delta                 0.6188      0.015     40.061      0.000       0.589       0.649\n",
       "investment_pct_delta                  0.1540      0.001    103.979      0.000       0.151       0.157\n",
       "Exports_percent_delta                 0.0411      0.003     15.968      0.000       0.036       0.046\n",
       "Imports_percent_delta                -0.0341      0.003    -11.304      0.000      -0.040      -0.028\n",
       "government_spending_percent_delta     0.1746      0.008     23.100      0.000       0.160       0.189\n",
       "ma.L1                                -0.9375      0.052    -18.075      0.000      -1.039      -0.836\n",
       "ma.L2                                -0.0802      0.066     -1.222      0.222      -0.209       0.048\n",
       "ma.L3                                 0.1290      0.095      1.354      0.176      -0.058       0.316\n",
       "ma.L4                                 0.1955      0.086      2.263      0.024       0.026       0.365\n",
       "ma.L5                                -0.1842      0.098     -1.885      0.059      -0.376       0.007\n",
       "ma.L6                                 0.0736      0.107      0.690      0.490      -0.135       0.283\n",
       "ma.L7                                -0.0257      0.101     -0.255      0.799      -0.223       0.171\n",
       "ma.L8                                -0.1358      0.067     -2.023      0.043      -0.267      -0.004\n",
       "sigma2                                0.6599      0.055     12.096      0.000       0.553       0.767\n",
       "===================================================================================\n",
       "Ljung-Box (Q):                       16.22   Jarque-Bera (JB):               296.78\n",
       "Prob(Q):                              1.00   Prob(JB):                         0.00\n",
       "Heteroskedasticity (H):               0.46   Skew:                            -0.66\n",
       "Prob(H) (two-sided):                  0.00   Kurtosis:                         8.08\n",
       "===================================================================================\n",
       "\n",
       "Warnings:\n",
       "[1] Covariance matrix calculated using the outer product of gradients (complex-step).\n",
       "[2] Covariance matrix is singular or near-singular, with condition number 4.46e+23. Standard errors may be unstable.\n",
       "\"\"\""
      ]
     },
     "execution_count": 17,
     "metadata": {},
     "output_type": "execute_result"
    }
   ],
   "source": [
    "sarimax2.summary()"
   ]
  },
  {
   "cell_type": "code",
   "execution_count": 19,
   "metadata": {},
   "outputs": [
    {
     "data": {
      "text/plain": [
       "2013-06-30     0.541039\n",
       "2013-09-30     2.945917\n",
       "2013-12-31     2.269533\n",
       "2014-03-31    -0.363463\n",
       "2014-06-30     5.553926\n",
       "2014-09-30     4.497631\n",
       "2014-12-31     2.828078\n",
       "2015-03-31     4.398726\n",
       "2015-06-30     2.640365\n",
       "2015-09-30     1.916851\n",
       "2015-12-31     0.704081\n",
       "2016-03-31     2.084086\n",
       "2016-06-30     0.928537\n",
       "2016-09-30     1.968181\n",
       "2016-12-31     3.050746\n",
       "2017-03-31     1.876974\n",
       "2017-06-30     1.778895\n",
       "2017-09-30     2.582441\n",
       "2017-12-31     3.968255\n",
       "2018-03-31     3.201706\n",
       "2018-06-30     2.274624\n",
       "2018-09-30     3.072849\n",
       "2018-12-31     1.291302\n",
       "2019-03-31     2.220668\n",
       "2019-06-30     1.938915\n",
       "2019-09-30     2.251978\n",
       "2019-12-31     1.124984\n",
       "2020-03-31    -5.388218\n",
       "2020-06-30   -28.596160\n",
       "Freq: Q-DEC, dtype: float64"
      ]
     },
     "execution_count": 19,
     "metadata": {},
     "output_type": "execute_result"
    }
   ],
   "source": [
    "pred2"
   ]
  },
  {
   "cell_type": "code",
   "execution_count": null,
   "metadata": {},
   "outputs": [],
   "source": []
  }
 ],
 "metadata": {
  "kernelspec": {
   "display_name": "Python 3",
   "language": "python",
   "name": "python3"
  },
  "language_info": {
   "codemirror_mode": {
    "name": "ipython",
    "version": 3
   },
   "file_extension": ".py",
   "mimetype": "text/x-python",
   "name": "python",
   "nbconvert_exporter": "python",
   "pygments_lexer": "ipython3",
   "version": "3.7.6"
  }
 },
 "nbformat": 4,
 "nbformat_minor": 4
}
