{
 "cells": [
  {
   "cell_type": "code",
   "execution_count": 2,
   "metadata": {},
   "outputs": [
    {
     "name": "stdout",
     "output_type": "stream",
     "text": [
      "Collecting blsconnect\n",
      "  Downloading blsconnect-0.9.1-py3-none-any.whl (15 kB)\n",
      "Installing collected packages: blsconnect\n",
      "Successfully installed blsconnect-0.9.1\n"
     ]
    }
   ],
   "source": [
    "#!pip install -U blsconnect"
   ]
  },
  {
   "cell_type": "code",
   "execution_count": 6,
   "metadata": {},
   "outputs": [
    {
     "name": "stderr",
     "output_type": "stream",
     "text": [
      "End year should be less than or equal to end year. User input:(start_year=2020, end_year=1948). These values were flipped to continue the request.\n"
     ]
    },
    {
     "data": {
      "text/html": [
       "<div>\n",
       "<style scoped>\n",
       "    .dataframe tbody tr th:only-of-type {\n",
       "        vertical-align: middle;\n",
       "    }\n",
       "\n",
       "    .dataframe tbody tr th {\n",
       "        vertical-align: top;\n",
       "    }\n",
       "\n",
       "    .dataframe thead th {\n",
       "        text-align: right;\n",
       "    }\n",
       "</style>\n",
       "<table border=\"1\" class=\"dataframe\">\n",
       "  <thead>\n",
       "    <tr style=\"text-align: right;\">\n",
       "      <th></th>\n",
       "      <th>year</th>\n",
       "      <th>period</th>\n",
       "      <th>periodName</th>\n",
       "      <th>LNS14000000</th>\n",
       "    </tr>\n",
       "  </thead>\n",
       "  <tbody>\n",
       "    <tr>\n",
       "      <th>0</th>\n",
       "      <td>1948</td>\n",
       "      <td>M01</td>\n",
       "      <td>January</td>\n",
       "      <td>3.4</td>\n",
       "    </tr>\n",
       "    <tr>\n",
       "      <th>1</th>\n",
       "      <td>1948</td>\n",
       "      <td>M02</td>\n",
       "      <td>February</td>\n",
       "      <td>3.8</td>\n",
       "    </tr>\n",
       "    <tr>\n",
       "      <th>2</th>\n",
       "      <td>1948</td>\n",
       "      <td>M03</td>\n",
       "      <td>March</td>\n",
       "      <td>4.0</td>\n",
       "    </tr>\n",
       "    <tr>\n",
       "      <th>3</th>\n",
       "      <td>1948</td>\n",
       "      <td>M04</td>\n",
       "      <td>April</td>\n",
       "      <td>3.9</td>\n",
       "    </tr>\n",
       "    <tr>\n",
       "      <th>4</th>\n",
       "      <td>1948</td>\n",
       "      <td>M05</td>\n",
       "      <td>May</td>\n",
       "      <td>3.5</td>\n",
       "    </tr>\n",
       "  </tbody>\n",
       "</table>\n",
       "</div>"
      ],
      "text/plain": [
       "   year period periodName  LNS14000000\n",
       "0  1948    M01    January          3.4\n",
       "1  1948    M02   February          3.8\n",
       "2  1948    M03      March          4.0\n",
       "3  1948    M04      April          3.9\n",
       "4  1948    M05        May          3.5"
      ]
     },
     "execution_count": 6,
     "metadata": {},
     "output_type": "execute_result"
    }
   ],
   "source": [
    "# From https://pypi.org/project/blsconnect/\n",
    "import pandas as pd\n",
    "from blsconnect import RequestBLS, bls_search\n",
    "\n",
    "MY_API_KEY = \"your-token\"\n",
    "bls = RequestBLS(key=MY_API_KEY)\n"
   ]
  },
  {
   "cell_type": "code",
   "execution_count": 22,
   "metadata": {},
   "outputs": [],
   "source": [
    "# Get seasonally-adjusted unemployment rates for U.S.\n",
    "series_names = bls_search(data=\"U3\",\n",
    "                          state=[\"US\"],\n",
    "                          sa=True)\n",
    "\n",
    "df_unemployment_rate = bls.series(series_names,\n",
    "                start_year=1948,\n",
    "                end_year=2020)\n"
   ]
  },
  {
   "cell_type": "code",
   "execution_count": 8,
   "metadata": {},
   "outputs": [
    {
     "name": "stderr",
     "output_type": "stream",
     "text": [
      "End year should be less than or equal to end year. User input:(start_year=2020, end_year=1948). These values were flipped to continue the request.\n"
     ]
    }
   ],
   "source": [
    "# Get seasonally-adjusted employment for U.S.\n",
    "# employment numbers in thousands \n",
    "series_names_employment = bls_search(data=\"e\",\n",
    "                          state=[\"US\"],\n",
    "                          sa=True)\n",
    "\n",
    "df_employment = bls.series(series_names_employment,\n",
    "                start_year=1948,\n",
    "                end_year=2020)"
   ]
  },
  {
   "cell_type": "code",
   "execution_count": 13,
   "metadata": {},
   "outputs": [],
   "source": [
    "# Get seasonally-adjusted unemployment for U.S.\n",
    "# unemployment numbers in thousands \n",
    "series_names_unemployment = bls_search(data=\"u\",\n",
    "                          state=[\"US\"],\n",
    "                          sa=True)\n",
    "\n",
    "df_unemployment = bls.series(series_names_unemployment,\n",
    "                start_year=1948,\n",
    "                end_year=2020)"
   ]
  },
  {
   "cell_type": "code",
   "execution_count": 15,
   "metadata": {},
   "outputs": [],
   "source": [
    "# Get seasonally-adjusted labor force for U.S.\n",
    "# Civilian labor force numbers in thousands \n",
    "series_names_labor_force = bls_search(data=\"lf\",\n",
    "                          state=[\"US\"],\n",
    "                          sa=True)\n",
    "\n",
    "df_labor_force = bls.series(series_names_labor_force,\n",
    "                start_year=1948,\n",
    "                end_year=2020)"
   ]
  },
  {
   "cell_type": "code",
   "execution_count": 19,
   "metadata": {},
   "outputs": [],
   "source": [
    "# Get seasonally-adjusted labor force participation rate for U.S.\n",
    "# Civilian labor force participation rate numbers in thousands \n",
    "series_names_labor_force_participation_rate = bls_search(data=\"lfpr\",\n",
    "                          state=[\"US\"],\n",
    "                          sa=True)\n",
    "\n",
    "df_labor_force_participation_rate = bls.series(series_names_labor_force_participation_rate,\n",
    "                start_year=1948,\n",
    "                end_year=2020)\n",
    ".rename(columns={\"A\": \"a\", \"B\": \"c\"})\n"
   ]
  },
  {
   "cell_type": "code",
   "execution_count": 39,
   "metadata": {},
   "outputs": [],
   "source": [
    "df = pd.DataFrame()"
   ]
  },
  {
   "cell_type": "code",
   "execution_count": 40,
   "metadata": {},
   "outputs": [],
   "source": [
    "df = df.append(df_unemployment_rate)"
   ]
  },
  {
   "cell_type": "code",
   "execution_count": 51,
   "metadata": {},
   "outputs": [],
   "source": [
    "df = pd.concat([df, df_employment[['LNS12000000']], df_unemployment[['LNS13000000']], df_labor_force[['LNS11000000']], df_labor_force_participation_rate[['LNS11300000']]], axis=1, sort=False)"
   ]
  },
  {
   "cell_type": "code",
   "execution_count": 56,
   "metadata": {},
   "outputs": [],
   "source": [
    "df.rename(columns={\"LNS14000000\": \"unemployment_rate\", \"LNS12000000\": \"employed\", 'LNS13000000': 'Unemployed','LNS11000000':'civilian_labor_force', 'LNS11300000':'civilian_labor_force_participation_rate'}, inplace = True)"
   ]
  },
  {
   "cell_type": "code",
   "execution_count": 57,
   "metadata": {},
   "outputs": [
    {
     "data": {
      "text/html": [
       "<div>\n",
       "<style scoped>\n",
       "    .dataframe tbody tr th:only-of-type {\n",
       "        vertical-align: middle;\n",
       "    }\n",
       "\n",
       "    .dataframe tbody tr th {\n",
       "        vertical-align: top;\n",
       "    }\n",
       "\n",
       "    .dataframe thead th {\n",
       "        text-align: right;\n",
       "    }\n",
       "</style>\n",
       "<table border=\"1\" class=\"dataframe\">\n",
       "  <thead>\n",
       "    <tr style=\"text-align: right;\">\n",
       "      <th></th>\n",
       "      <th>year</th>\n",
       "      <th>period</th>\n",
       "      <th>periodName</th>\n",
       "      <th>unemployment_rate</th>\n",
       "      <th>employed</th>\n",
       "      <th>Unemployed</th>\n",
       "      <th>civilian_labor_force</th>\n",
       "      <th>civilian_labor_force_participation_rate</th>\n",
       "    </tr>\n",
       "  </thead>\n",
       "  <tbody>\n",
       "    <tr>\n",
       "      <th>0</th>\n",
       "      <td>1948</td>\n",
       "      <td>M01</td>\n",
       "      <td>January</td>\n",
       "      <td>3.4</td>\n",
       "      <td>58061</td>\n",
       "      <td>2034</td>\n",
       "      <td>60095</td>\n",
       "      <td>58.6</td>\n",
       "    </tr>\n",
       "    <tr>\n",
       "      <th>1</th>\n",
       "      <td>1948</td>\n",
       "      <td>M02</td>\n",
       "      <td>February</td>\n",
       "      <td>3.8</td>\n",
       "      <td>58196</td>\n",
       "      <td>2328</td>\n",
       "      <td>60524</td>\n",
       "      <td>58.9</td>\n",
       "    </tr>\n",
       "    <tr>\n",
       "      <th>2</th>\n",
       "      <td>1948</td>\n",
       "      <td>M03</td>\n",
       "      <td>March</td>\n",
       "      <td>4.0</td>\n",
       "      <td>57671</td>\n",
       "      <td>2399</td>\n",
       "      <td>60070</td>\n",
       "      <td>58.5</td>\n",
       "    </tr>\n",
       "    <tr>\n",
       "      <th>3</th>\n",
       "      <td>1948</td>\n",
       "      <td>M04</td>\n",
       "      <td>April</td>\n",
       "      <td>3.9</td>\n",
       "      <td>58291</td>\n",
       "      <td>2386</td>\n",
       "      <td>60677</td>\n",
       "      <td>59.0</td>\n",
       "    </tr>\n",
       "    <tr>\n",
       "      <th>4</th>\n",
       "      <td>1948</td>\n",
       "      <td>M05</td>\n",
       "      <td>May</td>\n",
       "      <td>3.5</td>\n",
       "      <td>57854</td>\n",
       "      <td>2118</td>\n",
       "      <td>59972</td>\n",
       "      <td>58.3</td>\n",
       "    </tr>\n",
       "    <tr>\n",
       "      <th>...</th>\n",
       "      <td>...</td>\n",
       "      <td>...</td>\n",
       "      <td>...</td>\n",
       "      <td>...</td>\n",
       "      <td>...</td>\n",
       "      <td>...</td>\n",
       "      <td>...</td>\n",
       "      <td>...</td>\n",
       "    </tr>\n",
       "    <tr>\n",
       "      <th>866</th>\n",
       "      <td>2020</td>\n",
       "      <td>M03</td>\n",
       "      <td>March</td>\n",
       "      <td>4.4</td>\n",
       "      <td>155772</td>\n",
       "      <td>7140</td>\n",
       "      <td>162913</td>\n",
       "      <td>62.7</td>\n",
       "    </tr>\n",
       "    <tr>\n",
       "      <th>867</th>\n",
       "      <td>2020</td>\n",
       "      <td>M04</td>\n",
       "      <td>April</td>\n",
       "      <td>14.7</td>\n",
       "      <td>133403</td>\n",
       "      <td>23078</td>\n",
       "      <td>156481</td>\n",
       "      <td>60.2</td>\n",
       "    </tr>\n",
       "    <tr>\n",
       "      <th>868</th>\n",
       "      <td>2020</td>\n",
       "      <td>M05</td>\n",
       "      <td>May</td>\n",
       "      <td>13.3</td>\n",
       "      <td>137242</td>\n",
       "      <td>20985</td>\n",
       "      <td>158227</td>\n",
       "      <td>60.8</td>\n",
       "    </tr>\n",
       "    <tr>\n",
       "      <th>869</th>\n",
       "      <td>2020</td>\n",
       "      <td>M06</td>\n",
       "      <td>June</td>\n",
       "      <td>11.1</td>\n",
       "      <td>142182</td>\n",
       "      <td>17750</td>\n",
       "      <td>159932</td>\n",
       "      <td>61.5</td>\n",
       "    </tr>\n",
       "    <tr>\n",
       "      <th>870</th>\n",
       "      <td>2020</td>\n",
       "      <td>M07</td>\n",
       "      <td>July</td>\n",
       "      <td>10.2</td>\n",
       "      <td>143532</td>\n",
       "      <td>16338</td>\n",
       "      <td>159870</td>\n",
       "      <td>61.4</td>\n",
       "    </tr>\n",
       "  </tbody>\n",
       "</table>\n",
       "<p>871 rows × 8 columns</p>\n",
       "</div>"
      ],
      "text/plain": [
       "     year period periodName  unemployment_rate  employed  Unemployed  \\\n",
       "0    1948    M01    January                3.4     58061        2034   \n",
       "1    1948    M02   February                3.8     58196        2328   \n",
       "2    1948    M03      March                4.0     57671        2399   \n",
       "3    1948    M04      April                3.9     58291        2386   \n",
       "4    1948    M05        May                3.5     57854        2118   \n",
       "..    ...    ...        ...                ...       ...         ...   \n",
       "866  2020    M03      March                4.4    155772        7140   \n",
       "867  2020    M04      April               14.7    133403       23078   \n",
       "868  2020    M05        May               13.3    137242       20985   \n",
       "869  2020    M06       June               11.1    142182       17750   \n",
       "870  2020    M07       July               10.2    143532       16338   \n",
       "\n",
       "     civilian_labor_force  civilian_labor_force_participation_rate  \n",
       "0                   60095                                     58.6  \n",
       "1                   60524                                     58.9  \n",
       "2                   60070                                     58.5  \n",
       "3                   60677                                     59.0  \n",
       "4                   59972                                     58.3  \n",
       "..                    ...                                      ...  \n",
       "866                162913                                     62.7  \n",
       "867                156481                                     60.2  \n",
       "868                158227                                     60.8  \n",
       "869                159932                                     61.5  \n",
       "870                159870                                     61.4  \n",
       "\n",
       "[871 rows x 8 columns]"
      ]
     },
     "execution_count": 57,
     "metadata": {},
     "output_type": "execute_result"
    }
   ],
   "source": [
    "df"
   ]
  },
  {
   "cell_type": "code",
   "execution_count": 58,
   "metadata": {},
   "outputs": [],
   "source": [
    "df.to_csv('../data/BLS.csv', index = False)"
   ]
  },
  {
   "cell_type": "code",
   "execution_count": null,
   "metadata": {},
   "outputs": [],
   "source": []
  }
 ],
 "metadata": {
  "kernelspec": {
   "display_name": "Python [conda env:dsi]",
   "language": "python",
   "name": "conda-env-dsi-py"
  },
  "language_info": {
   "codemirror_mode": {
    "name": "ipython",
    "version": 3
   },
   "file_extension": ".py",
   "mimetype": "text/x-python",
   "name": "python",
   "nbconvert_exporter": "python",
   "pygments_lexer": "ipython3",
   "version": "3.7.7"
  }
 },
 "nbformat": 4,
 "nbformat_minor": 4
}
